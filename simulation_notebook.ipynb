{
 "cells": [
  {
   "cell_type": "markdown",
   "metadata": {},
   "source": [
    "# Simulations\n",
    "In this iPython notebook, we run the model. "
   ]
  },
  {
   "cell_type": "code",
   "execution_count": 1,
   "metadata": {
    "collapsed": false
   },
   "outputs": [],
   "source": [
    "import pandas as pd\n",
    "import numpy as np\n",
    "from ipywidgets import widgets, interact\n",
    "from stockmarket import baselinemodel\n",
    "import sqlite3\n",
    "from tqdm import *"
   ]
  },
  {
   "cell_type": "code",
   "execution_count": 2,
   "metadata": {
    "collapsed": true
   },
   "outputs": [],
   "source": [
    "NRUNS = 1"
   ]
  },
  {
   "cell_type": "code",
   "execution_count": 3,
   "metadata": {
    "collapsed": true
   },
   "outputs": [],
   "source": [
    "conn = sqlite3.connect('dataBaseOffline.sqlite')\n",
    "cur = conn.cursor()"
   ]
  },
  {
   "cell_type": "code",
   "execution_count": 4,
   "metadata": {
    "collapsed": false
   },
   "outputs": [],
   "source": [
    "for seed in range(NRUNS):\n",
    "    Transactions, Transactors, Statevariables, Variabletypes, Objects = baselinemodel.stockMarketSimulation(seed=seed, simulation_time=100,\n",
    "                                    amount_fundamentalists=40, amount_chartists=40, amount_firms=1,\n",
    "                                    initial_money=(100, 200), initial_bid_ask=(0,0), initial_memory=(3,7),\n",
    "                                    initial_ma_short=(1,3), initial_ma_long=(6,7), initial_profit=(200,200),\n",
    "                                    initial_book_value=(10000, 10000), initial_stock_amount=400, observable_set_size=3\n",
    "                                    )\n",
    "    Transactions.to_sql(\"Transactions{}\".format(seed), conn, if_exists=\"replace\")\n",
    "    Transactors.to_sql(\"Transactors{}\".format(seed), conn, if_exists=\"replace\")\n",
    "    Statevariables.to_sql(\"Statevariables{}\".format(seed), conn, if_exists=\"replace\")\n",
    "    Variabletypes.to_sql(\"Variabletypes{}\".format(seed), conn, if_exists=\"replace\")\n",
    "    Objects.to_sql(\"Objects{}\".format(seed), conn, if_exists=\"replace\")"
   ]
  },
  {
   "cell_type": "code",
   "execution_count": 5,
   "metadata": {
    "collapsed": false
   },
   "outputs": [],
   "source": [
    "conn.commit()\n",
    "cur.close()"
   ]
  },
  {
   "cell_type": "code",
   "execution_count": 14,
   "metadata": {
    "collapsed": true
   },
   "outputs": [],
   "source": [
    "import bisect"
   ]
  },
  {
   "cell_type": "code",
   "execution_count": 10,
   "metadata": {
    "collapsed": false
   },
   "outputs": [],
   "source": [
    "class Foo(object):\n",
    "    def __init__(self, val):\n",
    "        self.prop = val # The value to compare\n",
    "    def __lt__(self, other):\n",
    "        return self.prop < other.prop\n",
    "    def __repr__(self): \n",
    "        return 'Foo({})'.format(self.prop)"
   ]
  },
  {
   "cell_type": "code",
   "execution_count": 12,
   "metadata": {
    "collapsed": false
   },
   "outputs": [
    {
     "data": {
      "text/plain": [
       "[Foo(1), Foo(3), Foo(7), Foo(9)]"
      ]
     },
     "execution_count": 12,
     "metadata": {},
     "output_type": "execute_result"
    }
   ],
   "source": [
    "sorted_foos = sorted([Foo(7), Foo(1), Foo(3), Foo(9)])\n",
    "sorted_foos"
   ]
  },
  {
   "cell_type": "code",
   "execution_count": 15,
   "metadata": {
    "collapsed": false
   },
   "outputs": [
    {
     "data": {
      "text/plain": [
       "[Foo(1), Foo(2), Foo(3), Foo(7), Foo(9)]"
      ]
     },
     "execution_count": 15,
     "metadata": {},
     "output_type": "execute_result"
    }
   ],
   "source": [
    "bisect.insort_left(sorted_foos, Foo(2))\n",
    "sorted_foos"
   ]
  },
  {
   "cell_type": "code",
   "execution_count": 34,
   "metadata": {
    "collapsed": true
   },
   "outputs": [],
   "source": [
    "class Order:\n",
    "    \"\"\"The order class can represent both bid or ask type orders\"\"\"\n",
    "    def __init__(self, order_type, owner, price, volume):\n",
    "        \"\"\"order_type = 'b' for bid or 'a' for ask\"\"\"\n",
    "        self.order_type = order_type\n",
    "        self.owner = owner\n",
    "        self.price = price\n",
    "        self.volume = volume\n",
    "        self.age = 0\n",
    "\n",
    "    def update_age(self):\n",
    "        self.age += 1\n",
    "\n",
    "    def __lt__(self, other):\n",
    "        \"\"\"Allows comparison to other orders based on price\"\"\"\n",
    "        return self.price < other.price\n",
    "\n",
    "    def __repr__(self):\n",
    "        return 'Order_p={}_t={}_o={}_a={}'.format(self.price, self.order_type, self.owner, self.age)"
   ]
  },
  {
   "cell_type": "code",
   "execution_count": 37,
   "metadata": {
    "collapsed": false
   },
   "outputs": [
    {
     "data": {
      "text/plain": [
       "[]"
      ]
     },
     "execution_count": 37,
     "metadata": {},
     "output_type": "execute_result"
    }
   ],
   "source": [
    "#sortedBids = sorted([Order('b', 'agent-1', 10, 20), Order('b', 'agent-2', 100, 20), Order('b', 'agent-3', 90, 20)])\n",
    "sortedBids = []\n",
    "sortedBids"
   ]
  },
  {
   "cell_type": "code",
   "execution_count": 38,
   "metadata": {
    "collapsed": false
   },
   "outputs": [
    {
     "data": {
      "text/plain": [
       "[Order_p=1_t=Bid_o=agent-4_a=0]"
      ]
     },
     "execution_count": 38,
     "metadata": {},
     "output_type": "execute_result"
    }
   ],
   "source": [
    "bisect.insort_left(sortedBids, Order('Bid', 'agent-4', 1, 20))\n",
    "sortedBids"
   ]
  },
  {
   "cell_type": "code",
   "execution_count": 39,
   "metadata": {
    "collapsed": false
   },
   "outputs": [
    {
     "data": {
      "text/plain": [
       "[Order_p=1_t=Bid_o=agent-4_a=0, Order_p=100_t=b_o=agent-2_a=0]"
      ]
     },
     "execution_count": 39,
     "metadata": {},
     "output_type": "execute_result"
    }
   ],
   "source": [
    "bisect.insort_left(sortedBids, Order('b', 'agent-2', 100, 20))\n",
    "sortedBids"
   ]
  },
  {
   "cell_type": "code",
   "execution_count": 40,
   "metadata": {
    "collapsed": false
   },
   "outputs": [
    {
     "data": {
      "text/plain": [
       "[Order_p=1_t=Bid_o=agent-4_a=0,\n",
       " Order_p=90_t=b_o=agent-3_a=0,\n",
       " Order_p=100_t=b_o=agent-2_a=0]"
      ]
     },
     "execution_count": 40,
     "metadata": {},
     "output_type": "execute_result"
    }
   ],
   "source": [
    "bisect.insort_left(sortedBids, Order('b', 'agent-3', 90, 20))\n",
    "sortedBids"
   ]
  }
 ],
 "metadata": {
  "anaconda-cloud": {},
  "kernelspec": {
   "display_name": "Python 3",
   "language": "python",
   "name": "python3"
  },
  "language_info": {
   "codemirror_mode": {
    "name": "ipython",
    "version": 3
   },
   "file_extension": ".py",
   "mimetype": "text/x-python",
   "name": "python",
   "nbconvert_exporter": "python",
   "pygments_lexer": "ipython3",
   "version": "3.5.2"
  }
 },
 "nbformat": 4,
 "nbformat_minor": 0
}
