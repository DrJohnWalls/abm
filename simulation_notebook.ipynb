{
 "cells": [
  {
   "cell_type": "markdown",
   "metadata": {},
   "source": [
    "# Simulations\n",
    "In this iPython notebook, we run the model. "
   ]
  },
  {
   "cell_type": "code",
   "execution_count": 1,
   "metadata": {
    "collapsed": true
   },
   "outputs": [],
   "source": [
    "import pandas as pd\n",
    "import numpy as np\n",
    "from ipywidgets import widgets, interact\n",
    "from stockmarket import baselinemodel"
   ]
  },
  {
   "cell_type": "code",
   "execution_count": 2,
   "metadata": {
    "collapsed": false
   },
   "outputs": [
    {
     "name": "stdout",
     "output_type": "stream",
     "text": [
      "period:  0\n",
      "period:  1\n",
      "period:  2\n",
      "period:  3\n",
      "period:  4\n",
      "period:  5\n",
      "period:  6\n",
      "period:  7\n",
      "period:  8\n",
      "period:  9\n",
      "period:  10\n",
      "period:  11\n",
      "period:  12\n",
      "period:  13\n",
      "period:  14\n",
      "period:  15\n",
      "period:  16\n",
      "period:  17\n",
      "period:  18\n",
      "period:  19\n",
      "period:  20\n",
      "period:  21\n",
      "period:  22\n",
      "period:  23\n",
      "period:  24\n",
      "period:  25\n",
      "period:  26\n",
      "period:  27\n",
      "period:  28\n",
      "period:  29\n",
      "period:  30\n",
      "period:  31\n",
      "period:  32\n",
      "period:  33\n",
      "period:  34\n",
      "period:  35\n",
      "period:  36\n",
      "period:  37\n",
      "period:  38\n",
      "period:  39\n",
      "period:  40\n",
      "period:  41\n",
      "period:  42\n",
      "period:  43\n",
      "period:  44\n",
      "period:  45\n",
      "period:  46\n",
      "period:  47\n",
      "period:  48\n",
      "period:  49\n",
      "period:  50\n",
      "period:  51\n",
      "period:  52\n",
      "period:  53\n",
      "period:  54\n",
      "period:  55\n",
      "period:  56\n",
      "period:  57\n",
      "period:  58\n",
      "period:  59\n",
      "period:  60\n",
      "period:  61\n",
      "period:  62\n",
      "period:  63\n",
      "period:  64\n",
      "period:  65\n",
      "period:  66\n",
      "period:  67\n",
      "period:  68\n",
      "period:  69\n",
      "period:  70\n",
      "period:  71\n",
      "period:  72\n",
      "period:  73\n",
      "period:  74\n",
      "period:  75\n",
      "period:  76\n",
      "period:  77\n",
      "period:  78\n",
      "period:  79\n",
      "period:  80\n",
      "period:  81\n",
      "period:  82\n",
      "period:  83\n",
      "period:  84\n",
      "period:  85\n",
      "period:  86\n",
      "period:  87\n",
      "period:  88\n",
      "period:  89\n",
      "period:  90\n",
      "period:  91\n",
      "period:  92\n",
      "period:  93\n",
      "period:  94\n",
      "period:  95\n",
      "period:  96\n",
      "period:  97\n",
      "period:  98\n",
      "period:  99\n"
     ]
    }
   ],
   "source": [
    "Transactions, Transactors, Statevariables, Variabletypes, Objects = baselinemodel.stockMarketSimulation(seed=1, simulation_time=100,\n",
    "                                    amount_fundamentalists=40, amount_chartists=40, amount_firms=4,\n",
    "                                    initial_money=(100, 200), initial_bid_ask=(5,5), initial_memory=(1,4),\n",
    "                                    initial_ma_short=(1,3), initial_ma_long=(6,7), initial_profit=(200,200),\n",
    "                                    initial_book_value=(10000, 10000), initial_stock_amount=400, observable_set_size=3\n",
    "                                    )"
   ]
  },
  {
   "cell_type": "code",
   "execution_count": null,
   "metadata": {
    "collapsed": true
   },
   "outputs": [],
   "source": []
  },
  {
   "cell_type": "markdown",
   "metadata": {},
   "source": [
    "# Bugs"
   ]
  },
  {
   "cell_type": "markdown",
   "metadata": {},
   "source": [
    "## 1 input certain columns as int instead of float \n",
    "Transaction: id, Seed, period, amount of product columns should be integers instead of floats\n",
    "\n",
    "## 2 The first transactor id outputs the same for all three transactors\n",
    "\n",
    "## 3 Objects table does not seem to work (multiple traders are the same object "
   ]
  },
  {
   "cell_type": "code",
   "execution_count": null,
   "metadata": {
    "collapsed": true
   },
   "outputs": [],
   "source": []
  }
 ],
 "metadata": {
  "kernelspec": {
   "display_name": "Python [Root]",
   "language": "python",
   "name": "Python [Root]"
  },
  "language_info": {
   "codemirror_mode": {
    "name": "ipython",
    "version": 3
   },
   "file_extension": ".py",
   "mimetype": "text/x-python",
   "name": "python",
   "nbconvert_exporter": "python",
   "pygments_lexer": "ipython3",
   "version": "3.5.2"
  }
 },
 "nbformat": 4,
 "nbformat_minor": 0
}
