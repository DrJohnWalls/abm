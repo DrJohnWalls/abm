{
 "cells": [
  {
   "cell_type": "markdown",
   "metadata": {},
   "source": [
    "# Simulations\n",
    "In this iPython notebook, we run the model. "
   ]
  },
  {
   "cell_type": "code",
   "execution_count": 1,
   "metadata": {
    "collapsed": false
   },
   "outputs": [],
   "source": [
    "import pandas as pd\n",
    "import numpy as np\n",
    "from ipywidgets import widgets, interact\n",
    "from stockmarket import baselinemodel\n",
    "import sqlite3\n",
    "from tqdm import *"
   ]
  },
  {
   "cell_type": "code",
   "execution_count": 2,
   "metadata": {
    "collapsed": true
   },
   "outputs": [],
   "source": [
    "NRUNS = 3"
   ]
  },
  {
   "cell_type": "code",
   "execution_count": 3,
   "metadata": {
    "collapsed": true
   },
   "outputs": [],
   "source": [
    "conn = sqlite3.connect('dataBaseOffline.sqlite')\n",
    "cur = conn.cursor()"
   ]
  },
  {
   "cell_type": "code",
   "execution_count": 4,
   "metadata": {
    "collapsed": false
   },
   "outputs": [
    {
     "name": "stderr",
     "output_type": "stream",
     "text": [
      "100%|████████████████████████████████████████████████████████████████████████████████████| 3/3 [03:37<00:00, 72.54s/it]\n"
     ]
    }
   ],
   "source": [
    "for seed in tqdm(range(NRUNS)):\n",
    "    Transactions, Transactors, Statevariables, Variabletypes, Objects = baselinemodel.stockMarketSimulation(seed=seed, simulation_time=100,\n",
    "                                    amount_fundamentalists=40, amount_chartists=40, amount_firms=4,\n",
    "                                    initial_money=(100, 200), initial_bid_ask=(5,5), initial_memory=(1,4),\n",
    "                                    initial_ma_short=(1,3), initial_ma_long=(6,7), initial_profit=(200,200),\n",
    "                                    initial_book_value=(10000, 10000), initial_stock_amount=400, observable_set_size=3\n",
    "                                    )\n",
    "    Transactions.to_sql(\"Transactions{}\".format(seed), conn, if_exists=\"replace\")\n",
    "    Transactors.to_sql(\"Transactors{}\".format(seed), conn, if_exists=\"replace\")\n",
    "    Statevariables.to_sql(\"Statevariables{}\".format(seed), conn, if_exists=\"replace\")\n",
    "    Variabletypes.to_sql(\"Variabletypes{}\".format(seed), conn, if_exists=\"replace\")\n",
    "    Objects.to_sql(\"Objects{}\".format(seed), conn, if_exists=\"replace\")"
   ]
  },
  {
   "cell_type": "code",
   "execution_count": 5,
   "metadata": {
    "collapsed": false
   },
   "outputs": [],
   "source": [
    "conn.commit()\n",
    "cur.close()"
   ]
  }
 ],
 "metadata": {
  "anaconda-cloud": {},
  "kernelspec": {
   "display_name": "Python [conda root]",
   "language": "python",
   "name": "conda-root-py"
  },
  "language_info": {
   "codemirror_mode": {
    "name": "ipython",
    "version": 3
   },
   "file_extension": ".py",
   "mimetype": "text/x-python",
   "name": "python",
   "nbconvert_exporter": "python",
   "pygments_lexer": "ipython3",
   "version": "3.5.2"
  }
 },
 "nbformat": 4,
 "nbformat_minor": 0
}
