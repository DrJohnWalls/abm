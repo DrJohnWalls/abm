{
 "cells": [
  {
   "cell_type": "code",
   "execution_count": 28,
   "metadata": {
    "collapsed": false
   },
   "outputs": [
    {
     "ename": "ImportError",
     "evalue": "No module named 'comparablemodels'",
     "output_type": "error",
     "traceback": [
      "\u001b[0;31m-----------------------------------------------------------------------\u001b[0m",
      "\u001b[0;31mImportError\u001b[0m                           Traceback (most recent call last)",
      "\u001b[0;32m<ipython-input-28-d772ec77f88d>\u001b[0m in \u001b[0;36m<module>\u001b[0;34m()\u001b[0m\n\u001b[1;32m      3\u001b[0m \u001b[1;32mimport\u001b[0m \u001b[0mmatplotlib\u001b[0m\u001b[1;33m.\u001b[0m\u001b[0mpyplot\u001b[0m \u001b[1;32mas\u001b[0m \u001b[0mplt\u001b[0m\u001b[1;33m\u001b[0m\u001b[0m\n\u001b[1;32m      4\u001b[0m \u001b[1;32mimport\u001b[0m \u001b[0mmatplotlib\u001b[0m\u001b[1;33m.\u001b[0m\u001b[0mmlab\u001b[0m \u001b[1;32mas\u001b[0m \u001b[0mmlab\u001b[0m\u001b[1;33m\u001b[0m\u001b[0m\n\u001b[0;32m----> 5\u001b[0;31m \u001b[1;32mfrom\u001b[0m \u001b[0mcomparablemodels\u001b[0m\u001b[1;33m.\u001b[0m\u001b[0mchiarellaIori\u001b[0m \u001b[1;32mimport\u001b[0m \u001b[0mchilori_model\u001b[0m\u001b[1;33m\u001b[0m\u001b[0m\n\u001b[0m\u001b[1;32m      6\u001b[0m \u001b[0mget_ipython\u001b[0m\u001b[1;33m(\u001b[0m\u001b[1;33m)\u001b[0m\u001b[1;33m.\u001b[0m\u001b[0mmagic\u001b[0m\u001b[1;33m(\u001b[0m\u001b[1;34m'matplotlib inline'\u001b[0m\u001b[1;33m)\u001b[0m\u001b[1;33m\u001b[0m\u001b[0m\n",
      "\u001b[0;31mImportError\u001b[0m: No module named 'comparablemodels'"
     ]
    }
   ],
   "source": [
    "import numpy as np\n",
    "import numpy.random as rnd\n",
    "import matplotlib.pyplot as plt\n",
    "import matplotlib.mlab as mlab\n",
    "from comparablemodels.chiarellaIori import chilori_model\n",
    "%matplotlib inline"
   ]
  },
  {
   "cell_type": "markdown",
   "metadata": {},
   "source": [
    "# Replication notebook\n",
    "Using this notebook, we replicate the 2002 model by Ciarelli and Lori (2002).\n",
    "\n",
    "Based on code from [agentFin](http://people.brandeis.edu/~blebaron/classes/agentfin/Chiarellaetal.html) website by Blake Lebaron."
   ]
  },
  {
   "cell_type": "code",
   "execution_count": 6,
   "metadata": {
    "collapsed": true
   },
   "outputs": [],
   "source": [
    "# set default parameters\n",
    "number_of_agents = 1000\n",
    "init_time = 100\n",
    "max_time = 500\n",
    "av_return_interval_min = 5\n",
    "av_return_interval_max = 50 # previously Lmax\n",
    "fundamental_value = 1000. # previously pf\n",
    "allowed_price_steps = 0.1 # deltaP\n",
    "variance_noise_forecast = 0.01 # prev sigmae\n",
    "order_noise_max = 0.5 # prev kMax\n",
    "order_expiration_time = 50 # prev tau\n",
    "runType = 0\n",
    "if runType == 0:\n",
    "    fundamental_weight = 0.  # prev sigmaF\n",
    "    momentum_weight = 0.    # prev sigmaM\n",
    "    noise_weight = 1.       # prev sigmaN\n",
    "if runType == 1:\n",
    "    fundamental_weight = 1.\n",
    "    momentum_weight = 0.\n",
    "    noise_weight = 1.\n",
    "if runType == 2:\n",
    "    fundamental_weight = 1.\n",
    "    momentum_weight = 10.\n",
    "    noise_weight = 1.\n",
    "ticks_per_day = 100"
   ]
  },
  {
   "cell_type": "markdown",
   "metadata": {},
   "source": [
    "## Simulation:"
   ]
  },
  {
   "cell_type": "code",
   "execution_count": null,
   "metadata": {
    "collapsed": true
   },
   "outputs": [],
   "source": [
    "day_price, day_volume, day_return, price, returns, total_volume = ciarellilori2002(seed, max_time, init_time, number_of_agents, av_return_interval_min, \n",
    "                 av_return_interval_max, fundamental_value, allowed_price_steps, variance_noise_forecast,\n",
    "                 order_noise_max, order_expiration_time, fundamental_weight, momentum_weight, noise_weight, \n",
    "                 ticks_per_day):"
   ]
  }
 ],
 "metadata": {
  "anaconda-cloud": {},
  "kernelspec": {
   "display_name": "Python [default]",
   "language": "python",
   "name": "python3"
  },
  "language_info": {
   "codemirror_mode": {
    "name": "ipython",
    "version": 3
   },
   "file_extension": ".py",
   "mimetype": "text/x-python",
   "name": "python",
   "nbconvert_exporter": "python",
   "pygments_lexer": "ipython3",
   "version": "3.5.2"
  }
 },
 "nbformat": 4,
 "nbformat_minor": 1
}
