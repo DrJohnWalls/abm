{
 "cells": [
  {
   "cell_type": "code",
   "execution_count": 5,
   "metadata": {
    "collapsed": true
   },
   "outputs": [],
   "source": [
    "import numpy as np\n",
    "import matplotlib.pyplot as plt\n",
    "#import time\n",
    "%matplotlib inline  "
   ]
  },
  {
   "cell_type": "markdown",
   "metadata": {},
   "source": [
    "# Gaunersdorfer & Hommes 2007 model\n",
    "\n",
    "Andrea Gaunersdorfer and Cars Hommes. A nonlinear structural model for volatility clustering. In A. Kirman and G. Teyssiere, editors, Micro Economic Models for Long Memory in Economics, pages 265–288. Springer-Verlag, 2007.\n",
    "\n",
    "Andrea Gaunersdorfer, Cars H. Hommes, and Florian O. O. Wagener. Bifurcation routes to volatility clustering under evolutionary learning. Journal of Economic Behavior and Organization, 67:27–47, 2008.\n",
    "\n",
    "http://people.brandeis.edu/~blebaron/classes/agentfin/GaunersdorferHommes.html"
   ]
  },
  {
   "cell_type": "code",
   "execution_count": 66,
   "metadata": {
    "collapsed": true
   },
   "outputs": [],
   "source": [
    "HISTORY = 4\n",
    "NRUNS = 50"
   ]
  },
  {
   "cell_type": "code",
   "execution_count": 2,
   "metadata": {
    "collapsed": true
   },
   "outputs": [],
   "source": [
    "parameters = {\n",
    "    'chaos': 0,\n",
    "    'risk_x_average_variance': 1,\n",
    "    'dividends': 1,\n",
    "    'discount_rate': 0.001,\n",
    "    'intensity_of_choice':2,\n",
    "    'fundamentalist_adaptive_parameter':1,\n",
    "    'chartist_adaptive_parameter':1.9,\n",
    "    'bubble_sensitivity':1800,\n",
    "    'fitness_memory_strenght':0.99,\n",
    "    'risk_adjustment':0,\n",
    "    'noise_std': 10,\n",
    "    'init_price_dev_fundament': -400,\n",
    "    'init_type2_agents': 0.5,\n",
    "    'init_type2_holdings': 0.5\n",
    "}"
   ]
  },
  {
   "cell_type": "code",
   "execution_count": 67,
   "metadata": {
    "collapsed": true
   },
   "outputs": [],
   "source": [
    "# initialise model\n",
    "time = 10000 \n",
    "chaos = 0\n",
    "risk_av_variance = 1\n",
    "dividends = 1\n",
    "discount_rate = 0.001\n",
    "intensity_of_choice = 2\n",
    "fundamentalist_adaptive_parameter = 1\n",
    "chartist_adaptive_parameter = 1.9\n",
    "bubble_sensitivity = 1800\n",
    "fitness_memory_strenght = 0.99\n",
    "risk_adjustment = 0\n",
    "noise_std = 10\n",
    "init_price_dev_fundament = -400\n",
    "init_type2_agents = 0.5\n",
    "init_type2_holdings = 0.5"
   ]
  },
  {
   "cell_type": "markdown",
   "metadata": {},
   "source": [
    "## initialization"
   ]
  },
  {
   "cell_type": "code",
   "execution_count": 69,
   "metadata": {
    "collapsed": false
   },
   "outputs": [],
   "source": [
    "fundamental_price = dividends/discount_rate\n",
    "fraction_type2 = [init_type2_agents for x in range(HISTORY)]\n",
    "returns = [0 for x in range(HISTORY)]\n",
    "price_deviation_from_fundamental = [init_price_dev_fundament for x in range(HISTORY)]\n",
    "accumulated_profits1 = [0 for x in range(HISTORY - 1)]\n",
    "accumulated_profits2 = [0 for x in range(HISTORY - 1)]\n",
    "share_holdings_type1 = [(1 - init_type2_holdings) for x in range(HISTORY)]\n",
    "share_holdings_type2 = [init_type2_holdings for x in range(HISTORY)]\n",
    "normalized_acc_profits = [0 for x in range(HISTORY)]\n",
    "# TODO make this a function? \n",
    "pricing_noise = noise_std * np.random.randn(time)\n",
    "price = [fundamental_price + x for x in price_deviation_from_fundamental]"
   ]
  },
  {
   "cell_type": "code",
   "execution_count": 73,
   "metadata": {
    "collapsed": false
   },
   "outputs": [
    {
     "data": {
      "text/plain": [
       "array([  2.42441006,   4.41006704,  -9.57168273, ..., -12.73254134,\n",
       "         0.4370043 ,  -8.93438236])"
      ]
     },
     "execution_count": 73,
     "metadata": {},
     "output_type": "execute_result"
    }
   ],
   "source": [
    "pricing_noise"
   ]
  },
  {
   "cell_type": "markdown",
   "metadata": {},
   "source": [
    "# Sequence of events / simulation"
   ]
  },
  {
   "cell_type": "code",
   "execution_count": 70,
   "metadata": {
    "collapsed": false
   },
   "outputs": [
    {
     "name": "stderr",
     "output_type": "stream",
     "text": [
      "C:\\Program Files\\Anaconda3\\lib\\site-packages\\ipykernel\\__main__.py:12: RuntimeWarning: invalid value encountered in double_scalars\n",
      "C:\\Program Files\\Anaconda3\\lib\\site-packages\\ipykernel\\__main__.py:9: RuntimeWarning: overflow encountered in exp\n",
      "C:\\Program Files\\Anaconda3\\lib\\site-packages\\ipykernel\\__main__.py:12: RuntimeWarning: overflow encountered in exp\n",
      "C:\\Program Files\\Anaconda3\\lib\\site-packages\\ipykernel\\__main__.py:17: RuntimeWarning: invalid value encountered in double_scalars\n"
     ]
    }
   ],
   "source": [
    "for t in range(4,time):\n",
    "    # calculate profits\n",
    "    profits_type1 = returns[t-1]* share_holdings_type1[t-2] - risk_adjustment * 0.5 * risk_av_variance * share_holdings_type1[t-2]**2\n",
    "    profits_type2 = returns[t-1]* share_holdings_type2[t-2] - risk_adjustment * 0.5 * risk_av_variance * share_holdings_type2[t-2]**2\n",
    "    # calculate accumulated profits\n",
    "    accumulated_profits1.append(profits_type1 + fitness_memory_strenght * accumulated_profits1[t-2])\n",
    "    accumulated_profits2.append(profits_type2 + fitness_memory_strenght * accumulated_profits2[t-2])\n",
    "    # normalization for logistice\n",
    "    norm = np.exp(intensity_of_choice * accumulated_profits1[t-1]) + np.exp(intensity_of_choice * accumulated_profits2[t-1])\n",
    "    normalized_acc_profits.append(norm)\n",
    "    # basic n2tilde (before adjustment)\n",
    "    n2tilde = np.exp( intensity_of_choice * accumulated_profits2[t-1]) / norm\n",
    "    # emergency check to make sure still in range, if not set to 0.5\n",
    "    if np.isnan(n2tilde):\n",
    "        n2tilde = 0.5\n",
    "    # adjustment to n, see paper\n",
    "    fraction_type2.append(n2tilde * np.exp( -(price_deviation_from_fundamental[t-1]) ** 2 / bubble_sensitivity))\n",
    "    # price (dev from fundamental) forecasts are formed\n",
    "    type1_forecast_p = fundamentalist_adaptive_parameter * (price_deviation_from_fundamental[t-1]) # type 1 price forecast for t+1\n",
    "    type2_forecast_p = price_deviation_from_fundamental[t-1] + chartist_adaptive_parameter * (price_deviation_from_fundamental[t-1]-price_deviation_from_fundamental[t-2]) # type 2 price forecast for t+1\n",
    "    # new price for today from t+1 forecasts (note timing)\n",
    "    price_deviation_from_fundamental.append(1/(1+discount_rate) * (((1-fraction_type2[t])* type1_forecast_p + fraction_type2[t]*type2_forecast_p ) + pricing_noise[t]))\n",
    "    price.append(price_deviation_from_fundamental[t] + fundamental_price)\n",
    "    # returns time path\n",
    "    # R[t-1] = p[t+1] - pstar - (1+r)*(p[t]-pstar) + dstd*np.randn(1)\n",
    "    returns.append(price_deviation_from_fundamental[t] - price_deviation_from_fundamental[t-1])\n",
    "    # portfolio decisions\n",
    "    share_holdings_type1.append(( type1_forecast_p - price_deviation_from_fundamental[t])/risk_av_variance)\n",
    "    share_holdings_type2.append(( type2_forecast_p - price_deviation_from_fundamental[t])/risk_av_variance)"
   ]
  },
  {
   "cell_type": "markdown",
   "metadata": {},
   "source": [
    "## Log returns"
   ]
  },
  {
   "cell_type": "code",
   "execution_count": 2,
   "metadata": {
    "collapsed": false
   },
   "outputs": [
    {
     "data": {
      "text/plain": [
       "4"
      ]
     },
     "execution_count": 2,
     "metadata": {},
     "output_type": "execute_result"
    }
   ],
   "source": [
    "[1, 2, 3, 4][-1]"
   ]
  },
  {
   "cell_type": "code",
   "execution_count": 71,
   "metadata": {
    "collapsed": false
   },
   "outputs": [],
   "source": [
    "# log return\n",
    "lret = np.log(price[1:time]) - np.log(price[0:time-1])\n",
    "# arithmetic return\n",
    "ret = np.array(price[1:time]) / np.array(price[0:time-1])-1\n",
    "ghret = np.array(price[1:time]) - dividends - (1+discount_rate) * np.array(price[0:time-1])"
   ]
  },
  {
   "cell_type": "code",
   "execution_count": 72,
   "metadata": {
    "collapsed": false
   },
   "outputs": [
    {
     "data": {
      "text/plain": [
       "<matplotlib.text.Text at 0x207d9457fd0>"
      ]
     },
     "execution_count": 72,
     "metadata": {},
     "output_type": "execute_result"
    },
    {
     "data": {
      "image/png": "[encoded data removed]",
      "text/plain": [
       "<matplotlib.figure.Figure at 0x207d9406160>"
      ]
     },
     "metadata": {},
     "output_type": "display_data"
    }
   ],
   "source": [
    "# plot price\n",
    "fig_p, ax_p = plt.subplots()\n",
    "ax_p.plot(range(time), price[0:])\n",
    "plt.xlabel('Time')\n",
    "plt.ylabel('Price')\n",
    "plt.show()"
   ]
  },
  {
   "cell_type": "code",
   "execution_count": 65,
   "metadata": {
    "collapsed": false
   },
   "outputs": [
    {
     "data": {
      "text/plain": [
       "<matplotlib.text.Text at 0x207d93e5b70>"
      ]
     },
     "execution_count": 65,
     "metadata": {},
     "output_type": "execute_result"
    },
    {
     "data": {
      "image/png": "[encoded data removed]",
      "text/plain": [
       "<matplotlib.figure.Figure at 0x207d939f2b0>"
      ]
     },
     "metadata": {},
     "output_type": "display_data"
    }
   ],
   "source": [
    "fig_r, ax_r = plt.subplots()\n",
    "ax_r.plot(range(time-1), lret[0:] )\n",
    "plt.xlabel('Time')\n",
    "plt.ylabel('Returns')"
   ]
  },
  {
   "cell_type": "code",
   "execution_count": 39,
   "metadata": {
    "collapsed": false
   },
   "outputs": [
    {
     "data": {
      "text/plain": [
       "0.5"
      ]
     },
     "execution_count": 39,
     "metadata": {},
     "output_type": "execute_result"
    }
   ],
   "source": []
  },
  {
   "cell_type": "code",
   "execution_count": 9,
   "metadata": {
    "collapsed": false
   },
   "outputs": [],
   "source": [
    "fraction_type2 = np.zeros([time, 1])\n",
    "price = np.zeros([time, 1])\n",
    "returns = np.zeros([time,1])"
   ]
  },
  {
   "cell_type": "code",
   "execution_count": 14,
   "metadata": {
    "collapsed": true
   },
   "outputs": [],
   "source": [
    "price_deviation_from_fundamental = np.zeros([time,1])  # previously x\n",
    "accumulated_profits1 = np.zeros([time,1])        \n",
    "accumulated_profits2 = np.zeros([time, 1])       \n",
    "share_holdings_type1 = 0.5 * np.ones([time,1])   # previously z1\n",
    "share_holdings_type2 = 0.5 * np.ones([time,1])   # previously z2\n",
    "pricing_noise = noise_std * np.random.randn(time) # previously eps\n",
    "normalized_acc_profits = np.zeros([time,1])"
   ]
  },
  {
   "cell_type": "code",
   "execution_count": 11,
   "metadata": {
    "collapsed": false
   },
   "outputs": [],
   "source": [
    "# fraction of agents\n",
    "fraction_type2[0] = 0.5\n",
    "fraction_type2[1] = fraction_type2[0]\n",
    "fraction_type2[2] = fraction_type2[1]\n",
    "fraction_type2[3] = fraction_type2[2]"
   ]
  },
  {
   "cell_type": "code",
   "execution_count": 12,
   "metadata": {
    "collapsed": true
   },
   "outputs": [],
   "source": [
    "# x = price - pstar\n",
    "price_deviation_from_fundamental[0] = init_price_dev_fundament\n",
    "price_deviation_from_fundamental[1] = price_deviation_from_fundamental[0]\n",
    "price_deviation_from_fundamental[2] = price_deviation_from_fundamental[1]\n",
    "price_deviation_from_fundamental[3] = price_deviation_from_fundamental[2]\n",
    "\n",
    "p = fundamental_price + price_deviation_from_fundamental"
   ]
  },
  {
   "cell_type": "markdown",
   "metadata": {},
   "source": [
    "# Sequence of events / simulation"
   ]
  },
  {
   "cell_type": "code",
   "execution_count": 19,
   "metadata": {
    "collapsed": false
   },
   "outputs": [
    {
     "name": "stderr",
     "output_type": "stream",
     "text": [
      "C:\\Program Files\\Anaconda3\\lib\\site-packages\\ipykernel\\__main__.py:14: RuntimeWarning: overflow encountered in exp\n",
      "C:\\Program Files\\Anaconda3\\lib\\site-packages\\ipykernel\\__main__.py:17: RuntimeWarning: divide by zero encountered in true_divide\n",
      "C:\\Program Files\\Anaconda3\\lib\\site-packages\\ipykernel\\__main__.py:17: RuntimeWarning: overflow encountered in true_divide\n",
      "C:\\Program Files\\Anaconda3\\lib\\site-packages\\ipykernel\\__main__.py:22: RuntimeWarning: invalid value encountered in multiply\n"
     ]
    }
   ],
   "source": [
    "# start at t = 5 to allow for lags\n",
    "for t in range(4,time):\n",
    "    # update utility\n",
    "    # simplified equation from paper(see GHW equation(12))\n",
    "    # u1(t) = -0.5*(x(t-1)-v*x(t-3))^2;\n",
    "    # u2(t) = -0.5*(x(t-1) - x(t-3) - g*(x(t-3)-x(t-4)))^2;\n",
    "    # detaled one period profits using last period holdings\n",
    "    profits_type1 = returns[t-1]* share_holdings_type1[t-2] - risk_adjustment * 0.5 * risk_av_variance * share_holdings_type1[t-2]**2\n",
    "    profits_type2 = returns[t-1]* share_holdings_type2[t-2] - risk_adjustment * 0.5 * risk_av_variance * share_holdings_type2[t-2]**2\n",
    "    # accumulated fitness\n",
    "    accumulated_profits1[t-1] = profits_type1 + fitness_memory_strenght * accumulated_profits1[t-2]\n",
    "    accumulated_profits1[t-1] = profits_type2 + fitness_memory_strenght * accumulated_profits2[t-2]\n",
    "    # normalization for logistice\n",
    "    norm = np.exp( intensity_of_choice * accumulated_profits1[t-1]) + np.exp( intensity_of_choice * accumulated_profits1[t-1])\n",
    "    normalized_acc_profits[t] = norm\n",
    "    # basic n2tilde (before adjustment)\n",
    "    n2tilde = np.exp( intensity_of_choice * accumulated_profits2[t-1]) / norm\n",
    "    # emergency check to make sure still in range, if not set to 0.5\n",
    "    if np.isnan(n2tilde):\n",
    "        n2tilde = 0.5\n",
    "    # adjustment to n, see paper\n",
    "    fraction_type2[t] = n2tilde * np.exp( -(price_deviation_from_fundamental[t-1]) ** 2 / bubble_sensitivity)\n",
    "    # x(t+1) ( p(t+1)) forecasts\n",
    "    type1_forecast_p = fundamentalist_adaptive_parameter * (price_deviation_from_fundamental[t-1]) # type 1 price forecast for t+1\n",
    "    type2_forecast_p = price_deviation_from_fundamental[t-1] + chartist_adaptive_parameter * (price_deviation_from_fundamental[t-1]-price_deviation_from_fundamental[t-2]) # type 2 price forecast for t+1\n",
    "    # new price for today from t+1 forecasts (note timing)\n",
    "    price_deviation_from_fundamental[t] = 1/(1+discount_rate) * (((1-share_holdings_type2[t])* type1_forecast_p + share_holdings_type2[t]*type2_forecast_p ) + pricing_noise[t])\n",
    "    price[t] = price_deviation_from_fundamental[t] + fundamental_price\n",
    "    # returns time path\n",
    "    # R[t-1] = p[t+1] - pstar - (1+r)*(p[t]-pstar) + dstd*np.randn(1)\n",
    "    returns[t] = price_deviation_from_fundamental[t] - price_deviation_from_fundamental[t-1]\n",
    "    # portfolio decisions\n",
    "    share_holdings_type1[t] = ( type1_forecast_p - price_deviation_from_fundamental[t])/risk_av_variance\n",
    "    share_holdings_type2[t] = ( type2_forecast_p - price_deviation_from_fundamental[t])/risk_av_variance"
   ]
  },
  {
   "cell_type": "markdown",
   "metadata": {},
   "source": [
    "## Log returns"
   ]
  },
  {
   "cell_type": "code",
   "execution_count": 23,
   "metadata": {
    "collapsed": false
   },
   "outputs": [
    {
     "name": "stderr",
     "output_type": "stream",
     "text": [
      "C:\\Program Files\\Anaconda3\\lib\\site-packages\\ipykernel\\__main__.py:2: RuntimeWarning: divide by zero encountered in log\n",
      "  from ipykernel import kernelapp as app\n",
      "C:\\Program Files\\Anaconda3\\lib\\site-packages\\ipykernel\\__main__.py:2: RuntimeWarning: invalid value encountered in log\n",
      "  from ipykernel import kernelapp as app\n",
      "C:\\Program Files\\Anaconda3\\lib\\site-packages\\ipykernel\\__main__.py:2: RuntimeWarning: invalid value encountered in subtract\n",
      "  from ipykernel import kernelapp as app\n",
      "C:\\Program Files\\Anaconda3\\lib\\site-packages\\ipykernel\\__main__.py:4: RuntimeWarning: divide by zero encountered in true_divide\n",
      "C:\\Program Files\\Anaconda3\\lib\\site-packages\\ipykernel\\__main__.py:4: RuntimeWarning: invalid value encountered in true_divide\n"
     ]
    }
   ],
   "source": [
    "# log return\n",
    "lret = np.log(price[1:time]) - np.log(price[0:time-1])\n",
    "# arithmetic return\n",
    "ret = price[1:T] / price[0:time-1]-1\n",
    "ghret = price[1:T] - dividends - (1+r) * price[0:time-1]"
   ]
  },
  {
   "cell_type": "code",
   "execution_count": 26,
   "metadata": {
    "collapsed": false
   },
   "outputs": [
    {
     "data": {
      "text/plain": [
       "<matplotlib.text.Text at 0x28d45f4ce48>"
      ]
     },
     "execution_count": 26,
     "metadata": {},
     "output_type": "execute_result"
    },
    {
     "data": {
      "image/png": "[encoded data removed]",
      "text/plain": [
       "<matplotlib.figure.Figure at 0x28d462b9668>"
      ]
     },
     "metadata": {},
     "output_type": "display_data"
    }
   ],
   "source": [
    "# plot price\n",
    "fig_p, ax_p = plt.subplots()\n",
    "ax_p.plot(range(T), p[0:])\n",
    "plt.xlabel('Time')\n",
    "plt.ylabel('Price')"
   ]
  },
  {
   "cell_type": "code",
   "execution_count": 27,
   "metadata": {
    "collapsed": false
   },
   "outputs": [
    {
     "data": {
      "text/plain": [
       "<matplotlib.text.Text at 0x28d465150b8>"
      ]
     },
     "execution_count": 27,
     "metadata": {},
     "output_type": "execute_result"
    },
    {
     "data": {
      "image/png": "[encoded data removed]",
      "text/plain": [
       "<matplotlib.figure.Figure at 0x28d4609fa20>"
      ]
     },
     "metadata": {},
     "output_type": "display_data"
    }
   ],
   "source": [
    "fig_r, ax_r = plt.subplots()\n",
    "ax_r.plot(range(T-1), lret[0:] )\n",
    "plt.xlabel('Time')\n",
    "plt.ylabel('Returns')"
   ]
  },
  {
   "cell_type": "code",
   "execution_count": null,
   "metadata": {
    "collapsed": true
   },
   "outputs": [],
   "source": []
  }
 ],
 "metadata": {
  "anaconda-cloud": {},
  "kernelspec": {
   "display_name": "Python [conda root]",
   "language": "python",
   "name": "conda-root-py"
  },
  "language_info": {
   "codemirror_mode": {
    "name": "ipython",
    "version": 3
   },
   "file_extension": ".py",
   "mimetype": "text/x-python",
   "name": "python",
   "nbconvert_exporter": "python",
   "pygments_lexer": "ipython3",
   "version": "3.5.2"
  }
 },
 "nbformat": 4,
 "nbformat_minor": 1
}
