{
 "cells": [
  {
   "cell_type": "markdown",
   "metadata": {},
   "source": [
    "# Calibration\n",
    "inspired by: http://jasss.soc.surrey.ac.uk/17/3/11.html"
   ]
  },
  {
   "cell_type": "code",
   "execution_count": 11,
   "metadata": {
    "collapsed": true
   },
   "outputs": [],
   "source": [
    "%matplotlib inline\n",
    "import math\n",
    "import numpy as np\n",
    "import numpy.random as nrand\n",
    "import matplotlib.pyplot as plt\n",
    "import pandas as pd\n",
    "import itertools\n",
    "import scipy.stats as stats\n",
    "import powerlaw\n",
    "from stockmarket import baselinemodel\n",
    "import tqdm"
   ]
  },
  {
   "cell_type": "markdown",
   "metadata": {},
   "source": [
    "# Helper functions"
   ]
  },
  {
   "cell_type": "code",
   "execution_count": 2,
   "metadata": {
    "collapsed": true
   },
   "outputs": [],
   "source": [
    "def hurst(price_series):\n",
    "    \"\"\"\n",
    "    see:\n",
    "    https://www.quantopian.com/posts/some-code-from-ernie-chans-new-book-implemented-in-python\n",
    "    \n",
    "    Function to calculate the hurst exponent\n",
    "    \"\"\"\n",
    "    tau = []; lagvec = []  \n",
    "    #  Step through the different lags  \n",
    "    for lag in range(2,20):  \n",
    "        #  produce price difference with lag  \n",
    "        pp = np.subtract(price_series[lag:],price_series[:-lag])  \n",
    "        #  Write the different lags into a vector  \n",
    "        lagvec.append(lag)  \n",
    "        #  Calculate the variance of the difference vector  \n",
    "        tau.append(np.sqrt(np.std(pp)))  \n",
    "    #  linear fit to double-log graph (gives power)  \n",
    "    m = np.polyfit(np.log10(lagvec),np.log10(tau),1)  \n",
    "    # calculate hurst  \n",
    "    hurst = m[0]*2  \n",
    "    # plot lag vs variance  \n",
    "    #py.plot(lagvec,tau,'o'); show()  \n",
    "    return hurst  "
   ]
  },
  {
   "cell_type": "code",
   "execution_count": 3,
   "metadata": {
    "collapsed": true
   },
   "outputs": [],
   "source": [
    "# return autocorrelation close to zero after lag 1\n",
    "# calculate returns \n",
    "def calculate_returns(orderbook_transaction_price_history):\n",
    "    \"\"\"Return the returns\"\"\"\n",
    "    averageprices = []\n",
    "    for day in orderbook_transaction_price_history:\n",
    "        averageprices.append(np.mean(day))\n",
    "    returns = pd.Series(averageprices).diff()\n",
    "    return returns[1:]\n",
    "\n",
    "# Test 1\n",
    "def zero_autocorrelation(returns, lags):\n",
    "    \"\"\"returns wether average autocorrelation is much different from zero\"\"\"\n",
    "    autocorr_returns = [returns.autocorr(lag=lag) for lag in range(lags)]\n",
    "    # if mean autocorrelation are between -0.1 and 0.1\n",
    "    average_autocorrelation = np.mean(autocorr_returns[1:])\n",
    "    if (average_autocorrelation < 0.1) and (average_autocorrelation > -0.1):\n",
    "        return True\n",
    "    else:\n",
    "        return False\n",
    "\n",
    "# Test 2 \n",
    "def fat_tails(returns):\n",
    "    results = powerlaw.Fit(returns)\n",
    "    alpha = results.power_law.alpha\n",
    "    if (alpha < 4) and (alpha > 2):\n",
    "        return True\n",
    "    else:\n",
    "        return False\n",
    "    \n",
    "# Test 3\n",
    "def clustered_volatility(returns, lags):\n",
    "    absolute_returns = returns.abs()\n",
    "    autocorr_abs_returns = [absolute_returns.autocorr(lag=lag) for lag in range(lags)]\n",
    "    average_autocorrelation = np.mean(autocorr_abs_returns[1:])\n",
    "    if (average_autocorrelation < 0.1) and (average_autocorrelation > -0.1):\n",
    "        return False\n",
    "    else:\n",
    "        return True\n",
    "\n",
    "# Test 4\n",
    "def non_linear_dependence(returns, hurst_function):\n",
    "    h = hurst_function(returns)\n",
    "    if h > 0.5:\n",
    "        return True\n",
    "    else: \n",
    "        return False"
   ]
  },
  {
   "cell_type": "code",
   "execution_count": 15,
   "metadata": {
    "collapsed": false
   },
   "outputs": [
    {
     "name": "stdout",
     "output_type": "stream",
     "text": [
      "now starting  exp1\n",
      "now starting  exp2\n",
      "no volume\n",
      "no volume\n",
      "no volume\n",
      "no volume\n",
      "no volume\n",
      "no volume\n",
      "no volume\n",
      "no volume\n",
      "no volume\n",
      "no volume\n",
      "no volume\n",
      "no volume\n",
      "no volume\n",
      "no volume\n",
      "no volume\n",
      "no volume\n",
      "no volume\n",
      "no volume\n",
      "no volume\n",
      "no volume\n",
      "no volume\n",
      "no volume\n",
      "no volume\n",
      "no volume\n",
      "no volume\n",
      "no volume\n",
      "no volume\n",
      "no volume\n",
      "no volume\n",
      "no volume\n",
      "no volume\n",
      "no volume\n",
      "no volume\n",
      "no volume\n",
      "no volume\n",
      "no volume\n",
      "no volume\n",
      "no volume\n",
      "no volume\n",
      "no volume"
     ]
    },
    {
     "name": "stderr",
     "output_type": "stream",
     "text": [
      "Calculating best minimal value for power law fit\n",
      "Calculating best minimal value for power law fit"
     ]
    },
    {
     "name": "stdout",
     "output_type": "stream",
     "text": [
      "\n",
      "now starting "
     ]
    },
    {
     "name": "stderr",
     "output_type": "stream",
     "text": [
      "\n",
      "Calculating best minimal value for power law fit"
     ]
    },
    {
     "name": "stdout",
     "output_type": "stream",
     "text": [
      " exp3\n",
      "now starting "
     ]
    },
    {
     "name": "stderr",
     "output_type": "stream",
     "text": [
      "\n",
      "Calculating best minimal value for power law fit"
     ]
    },
    {
     "name": "stdout",
     "output_type": "stream",
     "text": [
      " exp4\n"
     ]
    },
    {
     "name": "stderr",
     "output_type": "stream",
     "text": [
      "\n"
     ]
    },
    {
     "data": {
      "text/plain": [
       "{'exp1': [True, False, False, False],\n",
       " 'exp2': [True, True, True, False],\n",
       " 'exp3': [True, True, True, False],\n",
       " 'exp4': [True, False, False, False]}"
      ]
     },
     "execution_count": 15,
     "metadata": {},
     "output_type": "execute_result"
    }
   ],
   "source": [
    "# determine parameter space\n",
    "speculators = {'exp1': 10, 'exp2': 30, 'exp3': 50, 'exp4': 80} \n",
    "# for the parameters\n",
    "results = {}\n",
    "\n",
    "for key, n_speculators in sorted(speculators.items()):\n",
    "    #print (key, n_speculators)\n",
    "    # simulate the model\n",
    "    print ('now starting ', key)\n",
    "    agents, firms, stocks, order_books, market_maker = baselinemodel.stockMarketSimulation(seed=0, simulation_time=250,\n",
    "                                                                                       amount_momentum=n_speculators,\n",
    "                                                                                       amount_mean_reversion=n_speculators,\n",
    "                                                                                       amount_noise_traders=(200-2*n_speculators),\n",
    "                                                                                       amount_firms=1,\n",
    "                                                                                       initial_money=(100, 200),\n",
    "                                                                                       initial_bid_ask=(1,1),\n",
    "                                                                                       initial_memory=(3,7),\n",
    "                                                                                       initial_ma_short=(20,40),\n",
    "                                                                                       initial_ma_long=(120,150),\n",
    "                                                                                       initial_profit=(200,200),\n",
    "                                                                                       initial_book_value=(10000, 10000),\n",
    "                                                                                       initial_stock_amount=4000,\n",
    "                                                                                       order_expiration_time=150,\n",
    "                                                                                       init_propensity_to_switch=1.1,\n",
    "                                                                                       init_price_to_earnings_window=((4, 7), (10, 14)),\n",
    "                                                                                       firm_profit_mu=0.058,\n",
    "                                                                                       firm_profit_delta=0.00396825396,\n",
    "                                                                                       firm_profit_sigma=0.125,\n",
    "                                                                                       profit_announcement_working_days=20,\n",
    "                                                                                       init_market_maker_money=5000,\n",
    "                                                                                       market_maker_bid_ask_spread=3,\n",
    "                                                                                       market_maker_price_to_earnings_window=(5,13),\n",
    "                                                                                       market_maker_inventory_sensitivity=0.01,\n",
    "                                                                                       market_maker_inventory_buffer_of_total_target=0.10,\n",
    "                                                                                       m_m_standard_order_percentage_total=0.05,\n",
    "                                                                                       agents_hold_thresholds=(0.9995, 1.0005),\n",
    "                                                                                       init_share_of_stocks_to_market_maker=0.4,\n",
    "                                                                                       init_backward_simulated_time=200,\n",
    "                                                                                       trader_volume_risk_aversion=0.1,\n",
    "                                                                                       printProgress=False\n",
    "                                                                                       )\n",
    "    # Apply the tests \n",
    "    # apply all tests to the model \n",
    "    # test 1\n",
    "    first_test = zero_autocorrelation(calculate_returns(order_books[0].transaction_prices_history), 25)\n",
    "    # test 2\n",
    "    second_test = fat_tails(calculate_returns(order_books[0].transaction_prices_history))\n",
    "    # test 3\n",
    "    third_test = clustered_volatility(calculate_returns(order_books[0].transaction_prices_history), 25)\n",
    "    # test 4\n",
    "    fourth_test = non_linear_dependence(calculate_returns(order_books[0].transaction_prices_history), hurst)\n",
    "    # save parameter space and test results\n",
    "    results[key] = [first_test, second_test, third_test, fourth_test]\n",
    "\n",
    "results"
   ]
  }
 ],
 "metadata": {
  "anaconda-cloud": {},
  "kernelspec": {
   "display_name": "Python [Root]",
   "language": "python",
   "name": "Python [Root]"
  },
  "language_info": {
   "codemirror_mode": {
    "name": "ipython",
    "version": 3
   },
   "file_extension": ".py",
   "mimetype": "text/x-python",
   "name": "python",
   "nbconvert_exporter": "python",
   "pygments_lexer": "ipython3",
   "version": "3.5.2"
  }
 },
 "nbformat": 4,
 "nbformat_minor": 0
}
