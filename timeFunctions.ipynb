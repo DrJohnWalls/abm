{
 "cells": [
  {
   "cell_type": "markdown",
   "metadata": {},
   "source": [
    "# Use this notebook to time and subsequently decrease abm running time"
   ]
  },
  {
   "cell_type": "code",
   "execution_count": 1,
   "metadata": {
    "collapsed": true
   },
   "outputs": [],
   "source": [
    "import pandas as pd\n",
    "import numpy as np\n",
    "from ipywidgets import widgets, interact\n",
    "from stockmarket import baselineCDoubleAuction, baselineCDA\n",
    "import sqlite3\n",
    "from tqdm import *"
   ]
  },
  {
   "cell_type": "code",
   "execution_count": 2,
   "metadata": {
    "collapsed": true
   },
   "outputs": [],
   "source": [
    "NRUNS = 1"
   ]
  },
  {
   "cell_type": "markdown",
   "metadata": {},
   "source": [
    "# How much time does it take to run the model once"
   ]
  },
  {
   "cell_type": "code",
   "execution_count": 11,
   "metadata": {
    "collapsed": false
   },
   "outputs": [],
   "source": [
    "%time baselineCDoubleAuction.stockMarketSimulation(seed=NRUNS, simulation_time=100, amount_fundamentalists=40, amount_chartists=40, amount_firms=1,initial_money=(100, 200), initial_bid_ask=(1,1), initial_memory=(3,7),initial_ma_short=(1,3), initial_ma_long=(6,7), initial_profit=(200,200),initial_book_value=(10000, 10000), initial_stock_amount=400, order_expiration_time=120)"
   ]
  },
  {
   "cell_type": "markdown",
   "metadata": {},
   "source": [
    "Before starting any improvements --> Wall time: 2min 22s"
   ]
  },
  {
   "cell_type": "code",
   "execution_count": 3,
   "metadata": {
    "collapsed": false
   },
   "outputs": [
    {
     "name": "stdout",
     "output_type": "stream",
     "text": [
      "Wall time: 461 ms\n"
     ]
    },
    {
     "data": {
      "text/plain": [
       "([trader_0,\n",
       "  trader_1,\n",
       "  trader_2,\n",
       "  trader_3,\n",
       "  trader_4,\n",
       "  trader_5,\n",
       "  trader_6,\n",
       "  trader_7,\n",
       "  trader_8,\n",
       "  trader_9,\n",
       "  trader_10,\n",
       "  trader_11,\n",
       "  trader_12,\n",
       "  trader_13,\n",
       "  trader_14,\n",
       "  trader_15,\n",
       "  trader_16,\n",
       "  trader_17,\n",
       "  trader_18,\n",
       "  trader_19,\n",
       "  trader_20,\n",
       "  trader_21,\n",
       "  trader_22,\n",
       "  trader_23,\n",
       "  trader_24,\n",
       "  trader_25,\n",
       "  trader_26,\n",
       "  trader_27,\n",
       "  trader_28,\n",
       "  trader_29,\n",
       "  trader_30,\n",
       "  trader_31,\n",
       "  trader_32,\n",
       "  trader_33,\n",
       "  trader_34,\n",
       "  trader_35,\n",
       "  trader_36,\n",
       "  trader_37,\n",
       "  trader_38,\n",
       "  trader_39,\n",
       "  trader_40,\n",
       "  trader_41,\n",
       "  trader_42,\n",
       "  trader_43,\n",
       "  trader_44,\n",
       "  trader_45,\n",
       "  trader_46,\n",
       "  trader_47,\n",
       "  trader_48,\n",
       "  trader_49,\n",
       "  trader_50,\n",
       "  trader_51,\n",
       "  trader_52,\n",
       "  trader_53,\n",
       "  trader_54,\n",
       "  trader_55,\n",
       "  trader_56,\n",
       "  trader_57,\n",
       "  trader_58,\n",
       "  trader_59,\n",
       "  trader_60,\n",
       "  trader_61,\n",
       "  trader_62,\n",
       "  trader_63,\n",
       "  trader_64,\n",
       "  trader_65,\n",
       "  trader_66,\n",
       "  trader_67,\n",
       "  trader_68,\n",
       "  trader_69,\n",
       "  trader_70,\n",
       "  trader_71,\n",
       "  trader_72,\n",
       "  trader_73,\n",
       "  trader_74,\n",
       "  trader_75,\n",
       "  trader_76,\n",
       "  trader_77,\n",
       "  trader_78,\n",
       "  trader_79],\n",
       " [firm_0],\n",
       " [stock_0],\n",
       " [order_book_Stock of 0])"
      ]
     },
     "execution_count": 3,
     "metadata": {},
     "output_type": "execute_result"
    }
   ],
   "source": [
    "%time baselineCDA.stockMarketSimulation(seed=NRUNS, simulation_time=100, amount_fundamentalists=40, amount_chartists=40, amount_firms=1,initial_money=(100, 200), initial_bid_ask=(1,1), initial_memory=(3,7),initial_ma_short=(1,3), initial_ma_long=(6,7), initial_profit=(200,200),initial_book_value=(10000, 10000), initial_stock_amount=400, order_expiration_time=120)"
   ]
  },
  {
   "cell_type": "markdown",
   "metadata": {},
   "source": [
    "If I remove the recording of data in dataframes --> Wall time: 461 ms"
   ]
  },
  {
   "cell_type": "markdown",
   "metadata": {},
   "source": [
    "# Then, we explore which functions take up the majority of time"
   ]
  },
  {
   "cell_type": "code",
   "execution_count": 12,
   "metadata": {
    "collapsed": false
   },
   "outputs": [
    {
     "name": "stdout",
     "output_type": "stream",
     "text": [
      " "
     ]
    }
   ],
   "source": [
    "%prun baselineCDoubleAuction.stockMarketSimulation(seed=NRUNS, simulation_time=100, amount_fundamentalists=40, amount_chartists=40, amount_firms=1,initial_money=(100, 200), initial_bid_ask=(1,1), initial_memory=(3,7),initial_ma_short=(1,3), initial_ma_long=(6,7), initial_profit=(200,200),initial_book_value=(10000, 10000), initial_stock_amount=400, order_expiration_time=120)"
   ]
  },
  {
   "cell_type": "code",
   "execution_count": 8,
   "metadata": {
    "collapsed": false
   },
   "outputs": [
    {
     "name": "stdout",
     "output_type": "stream",
     "text": [
      "100000 loops, best of 3: 1.88 µs per loop\n"
     ]
    }
   ],
   "source": [
    "\n",
    "%timeit [emptyList.append(x) for x in range(10)]"
   ]
  },
  {
   "cell_type": "code",
   "execution_count": 38,
   "metadata": {
    "collapsed": true
   },
   "outputs": [],
   "source": [
    "def fillList(length):\n",
    "    l = range(length)\n",
    "    lst = []\n",
    "    for x in l:\n",
    "        lst.append(x)\n",
    "    return lst"
   ]
  },
  {
   "cell_type": "code",
   "execution_count": 39,
   "metadata": {
    "collapsed": true
   },
   "outputs": [],
   "source": [
    "def fillArray(length):\n",
    "    l = range(length)\n",
    "    array = np.zeros(length)\n",
    "    for x in l:\n",
    "        array[x] = x\n",
    "    return array"
   ]
  },
  {
   "cell_type": "code",
   "execution_count": 42,
   "metadata": {
    "collapsed": false
   },
   "outputs": [
    {
     "name": "stdout",
     "output_type": "stream",
     "text": [
      "Wall time: 169 ms\n"
     ]
    },
    {
     "data": {
      "text/plain": [
       "array([  0.00000000e+00,   1.00000000e+00,   2.00000000e+00, ...,\n",
       "         9.99997000e+05,   9.99998000e+05,   9.99999000e+05])"
      ]
     },
     "execution_count": 42,
     "metadata": {},
     "output_type": "execute_result"
    }
   ],
   "source": [
    "%time fillArray(1000000)"
   ]
  },
  {
   "cell_type": "code",
   "execution_count": 44,
   "metadata": {
    "collapsed": false
   },
   "outputs": [],
   "source": [
    "%time fillList(1000000)"
   ]
  },
  {
   "cell_type": "code",
   "execution_count": 40,
   "metadata": {
    "collapsed": false
   },
   "outputs": [
    {
     "name": "stdout",
     "output_type": "stream",
     "text": [
      "10 loops, best of 3: 158 ms per loop\n"
     ]
    }
   ],
   "source": [
    "%timeit fillArray(1000000)"
   ]
  },
  {
   "cell_type": "code",
   "execution_count": 41,
   "metadata": {
    "collapsed": false
   },
   "outputs": [
    {
     "name": "stdout",
     "output_type": "stream",
     "text": [
      "10 loops, best of 3: 121 ms per loop\n"
     ]
    }
   ],
   "source": [
    "%timeit fillList(1000000)"
   ]
  },
  {
   "cell_type": "markdown",
   "metadata": {},
   "source": [
    "# Tips for optimization:\n",
    "\n",
    "* multiple assignment is slower than individual assignment. For example \"x,y=a,b\" is slower than \"x=a; y=b\".\n",
    "* chained comparisons are faster than using the \"and\" operator. Write \"x < y < z\" instead of \"x < y and y < z\n",
    "* Membership testing with sets and dictionaries is much faster, O(1), than searching sequences, O(n)\n",
    "* String concatenation is best done with ''.join(seq) which is an O(n) process. \n",
    "* Function call overhead is large compared to other instructions.\n",
    "* List comprehensions run a bit faster than equivalent for-loops (unless you're just going to throw away the result)."
   ]
  },
  {
   "cell_type": "code",
   "execution_count": null,
   "metadata": {
    "collapsed": true
   },
   "outputs": [],
   "source": []
  },
  {
   "cell_type": "markdown",
   "metadata": {},
   "source": [
    "# Then, I try to remove the double use of . as much as possible. "
   ]
  },
  {
   "cell_type": "markdown",
   "metadata": {},
   "source": [
    "## In "
   ]
  }
 ],
 "metadata": {
  "kernelspec": {
   "display_name": "Python 3",
   "language": "python",
   "name": "python3"
  },
  "language_info": {
   "codemirror_mode": {
    "name": "ipython",
    "version": 3
   },
   "file_extension": ".py",
   "mimetype": "text/x-python",
   "name": "python",
   "nbconvert_exporter": "python",
   "pygments_lexer": "ipython3",
   "version": "3.5.2"
  }
 },
 "nbformat": 4,
 "nbformat_minor": 0
}
