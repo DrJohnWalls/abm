{
 "cells": [
  {
   "cell_type": "code",
   "execution_count": 46,
   "metadata": {
    "collapsed": true
   },
   "outputs": [],
   "source": [
    "%matplotlib inline\n",
    "import math\n",
    "import numpy as np\n",
    "import numpy.random as nrand\n",
    "import matplotlib.pyplot as plt\n",
    "from scipy.signal import savgol_filter"
   ]
  },
  {
   "cell_type": "markdown",
   "metadata": {},
   "source": [
    "### Savitzky_golay_filter"
   ]
  },
  {
   "cell_type": "code",
   "execution_count": 47,
   "metadata": {
    "collapsed": true
   },
   "outputs": [],
   "source": [
    "def savitzky_golay(y, window_size, order, deriv=0, rate=1):\n",
    "    r\"\"\"Smooth (and optionally differentiate) data with a Savitzky-Golay filter.\n",
    "    The Savitzky-Golay filter removes high frequency noise from data.\n",
    "    It has the advantage of preserving the original shape and\n",
    "    features of the signal better than other types of filtering\n",
    "    approaches, such as moving averages techniques.\n",
    "    Parameters\n",
    "    ----------\n",
    "    y : array_like, shape (N,)\n",
    "        the values of the time history of the signal.\n",
    "    window_size : int\n",
    "        the length of the window. Must be an odd integer number.\n",
    "    order : int\n",
    "        the order of the polynomial used in the filtering.\n",
    "        Must be less then `window_size` - 1.\n",
    "    deriv: int\n",
    "        the order of the derivative to compute (default = 0 means only smoothing)\n",
    "    Returns\n",
    "    -------\n",
    "    ys : ndarray, shape (N)\n",
    "        the smoothed signal (or it's n-th derivative).\n",
    "    Notes\n",
    "    -----\n",
    "    The Savitzky-Golay is a type of low-pass filter, particularly\n",
    "    suited for smoothing noisy data. The main idea behind this\n",
    "    approach is to make for each point a least-square fit with a\n",
    "    polynomial of high order over a odd-sized window centered at\n",
    "    the point.\n",
    "    Examples\n",
    "    --------\n",
    "    t = np.linspace(-4, 4, 500)\n",
    "    y = np.exp( -t**2 ) + np.random.normal(0, 0.05, t.shape)\n",
    "    ysg = savitzky_golay(y, window_size=31, order=4)\n",
    "    import matplotlib.pyplot as plt\n",
    "    plt.plot(t, y, label='Noisy signal')\n",
    "    plt.plot(t, np.exp(-t**2), 'k', lw=1.5, label='Original signal')\n",
    "    plt.plot(t, ysg, 'r', label='Filtered signal')\n",
    "    plt.legend()\n",
    "    plt.show()\n",
    "    References\n",
    "    ----------\n",
    "    .. [1] A. Savitzky, M. J. E. Golay, Smoothing and Differentiation of\n",
    "       Data by Simplified Least Squares Procedures. Analytical\n",
    "       Chemistry, 1964, 36 (8), pp 1627-1639.\n",
    "    .. [2] Numerical Recipes 3rd Edition: The Art of Scientific Computing\n",
    "       W.H. Press, S.A. Teukolsky, W.T. Vetterling, B.P. Flannery\n",
    "       Cambridge University Press ISBN-13: 9780521880688\n",
    "    \"\"\"\n",
    "    import numpy as np\n",
    "    from math import factorial\n",
    "    \n",
    "    try:\n",
    "        window_size = np.abs(np.int(window_size))\n",
    "        order = np.abs(np.int(order))\n",
    "    except ValueError:\n",
    "        raise ValueError(\"window_size and order have to be of type int\")\n",
    "    if window_size % 2 != 1 or window_size < 1:\n",
    "        raise TypeError(\"window_size size must be a positive odd number\")\n",
    "    if window_size < order + 2:\n",
    "        raise TypeError(\"window_size is too small for the polynomials order\")\n",
    "    order_range = range(order+1)\n",
    "    half_window = (window_size -1) // 2\n",
    "    # precompute coefficients\n",
    "    b = np.mat([[k**i for i in order_range] for k in range(-half_window, half_window+1)])\n",
    "    m = np.linalg.pinv(b).A[deriv] * rate**deriv * factorial(deriv)\n",
    "    # pad the signal at the extremes with\n",
    "    # values taken from the signal itself\n",
    "    firstvals = y[0] - np.abs( y[1:half_window+1][::-1] - y[0] )\n",
    "    lastvals = y[-1] + np.abs(y[-half_window-1:-1][::-1] - y[-1])\n",
    "    y = np.concatenate((firstvals, y, lastvals))\n",
    "    return np.convolve( m[::-1], y, mode='valid')"
   ]
  },
  {
   "cell_type": "code",
   "execution_count": 13,
   "metadata": {
    "collapsed": true
   },
   "outputs": [],
   "source": [
    "# simulate geometric brownian motion\n",
    "def geometricBrownianPrice(previousPrice, delta, sigma, mu):\n",
    "    sqrt_delta_sigma = math.sqrt(delta) * sigma\n",
    "    brownian_motion = nrand.normal(loc=0, scale=sqrt_delta_sigma)\n",
    "    sigma_pow_mu_delta = (mu - 0.5 * math.pow(sigma, 2.0)) * delta\n",
    "    geometric_brownian_motion_log_return = brownian_motion + sigma_pow_mu_delta\n",
    "    retur = np.exp(geometric_brownian_motion_log_return)\n",
    "    nextPrice = previousPrice * retur\n",
    "    return nextPrice"
   ]
  },
  {
   "cell_type": "code",
   "execution_count": 10,
   "metadata": {
    "collapsed": true
   },
   "outputs": [],
   "source": [
    "delta = 0.00396825396\n",
    "sigma = 0.125\n",
    "mu = 0.058\n",
    "time = 999"
   ]
  },
  {
   "cell_type": "code",
   "execution_count": 14,
   "metadata": {
    "collapsed": false
   },
   "outputs": [],
   "source": [
    "prices = [100]\n",
    "for t in range(time):\n",
    "    prices.append(geometricBrownianPrice(prices[-1], delta, sigma, mu))"
   ]
  },
  {
   "cell_type": "code",
   "execution_count": 106,
   "metadata": {
    "collapsed": false
   },
   "outputs": [],
   "source": [
    "convex = [1]\n",
    "for t in range(100):\n",
    "    previous = convex[-1]\n",
    "    convex.append(previous * 2)\n"
   ]
  },
  {
   "cell_type": "code",
   "execution_count": 111,
   "metadata": {
    "collapsed": false
   },
   "outputs": [
    {
     "data": {
      "text/plain": [
       "[1,\n",
       " 1.75,\n",
       " 2.3125,\n",
       " 2.734375,\n",
       " 3.05078125,\n",
       " 3.2880859375,\n",
       " 3.466064453125,\n",
       " 3.59954833984375,\n",
       " 3.6996612548828125,\n",
       " 3.7747459411621094,\n",
       " 3.831059455871582,\n",
       " 3.8732945919036865,\n",
       " 3.904970943927765,\n",
       " 3.9287282079458237,\n",
       " 3.9465461559593678,\n",
       " 3.959909616969526,\n",
       " 3.9699322127271444,\n",
       " 3.9774491595453583,\n",
       " 3.9830868696590187,\n",
       " 3.987315152244264,\n",
       " 3.990486364183198,\n",
       " 3.9928647731373985,\n",
       " 3.994648579853049,\n",
       " 3.9959864348897867,\n",
       " 3.99698982616734,\n",
       " 3.997742369625505,\n",
       " 3.9983067772191285,\n",
       " 3.9987300829143466,\n",
       " 3.99904756218576,\n",
       " 3.99928567163932,\n",
       " 3.99946425372949,\n",
       " 3.9995981902971174,\n",
       " 3.999698642722838,\n",
       " 3.9997739820421288,\n",
       " 3.9998304865315966,\n",
       " 3.9998728648986974,\n",
       " 3.999904648674023,\n",
       " 3.9999284865055174,\n",
       " 3.999946364879138,\n",
       " 3.9999597736593535,\n",
       " 3.999969830244515,\n",
       " 3.9999773726833863,\n",
       " 3.99998302951254,\n",
       " 3.9999872721344047,\n",
       " 3.9999904541008036,\n",
       " 3.9999928405756027,\n",
       " 3.999994630431702,\n",
       " 3.9999959728237764,\n",
       " 3.9999969796178325,\n",
       " 3.999997734713374,\n",
       " 3.9999983010350304,\n",
       " 3.9999987257762726,\n",
       " 3.9999990443322044,\n",
       " 3.9999992832491533,\n",
       " 3.999999462436865,\n",
       " 3.999999596827649,\n",
       " 3.9999996976207366,\n",
       " 3.9999997732155523,\n",
       " 3.999999829911664,\n",
       " 3.999999872433748,\n",
       " 3.9999999043253114,\n",
       " 3.9999999282439838,\n",
       " 3.999999946182988,\n",
       " 3.9999999596372406,\n",
       " 3.9999999697279307,\n",
       " 3.999999977295948,\n",
       " 3.999999982971961,\n",
       " 3.999999987228971,\n",
       " 3.999999990421728,\n",
       " 3.999999992816296,\n",
       " 3.999999994612222,\n",
       " 3.9999999959591666,\n",
       " 3.999999996969375,\n",
       " 3.999999997727031,\n",
       " 3.9999999982952734,\n",
       " 3.999999998721455,\n",
       " 3.9999999990410915,\n",
       " 3.999999999280819,\n",
       " 3.999999999460614,\n",
       " 3.9999999995954605,\n",
       " 3.9999999996965956,\n",
       " 3.999999999772447,\n",
       " 3.999999999829335,\n",
       " 3.9999999998720015,\n",
       " 3.9999999999040012,\n",
       " 3.9999999999280007,\n",
       " 3.9999999999460005,\n",
       " 3.9999999999595004,\n",
       " 3.999999999969625,\n",
       " 3.999999999977219,\n",
       " 3.999999999982914,\n",
       " 3.9999999999871854,\n",
       " 3.999999999990389,\n",
       " 3.9999999999927915,\n",
       " 3.9999999999945937,\n",
       " 3.9999999999959455,\n",
       " 3.999999999996959,\n",
       " 3.999999999997719,\n",
       " 3.9999999999982894,\n",
       " 3.999999999998717,\n",
       " 3.9999999999990377]"
      ]
     },
     "execution_count": 111,
     "metadata": {},
     "output_type": "execute_result"
    }
   ],
   "source": [
    "concave = [1]\n",
    "for t in range(100):\n",
    "    previous = concave[-1]\n",
    "    concave.append(concave[0] + previous * 0.75)\n",
    "concave"
   ]
  },
  {
   "cell_type": "code",
   "execution_count": 64,
   "metadata": {
    "collapsed": false
   },
   "outputs": [],
   "source": [
    "smoothedPrices = savitzky_golay(np.array(prices),199,1)"
   ]
  },
  {
   "cell_type": "code",
   "execution_count": 127,
   "metadata": {
    "collapsed": false
   },
   "outputs": [
    {
     "data": {
      "text/plain": [
       "<matplotlib.text.Text at 0x2ad53bf7dd8>"
      ]
     },
     "execution_count": 127,
     "metadata": {},
     "output_type": "execute_result"
    },
    {
     "data": {
      "image/png": "[encoded data removed]",
      "text/plain": [
       "<matplotlib.figure.Figure at 0x2ad53c30208>"
      ]
     },
     "metadata": {},
     "output_type": "display_data"
    }
   ],
   "source": [
    "fig, ax1 = plt.subplots(1, 1, figsize=(10,5))\n",
    "\n",
    "# ax1.plot(range(len(prices)), prices)\n",
    "# ax1.plot(range(len(prices)), smoothedPrices)\n",
    "ax1.plot(range(len(concave[80:])), concave[80:])\n",
    "\n",
    "ax1.set_xlabel('(Simulation time)', fontsize='14')"
   ]
  },
  {
   "cell_type": "markdown",
   "metadata": {},
   "source": [
    "# Mean reversion"
   ]
  },
  {
   "cell_type": "code",
   "execution_count": 136,
   "metadata": {
    "collapsed": false
   },
   "outputs": [
    {
     "data": {
      "image/png": "[encoded data removed]",
      "text/plain": [
       "<matplotlib.figure.Figure at 0x2ad53da2240>"
      ]
     },
     "metadata": {},
     "output_type": "display_data"
    }
   ],
   "source": [
    "# identify trend in data \n",
    "x = np.array([0, 1, 2, 3])\n",
    "y = np.array([3.9, 3.93, 3.95, 3.96])\n",
    "A = np.vstack([x, np.ones(len(x))]).T\n",
    "m, c = np.linalg.lstsq(A, y)[0]\n",
    "plt.plot(x, y, 'o', label='Original data', markersize=10)\n",
    "plt.plot(x, m*x + c, 'r', label='Fitted line')\n",
    "plt.legend()\n",
    "plt.show()"
   ]
  },
  {
   "cell_type": "code",
   "execution_count": 83,
   "metadata": {
    "collapsed": false
   },
   "outputs": [
    {
     "data": {
      "text/plain": [
       "'sell'"
      ]
     },
     "execution_count": 83,
     "metadata": {},
     "output_type": "execute_result"
    }
   ],
   "source": [
    "mean_reversion(prices, shortMA, upperThreshold, lowerThreshold)"
   ]
  },
  {
   "cell_type": "code",
   "execution_count": 142,
   "metadata": {
    "collapsed": false
   },
   "outputs": [
    {
     "name": "stdout",
     "output_type": "stream",
     "text": [
      "[ 4.  4.  4.  4.  4.  4.  4.  4.  4.  4.  4.  4.  4.  4.  4.  4.  4.  4.\n",
      "  4.  4.]\n",
      "[3.999999999772447, 3.999999999829335, 3.9999999998720015, 3.9999999999040012, 3.9999999999280007, 3.9999999999460005, 3.9999999999595004, 3.999999999969625, 3.999999999977219, 3.999999999982914, 3.9999999999871854, 3.999999999990389, 3.9999999999927915, 3.9999999999945937, 3.9999999999959455, 3.999999999996959, 3.999999999997719, 3.9999999999982894, 3.999999999998717, 3.9999999999990377]\n"
     ]
    },
    {
     "data": {
      "text/plain": [
       "'buy'"
      ]
     },
     "execution_count": 142,
     "metadata": {},
     "output_type": "execute_result"
    }
   ],
   "source": [
    "mean_reversion(concave, shortMA=20, upper_threshold=1.0, lower_threshold=1.0)"
   ]
  },
  {
   "cell_type": "code",
   "execution_count": 140,
   "metadata": {
    "collapsed": true
   },
   "outputs": [],
   "source": [
    "def mean_reversion(prices, shortMA, upper_threshold, lower_threshold):\n",
    "    \"\"\"Depending on the stocks trend buy or sell\"\"\"\n",
    "    # identify trend based on linear regression\n",
    "    prices = prices[(len(prices)-shortMA):]\n",
    "    t = np.array(range(len(prices)))\n",
    "    A = np.vstack([t, np.ones(len(t))]).T\n",
    "    # estimate linear regression\n",
    "    m, c = np.linalg.lstsq(A, prices)[0]\n",
    "    trend = m*t + c\n",
    "    print(trend)\n",
    "    print(prices)\n",
    "    if trend[-1] / prices[-1] > upper_threshold:\n",
    "        return 'buy'\n",
    "    elif trend[-1] / prices[-1] < lower_threshold:\n",
    "        return 'sell'\n",
    "    else:\n",
    "        return 'hold'\n",
    "     \n",
    "#     stockPriceHistory = len(stock.price_history)\n",
    "#     if stockPriceHistory < shortMA+1:\n",
    "#         return None\n",
    "#     else:\n",
    "#         ma = sum(prices[-shortMA:]) / shortMA\n",
    "#         growth = ma - sum(prices[-shortMA-1:-1]) / shortMA\n",
    "#         predicted = ma + (shortMA/2+0.5)*growth\n",
    "#         if predicted > :\n",
    "#             return 'sell'\n",
    "#         else:\n",
    "#             return 'buy'\n"
   ]
  },
  {
   "cell_type": "markdown",
   "metadata": {},
   "source": [
    "# Momentum"
   ]
  },
  {
   "cell_type": "code",
   "execution_count": 31,
   "metadata": {
    "collapsed": true
   },
   "outputs": [],
   "source": [
    "shortMA = 20\n",
    "longMA = 200\n",
    "upperThreshold = 1.05\n",
    "lowerThreshold = 0.95"
   ]
  },
  {
   "cell_type": "code",
   "execution_count": 43,
   "metadata": {
    "collapsed": true
   },
   "outputs": [],
   "source": [
    "goingUp = prices[:400]"
   ]
  },
  {
   "cell_type": "code",
   "execution_count": 36,
   "metadata": {
    "collapsed": false
   },
   "outputs": [
    {
     "data": {
      "text/plain": [
       "1.0291439217930292"
      ]
     },
     "execution_count": 36,
     "metadata": {},
     "output_type": "execute_result"
    }
   ],
   "source": [
    "short_ma = sum(goingUp[-shortMA:]) / shortMA\n",
    "long_ma = sum(goingUp[-longMA:]) / longMA\n",
    "short_ma / long_ma"
   ]
  },
  {
   "cell_type": "code",
   "execution_count": 22,
   "metadata": {
    "collapsed": false
   },
   "outputs": [
    {
     "data": {
      "text/plain": [
       "0.94262754276735361"
      ]
     },
     "execution_count": 22,
     "metadata": {},
     "output_type": "execute_result"
    }
   ],
   "source": [
    "short_ma = sum(prices[-shortMA:]) / shortMA\n",
    "long_ma = sum(prices[-longMA:]) / longMA\n",
    "short_ma / long_ma"
   ]
  },
  {
   "cell_type": "code",
   "execution_count": 45,
   "metadata": {
    "collapsed": false
   },
   "outputs": [],
   "source": [
    "def momentum(prices, shortMA, longMA, upper_threshold, lower_threshold):\n",
    "    \"\"\"Depending on stocks momentum buy, sell or hold the stock\"\"\"\n",
    "    short_ma = sum(prices[-shortMA:]) / shortMA\n",
    "    long_ma = sum(prices[-longMA:]) / longMA\n",
    "    momentum = short_ma / long_ma\n",
    "    #print(momentum)\n",
    "    if momentum > upper_threshold:\n",
    "        return 'buy'\n",
    "    elif momentum < lower_threshold:\n",
    "        return 'sell'\n",
    "    else:\n",
    "        return 'hold'"
   ]
  },
  {
   "cell_type": "code",
   "execution_count": 44,
   "metadata": {
    "collapsed": false
   },
   "outputs": [
    {
     "name": "stdout",
     "output_type": "stream",
     "text": [
      "1.09301615279\n"
     ]
    },
    {
     "data": {
      "text/plain": [
       "'buy'"
      ]
     },
     "execution_count": 44,
     "metadata": {},
     "output_type": "execute_result"
    }
   ],
   "source": [
    "momentum(goingUp, shortMA, longMA, upperThreshold, lowerThreshold)"
   ]
  }
 ],
 "metadata": {
  "kernelspec": {
   "display_name": "Python [Root]",
   "language": "python",
   "name": "Python [Root]"
  },
  "language_info": {
   "codemirror_mode": {
    "name": "ipython",
    "version": 3
   },
   "file_extension": ".py",
   "mimetype": "text/x-python",
   "name": "python",
   "nbconvert_exporter": "python",
   "pygments_lexer": "ipython3",
   "version": "3.5.2"
  }
 },
 "nbformat": 4,
 "nbformat_minor": 0
}
