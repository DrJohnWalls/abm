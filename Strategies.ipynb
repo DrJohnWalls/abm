{
 "cells": [
  {
   "cell_type": "code",
   "execution_count": 1,
   "metadata": {
    "collapsed": true
   },
   "outputs": [],
   "source": [
    "%matplotlib inline\n",
    "import math\n",
    "import numpy as np\n",
    "import numpy.random as nrand\n",
    "import matplotlib.pyplot as plt\n",
    "from scipy.signal import savgol_filter"
   ]
  },
  {
   "cell_type": "markdown",
   "metadata": {},
   "source": [
    "# Simulation"
   ]
  },
  {
   "cell_type": "code",
   "execution_count": 2,
   "metadata": {
    "collapsed": true
   },
   "outputs": [],
   "source": [
    "from stockmarket import baselinemodel"
   ]
  },
  {
   "cell_type": "code",
   "execution_count": 4,
   "metadata": {
    "collapsed": false
   },
   "outputs": [],
   "source": [
    "#%prun baselinemodel.stockMarketSimulation(seed=0, simulation_time=10, amount_momentum=40, amount_mean_reversion=40, amount_firms=1,initial_money=(100, 200),initial_bid_ask=(1,1), initial_memory=(3,7),initial_ma_short=(2,3), initial_ma_long=(6,7),initial_profit=(200,200),initial_book_value=(10000, 10000),initial_stock_amount=400,order_expiration_time=120,init_propensity_to_switch=1.1,init_price_to_earnings_window=(6, 12),firm_profit_mu=0.058,firm_profit_delta=0.00396825396,firm_profit_sigma=0.125,printProgress=False)"
   ]
  },
  {
   "cell_type": "code",
   "execution_count": 5,
   "metadata": {
    "collapsed": true
   },
   "outputs": [],
   "source": [
    "agents, firms, stocks, order_books = baselinemodel.stockMarketSimulation(seed=0, simulation_time=100,\n",
    "                                                                         amount_momentum=40,\n",
    "                                                                         amount_mean_reversion=40, amount_firms=1,\n",
    "                                                                         initial_money=(100, 200),\n",
    "                                                                         initial_bid_ask=(1,1), initial_memory=(3,7),\n",
    "                                                                         initial_ma_short=(2,3), initial_ma_long=(6,7),\n",
    "                                                                         initial_profit=(200,200),\n",
    "                                                                         initial_book_value=(10000, 10000),\n",
    "                                                                         initial_stock_amount=400,\n",
    "                                                                         order_expiration_time=120,\n",
    "                                                                         init_propensity_to_switch=1.1,\n",
    "                                                                         init_price_to_earnings_window=(6, 12),\n",
    "                                                                         firm_profit_mu=0.058,\n",
    "                                                                         firm_profit_delta=0.00396825396,\n",
    "                                                                         firm_profit_sigma=0.125,\n",
    "                                                                         printProgress=False\n",
    "                                                                         )"
   ]
  },
  {
   "cell_type": "markdown",
   "metadata": {},
   "source": [
    "# Quick results"
   ]
  },
  {
   "cell_type": "markdown",
   "metadata": {},
   "source": [
    "## Firm profits"
   ]
  },
  {
   "cell_type": "code",
   "execution_count": 10,
   "metadata": {
    "collapsed": false
   },
   "outputs": [
    {
     "data": {
      "text/plain": [
       "<matplotlib.text.Text at 0x20ce0190898>"
      ]
     },
     "execution_count": 10,
     "metadata": {},
     "output_type": "execute_result"
    },
    {
     "data": {
      "image/png": "[encoded data removed]",
      "text/plain": [
       "<matplotlib.figure.Figure at 0x20cdfafdbe0>"
      ]
     },
     "metadata": {},
     "output_type": "display_data"
    }
   ],
   "source": [
    "profits = firms[0].profit_history\n",
    "\n",
    "fig, ax1 = plt.subplots(1, 1, figsize=(10,5))\n",
    "\n",
    "ax1.plot(range(len(profits)), profits)\n",
    "\n",
    "ax1.set_ylabel('Profits', fontsize='14')\n",
    "ax1.set_xlabel('(Simulation time)', fontsize='14')"
   ]
  },
  {
   "cell_type": "markdown",
   "metadata": {},
   "source": [
    "# Market Prices and Volume"
   ]
  },
  {
   "cell_type": "code",
   "execution_count": 12,
   "metadata": {
    "collapsed": false
   },
   "outputs": [
    {
     "data": {
      "text/plain": [
       "[]"
      ]
     },
     "execution_count": 12,
     "metadata": {},
     "output_type": "execute_result"
    }
   ],
   "source": [
    "prices = order_books[0].transaction_prices_history\n",
    "prices"
   ]
  },
  {
   "cell_type": "code",
   "execution_count": 14,
   "metadata": {
    "collapsed": false
   },
   "outputs": [],
   "source": [
    "volume = order_books[0].transaction_volumes_history\n",
    "#volume"
   ]
  },
  {
   "cell_type": "markdown",
   "metadata": {},
   "source": [
    "# Strategy switching"
   ]
  },
  {
   "cell_type": "code",
   "execution_count": 27,
   "metadata": {
    "collapsed": false
   },
   "outputs": [
    {
     "data": {
      "text/plain": [
       "0.5"
      ]
     },
     "execution_count": 27,
     "metadata": {},
     "output_type": "execute_result"
    }
   ],
   "source": [
    "\n",
    "#str(agents[0].function_history[0])\n",
    "percentageMomentum(0, agents)"
   ]
  },
  {
   "cell_type": "code",
   "execution_count": 26,
   "metadata": {
    "collapsed": true
   },
   "outputs": [],
   "source": [
    "def percentageMomentum(period, agents):\n",
    "    momentum = 0\n",
    "    queryString = 'momentum'\n",
    "    for agent in agents:\n",
    "        function = str(agent.function_history[period])\n",
    "        if queryString in function:\n",
    "            momentum += 1\n",
    "    return momentum / (len(agents))"
   ]
  },
  {
   "cell_type": "code",
   "execution_count": 29,
   "metadata": {
    "collapsed": false
   },
   "outputs": [],
   "source": [
    "percFund = []\n",
    "for period in range(100):\n",
    "    percFund.append(percentageMomentum(period, agents))"
   ]
  },
  {
   "cell_type": "code",
   "execution_count": 30,
   "metadata": {
    "collapsed": false
   },
   "outputs": [
    {
     "data": {
      "text/plain": [
       "<matplotlib.text.Text at 0x20ce02761d0>"
      ]
     },
     "execution_count": 30,
     "metadata": {},
     "output_type": "execute_result"
    },
    {
     "data": {
      "image/png": "[encoded data removed]",
      "text/plain": [
       "<matplotlib.figure.Figure at 0x20ce0258dd8>"
      ]
     },
     "metadata": {},
     "output_type": "display_data"
    }
   ],
   "source": [
    "fig, ax1 = plt.subplots(1, 1, figsize=(10,5))\n",
    "\n",
    "ax1.plot(range(len(percFund)), percFund)\n",
    "\n",
    "ax1.set_ylabel('Percentage momentum traders', fontsize='14')\n",
    "ax1.set_xlabel('(Simulation time)', fontsize='14')"
   ]
  },
  {
   "cell_type": "markdown",
   "metadata": {},
   "source": [
    "# Other stuff"
   ]
  },
  {
   "cell_type": "code",
   "execution_count": 3,
   "metadata": {
    "collapsed": true
   },
   "outputs": [],
   "source": [
    "# simulate geometric brownian motion\n",
    "def geometricBrownianPrice(previousPrice, delta, sigma, mu):\n",
    "    sqrt_delta_sigma = math.sqrt(delta) * sigma\n",
    "    brownian_motion = nrand.normal(loc=0, scale=sqrt_delta_sigma)\n",
    "    sigma_pow_mu_delta = (mu - 0.5 * math.pow(sigma, 2.0)) * delta\n",
    "    geometric_brownian_motion_log_return = brownian_motion + sigma_pow_mu_delta\n",
    "    retur = np.exp(geometric_brownian_motion_log_return)\n",
    "    nextPrice = previousPrice * retur\n",
    "    return nextPrice"
   ]
  },
  {
   "cell_type": "code",
   "execution_count": 4,
   "metadata": {
    "collapsed": true
   },
   "outputs": [],
   "source": [
    "delta = 0.00396825396\n",
    "sigma = 0.125\n",
    "mu = 0.058\n",
    "time = 999"
   ]
  },
  {
   "cell_type": "code",
   "execution_count": 5,
   "metadata": {
    "collapsed": false
   },
   "outputs": [],
   "source": [
    "prices = [100]\n",
    "for t in range(time):\n",
    "    prices.append(geometricBrownianPrice(prices[-1], delta, sigma, mu))"
   ]
  },
  {
   "cell_type": "code",
   "execution_count": 6,
   "metadata": {
    "collapsed": false
   },
   "outputs": [],
   "source": [
    "convex = [1]\n",
    "for t in range(100):\n",
    "    previous = convex[-1]\n",
    "    convex.append(previous * 2)\n"
   ]
  },
  {
   "cell_type": "code",
   "execution_count": 7,
   "metadata": {
    "collapsed": false
   },
   "outputs": [],
   "source": [
    "concave = [1]\n",
    "for t in range(100):\n",
    "    previous = concave[-1]\n",
    "    concave.append(concave[0] + previous * 0.75)\n",
    "#concave"
   ]
  },
  {
   "cell_type": "code",
   "execution_count": 8,
   "metadata": {
    "collapsed": false
   },
   "outputs": [],
   "source": [
    "smoothedPrices = savitzky_golay(np.array(prices),199,1)"
   ]
  },
  {
   "cell_type": "code",
   "execution_count": 9,
   "metadata": {
    "collapsed": false
   },
   "outputs": [
    {
     "data": {
      "text/plain": [
       "<matplotlib.text.Text at 0x106bba8>"
      ]
     },
     "execution_count": 9,
     "metadata": {},
     "output_type": "execute_result"
    },
    {
     "data": {
      "image/png": "[encoded data removed]",
      "text/plain": [
       "<matplotlib.figure.Figure at 0x7fea780>"
      ]
     },
     "metadata": {},
     "output_type": "display_data"
    }
   ],
   "source": [
    "fig, ax1 = plt.subplots(1, 1, figsize=(10,5))\n",
    "\n",
    "# ax1.plot(range(len(prices)), prices)\n",
    "# ax1.plot(range(len(prices)), smoothedPrices)\n",
    "ax1.plot(range(len(convex)), convex)\n",
    "\n",
    "ax1.set_xlabel('(Simulation time)', fontsize='14')"
   ]
  },
  {
   "cell_type": "markdown",
   "metadata": {},
   "source": [
    "# Momentum"
   ]
  },
  {
   "cell_type": "code",
   "execution_count": 16,
   "metadata": {
    "collapsed": true
   },
   "outputs": [],
   "source": [
    "shortMA = 20\n",
    "longMA = 200\n",
    "upperThreshold = 1.05\n",
    "lowerThreshold = 0.95"
   ]
  },
  {
   "cell_type": "code",
   "execution_count": 17,
   "metadata": {
    "collapsed": true
   },
   "outputs": [],
   "source": [
    "goingUp = prices[:400]"
   ]
  },
  {
   "cell_type": "code",
   "execution_count": 18,
   "metadata": {
    "collapsed": false
   },
   "outputs": [
    {
     "data": {
      "text/plain": [
       "1.0803195987941825"
      ]
     },
     "execution_count": 18,
     "metadata": {},
     "output_type": "execute_result"
    }
   ],
   "source": [
    "short_ma = sum(goingUp[-shortMA:]) / shortMA\n",
    "long_ma = sum(goingUp[-longMA:]) / longMA\n",
    "short_ma / long_ma"
   ]
  },
  {
   "cell_type": "code",
   "execution_count": 19,
   "metadata": {
    "collapsed": false
   },
   "outputs": [
    {
     "data": {
      "text/plain": [
       "0.99832930053493041"
      ]
     },
     "execution_count": 19,
     "metadata": {},
     "output_type": "execute_result"
    }
   ],
   "source": [
    "short_ma = sum(prices[-shortMA:]) / shortMA\n",
    "long_ma = sum(prices[-longMA:]) / longMA\n",
    "short_ma / long_ma"
   ]
  },
  {
   "cell_type": "code",
   "execution_count": 39,
   "metadata": {
    "collapsed": false
   },
   "outputs": [],
   "source": [
    "def momentum(prices, shortMA, longMA, upper_threshold, lower_threshold):\n",
    "    \"\"\"Depending on stocks momentum buy, sell or hold the stock\"\"\"\n",
    "    short_ma = sum(prices[(len(prices)-shortMA):]) / shortMA\n",
    "    long_ma = sum(prices[(len(prices)-longMA):]) / longMA\n",
    "    print('shortMA', short_ma)\n",
    "    print('longMA', long_ma)\n",
    "    momentum = short_ma / long_ma\n",
    "    print(momentum)\n",
    "    if momentum > upper_threshold:\n",
    "        return 'buy'\n",
    "    elif momentum < lower_threshold:\n",
    "        return 'sell'\n",
    "    else:\n",
    "        return 'hold'"
   ]
  },
  {
   "cell_type": "code",
   "execution_count": 41,
   "metadata": {
    "collapsed": false
   },
   "outputs": [
    {
     "name": "stdout",
     "output_type": "stream",
     "text": [
      "shortMA 3.999999999954633\n",
      "longMA 1.9462500000000147\n",
      "2.055234425153296\n"
     ]
    },
    {
     "data": {
      "text/plain": [
       "'buy'"
      ]
     },
     "execution_count": 41,
     "metadata": {},
     "output_type": "execute_result"
    }
   ],
   "source": [
    "momentum(concave, shortMA, 200, upperThreshold, lowerThreshold) "
   ]
  },
  {
   "cell_type": "code",
   "execution_count": 45,
   "metadata": {
    "collapsed": false
   },
   "outputs": [
    {
     "name": "stdout",
     "output_type": "stream",
     "text": [
      "shortMA 289.5\n",
      "longMA 199.5\n",
      "1.4511278195488722\n"
     ]
    },
    {
     "data": {
      "text/plain": [
       "'buy'"
      ]
     },
     "execution_count": 45,
     "metadata": {},
     "output_type": "execute_result"
    }
   ],
   "source": [
    "momentum(goingUp, shortMA, 200, upperThreshold, lowerThreshold) "
   ]
  },
  {
   "cell_type": "code",
   "execution_count": 46,
   "metadata": {
    "collapsed": false
   },
   "outputs": [
    {
     "data": {
      "text/plain": [
       "[299,\n",
       " 298,\n",
       " 297,\n",
       " 296,\n",
       " 295,\n",
       " 294,\n",
       " 293,\n",
       " 292,\n",
       " 291,\n",
       " 290,\n",
       " 289,\n",
       " 288,\n",
       " 287,\n",
       " 286,\n",
       " 285,\n",
       " 284,\n",
       " 283,\n",
       " 282,\n",
       " 281,\n",
       " 280,\n",
       " 279,\n",
       " 278,\n",
       " 277,\n",
       " 276,\n",
       " 275,\n",
       " 274,\n",
       " 273,\n",
       " 272,\n",
       " 271,\n",
       " 270,\n",
       " 269,\n",
       " 268,\n",
       " 267,\n",
       " 266,\n",
       " 265,\n",
       " 264,\n",
       " 263,\n",
       " 262,\n",
       " 261,\n",
       " 260,\n",
       " 259,\n",
       " 258,\n",
       " 257,\n",
       " 256,\n",
       " 255,\n",
       " 254,\n",
       " 253,\n",
       " 252,\n",
       " 251,\n",
       " 250,\n",
       " 249,\n",
       " 248,\n",
       " 247,\n",
       " 246,\n",
       " 245,\n",
       " 244,\n",
       " 243,\n",
       " 242,\n",
       " 241,\n",
       " 240,\n",
       " 239,\n",
       " 238,\n",
       " 237,\n",
       " 236,\n",
       " 235,\n",
       " 234,\n",
       " 233,\n",
       " 232,\n",
       " 231,\n",
       " 230,\n",
       " 229,\n",
       " 228,\n",
       " 227,\n",
       " 226,\n",
       " 225,\n",
       " 224,\n",
       " 223,\n",
       " 222,\n",
       " 221,\n",
       " 220,\n",
       " 219,\n",
       " 218,\n",
       " 217,\n",
       " 216,\n",
       " 215,\n",
       " 214,\n",
       " 213,\n",
       " 212,\n",
       " 211,\n",
       " 210,\n",
       " 209,\n",
       " 208,\n",
       " 207,\n",
       " 206,\n",
       " 205,\n",
       " 204,\n",
       " 203,\n",
       " 202,\n",
       " 201,\n",
       " 200,\n",
       " 199,\n",
       " 198,\n",
       " 197,\n",
       " 196,\n",
       " 195,\n",
       " 194,\n",
       " 193,\n",
       " 192,\n",
       " 191,\n",
       " 190,\n",
       " 189,\n",
       " 188,\n",
       " 187,\n",
       " 186,\n",
       " 185,\n",
       " 184,\n",
       " 183,\n",
       " 182,\n",
       " 181,\n",
       " 180,\n",
       " 179,\n",
       " 178,\n",
       " 177,\n",
       " 176,\n",
       " 175,\n",
       " 174,\n",
       " 173,\n",
       " 172,\n",
       " 171,\n",
       " 170,\n",
       " 169,\n",
       " 168,\n",
       " 167,\n",
       " 166,\n",
       " 165,\n",
       " 164,\n",
       " 163,\n",
       " 162,\n",
       " 161,\n",
       " 160,\n",
       " 159,\n",
       " 158,\n",
       " 157,\n",
       " 156,\n",
       " 155,\n",
       " 154,\n",
       " 153,\n",
       " 152,\n",
       " 151,\n",
       " 150,\n",
       " 149,\n",
       " 148,\n",
       " 147,\n",
       " 146,\n",
       " 145,\n",
       " 144,\n",
       " 143,\n",
       " 142,\n",
       " 141,\n",
       " 140,\n",
       " 139,\n",
       " 138,\n",
       " 137,\n",
       " 136,\n",
       " 135,\n",
       " 134,\n",
       " 133,\n",
       " 132,\n",
       " 131,\n",
       " 130,\n",
       " 129,\n",
       " 128,\n",
       " 127,\n",
       " 126,\n",
       " 125,\n",
       " 124,\n",
       " 123,\n",
       " 122,\n",
       " 121,\n",
       " 120,\n",
       " 119,\n",
       " 118,\n",
       " 117,\n",
       " 116,\n",
       " 115,\n",
       " 114,\n",
       " 113,\n",
       " 112,\n",
       " 111,\n",
       " 110,\n",
       " 109,\n",
       " 108,\n",
       " 107,\n",
       " 106,\n",
       " 105,\n",
       " 104,\n",
       " 103,\n",
       " 102,\n",
       " 101,\n",
       " 100,\n",
       " 99,\n",
       " 98,\n",
       " 97,\n",
       " 96,\n",
       " 95,\n",
       " 94,\n",
       " 93,\n",
       " 92,\n",
       " 91,\n",
       " 90,\n",
       " 89,\n",
       " 88,\n",
       " 87,\n",
       " 86,\n",
       " 85,\n",
       " 84,\n",
       " 83,\n",
       " 82,\n",
       " 81,\n",
       " 80,\n",
       " 79,\n",
       " 78,\n",
       " 77,\n",
       " 76,\n",
       " 75,\n",
       " 74,\n",
       " 73,\n",
       " 72,\n",
       " 71,\n",
       " 70,\n",
       " 69,\n",
       " 68,\n",
       " 67,\n",
       " 66,\n",
       " 65,\n",
       " 64,\n",
       " 63,\n",
       " 62,\n",
       " 61,\n",
       " 60,\n",
       " 59,\n",
       " 58,\n",
       " 57,\n",
       " 56,\n",
       " 55,\n",
       " 54,\n",
       " 53,\n",
       " 52,\n",
       " 51,\n",
       " 50,\n",
       " 49,\n",
       " 48,\n",
       " 47,\n",
       " 46,\n",
       " 45,\n",
       " 44,\n",
       " 43,\n",
       " 42,\n",
       " 41,\n",
       " 40,\n",
       " 39,\n",
       " 38,\n",
       " 37,\n",
       " 36,\n",
       " 35,\n",
       " 34,\n",
       " 33,\n",
       " 32,\n",
       " 31,\n",
       " 30,\n",
       " 29,\n",
       " 28,\n",
       " 27,\n",
       " 26,\n",
       " 25,\n",
       " 24,\n",
       " 23,\n",
       " 22,\n",
       " 21,\n",
       " 20,\n",
       " 19,\n",
       " 18,\n",
       " 17,\n",
       " 16,\n",
       " 15,\n",
       " 14,\n",
       " 13,\n",
       " 12,\n",
       " 11,\n",
       " 10,\n",
       " 9,\n",
       " 8,\n",
       " 7,\n",
       " 6,\n",
       " 5,\n",
       " 4,\n",
       " 3,\n",
       " 2,\n",
       " 1,\n",
       " 0]"
      ]
     },
     "execution_count": 46,
     "metadata": {},
     "output_type": "execute_result"
    }
   ],
   "source": [
    "goingUp = [x for x in range(300)]\n",
    "goingDown = [x for x in reversed(goingUp)]\n",
    "goingDown"
   ]
  },
  {
   "cell_type": "markdown",
   "metadata": {},
   "source": [
    "# Mean reversion"
   ]
  },
  {
   "cell_type": "code",
   "execution_count": 136,
   "metadata": {
    "collapsed": false
   },
   "outputs": [
    {
     "data": {
      "image/png": "[encoded data removed]",
      "text/plain": [
       "<matplotlib.figure.Figure at 0x2ad53da2240>"
      ]
     },
     "metadata": {},
     "output_type": "display_data"
    }
   ],
   "source": [
    "# identify trend in data \n",
    "x = np.array([0, 1, 2, 3])\n",
    "y = np.array([3.9, 3.93, 3.95, 3.96])\n",
    "A = np.vstack([x, np.ones(len(x))]).T\n",
    "m, c = np.linalg.lstsq(A, y)[0]\n",
    "plt.plot(x, y, 'o', label='Original data', markersize=10)\n",
    "plt.plot(x, m*x + c, 'r', label='Fitted line')\n",
    "plt.legend()\n",
    "plt.show()"
   ]
  },
  {
   "cell_type": "code",
   "execution_count": 22,
   "metadata": {
    "collapsed": false,
    "scrolled": true
   },
   "outputs": [
    {
     "name": "stdout",
     "output_type": "stream",
     "text": [
      "[  99.12107406   99.26436773   99.4076614    99.55095507   99.69424874\n",
      "   99.83754241   99.98083608  100.12412975  100.26742342  100.41071709\n",
      "  100.55401076  100.69730443  100.8405981   100.98389178  101.12718545\n",
      "  101.27047912  101.41377279  101.55706646  101.70036013  101.8436538 ]\n",
      "[97.303050448053398, 97.383282536989427, 98.29102090135693, 98.917122832780365, 99.701585627634515, 100.97765247716808, 100.29290813025608, 100.70288816845013, 101.92906353416394, 102.24568836697237, 101.1725786334252, 101.15635885226227, 101.59323447309595, 103.06107763851924, 102.97530141211099, 102.10544385655608, 101.57234136002741, 99.664360862799455, 99.283311248573085, 99.319007202611843]\n"
     ]
    },
    {
     "data": {
      "text/plain": [
       "'hold'"
      ]
     },
     "execution_count": 22,
     "metadata": {},
     "output_type": "execute_result"
    }
   ],
   "source": [
    "mean_reversion(prices, shortMA, upperThreshold, lowerThreshold)"
   ]
  },
  {
   "cell_type": "code",
   "execution_count": 43,
   "metadata": {
    "collapsed": false
   },
   "outputs": [
    {
     "name": "stdout",
     "output_type": "stream",
     "text": [
      "[ 4.  4.  4.  4.  4.  4.  4.  4.  4.  4.  4.  4.  4.  4.  4.  4.  4.  4.\n",
      "  4.  4.]\n",
      "[3.999999999772447, 3.999999999829335, 3.9999999998720015, 3.9999999999040012, 3.9999999999280007, 3.9999999999460005, 3.9999999999595004, 3.999999999969625, 3.999999999977219, 3.999999999982914, 3.9999999999871854, 3.999999999990389, 3.9999999999927915, 3.9999999999945937, 3.9999999999959455, 3.999999999996959, 3.999999999997719, 3.9999999999982894, 3.999999999998717, 3.9999999999990377]\n"
     ]
    },
    {
     "data": {
      "text/plain": [
       "'buy'"
      ]
     },
     "execution_count": 43,
     "metadata": {},
     "output_type": "execute_result"
    }
   ],
   "source": [
    "mean_reversion(concave, shortMA=20, upper_threshold=1.0, lower_threshold=1.0)"
   ]
  },
  {
   "cell_type": "code",
   "execution_count": 12,
   "metadata": {
    "collapsed": true
   },
   "outputs": [],
   "source": [
    "def mean_reversion(prices, shortMA, upper_threshold, lower_threshold):\n",
    "    \"\"\"Depending on the stocks trend buy or sell\"\"\"\n",
    "    # identify trend based on linear regression\n",
    "    prices = prices[(len(prices)-shortMA):]\n",
    "    t = np.array(range(len(prices)))\n",
    "    A = np.vstack([t, np.ones(len(t))]).T\n",
    "    # estimate linear regression\n",
    "    m, c = np.linalg.lstsq(A, prices)[0]\n",
    "    trend = m*t + c\n",
    "    print(trend)\n",
    "    print(prices)\n",
    "    if trend[-1] / prices[-1] > upper_threshold:\n",
    "        return 'buy'\n",
    "    elif trend[-1] / prices[-1] < lower_threshold:\n",
    "        return 'sell'\n",
    "    else:\n",
    "        return 'hold'\n",
    "     \n",
    "#     stockPriceHistory = len(stock.price_history)\n",
    "#     if stockPriceHistory < shortMA+1:\n",
    "#         return None\n",
    "#     else:\n",
    "#         ma = sum(prices[-shortMA:]) / shortMA\n",
    "#         growth = ma - sum(prices[-shortMA-1:-1]) / shortMA\n",
    "#         predicted = ma + (shortMA/2+0.5)*growth\n",
    "#         if predicted > :\n",
    "#             return 'sell'\n",
    "#         else:\n",
    "#             return 'buy'\n"
   ]
  }
 ],
 "metadata": {
  "anaconda-cloud": {},
  "kernelspec": {
   "display_name": "Python [Root]",
   "language": "python",
   "name": "Python [Root]"
  },
  "language_info": {
   "codemirror_mode": {
    "name": "ipython",
    "version": 3
   },
   "file_extension": ".py",
   "mimetype": "text/x-python",
   "name": "python",
   "nbconvert_exporter": "python",
   "pygments_lexer": "ipython3",
   "version": "3.5.2"
  }
 },
 "nbformat": 4,
 "nbformat_minor": 0
}
