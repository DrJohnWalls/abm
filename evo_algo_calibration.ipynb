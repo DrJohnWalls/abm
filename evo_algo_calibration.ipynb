{
 "cells": [
  {
   "cell_type": "code",
   "execution_count": 1,
   "metadata": {
    "collapsed": false
   },
   "outputs": [],
   "source": [
    "%matplotlib inline\n",
    "from pandas_datareader import data\n",
    "import pandas as pd\n",
    "from SALib.sample import latin\n",
    "from stockmarket.stylizedfacts import *\n",
    "from stockmarket.evolutionaryalgo import *"
   ]
  },
  {
   "cell_type": "markdown",
   "metadata": {},
   "source": [
    "# Evolutionary algorithm to calibrate model\n",
    "\n",
    "## 1 get data from S&P500"
   ]
  },
  {
   "cell_type": "code",
   "execution_count": 2,
   "metadata": {
    "collapsed": false
   },
   "outputs": [],
   "source": [
    "start_date = '2010-01-01'\n",
    "end_date = '2016-12-31'\n",
    "\n",
    "spy = data.DataReader(\"SPY\", \n",
    "                       start=start_date, \n",
    "                       end=end_date, \n",
    "                       data_source='google')['Close']\n",
    "spy_returns = spy.pct_change()[1:]\n",
    "\n",
    "spy_volume = data.DataReader(\"SPY\", \n",
    "                       start=start_date, \n",
    "                       end=end_date, \n",
    "                       data_source='google')['Volume']"
   ]
  },
  {
   "cell_type": "code",
   "execution_count": 3,
   "metadata": {
    "collapsed": false
   },
   "outputs": [
    {
     "data": {
      "text/html": [
       "<div>\n",
       "<style>\n",
       "    .dataframe thead tr:only-child th {\n",
       "        text-align: right;\n",
       "    }\n",
       "\n",
       "    .dataframe thead th {\n",
       "        text-align: left;\n",
       "    }\n",
       "\n",
       "    .dataframe tbody tr th {\n",
       "        vertical-align: top;\n",
       "    }\n",
       "</style>\n",
       "<table border=\"1\" class=\"dataframe\">\n",
       "  <thead>\n",
       "    <tr style=\"text-align: right;\">\n",
       "      <th></th>\n",
       "      <th>S&amp;P500</th>\n",
       "    </tr>\n",
       "  </thead>\n",
       "  <tbody>\n",
       "    <tr>\n",
       "      <th>autocorrelation</th>\n",
       "      <td>-0.006179</td>\n",
       "    </tr>\n",
       "    <tr>\n",
       "      <th>kurtosis</th>\n",
       "      <td>3.207222</td>\n",
       "    </tr>\n",
       "    <tr>\n",
       "      <th>autocorrelation_abs</th>\n",
       "      <td>-0.004352</td>\n",
       "    </tr>\n",
       "    <tr>\n",
       "      <th>hurst</th>\n",
       "      <td>0.408353</td>\n",
       "    </tr>\n",
       "    <tr>\n",
       "      <th>correlation_volume_volatility</th>\n",
       "      <td>0.244364</td>\n",
       "    </tr>\n",
       "  </tbody>\n",
       "</table>\n",
       "</div>"
      ],
      "text/plain": [
       "                                 S&P500\n",
       "autocorrelation               -0.006179\n",
       "kurtosis                       3.207222\n",
       "autocorrelation_abs           -0.004352\n",
       "hurst                          0.408353\n",
       "correlation_volume_volatility  0.244364"
      ]
     },
     "execution_count": 3,
     "metadata": {},
     "output_type": "execute_result"
    }
   ],
   "source": [
    "spy_autocorrelation = autocorrelation_returns(spy_returns, 25)\n",
    "spy_kurtosis = kurtosis(spy_returns)\n",
    "spy_autocorrelation_abs = autocorrelation_abs_returns(spy_returns, 25)\n",
    "spy_hurst = hurst(spy, lag1=2 , lag2=20)\n",
    "spy_cor_volu_vola = correlation_volume_volatility(spy_volume, spy_returns, window=10)\n",
    "stylized_facts_spy = [spy_autocorrelation, spy_kurtosis, spy_autocorrelation_abs, spy_hurst, spy_cor_volu_vola]\n",
    "\n",
    "pd.DataFrame(stylized_facts_spy, columns=['S&P500'], \n",
    "             index=['autocorrelation', 'kurtosis', 'autocorrelation_abs', 'hurst', 'correlation_volume_volatility'])"
   ]
  },
  {
   "cell_type": "markdown",
   "metadata": {},
   "source": [
    "## Define parameter space bounds \n",
    "\n",
    "We define the parameter bounds as follows. \n",
    "\n",
    "| Parameter | Values (start, stop, step) |\n",
    "| -------------| ------------|\n",
    "| share_chartists       | 0 - 1, 0.1      |\n",
    "| share_mean_reversion       | 0 - 1, 0.1   |\n",
    "| order_expiration_time       | 1000 - 10000, 1000      |\n",
    "| agent_order_price_variability       | 1 - 10, 1      |\n",
    "| agent_order_variability       | 0.1 - 5       |\n",
    "| agent_ma_short       | 5 - 100, 5      |\n",
    "| agent_ma_long       | 50 - 400, 50      |\n",
    "| agents_hold_thresholds       | 0.0005        |\n",
    "| Agent_volume_risk_aversion       | 0.1 - 1, 0.1      |\n",
    "| Agent_propensity_to_switch       | 0.1 - 2.2, 0.1      |\n",
    "| profit_announcement_working_days       | 5 - 50, 5       |\n",
    "| price_to_earnings_spread       | 5 - 50, 5       |\n",
    "| price_to_earnings_heterogeneity       | 5 - 50, 5       |"
   ]
  },
  {
   "cell_type": "code",
   "execution_count": 4,
   "metadata": {
    "collapsed": true
   },
   "outputs": [],
   "source": [
    "parameter_space = {'share_chartists':[0.0, 1.0], 'share_mean_reversion':[0.0, 1.0], 'order_expiration_time':[1000, 10000], \n",
    "                   'agent_order_price_variability':[1, 10], 'agent_order_variability':[0.1, 5.0], \n",
    "                   'agent_ma_short':[5, 100], 'agent_ma_long':[50, 400], 'agents_hold_thresholds':[0.00005,0.01],\n",
    "                   'agent_volume_risk_aversion':[0.1, 1.0], 'agent_propensity_to_switch':[0.1, 2.2], \n",
    "                   'profit_announcement_working_days':[5, 50], 'price_to_earnings_base':[10,20], \n",
    "                   'price_to_earnings_heterogeneity':[1.1,2.5], 'price_to_earnings_gap':[4,20],\n",
    "                   'longMA_heterogeneity':[1.1,1.8], 'shortMA_heterogeneity':[1.1,1.8], 'shortMA_memory_divider':[1, 10]}"
   ]
  },
  {
   "cell_type": "code",
   "execution_count": 5,
   "metadata": {
    "collapsed": true
   },
   "outputs": [],
   "source": [
    "problem = {\n",
    "  'num_vars': 17,\n",
    "  'names': ['share_chartists', 'share_mean_reversion', 'order_expiration_time', 'agent_order_price_variability', \n",
    "            'agent_order_variability', 'agent_ma_short', 'agent_ma_long', 'agents_hold_thresholds',\n",
    "           'agent_volume_risk_aversion', 'agent_propensity_to_switch', 'profit_announcement_working_days',\n",
    "           'price_to_earnings_base', 'price_to_earnings_heterogeneity', 'price_to_earnings_gap',\n",
    "           'longMA_heterogeneity', 'shortMA_heterogeneity', 'shortMA_memory_divider'],\n",
    "  'bounds': [[0.0, 1.0], [0.0, 1.0], [1000, 10000], [1, 10], \n",
    "             [0.1, 5.0], [5, 100], [50, 400], [0.00005,0.01], \n",
    "             [0.1, 1], [0.1, 2.2], [5, 50],\n",
    "             [10,20], [1.1,2.5], [4,20],\n",
    "             [1.1,1.8], [1.1,1.8], [1, 10]]\n",
    "}"
   ]
  },
  {
   "cell_type": "markdown",
   "metadata": {},
   "source": [
    "# Sample the parameter space using a latin hypercube"
   ]
  },
  {
   "cell_type": "code",
   "execution_count": 6,
   "metadata": {
    "collapsed": true
   },
   "outputs": [],
   "source": [
    "population_size = 8"
   ]
  },
  {
   "cell_type": "code",
   "execution_count": 7,
   "metadata": {
    "collapsed": false
   },
   "outputs": [],
   "source": [
    "latin_hyper_cube = latin.sample(problem=problem, N=population_size)\n",
    "latin_hyper_cube = latin_hyper_cube.tolist()"
   ]
  },
  {
   "cell_type": "code",
   "execution_count": 8,
   "metadata": {
    "collapsed": true
   },
   "outputs": [],
   "source": [
    "# transform some of the parameters to integer\n",
    "for idx, parameters in enumerate(latin_hyper_cube):\n",
    "    latin_hyper_cube[idx][2] = int(latin_hyper_cube[idx][2])\n",
    "    latin_hyper_cube[idx][3] = int(latin_hyper_cube[idx][3])\n",
    "    latin_hyper_cube[idx][4] = int(latin_hyper_cube[idx][4])\n",
    "    latin_hyper_cube[idx][5] = int(latin_hyper_cube[idx][5])\n",
    "    latin_hyper_cube[idx][6] = int(latin_hyper_cube[idx][6])\n",
    "    latin_hyper_cube[idx][10] = int(latin_hyper_cube[idx][10])\n",
    "    latin_hyper_cube[idx][11] = int(latin_hyper_cube[idx][11])\n",
    "    latin_hyper_cube[idx][13] = int(latin_hyper_cube[idx][13])\n",
    "    latin_hyper_cube[idx][16] = int(latin_hyper_cube[idx][16])"
   ]
  },
  {
   "cell_type": "markdown",
   "metadata": {},
   "source": [
    "# Run evolutionary algorithm"
   ]
  },
  {
   "cell_type": "code",
   "execution_count": 9,
   "metadata": {
    "collapsed": false
   },
   "outputs": [],
   "source": [
    "# create initial population\n",
    "population = []\n",
    "for parameters in latin_hyper_cube:\n",
    "    population.append(Individual(parameters, [], np.inf))\n",
    "all_populations = [population]\n",
    "av_pop_fitness = []"
   ]
  },
  {
   "cell_type": "code",
   "execution_count": 15,
   "metadata": {
    "collapsed": true
   },
   "outputs": [],
   "source": [
    "# fixed parameters\n",
    "iterations = 10\n",
    "SIMTIME = 200\n",
    "NRUNS = 3\n",
    "backward_simulated_time = 400\n",
    "initial_total_money = 26000\n",
    "init_profit = 1000\n",
    "init_discount_rate = 0.17\n",
    "number_of_agents = 500"
   ]
  },
  {
   "cell_type": "code",
   "execution_count": null,
   "metadata": {
    "collapsed": false
   },
   "outputs": [],
   "source": [
    "for i in range(iterations):\n",
    "    simulated_population, fitness = simulate_population(all_populations[i], number_of_runs=NRUNS, simulation_time=SIMTIME, \n",
    "                                                        number_of_agents=number_of_agents, init_tot_money=initial_total_money, \n",
    "                                                        init_profit=init_profit, \n",
    "                                                        init_discount_rate=init_discount_rate, \n",
    "                                                        stylized_facts_real_life=stylized_facts_spy)\n",
    "    av_pop_fitness.append(fitness)\n",
    "    all_populations.append(evolve_population(simulated_population, fittest_to_retain=0.2, random_to_retain=0.1, \n",
    "                                             parents_to_mutate=0.5, parameters_to_mutate=0.1, problem=problem))  "
   ]
  },
  {
   "cell_type": "markdown",
   "metadata": {},
   "source": [
    "## Test evol algo functions"
   ]
  },
  {
   "cell_type": "code",
   "execution_count": 34,
   "metadata": {
    "collapsed": true
   },
   "outputs": [],
   "source": [
    "from numpy.testing import assert_equal"
   ]
  },
  {
   "cell_type": "code",
   "execution_count": 29,
   "metadata": {
    "collapsed": false
   },
   "outputs": [
    {
     "data": {
      "text/plain": [
       "[-0.0089328273157846597,\n",
       " 3.1475637529140736,\n",
       " -0.0045471253694841741,\n",
       " 0.41186672718650114,\n",
       " 0.23939577042579768]"
      ]
     },
     "execution_count": 29,
     "metadata": {},
     "output_type": "execute_result"
    }
   ],
   "source": [
    "stylized_facts_spy"
   ]
  },
  {
   "cell_type": "code",
   "execution_count": 45,
   "metadata": {
    "collapsed": true
   },
   "outputs": [],
   "source": [
    "pop = [Individual([0.96,0.79,3603,3,4,44,262,0.007,0.31,1.36,46,19,1.3,16,1.5,1.45,2], [-0.008, 3.6, -0.004, 0.4, 0.2], 20)\n",
    " ,Individual([0.5,0.23,1603,2,1,64,282,0.004,0.52,1.12,55,21,1.6,18,1.1,1.12,3], [-0.008, 3.8, -0.004, 0.4, 0.2], 30)]"
   ]
  },
  {
   "cell_type": "code",
   "execution_count": 46,
   "metadata": {
    "collapsed": false
   },
   "outputs": [
    {
     "data": {
      "text/plain": [
       "0.002770083102493068"
      ]
     },
     "execution_count": 46,
     "metadata": {},
     "output_type": "execute_result"
    }
   ],
   "source": [
    "cost_function(pop[1].stylized_facts, pop[0].stylized_facts)"
   ]
  },
  {
   "cell_type": "code",
   "execution_count": 49,
   "metadata": {
    "collapsed": false
   },
   "outputs": [
    {
     "data": {
      "text/plain": [
       "[<stockmarket.evolutionaryalgo.Individual at 0x76f0d68>,\n",
       " <stockmarket.evolutionaryalgo.Individual at 0x76f0da0>]"
      ]
     },
     "execution_count": 49,
     "metadata": {},
     "output_type": "execute_result"
    }
   ],
   "source": [
    "evolve_population(population=pop, fittest_to_retain=1, random_to_retain=0, parents_to_mutate=1, parameters_to_mutate=0, problem=problem)"
   ]
  },
  {
   "cell_type": "code",
   "execution_count": null,
   "metadata": {
    "collapsed": true
   },
   "outputs": [],
   "source": []
  }
 ],
 "metadata": {
  "kernelspec": {
   "display_name": "Python 3",
   "language": "python",
   "name": "python3"
  },
  "language_info": {
   "codemirror_mode": {
    "name": "ipython",
    "version": 3
   },
   "file_extension": ".py",
   "mimetype": "text/x-python",
   "name": "python",
   "nbconvert_exporter": "python",
   "pygments_lexer": "ipython3",
   "version": "3.5.2"
  }
 },
 "nbformat": 4,
 "nbformat_minor": 0
}
