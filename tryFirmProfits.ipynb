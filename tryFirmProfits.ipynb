{
 "cells": [
  {
   "cell_type": "markdown",
   "metadata": {},
   "source": [
    "# Firm profits\n",
    "\n",
    "1. simulate firm profits \n",
    "2. collect stylized facts\n",
    "3. replicate stylized facts"
   ]
  },
  {
   "cell_type": "code",
   "execution_count": 36,
   "metadata": {
    "collapsed": true
   },
   "outputs": [],
   "source": [
    "%matplotlib inline\n",
    "from stockmarket.firms import Firm\n",
    "from numpy.testing import assert_equal\n",
    "from stockmarket import setup\n",
    "import matplotlib.pyplot as plt\n",
    "import math\n",
    "import numpy as np\n",
    "import random\n",
    "import decimal\n",
    "import scipy.linalg\n",
    "import numpy.random as nrand"
   ]
  },
  {
   "cell_type": "code",
   "execution_count": 5,
   "metadata": {
    "collapsed": true
   },
   "outputs": [],
   "source": [
    "time = 100\n",
    "brownian_delta = 0.25\n",
    "gbm_mu = 0.02\n",
    "brownian_sigma = 0.1\n",
    "mean_arr = 0.04\n",
    "drift_alpha = 0.02\n",
    "drift_mu = 0.03\n",
    "accountingRateOfReturn = [mean_arr]"
   ]
  },
  {
   "cell_type": "code",
   "execution_count": 26,
   "metadata": {
    "collapsed": false
   },
   "outputs": [
    {
     "name": "stdout",
     "output_type": "stream",
     "text": [
      "0.021841616049251576\n"
     ]
    }
   ],
   "source": [
    "# Bottazzi & Secchi  find a autoregressive coefficient of 0.0621 and standard error of 0.0140\n",
    "sqrt_delta_sigma = math.sqrt(brownian_delta) * brownian_sigma\n",
    "brownian_motion = nrand.normal(loc=0, scale=sqrt_delta_sigma)\n",
    "sigma_pow_mu_delta = (gbm_mu - 0.5 * math.pow(brownian_sigma, 2.0)) * brownian_delta\n",
    "print(nrand.normal(loc=0, scale=sqrt_delta_sigma) + sigma_pow_mu_delta)"
   ]
  },
  {
   "cell_type": "markdown",
   "metadata": {},
   "source": [
    "# Geometric brownian motion"
   ]
  },
  {
   "cell_type": "code",
   "execution_count": 44,
   "metadata": {
    "collapsed": true
   },
   "outputs": [],
   "source": [
    "initial_profit=1000\n",
    "all_r0=0.5\n",
    "all_time=800\n",
    "all_delta=0.00396825396\n",
    "all_sigma=0.125\n",
    "gbm_mu=0.058\n",
    "jumps_lamda=0.00125\n",
    "jumps_sigma=0.001\n",
    "jumps_mu=-0.2\n",
    "cir_a=3.0\n",
    "cir_mu=0.5\n",
    "cir_rho=0.5\n",
    "ou_a=3.0\n",
    "ou_mu=0.5\n",
    "heston_a=0.25\n",
    "heston_mu=0.35\n",
    "heston_vol0=0.06125"
   ]
  },
  {
   "cell_type": "code",
   "execution_count": 46,
   "metadata": {
    "collapsed": false
   },
   "outputs": [],
   "source": [
    "#geometric_brownian_motion_levels(mp)\n",
    "# first get brownian motion log_returns\n",
    "sqrt_delta_sigma = math.sqrt(all_delta) * all_sigma\n",
    "# store as wiener_process in array size of time\n",
    "wiener_process = np.array(nrand.normal(loc=0, scale=sqrt_delta_sigma, size=all_time))\n",
    "sigma_pow_mu_delta = (gbm_mu - 0.5 * math.pow(all_sigma, 2.0)) * all_delta\n",
    "geometric_brownian_motion_log_returns = wiener_process + sigma_pow_mu_delta\n",
    "#convert_to_prices(param, geometric_brownian_motion_log_returns(param))\n",
    "# convert to price\n",
    "# first convert from log_returns to actual returns \n",
    "returns = numpy.exp(geometric_brownian_motion_log_returns)\n",
    "\n",
    "# A sequence of prices starting with initial_profit\n",
    "price_sequence = [initial_profit]\n",
    "for i in range(1, len(returns)):\n",
    "    # Add the price at t-1 * return at t\n",
    "    price_sequence.append(price_sequence[i - 1] * returns[i - 1])\n",
    "profits = numpy.array(price_sequence)"
   ]
  },
  {
   "cell_type": "code",
   "execution_count": 79,
   "metadata": {
    "collapsed": true
   },
   "outputs": [],
   "source": [
    "def determine_profit(previous_profit, all_delta, all_sigma, all_time, gbm_mu):\n",
    "    \"\"\"Determines the next profit according to a geometric brownian motion\"\"\"\n",
    "    sqrt_delta_sigma = math.sqrt(all_delta) * all_sigma\n",
    "    brownian_motion = nrand.normal(loc=0, scale=sqrt_delta_sigma)\n",
    "    sigma_pow_mu_delta = (gbm_mu - 0.5 * math.pow(all_sigma, 2.0)) * all_delta\n",
    "    geometric_brownian_motion_log_return = brownian_motion + sigma_pow_mu_delta\n",
    "    retur = numpy.exp(geometric_brownian_motion_log_return)\n",
    "    nextProfit = previous_profit * retur\n",
    "    return nextProfit"
   ]
  },
  {
   "cell_type": "markdown",
   "metadata": {},
   "source": [
    "# Mean reverting stochastic process"
   ]
  },
  {
   "cell_type": "code",
   "execution_count": 4,
   "metadata": {
    "collapsed": true
   },
   "outputs": [],
   "source": [
    "def determine_arr(accountingRateOfReturn, brownian_delta, brownian_sigma, mean_arr, drift_alpha, drift_mu):\n",
    "    # random component through brownian motion\n",
    "    sqrt_delta_sigma = math.sqrt(brownian_delta) * brownian_sigma\n",
    "    brownian_motion = nrand.normal(loc=0, scale=sqrt_delta_sigma)\n",
    "    randomness = math.sqrt(accountingRateOfReturn[-1]) * brownian_motion\n",
    "    # drift component\n",
    "    drift = drift_alpha * (drift_mu * accountingRateOfReturn[-1]) * brownian_delta\n",
    "    return accountingRateOfReturn[-1] + drift + randomness"
   ]
  },
  {
   "cell_type": "code",
   "execution_count": 78,
   "metadata": {
    "collapsed": false
   },
   "outputs": [
    {
     "data": {
      "text/plain": [
       "0.04037454633575528"
      ]
     },
     "execution_count": 78,
     "metadata": {},
     "output_type": "execute_result"
    }
   ],
   "source": [
    "determine_arr(accountingRateOfReturn, brownian_delta, brownian_sigma, mean_arr, drift_alpha, drift_mu)"
   ]
  },
  {
   "cell_type": "code",
   "execution_count": 47,
   "metadata": {
    "collapsed": true
   },
   "outputs": [],
   "source": [
    "time = 100\n",
    "brownian_delta = 0.25\n",
    "brownian_sigma = 0.1\n",
    "mean_arr = 0.04\n",
    "drift_alpha = 0.02\n",
    "drift_mu = 0.03\n",
    "# brownian motion\n",
    "sqrt_delta_sigma = math.sqrt(brownian_delta) * brownian_sigma\n",
    "\n",
    "#brownian_motion = nrand.normal(loc=0, scale=sqrt_delta_sigma, size=time)\n"
   ]
  },
  {
   "cell_type": "code",
   "execution_count": 48,
   "metadata": {
    "collapsed": false
   },
   "outputs": [],
   "source": [
    "drift = drift_alpha * (drift_mu * accountingRateOfReturn[-1]) * brownian_delta"
   ]
  },
  {
   "cell_type": "code",
   "execution_count": 59,
   "metadata": {
    "collapsed": false
   },
   "outputs": [],
   "source": [
    "brownian_motion = nrand.normal(loc=0, scale=sqrt_delta_sigma)\n",
    "randomness = math.sqrt(levels[-1]) * brownian_motion\n",
    "levels.append(levels[-1] + drift + randomness)"
   ]
  },
  {
   "cell_type": "code",
   "execution_count": 38,
   "metadata": {
    "collapsed": true
   },
   "outputs": [],
   "source": [
    "all_sigma = 0.01\n",
    "all_delta = 0.02\n",
    "all_time = 20\n",
    "cir_a = 0.02\n",
    "cir_mu = 0.03\n",
    "all_r0 = 0.04"
   ]
  },
  {
   "cell_type": "code",
   "execution_count": 39,
   "metadata": {
    "collapsed": false
   },
   "outputs": [
    {
     "data": {
      "text/plain": [
       "[0.04,\n",
       " 0.039751944698012603,\n",
       " 0.040289386746978552,\n",
       " 0.040575014403011776,\n",
       " 0.04094099577069938,\n",
       " 0.040893534324746357,\n",
       " 0.041049439714314663,\n",
       " 0.040875293701094752,\n",
       " 0.040460799668036312,\n",
       " 0.040305486044891037,\n",
       " 0.040387373066812324,\n",
       " 0.040989618639186258,\n",
       " 0.040617627544139424,\n",
       " 0.04056330543707503,\n",
       " 0.040624975267276472,\n",
       " 0.041087956490280464,\n",
       " 0.040933924999277747,\n",
       " 0.04063485928178201,\n",
       " 0.0406224817058344,\n",
       " 0.040510896508947056]"
      ]
     },
     "execution_count": 39,
     "metadata": {},
     "output_type": "execute_result"
    }
   ],
   "source": [
    "#cox_ingersoll_ross_levels\n",
    "\n",
    "# set-up brownian motion\n",
    "sqrt_delta_sigma = math.sqrt(all_delta) * all_sigma\n",
    "brownian_motion = nrand.normal(loc=0, scale=sqrt_delta_sigma, size=all_time)\n",
    "levels = [all_r0]\n",
    "for i in range(1, all_time):\n",
    "    drift = cir_a * (cir_mu - levels[i-1]) * all_delta\n",
    "    # The main difference between this and the Ornstein Uhlenbeck model is that we multiply the 'random'\n",
    "    # component by the square-root of the previous level i.e. the process has level dependent interest rates.\n",
    "    randomness = math.sqrt(levels[i - 1]) * brownian_motion[i - 1]\n",
    "    levels.append(levels[i - 1] + drift + randomness)\n",
    "levels"
   ]
  },
  {
   "cell_type": "code",
   "execution_count": null,
   "metadata": {
    "collapsed": true
   },
   "outputs": [],
   "source": []
  },
  {
   "cell_type": "code",
   "execution_count": 7,
   "metadata": {
    "collapsed": false
   },
   "outputs": [],
   "source": [
    "firm = Firm(name=\"test\", book_value=10000, profits=[100], drift_alpha=0.02, drift_mu=0.03, brownian_delta=0.25,brownian_sigma=0.1, dividend_rate=1)\n",
    "firm.update_profits(0.0105)\n",
    "assert_equal([firm.profit, firm.profit_history], [105, [100, 105]])"
   ]
  },
  {
   "cell_type": "code",
   "execution_count": 19,
   "metadata": {
    "collapsed": false
   },
   "outputs": [],
   "source": [
    "firms = setup.setup_firms(init_book_value=(10000,10000),\n",
    "                              init_profit=(200,200),\n",
    "                              firm_drift_alpha=0.0109,\n",
    "                              firm_drift_mu=0.02,\n",
    "                              firm_profit_error_delta=0.25,\n",
    "                              firm_profit_error_sigma=0.1,\n",
    "                              amount_of_firms=1\n",
    "                              )"
   ]
  },
  {
   "cell_type": "code",
   "execution_count": 13,
   "metadata": {
    "collapsed": false
   },
   "outputs": [
    {
     "data": {
      "text/plain": [
       "0.006057789400138696"
      ]
     },
     "execution_count": 13,
     "metadata": {},
     "output_type": "execute_result"
    }
   ],
   "source": [
    "firms[0].determine_growth()"
   ]
  },
  {
   "cell_type": "code",
   "execution_count": 20,
   "metadata": {
    "collapsed": false
   },
   "outputs": [],
   "source": [
    "for t in range(time):\n",
    "    for f in firms:\n",
    "        growth = firm.determine_growth()\n",
    "        f.update_profits(growth)"
   ]
  },
  {
   "cell_type": "code",
   "execution_count": 18,
   "metadata": {
    "collapsed": false
   },
   "outputs": [],
   "source": [
    "time = 100"
   ]
  },
  {
   "cell_type": "code",
   "execution_count": 21,
   "metadata": {
    "collapsed": false
   },
   "outputs": [
    {
     "data": {
      "text/plain": [
       "<matplotlib.text.Text at 0x63cb438>"
      ]
     },
     "execution_count": 21,
     "metadata": {},
     "output_type": "execute_result"
    },
    {
     "data": {
      "image/png": "[encoded data removed]",
      "text/plain": [
       "<matplotlib.figure.Figure at 0x6047be0>"
      ]
     },
     "metadata": {},
     "output_type": "display_data"
    }
   ],
   "source": [
    "profits = firms[0].profit_history\n",
    "\n",
    "fig, ax1 = plt.subplots(1, 1, figsize=(10,5))\n",
    "\n",
    "ax1.plot(range(len(profits)), profits)\n",
    "\n",
    "ax1.set_xlabel('(Simulation time)', fontsize='14')"
   ]
  },
  {
   "cell_type": "code",
   "execution_count": null,
   "metadata": {
    "collapsed": true
   },
   "outputs": [],
   "source": []
  }
 ],
 "metadata": {
  "kernelspec": {
   "display_name": "Python 3",
   "language": "python",
   "name": "python3"
  },
  "language_info": {
   "codemirror_mode": {
    "name": "ipython",
    "version": 3
   },
   "file_extension": ".py",
   "mimetype": "text/x-python",
   "name": "python",
   "nbconvert_exporter": "python",
   "pygments_lexer": "ipython3",
   "version": "3.5.2"
  }
 },
 "nbformat": 4,
 "nbformat_minor": 0
}
