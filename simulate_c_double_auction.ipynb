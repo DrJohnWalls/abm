{
 "cells": [
  {
   "cell_type": "markdown",
   "metadata": {},
   "source": [
    "# Simulations\n",
    "In this iPython notebook, we run the double auction version of the model. "
   ]
  },
  {
   "cell_type": "code",
   "execution_count": 1,
   "metadata": {
    "collapsed": true
   },
   "outputs": [],
   "source": [
    "import pandas as pd\n",
    "import numpy as np\n",
    "from ipywidgets import widgets, interact\n",
    "from stockmarket import baselineCDA\n",
    "import sqlite3\n",
    "from tqdm import *"
   ]
  },
  {
   "cell_type": "code",
   "execution_count": 2,
   "metadata": {
    "collapsed": true
   },
   "outputs": [],
   "source": [
    "from stockmarket.database import create_tables"
   ]
  },
  {
   "cell_type": "code",
   "execution_count": 28,
   "metadata": {
    "collapsed": true
   },
   "outputs": [],
   "source": [
    "NRUNS = 1\n",
    "EXPERIMENT_ID = 1\n",
    "STARTING_PERIOD = 0\n",
    "SEED = 0\n",
    "SIMULATIONTIME = 100"
   ]
  },
  {
   "cell_type": "code",
   "execution_count": 4,
   "metadata": {
    "collapsed": true
   },
   "outputs": [],
   "source": [
    "conn = sqlite3.connect('dataBaseCDAuction.sqlite')\n",
    "cur = conn.cursor()"
   ]
  },
  {
   "cell_type": "code",
   "execution_count": 5,
   "metadata": {
    "collapsed": false
   },
   "outputs": [],
   "source": [
    "for seed in range(NRUNS):\n",
    "    agents, firms, stocks, order_books = baselineCDA.stockMarketSimulation(seed=seed, simulation_time=SIMULATIONTIME,\n",
    "                                                                           amount_fundamentalists=40, \n",
    "                                                                           amount_chartists=40, amount_firms=1,\n",
    "                                                                           initial_money=(100, 200), \n",
    "                                                                           initial_bid_ask=(1,1), \n",
    "                                                                           initial_memory=(3,7),\n",
    "                                                                           initial_ma_short=(1,3), \n",
    "                                                                           initial_ma_long=(6,7), \n",
    "                                                                           initial_profit=(200,200),\n",
    "                                                                           initial_book_value=(10000, 10000), \n",
    "                                                                           initial_stock_amount=400, \n",
    "                                                                           order_expiration_time=120\n",
    "                                                                          )\n",
    "#     Transactions.to_sql(\"Transactions{}\".format(seed), conn, if_exists=\"replace\")\n",
    "#     Transactors.to_sql(\"Transactors{}\".format(seed), conn, if_exists=\"replace\")\n",
    "#     Statevariables.to_sql(\"Statevariables{}\".format(seed), conn, if_exists=\"replace\")\n",
    "#     Variabletypes.to_sql(\"Variabletypes{}\".format(seed), conn, if_exists=\"replace\")\n",
    "#     Objects.to_sql(\"Objects{}\".format(seed), conn, if_exists=\"replace\")"
   ]
  },
  {
   "cell_type": "code",
   "execution_count": 49,
   "metadata": {
    "collapsed": false
   },
   "outputs": [],
   "source": [
    "create_tables(cur)"
   ]
  },
  {
   "cell_type": "code",
   "execution_count": 29,
   "metadata": {
    "collapsed": false
   },
   "outputs": [],
   "source": [
    "# add agents variables to the SQL database \n",
    "for agent in agents:\n",
    "    # 1 store the agent and type of agent in the objects table\n",
    "    cur.execute(\"INSERT OR IGNORE INTO Objects (object_name, object_type) VALUES (?,?)\", (repr(agent), repr(agent)[:repr(agent).find('_')]))\n",
    "    cur.execute(\"SELECT id FROM Objects WHERE object_name = ?\", (repr(agent),))\n",
    "    owner_id = cur.fetchone()[0]\n",
    "    # for the agent-variables\n",
    "    variables = vars(agent)\n",
    "    for variable in variables:\n",
    "        # store the variable type in the variable types table\n",
    "        cur.execute(\"INSERT OR IGNORE INTO Variabletypes (variable_type) VALUES (?)\", (str(variable), ))\n",
    "        cur.execute(\"SELECT id FROM Variabletypes WHERE variable_type = ?\", (str(variable),))\n",
    "        variable_type_id = cur.fetchone()[0]\n",
    "        # store the variable content in the state variables table \n",
    "        if not 'history' in str(variable):\n",
    "            cur.execute(\"INSERT INTO Statevariables (experiment_id, seed, period, variable_id, owner_id, value) VALUES (?,?,?,?,?,?)\",\n",
    "                        (EXPERIMENT_ID, SEED, STARTING_PERIOD, variable_type_id, owner_id, str(variables[variable])))\n",
    "        else:\n",
    "            if len(variables[variable]) > SIMULATIONTIME:\n",
    "                var = variables[variable][(len(variables[variable])-SIMULATIONTIME):]\n",
    "            else: \n",
    "                var = variables[variable]\n",
    "            for idx, element in enumerate(var):\n",
    "                cur.execute(\"INSERT INTO Statevariables (experiment_id, seed, period, variable_id, owner_id, value) VALUES (?,?,?,?,?,?)\",\n",
    "                            (EXPERIMENT_ID, SEED, idx, variable_type_id, owner_id, str(element)))"
   ]
  },
  {
   "cell_type": "code",
   "execution_count": 36,
   "metadata": {
    "collapsed": true
   },
   "outputs": [],
   "source": [
    "# add stock variables to the SQL database \n",
    "for stock in stocks:\n",
    "    # 1 store the stock and type of stock in the objects table\n",
    "    cur.execute(\"INSERT OR IGNORE INTO Objects (object_name, object_type) VALUES (?,?)\", (repr(stock), repr(stock)[:repr(stock).find('_')]))\n",
    "    cur.execute(\"SELECT id FROM Objects WHERE object_name = ?\", (repr(stock),))\n",
    "    owner_id = cur.fetchone()[0]\n",
    "    # for the stock-variables\n",
    "    variables = vars(stock)\n",
    "    for variable in variables:\n",
    "        # store the variable type in the variable types table\n",
    "        cur.execute(\"INSERT OR IGNORE INTO Variabletypes (variable_type) VALUES (?)\", (str(variable), ))\n",
    "        cur.execute(\"SELECT id FROM Variabletypes WHERE variable_type = ?\", (str(variable),))\n",
    "        variable_type_id = cur.fetchone()[0]\n",
    "        # store the variable content in the state variables table \n",
    "        if not 'history' in str(variable):\n",
    "            cur.execute(\"INSERT INTO Statevariables (experiment_id, seed, period, variable_id, owner_id, value) VALUES (?,?,?,?,?,?)\",\n",
    "                        (EXPERIMENT_ID, SEED, STARTING_PERIOD, variable_type_id, owner_id, str(variables[variable])))\n",
    "# do not append the price history from the stocks"
   ]
  },
  {
   "cell_type": "code",
   "execution_count": 50,
   "metadata": {
    "collapsed": true
   },
   "outputs": [],
   "source": [
    "for firm in firms:\n",
    "    # 1 store the firm and type of firm in the objects table\n",
    "    cur.execute(\"INSERT OR IGNORE INTO Objects (object_name, object_type) VALUES (?,?)\", (repr(firm), repr(firm)[:repr(firm).find('_')]))\n",
    "    cur.execute(\"SELECT id FROM Objects WHERE object_name = ?\", (repr(firm),))\n",
    "    owner_id = cur.fetchone()[0]\n",
    "    # for the firm-variables\n",
    "    variables = vars(firm)\n",
    "    for variable in variables:\n",
    "        # store the variable type in the variable types table\n",
    "        cur.execute(\"INSERT OR IGNORE INTO Variabletypes (variable_type) VALUES (?)\", (str(variable), ))\n",
    "        cur.execute(\"SELECT id FROM Variabletypes WHERE variable_type = ?\", (str(variable),))\n",
    "        variable_type_id = cur.fetchone()[0]\n",
    "        # store the variable content in the state variables table \n",
    "        if not 'history' in str(variable):\n",
    "            cur.execute(\"INSERT INTO Statevariables (experiment_id, seed, period, variable_id, owner_id, value) VALUES (?,?,?,?,?,?)\",\n",
    "                        (EXPERIMENT_ID, SEED, STARTING_PERIOD, variable_type_id, owner_id, str(variables[variable])))\n",
    "        else:\n",
    "            if len(variables[variable]) > SIMULATIONTIME:\n",
    "                var = variables[variable][(len(variables[variable])-SIMULATIONTIME):]\n",
    "            else: \n",
    "                var = variables[variable]\n",
    "            for idx, element in enumerate(var):\n",
    "                cur.execute(\"INSERT INTO Statevariables (experiment_id, seed, period, variable_id, owner_id, value) VALUES (?,?,?,?,?,?)\",\n",
    "                            (EXPERIMENT_ID, SEED, idx, variable_type_id, owner_id, str(element)))"
   ]
  },
  {
   "cell_type": "code",
   "execution_count": null,
   "metadata": {
    "collapsed": true
   },
   "outputs": [],
   "source": [
    "for book in order_books:\n",
    "    # 1 store the book and type of book in the objects table\n",
    "    cur.execute(\"INSERT OR IGNORE INTO Objects (object_name, object_type) VALUES (?,?)\", (repr(book), repr(book)[:repr(book).find('_')]))\n",
    "    cur.execute(\"SELECT id FROM Objects WHERE object_name = ?\", (repr(book),))\n",
    "    owner_id = cur.fetchone()[0]\n",
    "    # for the firm-variables\n",
    "    variables = vars(book)\n",
    "    for variable in variables:\n",
    "        # store the variable type in the variable types table\n",
    "        cur.execute(\"INSERT OR IGNORE INTO Variabletypes (variable_type) VALUES (?)\", (str(variable), ))\n",
    "        cur.execute(\"SELECT id FROM Variabletypes WHERE variable_type = ?\", (str(variable),))\n",
    "        variable_type_id = cur.fetchone()[0]\n",
    "        # store the variable content in the state variables table \n",
    "        if not 'history' in str(variable):\n",
    "            cur.execute(\"INSERT INTO Statevariables (experiment_id, seed, period, variable_id, owner_id, value) VALUES (?,?,?,?,?,?)\",\n",
    "                        (EXPERIMENT_ID, SEED, STARTING_PERIOD, variable_type_id, owner_id, str(variables[variable])))\n",
    "        else:\n",
    "            if len(variables[variable]) > SIMULATIONTIME:\n",
    "                var = variables[variable][(len(variables[variable])-SIMULATIONTIME):]\n",
    "            else: \n",
    "                var = variables[variable]\n",
    "            for idx, element in enumerate(var):\n",
    "                cur.execute(\"INSERT INTO Statevariables (experiment_id, seed, period, variable_id, owner_id, value) VALUES (?,?,?,?,?,?)\",\n",
    "                            (EXPERIMENT_ID, SEED, idx, variable_type_id, owner_id, str(element)))"
   ]
  },
  {
   "cell_type": "code",
   "execution_count": 51,
   "metadata": {
    "collapsed": true
   },
   "outputs": [],
   "source": [
    "conn.commit()"
   ]
  },
  {
   "cell_type": "code",
   "execution_count": 43,
   "metadata": {
    "collapsed": false
   },
   "outputs": [
    {
     "data": {
      "text/plain": [
       "7"
      ]
     },
     "execution_count": 43,
     "metadata": {},
     "output_type": "execute_result"
    }
   ],
   "source": [
    "len(vars(firms[0])['profit_history'])-SIMULATIONTIME"
   ]
  },
  {
   "cell_type": "code",
   "execution_count": 35,
   "metadata": {
    "collapsed": false
   },
   "outputs": [
    {
     "data": {
      "text/plain": [
       "3130"
      ]
     },
     "execution_count": 35,
     "metadata": {},
     "output_type": "execute_result"
    }
   ],
   "source": [
    "len(vars(firms[0])['price_history'])"
   ]
  },
  {
   "cell_type": "code",
   "execution_count": 12,
   "metadata": {
    "collapsed": true
   },
   "outputs": [],
   "source": [
    "conn.commit()\n",
    "cur.close()"
   ]
  }
 ],
 "metadata": {
  "kernelspec": {
   "display_name": "Python 3",
   "language": "python",
   "name": "python3"
  },
  "language_info": {
   "codemirror_mode": {
    "name": "ipython",
    "version": 3
   },
   "file_extension": ".py",
   "mimetype": "text/x-python",
   "name": "python",
   "nbconvert_exporter": "python",
   "pygments_lexer": "ipython3",
   "version": "3.5.2"
  }
 },
 "nbformat": 4,
 "nbformat_minor": 0
}
