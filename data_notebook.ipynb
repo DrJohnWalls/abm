{
 "cells": [
  {
   "cell_type": "markdown",
   "metadata": {},
   "source": [
    "# Data analysis\n",
    "In this iPython notebook, we analyse the data produced by the basic stock market model"
   ]
  },
  {
   "cell_type": "code",
   "execution_count": 1,
   "metadata": {
    "collapsed": true
   },
   "outputs": [],
   "source": [
    "%matplotlib inline\n",
    "import sqlite3\n",
    "import pandas as pd\n",
    "import numpy as np\n",
    "import matplotlib.pyplot as plt\n",
    "from matplotlib import style\n",
    "import ast\n",
    "style.use('seaborn-darkgrid')"
   ]
  },
  {
   "cell_type": "markdown",
   "metadata": {},
   "source": [
    "First, I open a connection to the database"
   ]
  },
  {
   "cell_type": "code",
   "execution_count": 4,
   "metadata": {
    "collapsed": false
   },
   "outputs": [
    {
     "name": "stdout",
     "output_type": "stream",
     "text": [
      "C:\\Users\\joerischasfoort\\Documents\\GitHub\\abm\\stockmarket\n"
     ]
    }
   ],
   "source": [
    "%cd C:/Users/joerischasfoort/Documents/GitHub/abm/stockmarket"
   ]
  },
  {
   "cell_type": "code",
   "execution_count": 5,
   "metadata": {
    "collapsed": true
   },
   "outputs": [],
   "source": [
    "conn = sqlite3.connect('dataBaseOffline.sqlite')\n",
    "cur = conn.cursor()"
   ]
  },
  {
   "cell_type": "markdown",
   "metadata": {},
   "source": [
    "## 1 State variables \n",
    "Using the Statevariables, Variabletypes and Objects tables, I then analyse the state variables of the simulated objects: stocks, firms, and traders. \n",
    "### 1.1 Stocks \n",
    "The state variables of stocks are: \n",
    "* the firm the stock links to,\n",
    "* the face value,\n",
    "* the amount of stocks outstanding. \n",
    "\n",
    "In this version of the model these variables are static. "
   ]
  },
  {
   "cell_type": "code",
   "execution_count": 21,
   "metadata": {
    "collapsed": false
   },
   "outputs": [],
   "source": [
    "stockVariables = pd.read_sql_query(\n",
    "    \"\"\"\n",
    "    SELECT Statevariables.period, Variabletypes.variable_type, Objects.object_name, Objects.object_type ,Statevariables.value \n",
    "    FROM Statevariables JOIN Variabletypes JOIN Objects ON Statevariables.variable_id = Variabletypes.id and Statevariables.owner_id = Objects.id \n",
    "    WHERE Objects.object_type = 'stock'\n",
    "    \"\"\", conn)"
   ]
  },
  {
   "cell_type": "code",
   "execution_count": 22,
   "metadata": {
    "collapsed": false
   },
   "outputs": [
    {
     "data": {
      "text/html": [
       "<div>\n",
       "<table border=\"1\" class=\"dataframe\">\n",
       "  <thead>\n",
       "    <tr style=\"text-align: right;\">\n",
       "      <th></th>\n",
       "      <th>period</th>\n",
       "      <th>variable_type</th>\n",
       "      <th>object_name</th>\n",
       "      <th>object_type</th>\n",
       "      <th>value</th>\n",
       "    </tr>\n",
       "  </thead>\n",
       "  <tbody>\n",
       "    <tr>\n",
       "      <th>0</th>\n",
       "      <td>0</td>\n",
       "      <td>face_value</td>\n",
       "      <td>stock_0</td>\n",
       "      <td>stock</td>\n",
       "      <td>50</td>\n",
       "    </tr>\n",
       "    <tr>\n",
       "      <th>1</th>\n",
       "      <td>0</td>\n",
       "      <td>firm</td>\n",
       "      <td>stock_0</td>\n",
       "      <td>stock</td>\n",
       "      <td>0</td>\n",
       "    </tr>\n",
       "    <tr>\n",
       "      <th>2</th>\n",
       "      <td>0</td>\n",
       "      <td>price_history</td>\n",
       "      <td>stock_0</td>\n",
       "      <td>stock</td>\n",
       "      <td>[]</td>\n",
       "    </tr>\n",
       "    <tr>\n",
       "      <th>3</th>\n",
       "      <td>0</td>\n",
       "      <td>amount</td>\n",
       "      <td>stock_0</td>\n",
       "      <td>stock</td>\n",
       "      <td>200</td>\n",
       "    </tr>\n",
       "    <tr>\n",
       "      <th>4</th>\n",
       "      <td>0</td>\n",
       "      <td>name</td>\n",
       "      <td>stock_0</td>\n",
       "      <td>stock</td>\n",
       "      <td>0</td>\n",
       "    </tr>\n",
       "  </tbody>\n",
       "</table>\n",
       "</div>"
      ],
      "text/plain": [
       "   period  variable_type object_name object_type value\n",
       "0       0     face_value     stock_0       stock    50\n",
       "1       0           firm     stock_0       stock     0\n",
       "2       0  price_history     stock_0       stock    []\n",
       "3       0         amount     stock_0       stock   200\n",
       "4       0           name     stock_0       stock     0"
      ]
     },
     "execution_count": 22,
     "metadata": {},
     "output_type": "execute_result"
    }
   ],
   "source": [
    "stockVariables.head()"
   ]
  },
  {
   "cell_type": "code",
   "execution_count": 23,
   "metadata": {
    "collapsed": true
   },
   "outputs": [],
   "source": [
    "stock_0 = stockVariables.query('variable_type == \"amount\" and object_name == \"stock_0\"')['value']\n",
    "stock_1 = stockVariables.query('variable_type == \"amount\" and object_name == \"stock_1\"')['value']\n",
    "stock_2 = stockVariables.query('variable_type == \"amount\" and object_name == \"stock_2\"')['value']\n",
    "stock_3 = stockVariables.query('variable_type == \"amount\" and object_name == \"stock_3\"')['value']\n",
    "time = stockVariables.query('variable_type == \"amount\" and object_name == \"stock_0\"')['period']"
   ]
  },
  {
   "cell_type": "code",
   "execution_count": 24,
   "metadata": {
    "collapsed": true
   },
   "outputs": [],
   "source": [
    "face_value_0 = stockVariables.query('variable_type == \"face_value\" and object_name == \"stock_0\"')['value']\n",
    "face_value_1 = stockVariables.query('variable_type == \"face_value\" and object_name == \"stock_1\"')['value']\n",
    "face_value_2 = stockVariables.query('variable_type == \"face_value\" and object_name == \"stock_2\"')['value']\n",
    "face_value_3 = stockVariables.query('variable_type == \"face_value\" and object_name == \"stock_3\"')['value']"
   ]
  },
  {
   "cell_type": "code",
   "execution_count": 25,
   "metadata": {
    "collapsed": false
   },
   "outputs": [
    {
     "data": {
      "text/plain": [
       "<matplotlib.legend.Legend at 0x17c7b2778d0>"
      ]
     },
     "execution_count": 25,
     "metadata": {},
     "output_type": "execute_result"
    },
    {
     "data": {
      "image/png": "[encoded data removed]",
      "text/plain": [
       "<matplotlib.figure.Figure at 0x17c7b519710>"
      ]
     },
     "metadata": {},
     "output_type": "display_data"
    }
   ],
   "source": [
    "fig = plt.figure(figsize=(10,5))\n",
    "ax1 = fig.add_subplot(121)\n",
    "ax2 = fig.add_subplot(122)\n",
    "\n",
    "ax1.plot(time, stock_0, label='stock_0')\n",
    "ax1.plot(time, stock_1, label='stock_1')\n",
    "ax1.plot(time, stock_2, label='stock_2')\n",
    "ax1.plot(time, stock_3, label='stock_3')\n",
    "\n",
    "ax2.plot(time, face_value_0, label='stock_0')\n",
    "ax2.plot(time, face_value_1, label='stock_1')\n",
    "ax2.plot(time, face_value_2, label='stock_2')\n",
    "ax2.plot(time, face_value_3, label='stock_3')\n",
    "\n",
    "ax1.set_xlabel('(Simulation time)', fontsize='14')\n",
    "ax2.set_xlabel('(Simulation time)', fontsize='14')\n",
    "ax1.set_ylabel('amount_of stocks outstanding', fontsize='14')\n",
    "ax2.set_ylabel('stock facevalue', fontsize='14')\n",
    "\n",
    "plt.legend(loc=2, fontsize='14')"
   ]
  },
  {
   "cell_type": "markdown",
   "metadata": {},
   "source": [
    "### 1.2 Firms \n",
    "The state variables of firms are: \n",
    "* profit\n",
    "* Bookvalue,\n",
    "* Dividend rate."
   ]
  },
  {
   "cell_type": "code",
   "execution_count": 26,
   "metadata": {
    "collapsed": true
   },
   "outputs": [],
   "source": [
    "firmVariables = pd.read_sql_query(\n",
    "    \"\"\"\n",
    "    SELECT Statevariables.period, Variabletypes.variable_type, Objects.object_name, Objects.object_type, Statevariables.value \n",
    "    FROM Statevariables JOIN Variabletypes JOIN Objects \n",
    "    ON Statevariables.variable_id = Variabletypes.id and Statevariables.owner_id = Objects.id \n",
    "    WHERE Objects.object_type = 'firm'\n",
    "    \"\"\", conn)"
   ]
  },
  {
   "cell_type": "code",
   "execution_count": 27,
   "metadata": {
    "collapsed": false
   },
   "outputs": [
    {
     "data": {
      "text/html": [
       "<div>\n",
       "<table border=\"1\" class=\"dataframe\">\n",
       "  <thead>\n",
       "    <tr style=\"text-align: right;\">\n",
       "      <th></th>\n",
       "      <th>period</th>\n",
       "      <th>variable_type</th>\n",
       "      <th>object_name</th>\n",
       "      <th>object_type</th>\n",
       "      <th>value</th>\n",
       "    </tr>\n",
       "  </thead>\n",
       "  <tbody>\n",
       "    <tr>\n",
       "      <th>0</th>\n",
       "      <td>0</td>\n",
       "      <td>profit</td>\n",
       "      <td>firm_0</td>\n",
       "      <td>firm</td>\n",
       "      <td>202</td>\n",
       "    </tr>\n",
       "    <tr>\n",
       "      <th>1</th>\n",
       "      <td>0</td>\n",
       "      <td>profit_history</td>\n",
       "      <td>firm_0</td>\n",
       "      <td>firm</td>\n",
       "      <td>[200, 208, 197, 193, 202]</td>\n",
       "    </tr>\n",
       "    <tr>\n",
       "      <th>2</th>\n",
       "      <td>0</td>\n",
       "      <td>dividend_rate</td>\n",
       "      <td>firm_0</td>\n",
       "      <td>firm</td>\n",
       "      <td>1</td>\n",
       "    </tr>\n",
       "    <tr>\n",
       "      <th>3</th>\n",
       "      <td>0</td>\n",
       "      <td>book_value</td>\n",
       "      <td>firm_0</td>\n",
       "      <td>firm</td>\n",
       "      <td>10000</td>\n",
       "    </tr>\n",
       "    <tr>\n",
       "      <th>4</th>\n",
       "      <td>0</td>\n",
       "      <td>name</td>\n",
       "      <td>firm_0</td>\n",
       "      <td>firm</td>\n",
       "      <td>0</td>\n",
       "    </tr>\n",
       "  </tbody>\n",
       "</table>\n",
       "</div>"
      ],
      "text/plain": [
       "   period   variable_type object_name object_type                      value\n",
       "0       0          profit      firm_0        firm                        202\n",
       "1       0  profit_history      firm_0        firm  [200, 208, 197, 193, 202]\n",
       "2       0   dividend_rate      firm_0        firm                          1\n",
       "3       0      book_value      firm_0        firm                      10000\n",
       "4       0            name      firm_0        firm                          0"
      ]
     },
     "execution_count": 27,
     "metadata": {},
     "output_type": "execute_result"
    }
   ],
   "source": [
    "firmVariables.head()"
   ]
  },
  {
   "cell_type": "code",
   "execution_count": 28,
   "metadata": {
    "collapsed": true
   },
   "outputs": [],
   "source": [
    "firm_0 = firmVariables.query('variable_type == \"profit\" and object_name == \"firm_0\"')['value']\n",
    "firm_1 = firmVariables.query('variable_type == \"profit\" and object_name == \"firm_1\"')['value']\n",
    "firm_2 = firmVariables.query('variable_type == \"profit\" and object_name == \"firm_2\"')['value']\n",
    "firm_3 = firmVariables.query('variable_type == \"profit\" and object_name == \"firm_3\"')['value']\n",
    "f_time = firmVariables.query('variable_type == \"profit\" and object_name == \"firm_0\"')['period']"
   ]
  },
  {
   "cell_type": "code",
   "execution_count": 29,
   "metadata": {
    "collapsed": false
   },
   "outputs": [
    {
     "data": {
      "text/plain": [
       "<matplotlib.legend.Legend at 0x17c7b6ab438>"
      ]
     },
     "execution_count": 29,
     "metadata": {},
     "output_type": "execute_result"
    },
    {
     "data": {
      "image/png": "[encoded data removed]",
      "text/plain": [
       "<matplotlib.figure.Figure at 0x17c7b65b908>"
      ]
     },
     "metadata": {},
     "output_type": "display_data"
    }
   ],
   "source": [
    "fig = plt.figure(figsize=(10,5))\n",
    "ax1 = fig.add_subplot(111)\n",
    "\n",
    "ax1.plot(f_time, firm_0, label='firm_0')\n",
    "ax1.plot(f_time, firm_1, label='firm_1')\n",
    "ax1.plot(f_time, firm_2, label='firm_2')\n",
    "ax1.plot(f_time, firm_3, label='firm_3')\n",
    "\n",
    "ax1.set_xlabel('(Simulation time)', fontsize='14')\n",
    "ax1.set_ylabel('Profit', fontsize='18')\n",
    "\n",
    "plt.legend(loc='best', fontsize='14')"
   ]
  },
  {
   "cell_type": "markdown",
   "metadata": {},
   "source": [
    "### 1.3 Traders"
   ]
  },
  {
   "cell_type": "markdown",
   "metadata": {},
   "source": [
    "In this section, we examine the state variables of traders. These are: \n",
    "* Money\n",
    "* Portfolio of stocks: *The type and amount of that stock agent holds*\n",
    "* Bid-ask spread: *the percentage difference between the amount at which an agent is willing to buy and sell a stock.*\n",
    "* Memory size: *the amount of periods an agent remembers stock prices*"
   ]
  },
  {
   "cell_type": "code",
   "execution_count": 30,
   "metadata": {
    "collapsed": true
   },
   "outputs": [],
   "source": [
    "traderVariables = pd.read_sql_query(\n",
    "    \"\"\"\n",
    "    SELECT Statevariables.period, Variabletypes.variable_type, Objects.object_name, Objects.object_type, Statevariables.value \n",
    "    FROM Statevariables JOIN Variabletypes JOIN Objects \n",
    "    ON Statevariables.variable_id = Variabletypes.id and Statevariables.owner_id = Objects.id \n",
    "    WHERE Objects.object_type = 'trader'\n",
    "    \"\"\", conn)"
   ]
  },
  {
   "cell_type": "code",
   "execution_count": 31,
   "metadata": {
    "collapsed": false
   },
   "outputs": [
    {
     "data": {
      "text/plain": [
       "array(['trader_0', 'trader_1', 'trader_2', 'trader_3', 'trader_4',\n",
       "       'trader_5', 'trader_6', 'trader_7', 'trader_8', 'trader_9',\n",
       "       'trader_10', 'trader_11', 'trader_12', 'trader_13', 'trader_14',\n",
       "       'trader_15', 'trader_16', 'trader_17', 'trader_18', 'trader_19'], dtype=object)"
      ]
     },
     "execution_count": 31,
     "metadata": {},
     "output_type": "execute_result"
    }
   ],
   "source": [
    "traderVariables['object_name'].unique()"
   ]
  },
  {
   "cell_type": "code",
   "execution_count": 32,
   "metadata": {
    "collapsed": false
   },
   "outputs": [
    {
     "data": {
      "text/html": [
       "<div>\n",
       "<table border=\"1\" class=\"dataframe\">\n",
       "  <thead>\n",
       "    <tr style=\"text-align: right;\">\n",
       "      <th></th>\n",
       "      <th>period</th>\n",
       "      <th>variable_type</th>\n",
       "      <th>object_name</th>\n",
       "      <th>object_type</th>\n",
       "      <th>value</th>\n",
       "    </tr>\n",
       "  </thead>\n",
       "  <tbody>\n",
       "    <tr>\n",
       "      <th>0</th>\n",
       "      <td>0</td>\n",
       "      <td>money</td>\n",
       "      <td>trader_0</td>\n",
       "      <td>trader</td>\n",
       "      <td>117</td>\n",
       "    </tr>\n",
       "    <tr>\n",
       "      <th>1</th>\n",
       "      <td>0</td>\n",
       "      <td>stocks</td>\n",
       "      <td>trader_0</td>\n",
       "      <td>trader</td>\n",
       "      <td>{stock_0: 10, stock_3: 10, stock_1: 10, stock_...</td>\n",
       "    </tr>\n",
       "    <tr>\n",
       "      <th>2</th>\n",
       "      <td>0</td>\n",
       "      <td>bid_ask_spread</td>\n",
       "      <td>trader_0</td>\n",
       "      <td>trader</td>\n",
       "      <td>5</td>\n",
       "    </tr>\n",
       "    <tr>\n",
       "      <th>3</th>\n",
       "      <td>0</td>\n",
       "      <td>memory_size</td>\n",
       "      <td>trader_0</td>\n",
       "      <td>trader</td>\n",
       "      <td>3</td>\n",
       "    </tr>\n",
       "    <tr>\n",
       "      <th>4</th>\n",
       "      <td>0</td>\n",
       "      <td>function</td>\n",
       "      <td>trader_0</td>\n",
       "      <td>trader</td>\n",
       "      <td>&lt;function extrapolate_average_profit at 0x0000...</td>\n",
       "    </tr>\n",
       "  </tbody>\n",
       "</table>\n",
       "</div>"
      ],
      "text/plain": [
       "   period   variable_type object_name object_type  \\\n",
       "0       0           money    trader_0      trader   \n",
       "1       0          stocks    trader_0      trader   \n",
       "2       0  bid_ask_spread    trader_0      trader   \n",
       "3       0     memory_size    trader_0      trader   \n",
       "4       0        function    trader_0      trader   \n",
       "\n",
       "                                               value  \n",
       "0                                                117  \n",
       "1  {stock_0: 10, stock_3: 10, stock_1: 10, stock_...  \n",
       "2                                                  5  \n",
       "3                                                  3  \n",
       "4  <function extrapolate_average_profit at 0x0000...  "
      ]
     },
     "execution_count": 32,
     "metadata": {},
     "output_type": "execute_result"
    }
   ],
   "source": [
    "traderVariables.head()"
   ]
  },
  {
   "cell_type": "code",
   "execution_count": 33,
   "metadata": {
    "collapsed": true
   },
   "outputs": [],
   "source": [
    "#trader_0 = traderVariables.query('variable_type == \"money\" and object_name == \"trader_0\"')['value']\n",
    "t_time = traderVariables.query('variable_type == \"money\" and object_name == \"trader_0\"')['period']"
   ]
  },
  {
   "cell_type": "markdown",
   "metadata": {},
   "source": [
    "### Money:\n",
    "Over time some traders trade more than other and thus their **money** either increases or decreases. All traders start out with money between 200 and 250 and over time this branches out to a distribution between 0 and 280. "
   ]
  },
  {
   "cell_type": "code",
   "execution_count": 34,
   "metadata": {
    "collapsed": false
   },
   "outputs": [
    {
     "data": {
      "text/plain": [
       "<matplotlib.text.Text at 0x17c7b75a860>"
      ]
     },
     "execution_count": 34,
     "metadata": {},
     "output_type": "execute_result"
    },
    {
     "data": {
      "image/png": "[encoded data removed]",
      "text/plain": [
       "<matplotlib.figure.Figure at 0x17c7b6525f8>"
      ]
     },
     "metadata": {},
     "output_type": "display_data"
    }
   ],
   "source": [
    "fig = plt.figure(figsize=(10,5))\n",
    "ax1 = fig.add_subplot(111)\n",
    "\n",
    "for trader in traderVariables['object_name'].unique():\n",
    "    ax1.plot(t_time, \n",
    "            traderVariables.query('variable_type == \"money\" and object_name == \"{}\"'.format(trader))['value'],\n",
    "            label=trader)\n",
    "\n",
    "ax1.set_xlabel('(Simulation time)', fontsize='14')\n",
    "ax1.set_ylabel('Money', fontsize='18')\n",
    "\n",
    "#plt.legend(loc=2, fontsize='14')"
   ]
  },
  {
   "cell_type": "markdown",
   "metadata": {},
   "source": [
    "### Stock portfolio:\n",
    "Likewise the distribution of stocks changes as traders trade with each other. "
   ]
  },
  {
   "cell_type": "code",
   "execution_count": 35,
   "metadata": {
    "collapsed": true
   },
   "outputs": [],
   "source": [
    "import json\n",
    "import re"
   ]
  },
  {
   "cell_type": "code",
   "execution_count": 110,
   "metadata": {
    "collapsed": false
   },
   "outputs": [],
   "source": [
    "traderPortfolios = traderVariables.query('variable_type == \"stocks\"')\n",
    "#traderPortfolios['value'] = traderPortfolios['value'].apply(ast.literal_eval)\n",
    "#traderPortfolios['value'] = traderPortfolios['value'].astype(dict)"
   ]
  },
  {
   "cell_type": "code",
   "execution_count": 117,
   "metadata": {
    "collapsed": false
   },
   "outputs": [
    {
     "data": {
      "text/plain": [
       "'{stock_2: 10, stock_0: 10, stock_3: 10, stock_1: 10}'"
      ]
     },
     "execution_count": 117,
     "metadata": {},
     "output_type": "execute_result"
    }
   ],
   "source": [
    "s = traderPortfolios['value'][5]\n",
    "s"
   ]
  },
  {
   "cell_type": "code",
   "execution_count": 141,
   "metadata": {
    "collapsed": false
   },
   "outputs": [
    {
     "data": {
      "text/plain": [
       "'{\"stock_2\"\":\" 1\"0, \"stock_0: 10, \"stock_3: 10, \"stock_1: 10}'"
      ]
     },
     "execution_count": 141,
     "metadata": {},
     "output_type": "execute_result"
    }
   ],
   "source": [
    "original = traderPortfolios['value'][5]\n",
    "indis = [m.start() for m in re.finditer('stock_', original)]\n",
    "s = original\n",
    "counter = 0\n",
    "for ix in indis:\n",
    "    ix = ix + counter\n",
    "    s = s[:ix] + '\"' + s[ix:]\n",
    "    counter += 1\n",
    "dubbelPunten = [m.start() for m in re.finditer(':', original)]\n",
    "counter = 0\n",
    "for dubbelPunt in dubbelPunten:\n",
    "    ix2 = ix2 + counter\n",
    "    s = s[:ix2] + '\"' + s[ix2:]\n",
    "    counter += 1\n",
    "    \n",
    "s"
   ]
  },
  {
   "cell_type": "code",
   "execution_count": 133,
   "metadata": {
    "collapsed": false
   },
   "outputs": [
    {
     "data": {
      "text/plain": [
       "'{\"stock_2\": 10, stock_0: 10, stock_3: 10, stock_1: 10}'"
      ]
     },
     "execution_count": 133,
     "metadata": {},
     "output_type": "execute_result"
    }
   ],
   "source": [
    "# find the word stock\n",
    "\n",
    "s = original\n",
    "ix = s.find('stock_')\n",
    "s = s[:ix] + '\"' + s[ix:]\n",
    "ix2 = s.find(':')\n",
    "s = s[:ix2] + '\"' + s[ix2:]\n",
    "s"
   ]
  },
  {
   "cell_type": "code",
   "execution_count": null,
   "metadata": {
    "collapsed": true
   },
   "outputs": [],
   "source": [
    "def insterQuotationsInStringDict(stringDict):\n",
    "    "
   ]
  },
  {
   "cell_type": "code",
   "execution_count": 118,
   "metadata": {
    "collapsed": false
   },
   "outputs": [
    {
     "ename": "JSONDecodeError",
     "evalue": "Expecting property name enclosed in double quotes: line 1 column 2 (char 1)",
     "output_type": "error",
     "traceback": [
      "\u001b[1;31m---------------------------------------------------------------------------\u001b[0m",
      "\u001b[1;31mJSONDecodeError\u001b[0m                           Traceback (most recent call last)",
      "\u001b[1;32m<ipython-input-118-592859890a52>\u001b[0m in \u001b[0;36m<module>\u001b[1;34m()\u001b[0m\n\u001b[0;32m      1\u001b[0m \u001b[1;31m#s = \"{'muffin' : 'lolz', 'foo' : 'kitty'}\"\u001b[0m\u001b[1;33m\u001b[0m\u001b[1;33m\u001b[0m\u001b[0m\n\u001b[0;32m      2\u001b[0m \u001b[1;31m#json_acceptable_string = s.replace(\"'\", \"\\\"\")\u001b[0m\u001b[1;33m\u001b[0m\u001b[1;33m\u001b[0m\u001b[0m\n\u001b[1;32m----> 3\u001b[1;33m \u001b[0md\u001b[0m \u001b[1;33m=\u001b[0m \u001b[0mjson\u001b[0m\u001b[1;33m.\u001b[0m\u001b[0mloads\u001b[0m\u001b[1;33m(\u001b[0m\u001b[0ms\u001b[0m\u001b[1;33m)\u001b[0m\u001b[1;33m\u001b[0m\u001b[0m\n\u001b[0m\u001b[0;32m      4\u001b[0m \u001b[0md\u001b[0m\u001b[1;33m\u001b[0m\u001b[0m\n",
      "\u001b[1;32mC:\\Users\\p267237\\AppData\\Local\\Continuum\\Anaconda3\\lib\\json\\__init__.py\u001b[0m in \u001b[0;36mloads\u001b[1;34m(s, encoding, cls, object_hook, parse_float, parse_int, parse_constant, object_pairs_hook, **kw)\u001b[0m\n\u001b[0;32m    317\u001b[0m             \u001b[0mparse_int\u001b[0m \u001b[1;32mis\u001b[0m \u001b[1;32mNone\u001b[0m \u001b[1;32mand\u001b[0m \u001b[0mparse_float\u001b[0m \u001b[1;32mis\u001b[0m \u001b[1;32mNone\u001b[0m \u001b[1;32mand\u001b[0m\u001b[1;33m\u001b[0m\u001b[0m\n\u001b[0;32m    318\u001b[0m             parse_constant is None and object_pairs_hook is None and not kw):\n\u001b[1;32m--> 319\u001b[1;33m         \u001b[1;32mreturn\u001b[0m \u001b[0m_default_decoder\u001b[0m\u001b[1;33m.\u001b[0m\u001b[0mdecode\u001b[0m\u001b[1;33m(\u001b[0m\u001b[0ms\u001b[0m\u001b[1;33m)\u001b[0m\u001b[1;33m\u001b[0m\u001b[0m\n\u001b[0m\u001b[0;32m    320\u001b[0m     \u001b[1;32mif\u001b[0m \u001b[0mcls\u001b[0m \u001b[1;32mis\u001b[0m \u001b[1;32mNone\u001b[0m\u001b[1;33m:\u001b[0m\u001b[1;33m\u001b[0m\u001b[0m\n\u001b[0;32m    321\u001b[0m         \u001b[0mcls\u001b[0m \u001b[1;33m=\u001b[0m \u001b[0mJSONDecoder\u001b[0m\u001b[1;33m\u001b[0m\u001b[0m\n",
      "\u001b[1;32mC:\\Users\\p267237\\AppData\\Local\\Continuum\\Anaconda3\\lib\\json\\decoder.py\u001b[0m in \u001b[0;36mdecode\u001b[1;34m(self, s, _w)\u001b[0m\n\u001b[0;32m    337\u001b[0m \u001b[1;33m\u001b[0m\u001b[0m\n\u001b[0;32m    338\u001b[0m         \"\"\"\n\u001b[1;32m--> 339\u001b[1;33m         \u001b[0mobj\u001b[0m\u001b[1;33m,\u001b[0m \u001b[0mend\u001b[0m \u001b[1;33m=\u001b[0m \u001b[0mself\u001b[0m\u001b[1;33m.\u001b[0m\u001b[0mraw_decode\u001b[0m\u001b[1;33m(\u001b[0m\u001b[0ms\u001b[0m\u001b[1;33m,\u001b[0m \u001b[0midx\u001b[0m\u001b[1;33m=\u001b[0m\u001b[0m_w\u001b[0m\u001b[1;33m(\u001b[0m\u001b[0ms\u001b[0m\u001b[1;33m,\u001b[0m \u001b[1;36m0\u001b[0m\u001b[1;33m)\u001b[0m\u001b[1;33m.\u001b[0m\u001b[0mend\u001b[0m\u001b[1;33m(\u001b[0m\u001b[1;33m)\u001b[0m\u001b[1;33m)\u001b[0m\u001b[1;33m\u001b[0m\u001b[0m\n\u001b[0m\u001b[0;32m    340\u001b[0m         \u001b[0mend\u001b[0m \u001b[1;33m=\u001b[0m \u001b[0m_w\u001b[0m\u001b[1;33m(\u001b[0m\u001b[0ms\u001b[0m\u001b[1;33m,\u001b[0m \u001b[0mend\u001b[0m\u001b[1;33m)\u001b[0m\u001b[1;33m.\u001b[0m\u001b[0mend\u001b[0m\u001b[1;33m(\u001b[0m\u001b[1;33m)\u001b[0m\u001b[1;33m\u001b[0m\u001b[0m\n\u001b[0;32m    341\u001b[0m         \u001b[1;32mif\u001b[0m \u001b[0mend\u001b[0m \u001b[1;33m!=\u001b[0m \u001b[0mlen\u001b[0m\u001b[1;33m(\u001b[0m\u001b[0ms\u001b[0m\u001b[1;33m)\u001b[0m\u001b[1;33m:\u001b[0m\u001b[1;33m\u001b[0m\u001b[0m\n",
      "\u001b[1;32mC:\\Users\\p267237\\AppData\\Local\\Continuum\\Anaconda3\\lib\\json\\decoder.py\u001b[0m in \u001b[0;36mraw_decode\u001b[1;34m(self, s, idx)\u001b[0m\n\u001b[0;32m    353\u001b[0m         \"\"\"\n\u001b[0;32m    354\u001b[0m         \u001b[1;32mtry\u001b[0m\u001b[1;33m:\u001b[0m\u001b[1;33m\u001b[0m\u001b[0m\n\u001b[1;32m--> 355\u001b[1;33m             \u001b[0mobj\u001b[0m\u001b[1;33m,\u001b[0m \u001b[0mend\u001b[0m \u001b[1;33m=\u001b[0m \u001b[0mself\u001b[0m\u001b[1;33m.\u001b[0m\u001b[0mscan_once\u001b[0m\u001b[1;33m(\u001b[0m\u001b[0ms\u001b[0m\u001b[1;33m,\u001b[0m \u001b[0midx\u001b[0m\u001b[1;33m)\u001b[0m\u001b[1;33m\u001b[0m\u001b[0m\n\u001b[0m\u001b[0;32m    356\u001b[0m         \u001b[1;32mexcept\u001b[0m \u001b[0mStopIteration\u001b[0m \u001b[1;32mas\u001b[0m \u001b[0merr\u001b[0m\u001b[1;33m:\u001b[0m\u001b[1;33m\u001b[0m\u001b[0m\n\u001b[0;32m    357\u001b[0m             \u001b[1;32mraise\u001b[0m \u001b[0mJSONDecodeError\u001b[0m\u001b[1;33m(\u001b[0m\u001b[1;34m\"Expecting value\"\u001b[0m\u001b[1;33m,\u001b[0m \u001b[0ms\u001b[0m\u001b[1;33m,\u001b[0m \u001b[0merr\u001b[0m\u001b[1;33m.\u001b[0m\u001b[0mvalue\u001b[0m\u001b[1;33m)\u001b[0m \u001b[1;32mfrom\u001b[0m \u001b[1;32mNone\u001b[0m\u001b[1;33m\u001b[0m\u001b[0m\n",
      "\u001b[1;31mJSONDecodeError\u001b[0m: Expecting property name enclosed in double quotes: line 1 column 2 (char 1)"
     ]
    }
   ],
   "source": [
    "#s = \"{'muffin' : 'lolz', 'foo' : 'kitty'}\"\n",
    "json_acceptable_string = s.replace(\"'\", \"\\\"\")\n",
    "d = json.loads(s)\n",
    "d"
   ]
  },
  {
   "cell_type": "code",
   "execution_count": 102,
   "metadata": {
    "collapsed": false
   },
   "outputs": [
    {
     "name": "stdout",
     "output_type": "stream",
     "text": [
      "<class 'str'>\n",
      "<class 'str'>\n",
      "<class 'str'>\n",
      "<class 'str'>\n",
      "<class 'str'>\n",
      "<class 'str'>\n",
      "<class 'str'>\n",
      "<class 'str'>\n",
      "<class 'str'>\n",
      "<class 'str'>\n",
      "<class 'str'>\n",
      "<class 'str'>\n",
      "<class 'str'>\n",
      "<class 'str'>\n",
      "<class 'str'>\n",
      "<class 'str'>\n",
      "<class 'str'>\n",
      "<class 'str'>\n",
      "<class 'str'>\n",
      "<class 'str'>\n",
      "<class 'str'>\n",
      "<class 'str'>\n",
      "<class 'str'>\n",
      "<class 'str'>\n",
      "<class 'str'>\n",
      "<class 'str'>\n",
      "<class 'str'>\n",
      "<class 'str'>\n",
      "<class 'str'>\n",
      "<class 'str'>\n",
      "<class 'str'>\n",
      "<class 'str'>\n",
      "<class 'str'>\n",
      "<class 'str'>\n",
      "<class 'str'>\n",
      "<class 'str'>\n",
      "<class 'str'>\n",
      "<class 'str'>\n",
      "<class 'str'>\n",
      "<class 'str'>\n",
      "<class 'str'>\n",
      "<class 'str'>\n",
      "<class 'str'>\n",
      "<class 'str'>\n",
      "<class 'str'>\n",
      "<class 'str'>\n",
      "<class 'str'>\n",
      "<class 'str'>\n",
      "<class 'str'>\n",
      "<class 'str'>\n",
      "<class 'str'>\n",
      "<class 'str'>\n",
      "<class 'str'>\n",
      "<class 'str'>\n",
      "<class 'str'>\n",
      "<class 'str'>\n",
      "<class 'str'>\n",
      "<class 'str'>\n",
      "<class 'str'>\n",
      "<class 'str'>\n",
      "<class 'str'>\n",
      "<class 'str'>\n",
      "<class 'str'>\n",
      "<class 'str'>\n",
      "<class 'str'>\n",
      "<class 'str'>\n",
      "<class 'str'>\n",
      "<class 'str'>\n",
      "<class 'str'>\n",
      "<class 'str'>\n",
      "<class 'str'>\n",
      "<class 'str'>\n",
      "<class 'str'>\n",
      "<class 'str'>\n",
      "<class 'str'>\n",
      "<class 'str'>\n",
      "<class 'str'>\n",
      "<class 'str'>\n",
      "<class 'str'>\n",
      "<class 'str'>\n",
      "<class 'str'>\n",
      "<class 'str'>\n",
      "<class 'str'>\n",
      "<class 'str'>\n",
      "<class 'str'>\n",
      "<class 'str'>\n",
      "<class 'str'>\n",
      "<class 'str'>\n",
      "<class 'str'>\n",
      "<class 'str'>\n",
      "<class 'str'>\n",
      "<class 'str'>\n",
      "<class 'str'>\n",
      "<class 'str'>\n",
      "<class 'str'>\n",
      "<class 'str'>\n",
      "<class 'str'>\n",
      "<class 'str'>\n",
      "<class 'str'>\n",
      "<class 'str'>\n",
      "<class 'str'>\n",
      "<class 'str'>\n",
      "<class 'str'>\n",
      "<class 'str'>\n",
      "<class 'str'>\n",
      "<class 'str'>\n",
      "<class 'str'>\n",
      "<class 'str'>\n",
      "<class 'str'>\n",
      "<class 'str'>\n",
      "<class 'str'>\n",
      "<class 'str'>\n"
     ]
    }
   ],
   "source": [
    "for element in traderPortfolios['value'].unique():\n",
    "    print(type(element))"
   ]
  },
  {
   "cell_type": "code",
   "execution_count": 87,
   "metadata": {
    "collapsed": false
   },
   "outputs": [
    {
     "data": {
      "text/plain": [
       "str"
      ]
     },
     "execution_count": 87,
     "metadata": {},
     "output_type": "execute_result"
    }
   ],
   "source": [
    "type(traderPortfolios['value'][5])"
   ]
  },
  {
   "cell_type": "code",
   "execution_count": 82,
   "metadata": {
    "collapsed": false
   },
   "outputs": [
    {
     "ename": "TypeError",
     "evalue": "string indices must be integers",
     "output_type": "error",
     "traceback": [
      "\u001b[1;31m---------------------------------------------------------------------------\u001b[0m",
      "\u001b[1;31mTypeError\u001b[0m                                 Traceback (most recent call last)",
      "\u001b[1;32m<ipython-input-82-368b0c36a794>\u001b[0m in \u001b[0;36m<module>\u001b[1;34m()\u001b[0m\n\u001b[0;32m      3\u001b[0m     \u001b[0mstocks\u001b[0m\u001b[1;33m[\u001b[0m\u001b[0mstock\u001b[0m\u001b[1;33m]\u001b[0m \u001b[1;33m=\u001b[0m \u001b[1;33m[\u001b[0m\u001b[1;33m]\u001b[0m\u001b[1;33m\u001b[0m\u001b[0m\n\u001b[0;32m      4\u001b[0m     \u001b[1;32mfor\u001b[0m \u001b[0mi\u001b[0m \u001b[1;32min\u001b[0m \u001b[0mrange\u001b[0m\u001b[1;33m(\u001b[0m\u001b[0mlen\u001b[0m\u001b[1;33m(\u001b[0m\u001b[0mtraderPortfolios\u001b[0m\u001b[1;33m)\u001b[0m\u001b[1;33m)\u001b[0m\u001b[1;33m:\u001b[0m\u001b[1;33m\u001b[0m\u001b[0m\n\u001b[1;32m----> 5\u001b[1;33m         \u001b[0mstocks\u001b[0m\u001b[1;33m[\u001b[0m\u001b[0mstock\u001b[0m\u001b[1;33m]\u001b[0m\u001b[1;33m.\u001b[0m\u001b[0mappend\u001b[0m\u001b[1;33m(\u001b[0m\u001b[0mtraderPortfolios\u001b[0m\u001b[1;33m[\u001b[0m\u001b[1;34m'value'\u001b[0m\u001b[1;33m]\u001b[0m\u001b[1;33m.\u001b[0m\u001b[0miloc\u001b[0m\u001b[1;33m[\u001b[0m\u001b[0mi\u001b[0m\u001b[1;33m]\u001b[0m\u001b[1;33m[\u001b[0m\u001b[0mstock\u001b[0m\u001b[1;33m]\u001b[0m\u001b[1;33m)\u001b[0m\u001b[1;33m\u001b[0m\u001b[0m\n\u001b[0m\u001b[0;32m      6\u001b[0m     \u001b[0mtraderPortfolios\u001b[0m\u001b[1;33m[\u001b[0m\u001b[0mstock\u001b[0m\u001b[1;33m]\u001b[0m \u001b[1;33m=\u001b[0m \u001b[0mstocks\u001b[0m\u001b[1;33m[\u001b[0m\u001b[0mstock\u001b[0m\u001b[1;33m]\u001b[0m\u001b[1;33m\u001b[0m\u001b[0m\n\u001b[0;32m      7\u001b[0m \u001b[0mtraderPortfolios\u001b[0m\u001b[1;33m.\u001b[0m\u001b[0mtail\u001b[0m\u001b[1;33m(\u001b[0m\u001b[1;33m)\u001b[0m\u001b[1;33m\u001b[0m\u001b[0m\n",
      "\u001b[1;31mTypeError\u001b[0m: string indices must be integers"
     ]
    }
   ],
   "source": [
    "stocks = {}\n",
    "for stock in stockVariables['object_name'].unique():\n",
    "    stocks[stock] = []\n",
    "    for i in range(len(traderPortfolios)):\n",
    "        stocks[stock].append(traderPortfolios['value'].iloc[i][stock])\n",
    "    traderPortfolios[stock] = stocks[stock]\n",
    "traderPortfolios.tail()"
   ]
  },
  {
   "cell_type": "code",
   "execution_count": 44,
   "metadata": {
    "collapsed": true
   },
   "outputs": [],
   "source": [
    "tp_time = traderPortfolios.query('object_name == \"trader_0\"')['period']"
   ]
  },
  {
   "cell_type": "code",
   "execution_count": 49,
   "metadata": {
    "collapsed": false
   },
   "outputs": [
    {
     "data": {
      "text/plain": [
       "<matplotlib.text.Text at 0x229847e42e8>"
      ]
     },
     "execution_count": 49,
     "metadata": {},
     "output_type": "execute_result"
    },
    {
     "data": {
      "image/png": "[encoded data removed]",
      "text/plain": [
       "<matplotlib.figure.Figure at 0x229847ce748>"
      ]
     },
     "metadata": {},
     "output_type": "display_data"
    }
   ],
   "source": [
    "fig = plt.figure(figsize=(10,5))\n",
    "ax1 = fig.add_subplot(221)\n",
    "ax2 = fig.add_subplot(222)\n",
    "ax3 = fig.add_subplot(223)\n",
    "\n",
    "for trader in traderPortfolios['object_name'].unique():\n",
    "    ax1.plot(tp_time, \n",
    "            traderPortfolios.query('object_name == \"{}\"'.format(trader))['stock_0'],\n",
    "            label=trader)\n",
    "    \n",
    "for trader in traderPortfolios['object_name'].unique():\n",
    "    ax2.plot(tp_time, \n",
    "            traderPortfolios.query('object_name == \"{}\"'.format(trader))['stock_1'],\n",
    "            label=trader)\n",
    "    \n",
    "for trader in traderPortfolios['object_name'].unique():\n",
    "    ax3.plot(tp_time, \n",
    "            traderPortfolios.query('object_name == \"{}\"'.format(trader))['stock_2'],\n",
    "            label=trader)\n",
    "\n",
    "ax1.set_xlabel('(Simulation time)', fontsize='14')\n",
    "ax1.set_ylabel('Stock_0', fontsize='18')\n",
    "ax2.set_xlabel('(Simulation time)', fontsize='14')\n",
    "ax2.set_ylabel('Stock_1', fontsize='18')\n",
    "ax3.set_xlabel('(Simulation time)', fontsize='14')\n",
    "ax3.set_ylabel('Stock_2', fontsize='18')\n",
    "\n",
    "#plt.legend(loc=2, fontsize='14')"
   ]
  },
  {
   "cell_type": "markdown",
   "metadata": {},
   "source": [
    "## 2 Transactions\n",
    "Using the Transactions and Objects tables, I then analyse the transactions made by traders. "
   ]
  },
  {
   "cell_type": "code",
   "execution_count": 36,
   "metadata": {
    "collapsed": true
   },
   "outputs": [],
   "source": [
    "transactions = pd.read_sql_query(\"\"\"\n",
    "SELECT Transactions.id, Transactions.period, Transactors.role, Objects.object_name, Objects.object_type, Transactions.amount_of_product, Transactions.amount_of_money \n",
    "FROM Transactors JOIN Transactions JOIN Objects \n",
    "ON Transactors.transaction_id = Transactions.id and Transactors.transactor_id = Objects.id\n",
    "\"\"\", conn)"
   ]
  },
  {
   "cell_type": "markdown",
   "metadata": {},
   "source": [
    "The price of transactions is not recorded in the simulation. Therefore, I derive it by dividing the amount of money payed for a single transactions by the amount of stocks traded. "
   ]
  },
  {
   "cell_type": "code",
   "execution_count": 37,
   "metadata": {
    "collapsed": true
   },
   "outputs": [],
   "source": [
    "transactions['price'] = transactions['amount_of_money'] / transactions['amount_of_product']"
   ]
  },
  {
   "cell_type": "code",
   "execution_count": 38,
   "metadata": {
    "collapsed": false
   },
   "outputs": [
    {
     "data": {
      "text/html": [
       "<div>\n",
       "<table border=\"1\" class=\"dataframe\">\n",
       "  <thead>\n",
       "    <tr style=\"text-align: right;\">\n",
       "      <th></th>\n",
       "      <th>id</th>\n",
       "      <th>period</th>\n",
       "      <th>role</th>\n",
       "      <th>object_name</th>\n",
       "      <th>object_type</th>\n",
       "      <th>amount_of_product</th>\n",
       "      <th>amount_of_money</th>\n",
       "      <th>price</th>\n",
       "    </tr>\n",
       "  </thead>\n",
       "  <tbody>\n",
       "    <tr>\n",
       "      <th>245</th>\n",
       "      <td>82</td>\n",
       "      <td>98</td>\n",
       "      <td>stock</td>\n",
       "      <td>stock_3</td>\n",
       "      <td>stock</td>\n",
       "      <td>2.0</td>\n",
       "      <td>30.437073</td>\n",
       "      <td>15.218537</td>\n",
       "    </tr>\n",
       "    <tr>\n",
       "      <th>246</th>\n",
       "      <td>83</td>\n",
       "      <td>98</td>\n",
       "      <td>buyer</td>\n",
       "      <td>trader_2</td>\n",
       "      <td>trader</td>\n",
       "      <td>13.0</td>\n",
       "      <td>197.840977</td>\n",
       "      <td>15.218537</td>\n",
       "    </tr>\n",
       "    <tr>\n",
       "      <th>247</th>\n",
       "      <td>83</td>\n",
       "      <td>98</td>\n",
       "      <td>seller</td>\n",
       "      <td>trader_14</td>\n",
       "      <td>trader</td>\n",
       "      <td>13.0</td>\n",
       "      <td>197.840977</td>\n",
       "      <td>15.218537</td>\n",
       "    </tr>\n",
       "    <tr>\n",
       "      <th>248</th>\n",
       "      <td>83</td>\n",
       "      <td>98</td>\n",
       "      <td>stock</td>\n",
       "      <td>stock_3</td>\n",
       "      <td>stock</td>\n",
       "      <td>13.0</td>\n",
       "      <td>197.840977</td>\n",
       "      <td>15.218537</td>\n",
       "    </tr>\n",
       "    <tr>\n",
       "      <th>249</th>\n",
       "      <td>84</td>\n",
       "      <td>99</td>\n",
       "      <td>buyer</td>\n",
       "      <td>trader_4</td>\n",
       "      <td>trader</td>\n",
       "      <td>8.0</td>\n",
       "      <td>123.997160</td>\n",
       "      <td>15.499645</td>\n",
       "    </tr>\n",
       "    <tr>\n",
       "      <th>250</th>\n",
       "      <td>84</td>\n",
       "      <td>99</td>\n",
       "      <td>seller</td>\n",
       "      <td>trader_18</td>\n",
       "      <td>trader</td>\n",
       "      <td>8.0</td>\n",
       "      <td>123.997160</td>\n",
       "      <td>15.499645</td>\n",
       "    </tr>\n",
       "    <tr>\n",
       "      <th>251</th>\n",
       "      <td>84</td>\n",
       "      <td>99</td>\n",
       "      <td>stock</td>\n",
       "      <td>stock_3</td>\n",
       "      <td>stock</td>\n",
       "      <td>8.0</td>\n",
       "      <td>123.997160</td>\n",
       "      <td>15.499645</td>\n",
       "    </tr>\n",
       "    <tr>\n",
       "      <th>252</th>\n",
       "      <td>85</td>\n",
       "      <td>99</td>\n",
       "      <td>buyer</td>\n",
       "      <td>trader_0</td>\n",
       "      <td>trader</td>\n",
       "      <td>3.0</td>\n",
       "      <td>46.498935</td>\n",
       "      <td>15.499645</td>\n",
       "    </tr>\n",
       "    <tr>\n",
       "      <th>253</th>\n",
       "      <td>85</td>\n",
       "      <td>99</td>\n",
       "      <td>seller</td>\n",
       "      <td>trader_18</td>\n",
       "      <td>trader</td>\n",
       "      <td>3.0</td>\n",
       "      <td>46.498935</td>\n",
       "      <td>15.499645</td>\n",
       "    </tr>\n",
       "    <tr>\n",
       "      <th>254</th>\n",
       "      <td>85</td>\n",
       "      <td>99</td>\n",
       "      <td>stock</td>\n",
       "      <td>stock_3</td>\n",
       "      <td>stock</td>\n",
       "      <td>3.0</td>\n",
       "      <td>46.498935</td>\n",
       "      <td>15.499645</td>\n",
       "    </tr>\n",
       "  </tbody>\n",
       "</table>\n",
       "</div>"
      ],
      "text/plain": [
       "     id  period    role object_name object_type  amount_of_product  \\\n",
       "245  82      98   stock     stock_3       stock                2.0   \n",
       "246  83      98   buyer    trader_2      trader               13.0   \n",
       "247  83      98  seller   trader_14      trader               13.0   \n",
       "248  83      98   stock     stock_3       stock               13.0   \n",
       "249  84      99   buyer    trader_4      trader                8.0   \n",
       "250  84      99  seller   trader_18      trader                8.0   \n",
       "251  84      99   stock     stock_3       stock                8.0   \n",
       "252  85      99   buyer    trader_0      trader                3.0   \n",
       "253  85      99  seller   trader_18      trader                3.0   \n",
       "254  85      99   stock     stock_3       stock                3.0   \n",
       "\n",
       "     amount_of_money      price  \n",
       "245        30.437073  15.218537  \n",
       "246       197.840977  15.218537  \n",
       "247       197.840977  15.218537  \n",
       "248       197.840977  15.218537  \n",
       "249       123.997160  15.499645  \n",
       "250       123.997160  15.499645  \n",
       "251       123.997160  15.499645  \n",
       "252        46.498935  15.499645  \n",
       "253        46.498935  15.499645  \n",
       "254        46.498935  15.499645  "
      ]
     },
     "execution_count": 38,
     "metadata": {},
     "output_type": "execute_result"
    }
   ],
   "source": [
    "transactions.tail(10)"
   ]
  },
  {
   "cell_type": "markdown",
   "metadata": {},
   "source": [
    "### 2.1 Prices \n",
    "A stock can be traded at different prices at the same time by different traders. I therefore construct a seperate table which summarizes stocks prices over time. "
   ]
  },
  {
   "cell_type": "code",
   "execution_count": 53,
   "metadata": {
    "collapsed": true
   },
   "outputs": [],
   "source": [
    "transactionTime = [n for n in range(100)]"
   ]
  },
  {
   "cell_type": "code",
   "execution_count": 54,
   "metadata": {
    "collapsed": true
   },
   "outputs": [],
   "source": [
    "stockPrices = {'period': transactionTime}\n",
    "for stock in transactions.query('object_type == \"stock\"')['object_name'].unique():\n",
    "    allPrices = []\n",
    "    for period in transactionTime:\n",
    "        pricesAtPeriod = []\n",
    "        for price in transactions.query('object_name == \"{}\" and period == {}'.format(stock,period))['price']:\n",
    "            pricesAtPeriod.append(price)\n",
    "        if (not not pricesAtPeriod):\n",
    "            allPrices.append(pricesAtPeriod)\n",
    "        else:\n",
    "            allPrices.append(False)\n",
    "    stockPrices[stock] = allPrices"
   ]
  },
  {
   "cell_type": "code",
   "execution_count": 55,
   "metadata": {
    "collapsed": false
   },
   "outputs": [
    {
     "data": {
      "text/html": [
       "<div>\n",
       "<table border=\"1\" class=\"dataframe\">\n",
       "  <thead>\n",
       "    <tr style=\"text-align: right;\">\n",
       "      <th></th>\n",
       "      <th>period</th>\n",
       "      <th>stock_0</th>\n",
       "      <th>stock_1</th>\n",
       "      <th>stock_2</th>\n",
       "      <th>stock_3</th>\n",
       "    </tr>\n",
       "  </thead>\n",
       "  <tbody>\n",
       "    <tr>\n",
       "      <th>0</th>\n",
       "      <td>0</td>\n",
       "      <td>False</td>\n",
       "      <td>False</td>\n",
       "      <td>False</td>\n",
       "      <td>False</td>\n",
       "    </tr>\n",
       "    <tr>\n",
       "      <th>1</th>\n",
       "      <td>1</td>\n",
       "      <td>False</td>\n",
       "      <td>False</td>\n",
       "      <td>False</td>\n",
       "      <td>False</td>\n",
       "    </tr>\n",
       "    <tr>\n",
       "      <th>2</th>\n",
       "      <td>2</td>\n",
       "      <td>False</td>\n",
       "      <td>False</td>\n",
       "      <td>False</td>\n",
       "      <td>False</td>\n",
       "    </tr>\n",
       "    <tr>\n",
       "      <th>3</th>\n",
       "      <td>3</td>\n",
       "      <td>False</td>\n",
       "      <td>False</td>\n",
       "      <td>False</td>\n",
       "      <td>False</td>\n",
       "    </tr>\n",
       "    <tr>\n",
       "      <th>4</th>\n",
       "      <td>4</td>\n",
       "      <td>False</td>\n",
       "      <td>False</td>\n",
       "      <td>False</td>\n",
       "      <td>False</td>\n",
       "    </tr>\n",
       "    <tr>\n",
       "      <th>5</th>\n",
       "      <td>5</td>\n",
       "      <td>False</td>\n",
       "      <td>False</td>\n",
       "      <td>False</td>\n",
       "      <td>False</td>\n",
       "    </tr>\n",
       "    <tr>\n",
       "      <th>6</th>\n",
       "      <td>6</td>\n",
       "      <td>False</td>\n",
       "      <td>False</td>\n",
       "      <td>[16.5025]</td>\n",
       "      <td>False</td>\n",
       "    </tr>\n",
       "    <tr>\n",
       "      <th>7</th>\n",
       "      <td>7</td>\n",
       "      <td>False</td>\n",
       "      <td>False</td>\n",
       "      <td>False</td>\n",
       "      <td>False</td>\n",
       "    </tr>\n",
       "    <tr>\n",
       "      <th>8</th>\n",
       "      <td>8</td>\n",
       "      <td>False</td>\n",
       "      <td>False</td>\n",
       "      <td>False</td>\n",
       "      <td>False</td>\n",
       "    </tr>\n",
       "    <tr>\n",
       "      <th>9</th>\n",
       "      <td>9</td>\n",
       "      <td>False</td>\n",
       "      <td>False</td>\n",
       "      <td>False</td>\n",
       "      <td>False</td>\n",
       "    </tr>\n",
       "    <tr>\n",
       "      <th>10</th>\n",
       "      <td>10</td>\n",
       "      <td>False</td>\n",
       "      <td>False</td>\n",
       "      <td>False</td>\n",
       "      <td>False</td>\n",
       "    </tr>\n",
       "    <tr>\n",
       "      <th>11</th>\n",
       "      <td>11</td>\n",
       "      <td>False</td>\n",
       "      <td>False</td>\n",
       "      <td>False</td>\n",
       "      <td>False</td>\n",
       "    </tr>\n",
       "    <tr>\n",
       "      <th>12</th>\n",
       "      <td>12</td>\n",
       "      <td>False</td>\n",
       "      <td>[16.9125]</td>\n",
       "      <td>False</td>\n",
       "      <td>False</td>\n",
       "    </tr>\n",
       "    <tr>\n",
       "      <th>13</th>\n",
       "      <td>13</td>\n",
       "      <td>False</td>\n",
       "      <td>False</td>\n",
       "      <td>[nan, 16.9150625, 16.9150625, 16.9150625, 16.9...</td>\n",
       "      <td>False</td>\n",
       "    </tr>\n",
       "    <tr>\n",
       "      <th>14</th>\n",
       "      <td>14</td>\n",
       "      <td>False</td>\n",
       "      <td>False</td>\n",
       "      <td>[17.0761583333]</td>\n",
       "      <td>False</td>\n",
       "    </tr>\n",
       "    <tr>\n",
       "      <th>15</th>\n",
       "      <td>15</td>\n",
       "      <td>False</td>\n",
       "      <td>False</td>\n",
       "      <td>False</td>\n",
       "      <td>False</td>\n",
       "    </tr>\n",
       "    <tr>\n",
       "      <th>16</th>\n",
       "      <td>16</td>\n",
       "      <td>False</td>\n",
       "      <td>False</td>\n",
       "      <td>False</td>\n",
       "      <td>False</td>\n",
       "    </tr>\n",
       "    <tr>\n",
       "      <th>17</th>\n",
       "      <td>17</td>\n",
       "      <td>False</td>\n",
       "      <td>False</td>\n",
       "      <td>[17.5719595275]</td>\n",
       "      <td>[nan, nan]</td>\n",
       "    </tr>\n",
       "    <tr>\n",
       "      <th>18</th>\n",
       "      <td>18</td>\n",
       "      <td>False</td>\n",
       "      <td>[nan]</td>\n",
       "      <td>[17.7445580965, 17.7445580965]</td>\n",
       "      <td>False</td>\n",
       "    </tr>\n",
       "    <tr>\n",
       "      <th>19</th>\n",
       "      <td>19</td>\n",
       "      <td>False</td>\n",
       "      <td>[15.8533333333, 15.99, 15.8533333333, 15.85333...</td>\n",
       "      <td>[17.9845522972, nan, nan, nan, 17.9845522972, ...</td>\n",
       "      <td>False</td>\n",
       "    </tr>\n",
       "    <tr>\n",
       "      <th>20</th>\n",
       "      <td>20</td>\n",
       "      <td>[nan]</td>\n",
       "      <td>[15.6825, 15.6825, 15.58, 15.17]</td>\n",
       "      <td>[18.3182585191, 18.3182585191]</td>\n",
       "      <td>False</td>\n",
       "    </tr>\n",
       "    <tr>\n",
       "      <th>21</th>\n",
       "      <td>21</td>\n",
       "      <td>False</td>\n",
       "      <td>[15.4775]</td>\n",
       "      <td>[18.585623383, 18.585623383]</td>\n",
       "      <td>False</td>\n",
       "    </tr>\n",
       "    <tr>\n",
       "      <th>22</th>\n",
       "      <td>22</td>\n",
       "      <td>False</td>\n",
       "      <td>False</td>\n",
       "      <td>False</td>\n",
       "      <td>False</td>\n",
       "    </tr>\n",
       "    <tr>\n",
       "      <th>23</th>\n",
       "      <td>23</td>\n",
       "      <td>False</td>\n",
       "      <td>False</td>\n",
       "      <td>False</td>\n",
       "      <td>False</td>\n",
       "    </tr>\n",
       "    <tr>\n",
       "      <th>24</th>\n",
       "      <td>24</td>\n",
       "      <td>False</td>\n",
       "      <td>False</td>\n",
       "      <td>False</td>\n",
       "      <td>False</td>\n",
       "    </tr>\n",
       "    <tr>\n",
       "      <th>25</th>\n",
       "      <td>25</td>\n",
       "      <td>False</td>\n",
       "      <td>False</td>\n",
       "      <td>False</td>\n",
       "      <td>False</td>\n",
       "    </tr>\n",
       "    <tr>\n",
       "      <th>26</th>\n",
       "      <td>26</td>\n",
       "      <td>False</td>\n",
       "      <td>False</td>\n",
       "      <td>False</td>\n",
       "      <td>False</td>\n",
       "    </tr>\n",
       "    <tr>\n",
       "      <th>27</th>\n",
       "      <td>27</td>\n",
       "      <td>False</td>\n",
       "      <td>False</td>\n",
       "      <td>False</td>\n",
       "      <td>False</td>\n",
       "    </tr>\n",
       "    <tr>\n",
       "      <th>28</th>\n",
       "      <td>28</td>\n",
       "      <td>False</td>\n",
       "      <td>False</td>\n",
       "      <td>False</td>\n",
       "      <td>False</td>\n",
       "    </tr>\n",
       "    <tr>\n",
       "      <th>29</th>\n",
       "      <td>29</td>\n",
       "      <td>False</td>\n",
       "      <td>False</td>\n",
       "      <td>False</td>\n",
       "      <td>False</td>\n",
       "    </tr>\n",
       "    <tr>\n",
       "      <th>...</th>\n",
       "      <td>...</td>\n",
       "      <td>...</td>\n",
       "      <td>...</td>\n",
       "      <td>...</td>\n",
       "      <td>...</td>\n",
       "    </tr>\n",
       "    <tr>\n",
       "      <th>70</th>\n",
       "      <td>70</td>\n",
       "      <td>False</td>\n",
       "      <td>False</td>\n",
       "      <td>[17.8415227273]</td>\n",
       "      <td>False</td>\n",
       "    </tr>\n",
       "    <tr>\n",
       "      <th>71</th>\n",
       "      <td>71</td>\n",
       "      <td>False</td>\n",
       "      <td>False</td>\n",
       "      <td>False</td>\n",
       "      <td>False</td>\n",
       "    </tr>\n",
       "    <tr>\n",
       "      <th>72</th>\n",
       "      <td>72</td>\n",
       "      <td>False</td>\n",
       "      <td>False</td>\n",
       "      <td>False</td>\n",
       "      <td>[15.5662288504]</td>\n",
       "    </tr>\n",
       "    <tr>\n",
       "      <th>73</th>\n",
       "      <td>73</td>\n",
       "      <td>False</td>\n",
       "      <td>False</td>\n",
       "      <td>False</td>\n",
       "      <td>False</td>\n",
       "    </tr>\n",
       "    <tr>\n",
       "      <th>74</th>\n",
       "      <td>74</td>\n",
       "      <td>False</td>\n",
       "      <td>False</td>\n",
       "      <td>False</td>\n",
       "      <td>False</td>\n",
       "    </tr>\n",
       "    <tr>\n",
       "      <th>75</th>\n",
       "      <td>75</td>\n",
       "      <td>False</td>\n",
       "      <td>False</td>\n",
       "      <td>False</td>\n",
       "      <td>[15.9983948677, 15.9983948677, 15.9983948677]</td>\n",
       "    </tr>\n",
       "    <tr>\n",
       "      <th>76</th>\n",
       "      <td>76</td>\n",
       "      <td>False</td>\n",
       "      <td>False</td>\n",
       "      <td>False</td>\n",
       "      <td>[16.1563928337, 16.1563928337, 16.1563928337]</td>\n",
       "    </tr>\n",
       "    <tr>\n",
       "      <th>77</th>\n",
       "      <td>77</td>\n",
       "      <td>False</td>\n",
       "      <td>False</td>\n",
       "      <td>False</td>\n",
       "      <td>False</td>\n",
       "    </tr>\n",
       "    <tr>\n",
       "      <th>78</th>\n",
       "      <td>78</td>\n",
       "      <td>False</td>\n",
       "      <td>False</td>\n",
       "      <td>False</td>\n",
       "      <td>False</td>\n",
       "    </tr>\n",
       "    <tr>\n",
       "      <th>79</th>\n",
       "      <td>79</td>\n",
       "      <td>False</td>\n",
       "      <td>False</td>\n",
       "      <td>False</td>\n",
       "      <td>False</td>\n",
       "    </tr>\n",
       "    <tr>\n",
       "      <th>80</th>\n",
       "      <td>80</td>\n",
       "      <td>False</td>\n",
       "      <td>False</td>\n",
       "      <td>False</td>\n",
       "      <td>False</td>\n",
       "    </tr>\n",
       "    <tr>\n",
       "      <th>81</th>\n",
       "      <td>81</td>\n",
       "      <td>False</td>\n",
       "      <td>False</td>\n",
       "      <td>False</td>\n",
       "      <td>[15.58]</td>\n",
       "    </tr>\n",
       "    <tr>\n",
       "      <th>82</th>\n",
       "      <td>82</td>\n",
       "      <td>False</td>\n",
       "      <td>False</td>\n",
       "      <td>False</td>\n",
       "      <td>[15.375, nan, 15.17, 15.375, 15.375, nan, 15.3...</td>\n",
       "    </tr>\n",
       "    <tr>\n",
       "      <th>83</th>\n",
       "      <td>83</td>\n",
       "      <td>False</td>\n",
       "      <td>False</td>\n",
       "      <td>False</td>\n",
       "      <td>[nan, nan, nan, 14.6575, nan, 15.1358333333, nan]</td>\n",
       "    </tr>\n",
       "    <tr>\n",
       "      <th>84</th>\n",
       "      <td>84</td>\n",
       "      <td>False</td>\n",
       "      <td>False</td>\n",
       "      <td>False</td>\n",
       "      <td>[nan, nan, nan, nan, nan, nan, 14.145, nan]</td>\n",
       "    </tr>\n",
       "    <tr>\n",
       "      <th>85</th>\n",
       "      <td>85</td>\n",
       "      <td>False</td>\n",
       "      <td>False</td>\n",
       "      <td>False</td>\n",
       "      <td>False</td>\n",
       "    </tr>\n",
       "    <tr>\n",
       "      <th>86</th>\n",
       "      <td>86</td>\n",
       "      <td>False</td>\n",
       "      <td>False</td>\n",
       "      <td>False</td>\n",
       "      <td>False</td>\n",
       "    </tr>\n",
       "    <tr>\n",
       "      <th>87</th>\n",
       "      <td>87</td>\n",
       "      <td>False</td>\n",
       "      <td>False</td>\n",
       "      <td>False</td>\n",
       "      <td>False</td>\n",
       "    </tr>\n",
       "    <tr>\n",
       "      <th>88</th>\n",
       "      <td>88</td>\n",
       "      <td>False</td>\n",
       "      <td>False</td>\n",
       "      <td>[nan, nan]</td>\n",
       "      <td>False</td>\n",
       "    </tr>\n",
       "    <tr>\n",
       "      <th>89</th>\n",
       "      <td>89</td>\n",
       "      <td>False</td>\n",
       "      <td>False</td>\n",
       "      <td>False</td>\n",
       "      <td>False</td>\n",
       "    </tr>\n",
       "    <tr>\n",
       "      <th>90</th>\n",
       "      <td>90</td>\n",
       "      <td>False</td>\n",
       "      <td>False</td>\n",
       "      <td>False</td>\n",
       "      <td>False</td>\n",
       "    </tr>\n",
       "    <tr>\n",
       "      <th>91</th>\n",
       "      <td>91</td>\n",
       "      <td>False</td>\n",
       "      <td>False</td>\n",
       "      <td>False</td>\n",
       "      <td>[14.498625]</td>\n",
       "    </tr>\n",
       "    <tr>\n",
       "      <th>92</th>\n",
       "      <td>92</td>\n",
       "      <td>False</td>\n",
       "      <td>False</td>\n",
       "      <td>False</td>\n",
       "      <td>False</td>\n",
       "    </tr>\n",
       "    <tr>\n",
       "      <th>93</th>\n",
       "      <td>93</td>\n",
       "      <td>False</td>\n",
       "      <td>False</td>\n",
       "      <td>False</td>\n",
       "      <td>False</td>\n",
       "    </tr>\n",
       "    <tr>\n",
       "      <th>94</th>\n",
       "      <td>94</td>\n",
       "      <td>False</td>\n",
       "      <td>False</td>\n",
       "      <td>False</td>\n",
       "      <td>False</td>\n",
       "    </tr>\n",
       "    <tr>\n",
       "      <th>95</th>\n",
       "      <td>95</td>\n",
       "      <td>False</td>\n",
       "      <td>False</td>\n",
       "      <td>False</td>\n",
       "      <td>False</td>\n",
       "    </tr>\n",
       "    <tr>\n",
       "      <th>96</th>\n",
       "      <td>96</td>\n",
       "      <td>False</td>\n",
       "      <td>False</td>\n",
       "      <td>False</td>\n",
       "      <td>[14.8869810268, 14.8869810268]</td>\n",
       "    </tr>\n",
       "    <tr>\n",
       "      <th>97</th>\n",
       "      <td>97</td>\n",
       "      <td>False</td>\n",
       "      <td>False</td>\n",
       "      <td>False</td>\n",
       "      <td>[15.0256796078, nan, 15.0256796078, 15.0256796...</td>\n",
       "    </tr>\n",
       "    <tr>\n",
       "      <th>98</th>\n",
       "      <td>98</td>\n",
       "      <td>False</td>\n",
       "      <td>False</td>\n",
       "      <td>False</td>\n",
       "      <td>[15.2185366823, nan, 15.2185366823, nan]</td>\n",
       "    </tr>\n",
       "    <tr>\n",
       "      <th>99</th>\n",
       "      <td>99</td>\n",
       "      <td>False</td>\n",
       "      <td>False</td>\n",
       "      <td>False</td>\n",
       "      <td>[15.4996450535, 15.4996450535]</td>\n",
       "    </tr>\n",
       "  </tbody>\n",
       "</table>\n",
       "<p>100 rows × 5 columns</p>\n",
       "</div>"
      ],
      "text/plain": [
       "    period stock_0                                            stock_1  \\\n",
       "0        0   False                                              False   \n",
       "1        1   False                                              False   \n",
       "2        2   False                                              False   \n",
       "3        3   False                                              False   \n",
       "4        4   False                                              False   \n",
       "5        5   False                                              False   \n",
       "6        6   False                                              False   \n",
       "7        7   False                                              False   \n",
       "8        8   False                                              False   \n",
       "9        9   False                                              False   \n",
       "10      10   False                                              False   \n",
       "11      11   False                                              False   \n",
       "12      12   False                                          [16.9125]   \n",
       "13      13   False                                              False   \n",
       "14      14   False                                              False   \n",
       "15      15   False                                              False   \n",
       "16      16   False                                              False   \n",
       "17      17   False                                              False   \n",
       "18      18   False                                              [nan]   \n",
       "19      19   False  [15.8533333333, 15.99, 15.8533333333, 15.85333...   \n",
       "20      20   [nan]                   [15.6825, 15.6825, 15.58, 15.17]   \n",
       "21      21   False                                          [15.4775]   \n",
       "22      22   False                                              False   \n",
       "23      23   False                                              False   \n",
       "24      24   False                                              False   \n",
       "25      25   False                                              False   \n",
       "26      26   False                                              False   \n",
       "27      27   False                                              False   \n",
       "28      28   False                                              False   \n",
       "29      29   False                                              False   \n",
       "..     ...     ...                                                ...   \n",
       "70      70   False                                              False   \n",
       "71      71   False                                              False   \n",
       "72      72   False                                              False   \n",
       "73      73   False                                              False   \n",
       "74      74   False                                              False   \n",
       "75      75   False                                              False   \n",
       "76      76   False                                              False   \n",
       "77      77   False                                              False   \n",
       "78      78   False                                              False   \n",
       "79      79   False                                              False   \n",
       "80      80   False                                              False   \n",
       "81      81   False                                              False   \n",
       "82      82   False                                              False   \n",
       "83      83   False                                              False   \n",
       "84      84   False                                              False   \n",
       "85      85   False                                              False   \n",
       "86      86   False                                              False   \n",
       "87      87   False                                              False   \n",
       "88      88   False                                              False   \n",
       "89      89   False                                              False   \n",
       "90      90   False                                              False   \n",
       "91      91   False                                              False   \n",
       "92      92   False                                              False   \n",
       "93      93   False                                              False   \n",
       "94      94   False                                              False   \n",
       "95      95   False                                              False   \n",
       "96      96   False                                              False   \n",
       "97      97   False                                              False   \n",
       "98      98   False                                              False   \n",
       "99      99   False                                              False   \n",
       "\n",
       "                                              stock_2  \\\n",
       "0                                               False   \n",
       "1                                               False   \n",
       "2                                               False   \n",
       "3                                               False   \n",
       "4                                               False   \n",
       "5                                               False   \n",
       "6                                           [16.5025]   \n",
       "7                                               False   \n",
       "8                                               False   \n",
       "9                                               False   \n",
       "10                                              False   \n",
       "11                                              False   \n",
       "12                                              False   \n",
       "13  [nan, 16.9150625, 16.9150625, 16.9150625, 16.9...   \n",
       "14                                    [17.0761583333]   \n",
       "15                                              False   \n",
       "16                                              False   \n",
       "17                                    [17.5719595275]   \n",
       "18                     [17.7445580965, 17.7445580965]   \n",
       "19  [17.9845522972, nan, nan, nan, 17.9845522972, ...   \n",
       "20                     [18.3182585191, 18.3182585191]   \n",
       "21                       [18.585623383, 18.585623383]   \n",
       "22                                              False   \n",
       "23                                              False   \n",
       "24                                              False   \n",
       "25                                              False   \n",
       "26                                              False   \n",
       "27                                              False   \n",
       "28                                              False   \n",
       "29                                              False   \n",
       "..                                                ...   \n",
       "70                                    [17.8415227273]   \n",
       "71                                              False   \n",
       "72                                              False   \n",
       "73                                              False   \n",
       "74                                              False   \n",
       "75                                              False   \n",
       "76                                              False   \n",
       "77                                              False   \n",
       "78                                              False   \n",
       "79                                              False   \n",
       "80                                              False   \n",
       "81                                              False   \n",
       "82                                              False   \n",
       "83                                              False   \n",
       "84                                              False   \n",
       "85                                              False   \n",
       "86                                              False   \n",
       "87                                              False   \n",
       "88                                         [nan, nan]   \n",
       "89                                              False   \n",
       "90                                              False   \n",
       "91                                              False   \n",
       "92                                              False   \n",
       "93                                              False   \n",
       "94                                              False   \n",
       "95                                              False   \n",
       "96                                              False   \n",
       "97                                              False   \n",
       "98                                              False   \n",
       "99                                              False   \n",
       "\n",
       "                                              stock_3  \n",
       "0                                               False  \n",
       "1                                               False  \n",
       "2                                               False  \n",
       "3                                               False  \n",
       "4                                               False  \n",
       "5                                               False  \n",
       "6                                               False  \n",
       "7                                               False  \n",
       "8                                               False  \n",
       "9                                               False  \n",
       "10                                              False  \n",
       "11                                              False  \n",
       "12                                              False  \n",
       "13                                              False  \n",
       "14                                              False  \n",
       "15                                              False  \n",
       "16                                              False  \n",
       "17                                         [nan, nan]  \n",
       "18                                              False  \n",
       "19                                              False  \n",
       "20                                              False  \n",
       "21                                              False  \n",
       "22                                              False  \n",
       "23                                              False  \n",
       "24                                              False  \n",
       "25                                              False  \n",
       "26                                              False  \n",
       "27                                              False  \n",
       "28                                              False  \n",
       "29                                              False  \n",
       "..                                                ...  \n",
       "70                                              False  \n",
       "71                                              False  \n",
       "72                                    [15.5662288504]  \n",
       "73                                              False  \n",
       "74                                              False  \n",
       "75      [15.9983948677, 15.9983948677, 15.9983948677]  \n",
       "76      [16.1563928337, 16.1563928337, 16.1563928337]  \n",
       "77                                              False  \n",
       "78                                              False  \n",
       "79                                              False  \n",
       "80                                              False  \n",
       "81                                            [15.58]  \n",
       "82  [15.375, nan, 15.17, 15.375, 15.375, nan, 15.3...  \n",
       "83  [nan, nan, nan, 14.6575, nan, 15.1358333333, nan]  \n",
       "84        [nan, nan, nan, nan, nan, nan, 14.145, nan]  \n",
       "85                                              False  \n",
       "86                                              False  \n",
       "87                                              False  \n",
       "88                                              False  \n",
       "89                                              False  \n",
       "90                                              False  \n",
       "91                                        [14.498625]  \n",
       "92                                              False  \n",
       "93                                              False  \n",
       "94                                              False  \n",
       "95                                              False  \n",
       "96                     [14.8869810268, 14.8869810268]  \n",
       "97  [15.0256796078, nan, 15.0256796078, 15.0256796...  \n",
       "98           [15.2185366823, nan, 15.2185366823, nan]  \n",
       "99                     [15.4996450535, 15.4996450535]  \n",
       "\n",
       "[100 rows x 5 columns]"
      ]
     },
     "execution_count": 55,
     "metadata": {},
     "output_type": "execute_result"
    }
   ],
   "source": [
    "pricesOvertime = pd.DataFrame(stockPrices)\n",
    "pricesOvertime"
   ]
  },
  {
   "cell_type": "code",
   "execution_count": 85,
   "metadata": {
    "collapsed": true
   },
   "outputs": [],
   "source": [
    "# To do plot prices over time"
   ]
  },
  {
   "cell_type": "code",
   "execution_count": null,
   "metadata": {
    "collapsed": true
   },
   "outputs": [],
   "source": []
  },
  {
   "cell_type": "code",
   "execution_count": null,
   "metadata": {
    "collapsed": true
   },
   "outputs": [],
   "source": []
  },
  {
   "cell_type": "code",
   "execution_count": 18,
   "metadata": {
    "collapsed": true
   },
   "outputs": [],
   "source": [
    "cur.close()\n",
    "conn.close()"
   ]
  }
 ],
 "metadata": {
  "anaconda-cloud": {},
  "kernelspec": {
   "display_name": "Python [Root]",
   "language": "python",
   "name": "Python [Root]"
  },
  "language_info": {
   "codemirror_mode": {
    "name": "ipython",
    "version": 3
   },
   "file_extension": ".py",
   "mimetype": "text/x-python",
   "name": "python",
   "nbconvert_exporter": "python",
   "pygments_lexer": "ipython3",
   "version": "3.5.2"
  }
 },
 "nbformat": 4,
 "nbformat_minor": 1
}
