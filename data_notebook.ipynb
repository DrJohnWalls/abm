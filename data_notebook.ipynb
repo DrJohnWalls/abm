{
 "cells": [
  {
   "cell_type": "markdown",
   "metadata": {},
   "source": [
    "# Data analysis\n",
    "In this iPython notebook, we analyse the data produced by the basic stock market model"
   ]
  },
  {
   "cell_type": "code",
   "execution_count": 1,
   "metadata": {
    "collapsed": true
   },
   "outputs": [],
   "source": [
    "%matplotlib inline\n",
    "import sqlite3\n",
    "import pandas as pd\n",
    "import numpy as np\n",
    "import matplotlib.pyplot as plt\n",
    "from matplotlib import style\n",
    "import ast\n",
    "style.use('seaborn-darkgrid')"
   ]
  },
  {
   "cell_type": "markdown",
   "metadata": {},
   "source": [
    "First, I open a connection to the database"
   ]
  },
  {
   "cell_type": "code",
   "execution_count": 2,
   "metadata": {
    "collapsed": true
   },
   "outputs": [],
   "source": [
    "conn = sqlite3.connect('dataBaseOffline.sqlite')\n",
    "cur = conn.cursor()"
   ]
  },
  {
   "cell_type": "markdown",
   "metadata": {},
   "source": [
    "## 1 State variables \n",
    "Using the Statevariables, Variabletypes and Objects tables, I then analyse the state variables of the simulated objects: stocks, firms, and traders. \n",
    "### 1.1 Stocks \n",
    "The state variables of stocks are: \n",
    "* the firm the stock links to,\n",
    "* the face value,\n",
    "* the amount of stocks outstanding. \n",
    "\n",
    "In this version of the model these variables are static. "
   ]
  },
  {
   "cell_type": "code",
   "execution_count": 3,
   "metadata": {
    "collapsed": false
   },
   "outputs": [],
   "source": [
    "stockVariables = pd.read_sql_query(\n",
    "    \"\"\"\n",
    "    SELECT Statevariables.period, Variabletypes.variable_type, Objects.object_name, Objects.object_type ,Statevariables.value \n",
    "    FROM Statevariables JOIN Variabletypes JOIN Objects ON Statevariables.variable_id = Variabletypes.id and Statevariables.owner_id = Objects.id \n",
    "    WHERE Objects.object_type = 'stock'\n",
    "    \"\"\", conn)"
   ]
  },
  {
   "cell_type": "code",
   "execution_count": 4,
   "metadata": {
    "collapsed": false
   },
   "outputs": [
    {
     "data": {
      "text/html": [
       "<div>\n",
       "<table border=\"1\" class=\"dataframe\">\n",
       "  <thead>\n",
       "    <tr style=\"text-align: right;\">\n",
       "      <th></th>\n",
       "      <th>period</th>\n",
       "      <th>variable_type</th>\n",
       "      <th>object_name</th>\n",
       "      <th>object_type</th>\n",
       "      <th>value</th>\n",
       "    </tr>\n",
       "  </thead>\n",
       "  <tbody>\n",
       "    <tr>\n",
       "      <th>1195</th>\n",
       "      <td>99</td>\n",
       "      <td>amount</td>\n",
       "      <td>stock_1</td>\n",
       "      <td>stock</td>\n",
       "      <td>200.0</td>\n",
       "    </tr>\n",
       "    <tr>\n",
       "      <th>1196</th>\n",
       "      <td>99</td>\n",
       "      <td>firm</td>\n",
       "      <td>stock_2</td>\n",
       "      <td>stock</td>\n",
       "      <td>2.0</td>\n",
       "    </tr>\n",
       "    <tr>\n",
       "      <th>1197</th>\n",
       "      <td>99</td>\n",
       "      <td>name</td>\n",
       "      <td>stock_2</td>\n",
       "      <td>stock</td>\n",
       "      <td>2.0</td>\n",
       "    </tr>\n",
       "    <tr>\n",
       "      <th>1198</th>\n",
       "      <td>99</td>\n",
       "      <td>face_value</td>\n",
       "      <td>stock_2</td>\n",
       "      <td>stock</td>\n",
       "      <td>50.0</td>\n",
       "    </tr>\n",
       "    <tr>\n",
       "      <th>1199</th>\n",
       "      <td>99</td>\n",
       "      <td>amount</td>\n",
       "      <td>stock_2</td>\n",
       "      <td>stock</td>\n",
       "      <td>200.0</td>\n",
       "    </tr>\n",
       "  </tbody>\n",
       "</table>\n",
       "</div>"
      ],
      "text/plain": [
       "      period variable_type object_name object_type  value\n",
       "1195      99        amount     stock_1       stock  200.0\n",
       "1196      99          firm     stock_2       stock    2.0\n",
       "1197      99          name     stock_2       stock    2.0\n",
       "1198      99    face_value     stock_2       stock   50.0\n",
       "1199      99        amount     stock_2       stock  200.0"
      ]
     },
     "execution_count": 4,
     "metadata": {},
     "output_type": "execute_result"
    }
   ],
   "source": [
    "stockVariables.tail()"
   ]
  },
  {
   "cell_type": "code",
   "execution_count": 5,
   "metadata": {
    "collapsed": false
   },
   "outputs": [],
   "source": [
    "stock_0 = stockVariables.query('variable_type == \"amount\" and object_name == \"stock_0\"')['value']\n",
    "stock_1 = stockVariables.query('variable_type == \"amount\" and object_name == \"stock_1\"')['value']\n",
    "stock_2 = stockVariables.query('variable_type == \"amount\" and object_name == \"stock_2\"')['value']\n",
    "#stock_3 = stockVariables.query('variable_type == \"amount\" and object_name == \"stock_3\"')['value']\n",
    "time = stockVariables.query('variable_type == \"amount\" and object_name == \"stock_0\"')['period']"
   ]
  },
  {
   "cell_type": "code",
   "execution_count": 6,
   "metadata": {
    "collapsed": false
   },
   "outputs": [],
   "source": [
    "face_value_0 = stockVariables.query('variable_type == \"face_value\" and object_name == \"stock_0\"')['value']\n",
    "face_value_1 = stockVariables.query('variable_type == \"face_value\" and object_name == \"stock_1\"')['value']\n",
    "face_value_2 = stockVariables.query('variable_type == \"face_value\" and object_name == \"stock_2\"')['value']\n",
    "#face_value_3 = stockVariables.query('variable_type == \"face_value\" and object_name == \"stock_3\"')['value']"
   ]
  },
  {
   "cell_type": "code",
   "execution_count": 7,
   "metadata": {
    "collapsed": false
   },
   "outputs": [
    {
     "data": {
      "text/plain": [
       "<matplotlib.legend.Legend at 0x22982938e80>"
      ]
     },
     "execution_count": 7,
     "metadata": {},
     "output_type": "execute_result"
    },
    {
     "data": {
      "image/png": "[encoded data removed]",
      "text/plain": [
       "<matplotlib.figure.Figure at 0x22982551a20>"
      ]
     },
     "metadata": {},
     "output_type": "display_data"
    }
   ],
   "source": [
    "fig = plt.figure(figsize=(10,5))\n",
    "ax1 = fig.add_subplot(121)\n",
    "ax2 = fig.add_subplot(122)\n",
    "\n",
    "ax1.plot(time, stock_0, label='stock_0')\n",
    "ax1.plot(time, stock_1, label='stock_1')\n",
    "ax1.plot(time, stock_2, label='stock_2')\n",
    "#ax1.plot(time, stock_3, label='stock_3')\n",
    "\n",
    "ax2.plot(time, face_value_0, label='stock_0')\n",
    "ax2.plot(time, face_value_1, label='stock_1')\n",
    "ax2.plot(time, face_value_2, label='stock_2')\n",
    "#ax2.plot(time, face_value_3, label='stock_3')\n",
    "\n",
    "ax1.set_xlabel('(Simulation time)', fontsize='14')\n",
    "ax2.set_xlabel('(Simulation time)', fontsize='14')\n",
    "ax1.set_ylabel('amount_of stocks outstanding', fontsize='14')\n",
    "ax2.set_ylabel('stock facevalue', fontsize='14')\n",
    "\n",
    "plt.legend(loc=2, fontsize='14')"
   ]
  },
  {
   "cell_type": "markdown",
   "metadata": {},
   "source": [
    "### 1.2 Firms \n",
    "The state variables of firms are: \n",
    "* profit\n",
    "* Bookvalue,\n",
    "* Dividend rate."
   ]
  },
  {
   "cell_type": "code",
   "execution_count": 8,
   "metadata": {
    "collapsed": false
   },
   "outputs": [],
   "source": [
    "firmVariables = pd.read_sql_query(\n",
    "    \"\"\"\n",
    "    SELECT Statevariables.period, Variabletypes.variable_type, Objects.object_name, Objects.object_type, Statevariables.value \n",
    "    FROM Statevariables JOIN Variabletypes JOIN Objects \n",
    "    ON Statevariables.variable_id = Variabletypes.id and Statevariables.owner_id = Objects.id \n",
    "    WHERE Objects.object_type = 'firm'\n",
    "    \"\"\", conn)"
   ]
  },
  {
   "cell_type": "code",
   "execution_count": 9,
   "metadata": {
    "collapsed": false
   },
   "outputs": [
    {
     "data": {
      "text/html": [
       "<div>\n",
       "<table border=\"1\" class=\"dataframe\">\n",
       "  <thead>\n",
       "    <tr style=\"text-align: right;\">\n",
       "      <th></th>\n",
       "      <th>period</th>\n",
       "      <th>variable_type</th>\n",
       "      <th>object_name</th>\n",
       "      <th>object_type</th>\n",
       "      <th>value</th>\n",
       "    </tr>\n",
       "  </thead>\n",
       "  <tbody>\n",
       "    <tr>\n",
       "      <th>0</th>\n",
       "      <td>0</td>\n",
       "      <td>profit</td>\n",
       "      <td>firm_0</td>\n",
       "      <td>firm</td>\n",
       "      <td>210</td>\n",
       "    </tr>\n",
       "    <tr>\n",
       "      <th>1</th>\n",
       "      <td>0</td>\n",
       "      <td>profit_history</td>\n",
       "      <td>firm_0</td>\n",
       "      <td>firm</td>\n",
       "      <td>[150, 170, 190, 200, 210]</td>\n",
       "    </tr>\n",
       "    <tr>\n",
       "      <th>2</th>\n",
       "      <td>0</td>\n",
       "      <td>name</td>\n",
       "      <td>firm_0</td>\n",
       "      <td>firm</td>\n",
       "      <td>0</td>\n",
       "    </tr>\n",
       "    <tr>\n",
       "      <th>3</th>\n",
       "      <td>0</td>\n",
       "      <td>profit_growth_history</td>\n",
       "      <td>firm_0</td>\n",
       "      <td>firm</td>\n",
       "      <td>[0.1333333333333333, 0.11764705882352944, 0.05...</td>\n",
       "    </tr>\n",
       "    <tr>\n",
       "      <th>4</th>\n",
       "      <td>0</td>\n",
       "      <td>book_value</td>\n",
       "      <td>firm_0</td>\n",
       "      <td>firm</td>\n",
       "      <td>10000</td>\n",
       "    </tr>\n",
       "  </tbody>\n",
       "</table>\n",
       "</div>"
      ],
      "text/plain": [
       "   period          variable_type object_name object_type  \\\n",
       "0       0                 profit      firm_0        firm   \n",
       "1       0         profit_history      firm_0        firm   \n",
       "2       0                   name      firm_0        firm   \n",
       "3       0  profit_growth_history      firm_0        firm   \n",
       "4       0             book_value      firm_0        firm   \n",
       "\n",
       "                                               value  \n",
       "0                                                210  \n",
       "1                          [150, 170, 190, 200, 210]  \n",
       "2                                                  0  \n",
       "3  [0.1333333333333333, 0.11764705882352944, 0.05...  \n",
       "4                                              10000  "
      ]
     },
     "execution_count": 9,
     "metadata": {},
     "output_type": "execute_result"
    }
   ],
   "source": [
    "firmVariables.head(5)"
   ]
  },
  {
   "cell_type": "code",
   "execution_count": 10,
   "metadata": {
    "collapsed": true
   },
   "outputs": [],
   "source": [
    "firm_0 = firmVariables.query('variable_type == \"profit\" and object_name == \"firm_0\"')['value']\n",
    "firm_1 = firmVariables.query('variable_type == \"profit\" and object_name == \"firm_1\"')['value']\n",
    "firm_2 = firmVariables.query('variable_type == \"profit\" and object_name == \"firm_2\"')['value']\n",
    "#firm_3 = firmVariables.query('variable_type == \"profit\" and object_name == \"firm_3\"')['value']\n",
    "f_time = firmVariables.query('variable_type == \"profit\" and object_name == \"firm_0\"')['period']"
   ]
  },
  {
   "cell_type": "code",
   "execution_count": 11,
   "metadata": {
    "collapsed": false
   },
   "outputs": [
    {
     "data": {
      "text/plain": [
       "<matplotlib.legend.Legend at 0x22982a13358>"
      ]
     },
     "execution_count": 11,
     "metadata": {},
     "output_type": "execute_result"
    },
    {
     "data": {
      "image/png": "[encoded data removed]",
      "text/plain": [
       "<matplotlib.figure.Figure at 0x229829cb240>"
      ]
     },
     "metadata": {},
     "output_type": "display_data"
    }
   ],
   "source": [
    "fig = plt.figure(figsize=(10,5))\n",
    "ax1 = fig.add_subplot(111)\n",
    "\n",
    "ax1.plot(f_time, firm_0, label='firm_0')\n",
    "ax1.plot(f_time, firm_1, label='firm_1')\n",
    "ax1.plot(f_time, firm_2, label='firm_2')\n",
    "#ax1.plot(f_time, firm_3, label='firm_3')\n",
    "\n",
    "ax1.set_xlabel('(Simulation time)', fontsize='14')\n",
    "ax1.set_ylabel('Profit', fontsize='18')\n",
    "\n",
    "plt.legend(loc=2, fontsize='14')"
   ]
  },
  {
   "cell_type": "markdown",
   "metadata": {},
   "source": [
    "### 1.3 Traders"
   ]
  },
  {
   "cell_type": "markdown",
   "metadata": {},
   "source": [
    "In this section, we examine the state variables of traders. These are: \n",
    "* Money\n",
    "* Portfolio of stocks: *The type and amount of that stock agent holds*\n",
    "* Bid-ask spread: *the percentage difference between the amount at which an agent is willing to buy and sell a stock.*\n",
    "* Memory size: *the amount of periods an agent remembers stock prices*"
   ]
  },
  {
   "cell_type": "code",
   "execution_count": 12,
   "metadata": {
    "collapsed": false
   },
   "outputs": [],
   "source": [
    "traderVariables = pd.read_sql_query(\n",
    "    \"\"\"\n",
    "    SELECT Statevariables.period, Variabletypes.variable_type, Objects.object_name, Objects.object_type, Statevariables.value \n",
    "    FROM Statevariables JOIN Variabletypes JOIN Objects \n",
    "    ON Statevariables.variable_id = Variabletypes.id and Statevariables.owner_id = Objects.id \n",
    "    WHERE Objects.object_type = 'trader'\n",
    "    \"\"\", conn)"
   ]
  },
  {
   "cell_type": "code",
   "execution_count": 13,
   "metadata": {
    "collapsed": false
   },
   "outputs": [
    {
     "data": {
      "text/html": [
       "<div>\n",
       "<table border=\"1\" class=\"dataframe\">\n",
       "  <thead>\n",
       "    <tr style=\"text-align: right;\">\n",
       "      <th></th>\n",
       "      <th>period</th>\n",
       "      <th>variable_type</th>\n",
       "      <th>object_name</th>\n",
       "      <th>object_type</th>\n",
       "      <th>value</th>\n",
       "    </tr>\n",
       "  </thead>\n",
       "  <tbody>\n",
       "    <tr>\n",
       "      <th>5995</th>\n",
       "      <td>99</td>\n",
       "      <td>money</td>\n",
       "      <td>trader_7</td>\n",
       "      <td>trader</td>\n",
       "      <td>197.733</td>\n",
       "    </tr>\n",
       "    <tr>\n",
       "      <th>5996</th>\n",
       "      <td>99</td>\n",
       "      <td>name</td>\n",
       "      <td>trader_7</td>\n",
       "      <td>trader</td>\n",
       "      <td>7</td>\n",
       "    </tr>\n",
       "    <tr>\n",
       "      <th>5997</th>\n",
       "      <td>99</td>\n",
       "      <td>memory_size</td>\n",
       "      <td>trader_7</td>\n",
       "      <td>trader</td>\n",
       "      <td>1</td>\n",
       "    </tr>\n",
       "    <tr>\n",
       "      <th>5998</th>\n",
       "      <td>99</td>\n",
       "      <td>bid_ask_spread</td>\n",
       "      <td>trader_7</td>\n",
       "      <td>trader</td>\n",
       "      <td>5</td>\n",
       "    </tr>\n",
       "    <tr>\n",
       "      <th>5999</th>\n",
       "      <td>99</td>\n",
       "      <td>stocks</td>\n",
       "      <td>trader_7</td>\n",
       "      <td>trader</td>\n",
       "      <td>{'stock_0': 0, 'stock_1': 0, 'stock_2': 0}</td>\n",
       "    </tr>\n",
       "  </tbody>\n",
       "</table>\n",
       "</div>"
      ],
      "text/plain": [
       "      period   variable_type object_name object_type  \\\n",
       "5995      99           money    trader_7      trader   \n",
       "5996      99            name    trader_7      trader   \n",
       "5997      99     memory_size    trader_7      trader   \n",
       "5998      99  bid_ask_spread    trader_7      trader   \n",
       "5999      99          stocks    trader_7      trader   \n",
       "\n",
       "                                           value  \n",
       "5995                                     197.733  \n",
       "5996                                           7  \n",
       "5997                                           1  \n",
       "5998                                           5  \n",
       "5999  {'stock_0': 0, 'stock_1': 0, 'stock_2': 0}  "
      ]
     },
     "execution_count": 13,
     "metadata": {},
     "output_type": "execute_result"
    }
   ],
   "source": [
    "traderVariables.tail()"
   ]
  },
  {
   "cell_type": "code",
   "execution_count": 14,
   "metadata": {
    "collapsed": true
   },
   "outputs": [],
   "source": [
    "trader_0 = traderVariables.query('variable_type == \"money\" and object_name == \"trader_0\"')['value']\n",
    "t_time = traderVariables.query('variable_type == \"money\" and object_name == \"trader_0\"')['period']"
   ]
  },
  {
   "cell_type": "markdown",
   "metadata": {},
   "source": [
    "### Money:\n",
    "Over time some traders trade more than other and thus their **money** either increases or decreases. All traders start out with money between 200 and 250 and over time this branches out to a distribution between 0 and 280. "
   ]
  },
  {
   "cell_type": "code",
   "execution_count": 15,
   "metadata": {
    "collapsed": false
   },
   "outputs": [
    {
     "data": {
      "text/plain": [
       "<matplotlib.text.Text at 0x229829b9be0>"
      ]
     },
     "execution_count": 15,
     "metadata": {},
     "output_type": "execute_result"
    },
    {
     "data": {
      "image/png": "[encoded data removed]",
      "text/plain": [
       "<matplotlib.figure.Figure at 0x229824afd30>"
      ]
     },
     "metadata": {},
     "output_type": "display_data"
    }
   ],
   "source": [
    "fig = plt.figure(figsize=(10,5))\n",
    "ax1 = fig.add_subplot(111)\n",
    "\n",
    "for trader in traderVariables['object_name'].unique():\n",
    "    ax1.plot(t_time, \n",
    "            traderVariables.query('variable_type == \"money\" and object_name == \"{}\"'.format(trader))['value'],\n",
    "            label=trader)\n",
    "\n",
    "ax1.set_xlabel('(Simulation time)', fontsize='14')\n",
    "ax1.set_ylabel('Money', fontsize='18')\n",
    "\n",
    "#plt.legend(loc=2, fontsize='14')"
   ]
  },
  {
   "cell_type": "markdown",
   "metadata": {},
   "source": [
    "### Stock portfolio:\n",
    "Likewise the distribution of stocks changes as traders trade with each other. "
   ]
  },
  {
   "cell_type": "code",
   "execution_count": 16,
   "metadata": {
    "collapsed": false
   },
   "outputs": [
    {
     "name": "stderr",
     "output_type": "stream",
     "text": [
      "C:\\Users\\joerischasfoort\\Anaconda3\\lib\\site-packages\\ipykernel\\__main__.py:2: SettingWithCopyWarning: \n",
      "A value is trying to be set on a copy of a slice from a DataFrame.\n",
      "Try using .loc[row_indexer,col_indexer] = value instead\n",
      "\n",
      "See the caveats in the documentation: http://pandas.pydata.org/pandas-docs/stable/indexing.html#indexing-view-versus-copy\n",
      "  from ipykernel import kernelapp as app\n"
     ]
    }
   ],
   "source": [
    "traderPortfolios = traderVariables.query('variable_type == \"stocks\"')\n",
    "traderPortfolios['value'] = traderPortfolios['value'].apply(ast.literal_eval)"
   ]
  },
  {
   "cell_type": "code",
   "execution_count": 40,
   "metadata": {
    "collapsed": false
   },
   "outputs": [
    {
     "name": "stderr",
     "output_type": "stream",
     "text": [
      "C:\\Users\\joerischasfoort\\Anaconda3\\lib\\site-packages\\ipykernel\\__main__.py:6: SettingWithCopyWarning: \n",
      "A value is trying to be set on a copy of a slice from a DataFrame.\n",
      "Try using .loc[row_indexer,col_indexer] = value instead\n",
      "\n",
      "See the caveats in the documentation: http://pandas.pydata.org/pandas-docs/stable/indexing.html#indexing-view-versus-copy\n"
     ]
    },
    {
     "data": {
      "text/html": [
       "<div>\n",
       "<table border=\"1\" class=\"dataframe\">\n",
       "  <thead>\n",
       "    <tr style=\"text-align: right;\">\n",
       "      <th></th>\n",
       "      <th>period</th>\n",
       "      <th>variable_type</th>\n",
       "      <th>object_name</th>\n",
       "      <th>object_type</th>\n",
       "      <th>value</th>\n",
       "      <th>stock_0</th>\n",
       "      <th>stock_1</th>\n",
       "      <th>stock_2</th>\n",
       "    </tr>\n",
       "  </thead>\n",
       "  <tbody>\n",
       "    <tr>\n",
       "      <th>5979</th>\n",
       "      <td>99</td>\n",
       "      <td>stocks</td>\n",
       "      <td>trader_1</td>\n",
       "      <td>trader</td>\n",
       "      <td>{'stock_1': 2, 'stock_2': 4, 'stock_0': 2}</td>\n",
       "      <td>2</td>\n",
       "      <td>2</td>\n",
       "      <td>4</td>\n",
       "    </tr>\n",
       "    <tr>\n",
       "      <th>5984</th>\n",
       "      <td>99</td>\n",
       "      <td>stocks</td>\n",
       "      <td>trader_10</td>\n",
       "      <td>trader</td>\n",
       "      <td>{'stock_1': 1, 'stock_2': 0, 'stock_0': 0}</td>\n",
       "      <td>0</td>\n",
       "      <td>1</td>\n",
       "      <td>0</td>\n",
       "    </tr>\n",
       "    <tr>\n",
       "      <th>5989</th>\n",
       "      <td>99</td>\n",
       "      <td>stocks</td>\n",
       "      <td>trader_8</td>\n",
       "      <td>trader</td>\n",
       "      <td>{'stock_1': 0, 'stock_2': 8, 'stock_0': 1}</td>\n",
       "      <td>1</td>\n",
       "      <td>0</td>\n",
       "      <td>8</td>\n",
       "    </tr>\n",
       "    <tr>\n",
       "      <th>5994</th>\n",
       "      <td>99</td>\n",
       "      <td>stocks</td>\n",
       "      <td>trader_5</td>\n",
       "      <td>trader</td>\n",
       "      <td>{'stock_1': 1, 'stock_2': 0, 'stock_0': 2}</td>\n",
       "      <td>2</td>\n",
       "      <td>1</td>\n",
       "      <td>0</td>\n",
       "    </tr>\n",
       "    <tr>\n",
       "      <th>5999</th>\n",
       "      <td>99</td>\n",
       "      <td>stocks</td>\n",
       "      <td>trader_7</td>\n",
       "      <td>trader</td>\n",
       "      <td>{'stock_1': 0, 'stock_2': 0, 'stock_0': 0}</td>\n",
       "      <td>0</td>\n",
       "      <td>0</td>\n",
       "      <td>0</td>\n",
       "    </tr>\n",
       "  </tbody>\n",
       "</table>\n",
       "</div>"
      ],
      "text/plain": [
       "      period variable_type object_name object_type  \\\n",
       "5979      99        stocks    trader_1      trader   \n",
       "5984      99        stocks   trader_10      trader   \n",
       "5989      99        stocks    trader_8      trader   \n",
       "5994      99        stocks    trader_5      trader   \n",
       "5999      99        stocks    trader_7      trader   \n",
       "\n",
       "                                           value  stock_0  stock_1  stock_2  \n",
       "5979  {'stock_1': 2, 'stock_2': 4, 'stock_0': 2}        2        2        4  \n",
       "5984  {'stock_1': 1, 'stock_2': 0, 'stock_0': 0}        0        1        0  \n",
       "5989  {'stock_1': 0, 'stock_2': 8, 'stock_0': 1}        1        0        8  \n",
       "5994  {'stock_1': 1, 'stock_2': 0, 'stock_0': 2}        2        1        0  \n",
       "5999  {'stock_1': 0, 'stock_2': 0, 'stock_0': 0}        0        0        0  "
      ]
     },
     "execution_count": 40,
     "metadata": {},
     "output_type": "execute_result"
    }
   ],
   "source": [
    "stocks = {}\n",
    "for stock in stockVariables['object_name'].unique():\n",
    "    stocks[stock] = []\n",
    "    for i in range(len(traderPortfolios)):\n",
    "        stocks[stock].append(traderPortfolios['value'].iloc[i][stock])\n",
    "    traderPortfolios[stock] = stocks[stock]\n",
    "traderPortfolios.tail()"
   ]
  },
  {
   "cell_type": "code",
   "execution_count": 44,
   "metadata": {
    "collapsed": false
   },
   "outputs": [],
   "source": [
    "tp_time = traderPortfolios.query('object_name == \"trader_0\"')['period']"
   ]
  },
  {
   "cell_type": "code",
   "execution_count": 49,
   "metadata": {
    "collapsed": false
   },
   "outputs": [
    {
     "data": {
      "text/plain": [
       "<matplotlib.text.Text at 0x229847e42e8>"
      ]
     },
     "execution_count": 49,
     "metadata": {},
     "output_type": "execute_result"
    },
    {
     "data": {
      "image/png": "[encoded data removed]",
      "text/plain": [
       "<matplotlib.figure.Figure at 0x229847ce748>"
      ]
     },
     "metadata": {},
     "output_type": "display_data"
    }
   ],
   "source": [
    "fig = plt.figure(figsize=(10,5))\n",
    "ax1 = fig.add_subplot(221)\n",
    "ax2 = fig.add_subplot(222)\n",
    "ax3 = fig.add_subplot(223)\n",
    "\n",
    "for trader in traderPortfolios['object_name'].unique():\n",
    "    ax1.plot(tp_time, \n",
    "            traderPortfolios.query('object_name == \"{}\"'.format(trader))['stock_0'],\n",
    "            label=trader)\n",
    "    \n",
    "for trader in traderPortfolios['object_name'].unique():\n",
    "    ax2.plot(tp_time, \n",
    "            traderPortfolios.query('object_name == \"{}\"'.format(trader))['stock_1'],\n",
    "            label=trader)\n",
    "    \n",
    "for trader in traderPortfolios['object_name'].unique():\n",
    "    ax3.plot(tp_time, \n",
    "            traderPortfolios.query('object_name == \"{}\"'.format(trader))['stock_2'],\n",
    "            label=trader)\n",
    "\n",
    "ax1.set_xlabel('(Simulation time)', fontsize='14')\n",
    "ax1.set_ylabel('Stock_0', fontsize='18')\n",
    "ax2.set_xlabel('(Simulation time)', fontsize='14')\n",
    "ax2.set_ylabel('Stock_1', fontsize='18')\n",
    "ax3.set_xlabel('(Simulation time)', fontsize='14')\n",
    "ax3.set_ylabel('Stock_2', fontsize='18')\n",
    "\n",
    "#plt.legend(loc=2, fontsize='14')"
   ]
  },
  {
   "cell_type": "markdown",
   "metadata": {},
   "source": [
    "## 2 Transactions\n",
    "Using the Transactions and Objects tables, I then analyse the transactions made by traders. "
   ]
  },
  {
   "cell_type": "code",
   "execution_count": 51,
   "metadata": {
    "collapsed": false
   },
   "outputs": [],
   "source": [
    "transactions = pd.read_sql_query(\"\"\"\n",
    "SELECT Transactions.id, Transactions.period, Transactors.role, Objects.object_name, Objects.object_type, Transactions.amount_of_product, Transactions.amount_of_money \n",
    "FROM Transactors JOIN Transactions JOIN Objects \n",
    "ON Transactors.transaction_id = Transactions.id and Transactors.transactor_id = Objects.id\n",
    "\"\"\", conn)"
   ]
  },
  {
   "cell_type": "markdown",
   "metadata": {},
   "source": [
    "The price of transactions is not recorded in the simulation. Therefore, I derive it by dividing the amount of money payed for a single transactions by the amount of stocks traded. "
   ]
  },
  {
   "cell_type": "code",
   "execution_count": 52,
   "metadata": {
    "collapsed": true
   },
   "outputs": [],
   "source": [
    "transactions['price'] = transactions['amount_of_money'] / transactions['amount_of_product']"
   ]
  },
  {
   "cell_type": "code",
   "execution_count": 53,
   "metadata": {
    "collapsed": false
   },
   "outputs": [
    {
     "data": {
      "text/html": [
       "<div>\n",
       "<table border=\"1\" class=\"dataframe\">\n",
       "  <thead>\n",
       "    <tr style=\"text-align: right;\">\n",
       "      <th></th>\n",
       "      <th>id</th>\n",
       "      <th>period</th>\n",
       "      <th>role</th>\n",
       "      <th>object_name</th>\n",
       "      <th>object_type</th>\n",
       "      <th>amount_of_product</th>\n",
       "      <th>amount_of_money</th>\n",
       "      <th>price</th>\n",
       "    </tr>\n",
       "  </thead>\n",
       "  <tbody>\n",
       "    <tr>\n",
       "      <th>0</th>\n",
       "      <td>1</td>\n",
       "      <td>0</td>\n",
       "      <td>buyer</td>\n",
       "      <td>trader_3</td>\n",
       "      <td>trader</td>\n",
       "      <td>1.0</td>\n",
       "      <td>19.73125</td>\n",
       "      <td>19.73125</td>\n",
       "    </tr>\n",
       "    <tr>\n",
       "      <th>1</th>\n",
       "      <td>1</td>\n",
       "      <td>0</td>\n",
       "      <td>seller</td>\n",
       "      <td>trader_5</td>\n",
       "      <td>trader</td>\n",
       "      <td>1.0</td>\n",
       "      <td>19.73125</td>\n",
       "      <td>19.73125</td>\n",
       "    </tr>\n",
       "    <tr>\n",
       "      <th>2</th>\n",
       "      <td>1</td>\n",
       "      <td>0</td>\n",
       "      <td>stock</td>\n",
       "      <td>stock_0</td>\n",
       "      <td>stock</td>\n",
       "      <td>1.0</td>\n",
       "      <td>19.73125</td>\n",
       "      <td>19.73125</td>\n",
       "    </tr>\n",
       "    <tr>\n",
       "      <th>3</th>\n",
       "      <td>2</td>\n",
       "      <td>0</td>\n",
       "      <td>buyer</td>\n",
       "      <td>trader_7</td>\n",
       "      <td>trader</td>\n",
       "      <td>1.0</td>\n",
       "      <td>19.73125</td>\n",
       "      <td>19.73125</td>\n",
       "    </tr>\n",
       "    <tr>\n",
       "      <th>4</th>\n",
       "      <td>2</td>\n",
       "      <td>0</td>\n",
       "      <td>seller</td>\n",
       "      <td>trader_6</td>\n",
       "      <td>trader</td>\n",
       "      <td>1.0</td>\n",
       "      <td>19.73125</td>\n",
       "      <td>19.73125</td>\n",
       "    </tr>\n",
       "  </tbody>\n",
       "</table>\n",
       "</div>"
      ],
      "text/plain": [
       "   id  period    role object_name object_type  amount_of_product  \\\n",
       "0   1       0   buyer    trader_3      trader                1.0   \n",
       "1   1       0  seller    trader_5      trader                1.0   \n",
       "2   1       0   stock     stock_0       stock                1.0   \n",
       "3   2       0   buyer    trader_7      trader                1.0   \n",
       "4   2       0  seller    trader_6      trader                1.0   \n",
       "\n",
       "   amount_of_money     price  \n",
       "0         19.73125  19.73125  \n",
       "1         19.73125  19.73125  \n",
       "2         19.73125  19.73125  \n",
       "3         19.73125  19.73125  \n",
       "4         19.73125  19.73125  "
      ]
     },
     "execution_count": 53,
     "metadata": {},
     "output_type": "execute_result"
    }
   ],
   "source": [
    "transactions.head()"
   ]
  },
  {
   "cell_type": "markdown",
   "metadata": {},
   "source": [
    "### 2.1 Prices \n",
    "A stock can be traded at different prices at the same time by different traders. I therefore construct a seperate table which summarizes stocks prices over time. "
   ]
  },
  {
   "cell_type": "code",
   "execution_count": 56,
   "metadata": {
    "collapsed": false
   },
   "outputs": [],
   "source": [
    "transactionTime = [n for n in range(100)]"
   ]
  },
  {
   "cell_type": "code",
   "execution_count": 83,
   "metadata": {
    "collapsed": false
   },
   "outputs": [],
   "source": [
    "stockPrices = {'period': transactionTime}\n",
    "for stock in transactions.query('object_type == \"stock\"')['object_name'].unique():\n",
    "    allPrices = []\n",
    "    for period in transactionTime:\n",
    "        pricesAtPeriod = []\n",
    "        for price in transactions.query('object_name == \"{}\" and period == {}'.format(stock,period))['price']:\n",
    "            pricesAtPeriod.append(price)\n",
    "        if (not not pricesAtPeriod):\n",
    "            allPrices.append(pricesAtPeriod)\n",
    "        else:\n",
    "            allPrices.append(False)\n",
    "    stockPrices[stock] = allPrices"
   ]
  },
  {
   "cell_type": "code",
   "execution_count": 84,
   "metadata": {
    "collapsed": false
   },
   "outputs": [
    {
     "data": {
      "text/html": [
       "<div>\n",
       "<table border=\"1\" class=\"dataframe\">\n",
       "  <thead>\n",
       "    <tr style=\"text-align: right;\">\n",
       "      <th></th>\n",
       "      <th>period</th>\n",
       "      <th>stock_0</th>\n",
       "      <th>stock_1</th>\n",
       "      <th>stock_2</th>\n",
       "    </tr>\n",
       "  </thead>\n",
       "  <tbody>\n",
       "    <tr>\n",
       "      <th>0</th>\n",
       "      <td>0</td>\n",
       "      <td>[19.73125, 19.73125, 19.73125]</td>\n",
       "      <td>False</td>\n",
       "      <td>False</td>\n",
       "    </tr>\n",
       "    <tr>\n",
       "      <th>1</th>\n",
       "      <td>1</td>\n",
       "      <td>[21.0125]</td>\n",
       "      <td>False</td>\n",
       "      <td>False</td>\n",
       "    </tr>\n",
       "    <tr>\n",
       "      <th>2</th>\n",
       "      <td>2</td>\n",
       "      <td>False</td>\n",
       "      <td>False</td>\n",
       "      <td>False</td>\n",
       "    </tr>\n",
       "    <tr>\n",
       "      <th>3</th>\n",
       "      <td>3</td>\n",
       "      <td>False</td>\n",
       "      <td>False</td>\n",
       "      <td>False</td>\n",
       "    </tr>\n",
       "    <tr>\n",
       "      <th>4</th>\n",
       "      <td>4</td>\n",
       "      <td>False</td>\n",
       "      <td>False</td>\n",
       "      <td>[18.5525, 18.5525, 18.5525]</td>\n",
       "    </tr>\n",
       "    <tr>\n",
       "      <th>5</th>\n",
       "      <td>5</td>\n",
       "      <td>False</td>\n",
       "      <td>[18.9625, 18.9625]</td>\n",
       "      <td>False</td>\n",
       "    </tr>\n",
       "    <tr>\n",
       "      <th>6</th>\n",
       "      <td>6</td>\n",
       "      <td>[21.0125]</td>\n",
       "      <td>[18.3475, 18.3475]</td>\n",
       "      <td>False</td>\n",
       "    </tr>\n",
       "    <tr>\n",
       "      <th>7</th>\n",
       "      <td>7</td>\n",
       "      <td>[20.5]</td>\n",
       "      <td>False</td>\n",
       "      <td>False</td>\n",
       "    </tr>\n",
       "    <tr>\n",
       "      <th>8</th>\n",
       "      <td>8</td>\n",
       "      <td>False</td>\n",
       "      <td>False</td>\n",
       "      <td>False</td>\n",
       "    </tr>\n",
       "    <tr>\n",
       "      <th>9</th>\n",
       "      <td>9</td>\n",
       "      <td>[21.396875, 21.396875]</td>\n",
       "      <td>False</td>\n",
       "      <td>False</td>\n",
       "    </tr>\n",
       "    <tr>\n",
       "      <th>10</th>\n",
       "      <td>10</td>\n",
       "      <td>False</td>\n",
       "      <td>False</td>\n",
       "      <td>False</td>\n",
       "    </tr>\n",
       "    <tr>\n",
       "      <th>11</th>\n",
       "      <td>11</td>\n",
       "      <td>False</td>\n",
       "      <td>False</td>\n",
       "      <td>False</td>\n",
       "    </tr>\n",
       "    <tr>\n",
       "      <th>12</th>\n",
       "      <td>12</td>\n",
       "      <td>False</td>\n",
       "      <td>False</td>\n",
       "      <td>False</td>\n",
       "    </tr>\n",
       "    <tr>\n",
       "      <th>13</th>\n",
       "      <td>13</td>\n",
       "      <td>False</td>\n",
       "      <td>False</td>\n",
       "      <td>False</td>\n",
       "    </tr>\n",
       "    <tr>\n",
       "      <th>14</th>\n",
       "      <td>14</td>\n",
       "      <td>False</td>\n",
       "      <td>False</td>\n",
       "      <td>[17.835]</td>\n",
       "    </tr>\n",
       "    <tr>\n",
       "      <th>15</th>\n",
       "      <td>15</td>\n",
       "      <td>False</td>\n",
       "      <td>False</td>\n",
       "      <td>[17.22, 17.22]</td>\n",
       "    </tr>\n",
       "    <tr>\n",
       "      <th>16</th>\n",
       "      <td>16</td>\n",
       "      <td>False</td>\n",
       "      <td>False</td>\n",
       "      <td>False</td>\n",
       "    </tr>\n",
       "    <tr>\n",
       "      <th>17</th>\n",
       "      <td>17</td>\n",
       "      <td>False</td>\n",
       "      <td>False</td>\n",
       "      <td>False</td>\n",
       "    </tr>\n",
       "    <tr>\n",
       "      <th>18</th>\n",
       "      <td>18</td>\n",
       "      <td>False</td>\n",
       "      <td>False</td>\n",
       "      <td>False</td>\n",
       "    </tr>\n",
       "    <tr>\n",
       "      <th>19</th>\n",
       "      <td>19</td>\n",
       "      <td>False</td>\n",
       "      <td>[16.605]</td>\n",
       "      <td>False</td>\n",
       "    </tr>\n",
       "    <tr>\n",
       "      <th>20</th>\n",
       "      <td>20</td>\n",
       "      <td>False</td>\n",
       "      <td>False</td>\n",
       "      <td>False</td>\n",
       "    </tr>\n",
       "    <tr>\n",
       "      <th>21</th>\n",
       "      <td>21</td>\n",
       "      <td>False</td>\n",
       "      <td>False</td>\n",
       "      <td>False</td>\n",
       "    </tr>\n",
       "    <tr>\n",
       "      <th>22</th>\n",
       "      <td>22</td>\n",
       "      <td>False</td>\n",
       "      <td>False</td>\n",
       "      <td>False</td>\n",
       "    </tr>\n",
       "    <tr>\n",
       "      <th>23</th>\n",
       "      <td>23</td>\n",
       "      <td>False</td>\n",
       "      <td>False</td>\n",
       "      <td>False</td>\n",
       "    </tr>\n",
       "    <tr>\n",
       "      <th>24</th>\n",
       "      <td>24</td>\n",
       "      <td>False</td>\n",
       "      <td>False</td>\n",
       "      <td>False</td>\n",
       "    </tr>\n",
       "    <tr>\n",
       "      <th>25</th>\n",
       "      <td>25</td>\n",
       "      <td>False</td>\n",
       "      <td>False</td>\n",
       "      <td>False</td>\n",
       "    </tr>\n",
       "    <tr>\n",
       "      <th>26</th>\n",
       "      <td>26</td>\n",
       "      <td>False</td>\n",
       "      <td>False</td>\n",
       "      <td>False</td>\n",
       "    </tr>\n",
       "    <tr>\n",
       "      <th>27</th>\n",
       "      <td>27</td>\n",
       "      <td>False</td>\n",
       "      <td>False</td>\n",
       "      <td>False</td>\n",
       "    </tr>\n",
       "    <tr>\n",
       "      <th>28</th>\n",
       "      <td>28</td>\n",
       "      <td>False</td>\n",
       "      <td>False</td>\n",
       "      <td>False</td>\n",
       "    </tr>\n",
       "    <tr>\n",
       "      <th>29</th>\n",
       "      <td>29</td>\n",
       "      <td>False</td>\n",
       "      <td>False</td>\n",
       "      <td>False</td>\n",
       "    </tr>\n",
       "    <tr>\n",
       "      <th>...</th>\n",
       "      <td>...</td>\n",
       "      <td>...</td>\n",
       "      <td>...</td>\n",
       "      <td>...</td>\n",
       "    </tr>\n",
       "    <tr>\n",
       "      <th>70</th>\n",
       "      <td>70</td>\n",
       "      <td>False</td>\n",
       "      <td>[16.14375, 16.14375]</td>\n",
       "      <td>[15.58]</td>\n",
       "    </tr>\n",
       "    <tr>\n",
       "      <th>71</th>\n",
       "      <td>71</td>\n",
       "      <td>False</td>\n",
       "      <td>False</td>\n",
       "      <td>False</td>\n",
       "    </tr>\n",
       "    <tr>\n",
       "      <th>72</th>\n",
       "      <td>72</td>\n",
       "      <td>False</td>\n",
       "      <td>False</td>\n",
       "      <td>False</td>\n",
       "    </tr>\n",
       "    <tr>\n",
       "      <th>73</th>\n",
       "      <td>73</td>\n",
       "      <td>False</td>\n",
       "      <td>False</td>\n",
       "      <td>False</td>\n",
       "    </tr>\n",
       "    <tr>\n",
       "      <th>74</th>\n",
       "      <td>74</td>\n",
       "      <td>False</td>\n",
       "      <td>False</td>\n",
       "      <td>False</td>\n",
       "    </tr>\n",
       "    <tr>\n",
       "      <th>75</th>\n",
       "      <td>75</td>\n",
       "      <td>False</td>\n",
       "      <td>False</td>\n",
       "      <td>False</td>\n",
       "    </tr>\n",
       "    <tr>\n",
       "      <th>76</th>\n",
       "      <td>76</td>\n",
       "      <td>False</td>\n",
       "      <td>False</td>\n",
       "      <td>False</td>\n",
       "    </tr>\n",
       "    <tr>\n",
       "      <th>77</th>\n",
       "      <td>77</td>\n",
       "      <td>False</td>\n",
       "      <td>False</td>\n",
       "      <td>False</td>\n",
       "    </tr>\n",
       "    <tr>\n",
       "      <th>78</th>\n",
       "      <td>78</td>\n",
       "      <td>False</td>\n",
       "      <td>False</td>\n",
       "      <td>False</td>\n",
       "    </tr>\n",
       "    <tr>\n",
       "      <th>79</th>\n",
       "      <td>79</td>\n",
       "      <td>False</td>\n",
       "      <td>False</td>\n",
       "      <td>False</td>\n",
       "    </tr>\n",
       "    <tr>\n",
       "      <th>80</th>\n",
       "      <td>80</td>\n",
       "      <td>False</td>\n",
       "      <td>False</td>\n",
       "      <td>False</td>\n",
       "    </tr>\n",
       "    <tr>\n",
       "      <th>81</th>\n",
       "      <td>81</td>\n",
       "      <td>False</td>\n",
       "      <td>False</td>\n",
       "      <td>[12.8125]</td>\n",
       "    </tr>\n",
       "    <tr>\n",
       "      <th>82</th>\n",
       "      <td>82</td>\n",
       "      <td>False</td>\n",
       "      <td>False</td>\n",
       "      <td>[12.45375]</td>\n",
       "    </tr>\n",
       "    <tr>\n",
       "      <th>83</th>\n",
       "      <td>83</td>\n",
       "      <td>False</td>\n",
       "      <td>False</td>\n",
       "      <td>False</td>\n",
       "    </tr>\n",
       "    <tr>\n",
       "      <th>84</th>\n",
       "      <td>84</td>\n",
       "      <td>False</td>\n",
       "      <td>False</td>\n",
       "      <td>False</td>\n",
       "    </tr>\n",
       "    <tr>\n",
       "      <th>85</th>\n",
       "      <td>85</td>\n",
       "      <td>[19.27]</td>\n",
       "      <td>False</td>\n",
       "      <td>False</td>\n",
       "    </tr>\n",
       "    <tr>\n",
       "      <th>86</th>\n",
       "      <td>86</td>\n",
       "      <td>False</td>\n",
       "      <td>False</td>\n",
       "      <td>False</td>\n",
       "    </tr>\n",
       "    <tr>\n",
       "      <th>87</th>\n",
       "      <td>87</td>\n",
       "      <td>[17.63, 17.63]</td>\n",
       "      <td>False</td>\n",
       "      <td>False</td>\n",
       "    </tr>\n",
       "    <tr>\n",
       "      <th>88</th>\n",
       "      <td>88</td>\n",
       "      <td>False</td>\n",
       "      <td>False</td>\n",
       "      <td>False</td>\n",
       "    </tr>\n",
       "    <tr>\n",
       "      <th>89</th>\n",
       "      <td>89</td>\n",
       "      <td>False</td>\n",
       "      <td>False</td>\n",
       "      <td>False</td>\n",
       "    </tr>\n",
       "    <tr>\n",
       "      <th>90</th>\n",
       "      <td>90</td>\n",
       "      <td>False</td>\n",
       "      <td>False</td>\n",
       "      <td>False</td>\n",
       "    </tr>\n",
       "    <tr>\n",
       "      <th>91</th>\n",
       "      <td>91</td>\n",
       "      <td>False</td>\n",
       "      <td>False</td>\n",
       "      <td>False</td>\n",
       "    </tr>\n",
       "    <tr>\n",
       "      <th>92</th>\n",
       "      <td>92</td>\n",
       "      <td>False</td>\n",
       "      <td>False</td>\n",
       "      <td>False</td>\n",
       "    </tr>\n",
       "    <tr>\n",
       "      <th>93</th>\n",
       "      <td>93</td>\n",
       "      <td>False</td>\n",
       "      <td>False</td>\n",
       "      <td>False</td>\n",
       "    </tr>\n",
       "    <tr>\n",
       "      <th>94</th>\n",
       "      <td>94</td>\n",
       "      <td>False</td>\n",
       "      <td>False</td>\n",
       "      <td>False</td>\n",
       "    </tr>\n",
       "    <tr>\n",
       "      <th>95</th>\n",
       "      <td>95</td>\n",
       "      <td>False</td>\n",
       "      <td>False</td>\n",
       "      <td>False</td>\n",
       "    </tr>\n",
       "    <tr>\n",
       "      <th>96</th>\n",
       "      <td>96</td>\n",
       "      <td>False</td>\n",
       "      <td>[17.143125]</td>\n",
       "      <td>False</td>\n",
       "    </tr>\n",
       "    <tr>\n",
       "      <th>97</th>\n",
       "      <td>97</td>\n",
       "      <td>False</td>\n",
       "      <td>False</td>\n",
       "      <td>False</td>\n",
       "    </tr>\n",
       "    <tr>\n",
       "      <th>98</th>\n",
       "      <td>98</td>\n",
       "      <td>False</td>\n",
       "      <td>False</td>\n",
       "      <td>False</td>\n",
       "    </tr>\n",
       "    <tr>\n",
       "      <th>99</th>\n",
       "      <td>99</td>\n",
       "      <td>False</td>\n",
       "      <td>False</td>\n",
       "      <td>False</td>\n",
       "    </tr>\n",
       "  </tbody>\n",
       "</table>\n",
       "<p>100 rows × 4 columns</p>\n",
       "</div>"
      ],
      "text/plain": [
       "    period                         stock_0               stock_1  \\\n",
       "0        0  [19.73125, 19.73125, 19.73125]                 False   \n",
       "1        1                       [21.0125]                 False   \n",
       "2        2                           False                 False   \n",
       "3        3                           False                 False   \n",
       "4        4                           False                 False   \n",
       "5        5                           False    [18.9625, 18.9625]   \n",
       "6        6                       [21.0125]    [18.3475, 18.3475]   \n",
       "7        7                          [20.5]                 False   \n",
       "8        8                           False                 False   \n",
       "9        9          [21.396875, 21.396875]                 False   \n",
       "10      10                           False                 False   \n",
       "11      11                           False                 False   \n",
       "12      12                           False                 False   \n",
       "13      13                           False                 False   \n",
       "14      14                           False                 False   \n",
       "15      15                           False                 False   \n",
       "16      16                           False                 False   \n",
       "17      17                           False                 False   \n",
       "18      18                           False                 False   \n",
       "19      19                           False              [16.605]   \n",
       "20      20                           False                 False   \n",
       "21      21                           False                 False   \n",
       "22      22                           False                 False   \n",
       "23      23                           False                 False   \n",
       "24      24                           False                 False   \n",
       "25      25                           False                 False   \n",
       "26      26                           False                 False   \n",
       "27      27                           False                 False   \n",
       "28      28                           False                 False   \n",
       "29      29                           False                 False   \n",
       "..     ...                             ...                   ...   \n",
       "70      70                           False  [16.14375, 16.14375]   \n",
       "71      71                           False                 False   \n",
       "72      72                           False                 False   \n",
       "73      73                           False                 False   \n",
       "74      74                           False                 False   \n",
       "75      75                           False                 False   \n",
       "76      76                           False                 False   \n",
       "77      77                           False                 False   \n",
       "78      78                           False                 False   \n",
       "79      79                           False                 False   \n",
       "80      80                           False                 False   \n",
       "81      81                           False                 False   \n",
       "82      82                           False                 False   \n",
       "83      83                           False                 False   \n",
       "84      84                           False                 False   \n",
       "85      85                         [19.27]                 False   \n",
       "86      86                           False                 False   \n",
       "87      87                  [17.63, 17.63]                 False   \n",
       "88      88                           False                 False   \n",
       "89      89                           False                 False   \n",
       "90      90                           False                 False   \n",
       "91      91                           False                 False   \n",
       "92      92                           False                 False   \n",
       "93      93                           False                 False   \n",
       "94      94                           False                 False   \n",
       "95      95                           False                 False   \n",
       "96      96                           False           [17.143125]   \n",
       "97      97                           False                 False   \n",
       "98      98                           False                 False   \n",
       "99      99                           False                 False   \n",
       "\n",
       "                        stock_2  \n",
       "0                         False  \n",
       "1                         False  \n",
       "2                         False  \n",
       "3                         False  \n",
       "4   [18.5525, 18.5525, 18.5525]  \n",
       "5                         False  \n",
       "6                         False  \n",
       "7                         False  \n",
       "8                         False  \n",
       "9                         False  \n",
       "10                        False  \n",
       "11                        False  \n",
       "12                        False  \n",
       "13                        False  \n",
       "14                     [17.835]  \n",
       "15               [17.22, 17.22]  \n",
       "16                        False  \n",
       "17                        False  \n",
       "18                        False  \n",
       "19                        False  \n",
       "20                        False  \n",
       "21                        False  \n",
       "22                        False  \n",
       "23                        False  \n",
       "24                        False  \n",
       "25                        False  \n",
       "26                        False  \n",
       "27                        False  \n",
       "28                        False  \n",
       "29                        False  \n",
       "..                          ...  \n",
       "70                      [15.58]  \n",
       "71                        False  \n",
       "72                        False  \n",
       "73                        False  \n",
       "74                        False  \n",
       "75                        False  \n",
       "76                        False  \n",
       "77                        False  \n",
       "78                        False  \n",
       "79                        False  \n",
       "80                        False  \n",
       "81                    [12.8125]  \n",
       "82                   [12.45375]  \n",
       "83                        False  \n",
       "84                        False  \n",
       "85                        False  \n",
       "86                        False  \n",
       "87                        False  \n",
       "88                        False  \n",
       "89                        False  \n",
       "90                        False  \n",
       "91                        False  \n",
       "92                        False  \n",
       "93                        False  \n",
       "94                        False  \n",
       "95                        False  \n",
       "96                        False  \n",
       "97                        False  \n",
       "98                        False  \n",
       "99                        False  \n",
       "\n",
       "[100 rows x 4 columns]"
      ]
     },
     "execution_count": 84,
     "metadata": {},
     "output_type": "execute_result"
    }
   ],
   "source": [
    "pricesOvertime = pd.DataFrame(stockPrices)\n",
    "pricesOvertime"
   ]
  },
  {
   "cell_type": "code",
   "execution_count": 85,
   "metadata": {
    "collapsed": true
   },
   "outputs": [],
   "source": [
    "# To do plot prices over time"
   ]
  },
  {
   "cell_type": "code",
   "execution_count": null,
   "metadata": {
    "collapsed": true
   },
   "outputs": [],
   "source": [
    ""
   ]
  },
  {
   "cell_type": "code",
   "execution_count": null,
   "metadata": {
    "collapsed": true
   },
   "outputs": [],
   "source": [
    ""
   ]
  },
  {
   "cell_type": "code",
   "execution_count": 18,
   "metadata": {
    "collapsed": true
   },
   "outputs": [],
   "source": [
    "cur.close()\n",
    "conn.close()"
   ]
  }
 ],
 "metadata": {
  "anaconda-cloud": {},
  "kernelspec": {
   "display_name": "Python [Root]",
   "language": "python",
   "name": "Python [Root]"
  },
  "language_info": {
   "codemirror_mode": {
    "name": "ipython",
    "version": 3.0
   },
   "file_extension": ".py",
   "mimetype": "text/x-python",
   "name": "python",
   "nbconvert_exporter": "python",
   "pygments_lexer": "ipython3",
   "version": "3.5.2"
  }
 },
 "nbformat": 4,
 "nbformat_minor": 0
}