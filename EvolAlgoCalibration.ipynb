{
 "cells": [
  {
   "cell_type": "code",
   "execution_count": 86,
   "metadata": {
    "collapsed": true
   },
   "outputs": [],
   "source": [
    "%matplotlib inline\n",
    "import random\n",
    "from operator import add\n",
    "from functools import reduce\n",
    "import matplotlib.pyplot as plt\n",
    "import math\n",
    "import numpy as np\n",
    "import numpy.random as nrand\n",
    "import pandas as pd\n",
    "import itertools\n",
    "import scipy.stats as stats\n",
    "import powerlaw\n",
    "from stockmarket import baselinemodel\n",
    "from tqdm import tqdm\n",
    "from pandas_datareader import data\n",
    "from pylab import plot, show\n",
    "from math import isclose\n",
    "from stockmarket.stylizedfacts import *\n",
    "import itertools\n",
    "import quandl\n",
    "from SALib.sample import latin\n",
    "from statistics import mean"
   ]
  },
  {
   "cell_type": "markdown",
   "metadata": {},
   "source": [
    "# Calibrate the model using an evolutionary algorithm"
   ]
  },
  {
   "cell_type": "code",
   "execution_count": 80,
   "metadata": {
    "collapsed": true
   },
   "outputs": [],
   "source": [
    "SIMTIME = 200\n",
    "NRUNS = 5\n",
    "backward_simulated_time = 400\n",
    "initial_total_money = 26000\n",
    "init_profit = 1000\n",
    "init_discount_rate = 0.17"
   ]
  },
  {
   "cell_type": "markdown",
   "metadata": {},
   "source": [
    "## Parameter space\n",
    "\n",
    "We define the parameter bounds as follows. \n",
    "\n",
    "| Parameter | Values (start, stop, step) |\n",
    "| -------------| ------------|\n",
    "| share_chartists       | 0 - 1, 0.1      |\n",
    "| share_mean_reversion       | 0 - 1, 0.1   |\n",
    "| order_expiration_time       | 1000 - 10000, 1000      |\n",
    "| agent_order_price_variability       | 1 - 10, 1      |\n",
    "| agent_order_variability       | 0.1 - 5       |\n",
    "| agent_ma_short       | 5 - 100, 5      |\n",
    "| agent_ma_long       | 50 - 400, 50      |\n",
    "| agents_hold_thresholds       | 0.0005        |\n",
    "| Agent_volume_risk_aversion       | 0.1 - 1, 0.1      |\n",
    "| Agent_propensity_to_switch       | 0.1 - 2.2, 0.1      |\n",
    "| profit_announcement_working_days       | 5 - 50, 5       |\n",
    "| price_to_earnings_spread       | 5 - 50, 5       |\n",
    "| price_to_earnings_heterogeneity       | 5 - 50, 5       |"
   ]
  },
  {
   "cell_type": "code",
   "execution_count": 30,
   "metadata": {
    "collapsed": false
   },
   "outputs": [],
   "source": [
    "parameter_space = {'share_chartists':[0.0, 1.0], 'share_mean_reversion':[0.0, 1.0], 'order_expiration_time':[1000, 10000], \n",
    "                   'agent_order_price_variability':[1, 10], 'agent_order_variability':[0.1, 5.0], \n",
    "                   'agent_ma_short':[5, 100], 'agent_ma_long':[50, 400], 'agents_hold_thresholds':[0.00005,0.01],\n",
    "                   'agent_volume_risk_aversion':[0.1, 1.0], 'agent_propensity_to_switch':[0.1, 2.2], \n",
    "                   'profit_announcement_working_days':[5, 50], 'price_to_earnings_base':[10,20], \n",
    "                   'price_to_earnings_heterogeneity':[1.1,2.5], 'price_to_earnings_gap':[4,20],\n",
    "                   'longMA_heterogeneity':[1.1,1.8], 'shortMA_heterogeneity':[1.1,1.8], 'shortMA_memory_divider':[1, 10]}"
   ]
  },
  {
   "cell_type": "markdown",
   "metadata": {},
   "source": [
    "Then, we determine the amount of starting points we want for the genetic algorithm and sample the parameter space using a Latin hypercube sample. "
   ]
  },
  {
   "cell_type": "code",
   "execution_count": 69,
   "metadata": {
    "collapsed": true
   },
   "outputs": [],
   "source": [
    "population_size = 100"
   ]
  },
  {
   "cell_type": "code",
   "execution_count": 65,
   "metadata": {
    "collapsed": true
   },
   "outputs": [],
   "source": [
    "problem = {\n",
    "  'num_vars': 17,\n",
    "  'names': ['share_chartists', 'share_mean_reversion', 'order_expiration_time', 'agent_order_price_variability', \n",
    "            'agent_order_variability', 'agent_ma_short', 'agent_ma_long', 'agents_hold_thresholds',\n",
    "           'agent_volume_risk_aversion', 'agent_propensity_to_switch', 'profit_announcement_working_days',\n",
    "           'price_to_earnings_base', 'price_to_earnings_heterogeneity', 'price_to_earnings_gap',\n",
    "           'longMA_heterogeneity', 'shortMA_heterogeneity', 'shortMA_memory_divider'],\n",
    "  'bounds': [[0, 1], [0, 1], [1000, 10000], [1, 10], \n",
    "             [0.1, 5.0], [5, 100], [50, 400], [0.00005,0.01], \n",
    "             [0.1, 1], [0.1, 2.2], [5, 50],\n",
    "             [10,20], [1.1,2.5], [4,20],\n",
    "             [1.1,1.8], [1.1,1.8], [1, 10]]\n",
    "}"
   ]
  },
  {
   "cell_type": "code",
   "execution_count": 70,
   "metadata": {
    "collapsed": false
   },
   "outputs": [],
   "source": [
    "latin_hyper_cube = latin.sample(problem=problem, N=population_size)\n",
    "latin_hyper_cube = latin_hyper_cube.tolist()"
   ]
  },
  {
   "cell_type": "code",
   "execution_count": 71,
   "metadata": {
    "collapsed": false
   },
   "outputs": [],
   "source": [
    "# transform some of the parameters to integer\n",
    "for idx, parameters in enumerate(latin_hyper_cube):\n",
    "    latin_hyper_cube[idx][2] = int(latin_hyper_cube[idx][2])\n",
    "    latin_hyper_cube[idx][3] = int(latin_hyper_cube[idx][3])\n",
    "    latin_hyper_cube[idx][4] = int(latin_hyper_cube[idx][4])\n",
    "    latin_hyper_cube[idx][5] = int(latin_hyper_cube[idx][5])\n",
    "    latin_hyper_cube[idx][6] = int(latin_hyper_cube[idx][6])\n",
    "    latin_hyper_cube[idx][10] = int(latin_hyper_cube[idx][10])\n",
    "    latin_hyper_cube[idx][11] = int(latin_hyper_cube[idx][11])\n",
    "    latin_hyper_cube[idx][13] = int(latin_hyper_cube[idx][13])\n",
    "    latin_hyper_cube[idx][16] = int(latin_hyper_cube[idx][16])"
   ]
  },
  {
   "cell_type": "markdown",
   "metadata": {},
   "source": [
    "## Problem\n",
    "We try to match average simulation stylized facts as closely as possible to observed stylized facts. \n",
    "\n",
    "For that, we use an evolutionary algorithm to minimize a cost function. \n",
    "\n",
    "## Create population of individuals \n",
    "In our algorithm, an individual is a set a of parameters and its average associated values for stylized facts over several simulation runs. "
   ]
  },
  {
   "cell_type": "code",
   "execution_count": 89,
   "metadata": {
    "collapsed": false
   },
   "outputs": [],
   "source": [
    "# create population\n",
    "population = []\n",
    "for parameters in latin_hyper_cube:\n",
    "    # add an individual to the population\n",
    "    population.append({'parameters':parameters, 'stylized_facts':[], 'cost':np.inf})"
   ]
  },
  {
   "cell_type": "markdown",
   "metadata": {},
   "source": [
    "## Define Fitness / cost function\n",
    "We measure the relative difference between the simulated and actual data using \n",
    "\n",
    "$c(s)= \\frac{spy(s) - a}{spy(s)}^2$.\n",
    "\n",
    "Then, for each simulaten, we measure total costs as:\n",
    "\n",
    "$t(w,v,x,y,z)= c(w) + c(v) + c(x) + c(y) + c(z)\n",
    "$\n",
    "where, w represents autocorrelation, v  fat tails, x is clustered volatility, y is long memory, and z is the correlation between price and volume."
   ]
  },
  {
   "cell_type": "code",
   "execution_count": 25,
   "metadata": {
    "collapsed": true
   },
   "outputs": [],
   "source": [
    "def cost_function(observed_values, average_simulated_values):\n",
    "    \"\"\"cost function\"\"\"\n",
    "    score = 0\n",
    "    for obs, sim in zip(observed_values, average_simulated_values):\n",
    "        score += ((obs - sim) / obs)**2\n",
    "    return score"
   ]
  },
  {
   "cell_type": "code",
   "execution_count": 26,
   "metadata": {
    "collapsed": true
   },
   "outputs": [],
   "source": [
    "def average_fitness(population, observed_values):\n",
    "    # for every element in the population calculate costs\n",
    "    for individual in population:\n",
    "        total_fitness += cost_function(observed_values, individual['average_simulated_values'])\n",
    "    return total_fitness / (float(len(population)))"
   ]
  },
  {
   "cell_type": "markdown",
   "metadata": {},
   "source": [
    "## For every individual: simulate the model, score and store the simulation"
   ]
  },
  {
   "cell_type": "code",
   "execution_count": 82,
   "metadata": {
    "collapsed": false
   },
   "outputs": [
    {
     "name": "stderr",
     "output_type": "stream",
     "text": [
      "43it [00:14,  2.93it/s]"
     ]
    },
    {
     "name": "stdout",
     "output_type": "stream",
     "text": [
      "no volume\n",
      "no volume\n",
      "no volume"
     ]
    },
    {
     "name": "stderr",
     "output_type": "stream",
     "text": [
      "100it [00:34,  2.87it/s]"
     ]
    },
    {
     "name": "stdout",
     "output_type": "stream",
     "text": [
      "\n"
     ]
    },
    {
     "name": "stderr",
     "output_type": "stream",
     "text": [
      "\n"
     ]
    }
   ],
   "source": [
    "for idx, individual in tqdm(enumerate(population)):\n",
    "    parameters = individual['parameters']\n",
    "    stylized_facts = {'autocorrelation':[],'fat_tails':[],'clustered_volatility':[],'long_memory':[],'vol_vol_clustering':[], 'fitness':[]}\n",
    "    # name the parameters\n",
    "    share_chartists= parameters[0]\n",
    "    share_mean_reversion = parameters[1]\n",
    "    order_expiration_time = parameters[2]\n",
    "    agent_order_price_variability = parameters[3]\n",
    "    agent_order_variability = parameters[4]\n",
    "    agent_ma_short = parameters[5]\n",
    "    agent_ma_long = parameters[6]\n",
    "    agents_hold_thresholds = parameters[7]\n",
    "    agent_volume_risk_aversion = parameters[8]\n",
    "    agent_propensity_to_switch = parameters[9]\n",
    "    profit_announcement_working_days = parameters[10]\n",
    "    price_to_earnings_base = parameters[11]\n",
    "    price_to_earnings_heterogeneity = parameters[12]\n",
    "    price_to_earnings_gap = parameters[13]\n",
    "    longMA_heterogeneity = parameters[14]\n",
    "    shortMA_heterogeneity = parameters[15]\n",
    "    shortMA_memory_divider = parameters[16]\n",
    "    PE_low_low = price_to_earnings_base\n",
    "    PE_low_high = int(price_to_earnings_heterogeneity*price_to_earnings_base)\n",
    "    PE_high_low = PE_low_high + price_to_earnings_gap\n",
    "    PE_high_high = int(price_to_earnings_heterogeneity*PE_high_low)\n",
    "    \n",
    "    # simulate the model \n",
    "    for seed in range(NRUNS):\n",
    "        agents, firms, stocks, order_books = baselinemodel.stockMarketSimulation(seed=seed,\n",
    "                                                                             simulation_time=1,#SIMTIME,\n",
    "                                                                         init_backward_simulated_time=int(agent_ma_long*longMA_heterogeneity),\n",
    "                                                                         number_of_agents=500,\n",
    "                                                                         share_chartists=share_chartists,\n",
    "                                                                         share_mean_reversion=share_mean_reversion,\n",
    "                                                                         amount_of_firms=1,\n",
    "                                                                         initial_total_money=(initial_total_money,int(initial_total_money*1.1)),\n",
    "                                                                         initial_profit=(init_profit, init_profit),\n",
    "                                                                         discount_rate=init_discount_rate,\n",
    "                                                                         init_price_to_earnings_window=((PE_low_low,\n",
    "                                                                                                         PE_low_high),\n",
    "                                                                                                        (PE_high_low,\n",
    "                                                                                                         PE_high_high)),\n",
    "                                                                         order_expiration_time=order_expiration_time,\n",
    "                                                                         agent_order_price_variability=(agent_order_price_variability,agent_order_price_variability),\n",
    "                                                                         agent_order_variability=agent_order_variability,\n",
    "                                                                         agent_ma_short=(agent_ma_short, int(agent_ma_short*shortMA_heterogeneity)),\n",
    "                                                                         agent_ma_long=(agent_ma_long, int(agent_ma_long*longMA_heterogeneity)),\n",
    "                                                                         agents_hold_thresholds=(1-agents_hold_thresholds, 1+agents_hold_thresholds),\n",
    "                                                                         agent_volume_risk_aversion=agent_volume_risk_aversion,\n",
    "                                                                         agent_propensity_to_switch=agent_propensity_to_switch,\n",
    "                                                                         firm_profit_mu=0.058,\n",
    "                                                                         firm_profit_delta=0.00396825396,\n",
    "                                                                         firm_profit_sigma=0.125,\n",
    "                                                                         profit_announcement_working_days=profit_announcement_working_days,\n",
    "                                                                             mean_reversion_memory_divider=4,\n",
    "                                                                         printProgress=False,\n",
    "                                                                         )\n",
    "        # store results on autocorrelation etc.\n",
    "        # test 1\n",
    "        stylized_facts['autocorrelation'].append(zero_autocorrelation(calculate_returns(order_books[0].transaction_prices_history), 25))\n",
    "        # test 2\n",
    "        stylized_facts['fat_tails'].append(fat_tails_kurtosis(calculate_returns(order_books[0].transaction_prices_history)))#fat_tails(calculate_returns(order_books[0].transaction_prices_history))\n",
    "        # test 3\n",
    "        stylized_facts['clustered_volatility'].append(clustered_volatility(calculate_returns(order_books[0].transaction_prices_history), 25))\n",
    "        # test 4\n",
    "        stylized_facts['long_memory'].append(long_memory(calculate_returns(order_books[0].transaction_prices_history), hurst, 2, 20))\n",
    "        # TODO add test 5 on volatility / volume correlation \n",
    "        \n",
    "    # add average stylized facts to individual # TODO this will not work because it is randomly shuffled. \n",
    "    for key in stylized_facts:\n",
    "        individual['stylized_facts'].append(mean(stylized_facts[key]))\n",
    "    # add average fitness to individual TODO \n",
    "    individual['fitness'].append(cost_function(observed_values, []))\n",
    "    \n",
    "# calculate average fitness\n",
    "    \n",
    "    "
   ]
  },
  {
   "cell_type": "markdown",
   "metadata": {},
   "source": [
    "## Evolutionary solution\n",
    "To solve this problem, we define each parameter space as an **individual** and the collection of all sampled parameters as the **population**. "
   ]
  },
  {
   "cell_type": "code",
   "execution_count": 87,
   "metadata": {
    "collapsed": false
   },
   "outputs": [
    {
     "data": {
      "text/plain": [
       "2"
      ]
     },
     "execution_count": 87,
     "metadata": {},
     "output_type": "execute_result"
    }
   ],
   "source": [
    "mean([1,2,3])\n",
    "    "
   ]
  }
 ],
 "metadata": {
  "kernelspec": {
   "display_name": "Python 3",
   "language": "python",
   "name": "python3"
  },
  "language_info": {
   "codemirror_mode": {
    "name": "ipython",
    "version": 3
   },
   "file_extension": ".py",
   "mimetype": "text/x-python",
   "name": "python",
   "nbconvert_exporter": "python",
   "pygments_lexer": "ipython3",
   "version": "3.5.2"
  }
 },
 "nbformat": 4,
 "nbformat_minor": 0
}
