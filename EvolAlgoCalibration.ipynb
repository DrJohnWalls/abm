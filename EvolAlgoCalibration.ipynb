{
 "cells": [
  {
   "cell_type": "code",
   "execution_count": 80,
   "metadata": {
    "collapsed": false
   },
   "outputs": [],
   "source": [
    "%matplotlib inline\n",
    "import random\n",
    "from operator import add\n",
    "from functools import reduce\n",
    "import matplotlib.pyplot as plt\n",
    "import math\n",
    "import numpy as np\n",
    "import numpy.random as nrand\n",
    "import pandas as pd\n",
    "import itertools\n",
    "import scipy.stats as stats\n",
    "import powerlaw\n",
    "from stockmarket import baselinemodel\n",
    "from tqdm import tqdm\n",
    "from pandas_datareader import data\n",
    "from pylab import plot, show\n",
    "from math import isclose\n",
    "from stockmarket.stylizedfacts import *\n",
    "import itertools\n",
    "import quandl\n",
    "from SALib.sample import latin\n",
    "from statistics import mean\n",
    "import bisect"
   ]
  },
  {
   "cell_type": "markdown",
   "metadata": {},
   "source": [
    "# Data used for calibration"
   ]
  },
  {
   "cell_type": "code",
   "execution_count": 25,
   "metadata": {
    "collapsed": true
   },
   "outputs": [],
   "source": [
    "start_date = '2010-01-01'\n",
    "end_date = '2016-12-31'\n",
    "\n",
    "spy = data.DataReader(\"SPY\", \n",
    "                       start=start_date, \n",
    "                       end=end_date, \n",
    "                       data_source='google')['Close']\n",
    "spy_returns = spy.pct_change()[1:]\n",
    "\n",
    "spy_volume = data.DataReader(\"SPY\", \n",
    "                       start=start_date, \n",
    "                       end=end_date, \n",
    "                       data_source='google')['Volume']"
   ]
  },
  {
   "cell_type": "code",
   "execution_count": 36,
   "metadata": {
    "collapsed": false
   },
   "outputs": [
    {
     "name": "stdout",
     "output_type": "stream",
     "text": [
      "spy_autocorrelation  -0.0117722095369\n",
      "spy_kurtosis  3.06213960078\n",
      "spy_autocorrelation_abs  -0.00349266138336\n",
      "spy_hurst  0.414098068535\n",
      "spy_cor_volu_vola  0.244752210222\n"
     ]
    }
   ],
   "source": [
    "# calculate stylized facts for SP500\n",
    "spy_autocorrelation = autocorrelation_returns(spy_returns, 25)\n",
    "spy_kurtosis = kurtosis(spy_returns)\n",
    "spy_autocorrelation_abs = autocorrelation_abs_returns(spy_returns, 25)\n",
    "spy_hurst = hurst(spy, lag1=2 , lag2=20)\n",
    "spy_cor_volu_vola = correlation_volume_volatility(spy_volume, spy_returns, window=10)\n",
    "stylized_facts_spy = [spy_autocorrelation, spy_kurtosis, spy_autocorrelation_abs, spy_hurst, spy_cor_volu_vola]\n",
    "print('spy_autocorrelation ',spy_autocorrelation)\n",
    "print('spy_kurtosis ', spy_kurtosis)\n",
    "print('spy_autocorrelation_abs ', spy_autocorrelation_abs)\n",
    "print('spy_hurst ', spy_hurst)\n",
    "print('spy_cor_volu_vola ',spy_cor_volu_vola)"
   ]
  },
  {
   "cell_type": "markdown",
   "metadata": {},
   "source": [
    "# Calibrate the zero-intelligence model using an evolutionary algorithm"
   ]
  },
  {
   "cell_type": "code",
   "execution_count": 27,
   "metadata": {
    "collapsed": true
   },
   "outputs": [],
   "source": [
    "SIMTIME = 200\n",
    "NRUNS = 5\n",
    "backward_simulated_time = 400\n",
    "initial_total_money = 26000\n",
    "init_profit = 1000\n",
    "init_discount_rate = 0.17"
   ]
  },
  {
   "cell_type": "markdown",
   "metadata": {},
   "source": [
    "## Parameter space\n",
    "\n",
    "We define the parameter bounds as follows. \n",
    "\n",
    "| Parameter | Values (start, stop, step) |\n",
    "| -------------| ------------|\n",
    "| share_chartists       | 0 - 1, 0.1      |\n",
    "| share_mean_reversion       | 0 - 1, 0.1   |\n",
    "| order_expiration_time       | 1000 - 10000, 1000      |\n",
    "| agent_order_price_variability       | 1 - 10, 1      |\n",
    "| agent_order_variability       | 0.1 - 5       |\n",
    "| agent_ma_short       | 5 - 100, 5      |\n",
    "| agent_ma_long       | 50 - 400, 50      |\n",
    "| agents_hold_thresholds       | 0.0005        |\n",
    "| Agent_volume_risk_aversion       | 0.1 - 1, 0.1      |\n",
    "| Agent_propensity_to_switch       | 0.1 - 2.2, 0.1      |\n",
    "| profit_announcement_working_days       | 5 - 50, 5       |\n",
    "| price_to_earnings_spread       | 5 - 50, 5       |\n",
    "| price_to_earnings_heterogeneity       | 5 - 50, 5       |"
   ]
  },
  {
   "cell_type": "code",
   "execution_count": 28,
   "metadata": {
    "collapsed": false
   },
   "outputs": [],
   "source": [
    "parameter_space = {'share_chartists':[0.0, 1.0], 'share_mean_reversion':[0.0, 1.0], 'order_expiration_time':[1000, 10000], \n",
    "                   'agent_order_price_variability':[1, 10], 'agent_order_variability':[0.1, 5.0], \n",
    "                   'agent_ma_short':[5, 100], 'agent_ma_long':[50, 400], 'agents_hold_thresholds':[0.00005,0.01],\n",
    "                   'agent_volume_risk_aversion':[0.1, 1.0], 'agent_propensity_to_switch':[0.1, 2.2], \n",
    "                   'profit_announcement_working_days':[5, 50], 'price_to_earnings_base':[10,20], \n",
    "                   'price_to_earnings_heterogeneity':[1.1,2.5], 'price_to_earnings_gap':[4,20],\n",
    "                   'longMA_heterogeneity':[1.1,1.8], 'shortMA_heterogeneity':[1.1,1.8], 'shortMA_memory_divider':[1, 10]}"
   ]
  },
  {
   "cell_type": "markdown",
   "metadata": {},
   "source": [
    "Then, we determine the amount of starting points we want for the genetic algorithm and sample the parameter space using a Latin hypercube sample. "
   ]
  },
  {
   "cell_type": "code",
   "execution_count": 118,
   "metadata": {
    "collapsed": true
   },
   "outputs": [],
   "source": [
    "population_size = 8"
   ]
  },
  {
   "cell_type": "code",
   "execution_count": 154,
   "metadata": {
    "collapsed": true
   },
   "outputs": [],
   "source": [
    "problem = {\n",
    "  'num_vars': 17,\n",
    "  'names': ['share_chartists', 'share_mean_reversion', 'order_expiration_time', 'agent_order_price_variability', \n",
    "            'agent_order_variability', 'agent_ma_short', 'agent_ma_long', 'agents_hold_thresholds',\n",
    "           'agent_volume_risk_aversion', 'agent_propensity_to_switch', 'profit_announcement_working_days',\n",
    "           'price_to_earnings_base', 'price_to_earnings_heterogeneity', 'price_to_earnings_gap',\n",
    "           'longMA_heterogeneity', 'shortMA_heterogeneity', 'shortMA_memory_divider'],\n",
    "  'bounds': [[0.0, 1.0], [0.0, 1.0], [1000, 10000], [1, 10], \n",
    "             [0.1, 5.0], [5, 100], [50, 400], [0.00005,0.01], \n",
    "             [0.1, 1], [0.1, 2.2], [5, 50],\n",
    "             [10,20], [1.1,2.5], [4,20],\n",
    "             [1.1,1.8], [1.1,1.8], [1, 10]]\n",
    "}"
   ]
  },
  {
   "cell_type": "code",
   "execution_count": 120,
   "metadata": {
    "collapsed": false
   },
   "outputs": [],
   "source": [
    "latin_hyper_cube = latin.sample(problem=problem, N=population_size)\n",
    "latin_hyper_cube = latin_hyper_cube.tolist()"
   ]
  },
  {
   "cell_type": "code",
   "execution_count": 121,
   "metadata": {
    "collapsed": false
   },
   "outputs": [],
   "source": [
    "# transform some of the parameters to integer\n",
    "for idx, parameters in enumerate(latin_hyper_cube):\n",
    "    latin_hyper_cube[idx][2] = int(latin_hyper_cube[idx][2])\n",
    "    latin_hyper_cube[idx][3] = int(latin_hyper_cube[idx][3])\n",
    "    latin_hyper_cube[idx][4] = int(latin_hyper_cube[idx][4])\n",
    "    latin_hyper_cube[idx][5] = int(latin_hyper_cube[idx][5])\n",
    "    latin_hyper_cube[idx][6] = int(latin_hyper_cube[idx][6])\n",
    "    latin_hyper_cube[idx][10] = int(latin_hyper_cube[idx][10])\n",
    "    latin_hyper_cube[idx][11] = int(latin_hyper_cube[idx][11])\n",
    "    latin_hyper_cube[idx][13] = int(latin_hyper_cube[idx][13])\n",
    "    latin_hyper_cube[idx][16] = int(latin_hyper_cube[idx][16])"
   ]
  },
  {
   "cell_type": "markdown",
   "metadata": {},
   "source": [
    "## Problem\n",
    "We try to match average simulation stylized facts as closely as possible to observed stylized facts. \n",
    "\n",
    "For that, we use an evolutionary algorithm to minimize a cost function. \n",
    "\n",
    "## Create population of individuals \n",
    "In our algorithm, an individual is a set a of parameters and its average associated values for stylized facts over several simulation runs. "
   ]
  },
  {
   "cell_type": "code",
   "execution_count": 122,
   "metadata": {
    "collapsed": true
   },
   "outputs": [],
   "source": [
    "class Individual:\n",
    "    \"\"\"The order class can represent both bid or ask type orders\"\"\"\n",
    "    def __init__(self, parameters, stylized_facts, cost):\n",
    "        self.parameters = parameters\n",
    "        self.stylized_facts = stylized_facts\n",
    "        self.cost = cost\n",
    "\n",
    "    def __lt__(self, other):\n",
    "        \"\"\"Allows comparison to other individuals based on its cost (negative fitness)\"\"\"\n",
    "        return self.cost < other.cost"
   ]
  },
  {
   "cell_type": "code",
   "execution_count": 123,
   "metadata": {
    "collapsed": false
   },
   "outputs": [],
   "source": [
    "# create initial population\n",
    "population = []\n",
    "for parameters in latin_hyper_cube:\n",
    "    # add an individual to the population\n",
    "    population.append(Individual(parameters, [], np.inf))\n",
    "# create populations_over_time\n",
    "populations_over_time = [population]"
   ]
  },
  {
   "cell_type": "markdown",
   "metadata": {},
   "source": [
    "## Define Fitness / cost function\n",
    "We measure the relative difference between the simulated and actual data using \n",
    "\n",
    "$c(s)= \\frac{spy(s) - a}{spy(s)}^2$.\n",
    "\n",
    "Then, for each simulaten, we measure total costs as:\n",
    "\n",
    "$t(w,v,x,y,z)= c(w) + c(v) + c(x) + c(y) + c(z)\n",
    "$\n",
    "where, w represents autocorrelation, v  fat tails, x is clustered volatility, y is long memory, and z is the correlation between price and volume."
   ]
  },
  {
   "cell_type": "code",
   "execution_count": 124,
   "metadata": {
    "collapsed": true
   },
   "outputs": [],
   "source": [
    "def cost_function(observed_values, average_simulated_values):\n",
    "    \"\"\"cost function\"\"\"\n",
    "    score = 0\n",
    "    for obs, sim in zip(observed_values, average_simulated_values):\n",
    "        score += ((obs - sim) / obs)**2\n",
    "    return score"
   ]
  },
  {
   "cell_type": "code",
   "execution_count": 125,
   "metadata": {
    "collapsed": true
   },
   "outputs": [],
   "source": [
    "def average_fitness(population):\n",
    "    total_cost = 0\n",
    "    for individual in population:\n",
    "        total_cost += individual.cost\n",
    "    return total_cost / (float(len(population)))"
   ]
  },
  {
   "cell_type": "markdown",
   "metadata": {},
   "source": [
    "## For every individual: simulate the model, score and store the simulation"
   ]
  },
  {
   "cell_type": "code",
   "execution_count": 126,
   "metadata": {
    "collapsed": true
   },
   "outputs": [],
   "source": [
    "av_pop_fitness = []"
   ]
  },
  {
   "cell_type": "code",
   "execution_count": 127,
   "metadata": {
    "collapsed": false
   },
   "outputs": [
    {
     "name": "stderr",
     "output_type": "stream",
     "text": [
      "\r",
      "0it [00:00, ?it/s]"
     ]
    },
    {
     "name": "stdout",
     "output_type": "stream",
     "text": [
      "no volume\n",
      "no volume\n",
      "no volume\n",
      "no volume\n",
      "no volume\n",
      "no volume\n",
      "no volume\n",
      "no volume\n",
      "no volume\n",
      "no volume\n",
      "no volume\n",
      "no volume\n",
      "no volume\n",
      "no volume\n",
      "no volume\n",
      "no volume\n",
      "no volume\n",
      "no volume\n",
      "no volume\n"
     ]
    },
    {
     "name": "stderr",
     "output_type": "stream",
     "text": [
      "\r",
      "1it [01:31, 91.34s/it]"
     ]
    },
    {
     "name": "stdout",
     "output_type": "stream",
     "text": [
      "no volume\n",
      "no volume\n",
      "no volume\n",
      "no volume\n",
      "no volume\n",
      "no volume\n",
      "no volume\n",
      "no volume\n",
      "no volume\n",
      "no volume\n",
      "no volume\n",
      "no volume\n",
      "no volume\n",
      "no volume\n",
      "no volume\n",
      "no volume\n",
      "no volume\n",
      "no volume\n",
      "no volume\n",
      "no volume\n",
      "no volume\n",
      "no volume\n",
      "no volume\n",
      "no volume\n",
      "no volume\n",
      "no volume\n",
      "no volume\n",
      "no volume\n",
      "no volume\n",
      "no volume\n",
      "no volume\n",
      "no volume\n",
      "no volume\n",
      "no volume\n",
      "no volume\n",
      "no volume\n",
      "no volume\n",
      "no volume\n",
      "no volume\n",
      "no volume\n",
      "no volume\n",
      "no volume\n",
      "no volume\n",
      "no volume\n",
      "no volume\n",
      "no volume\n",
      "no volume\n",
      "no volume\n",
      "no volume\n",
      "no volume\n",
      "no volume\n",
      "no volume\n",
      "no volume\n",
      "no volume\n",
      "no volume\n",
      "no volume\n",
      "no volume\n",
      "no volume\n",
      "no volume\n",
      "no volume\n",
      "no volume\n",
      "no volume\n",
      "no volume\n",
      "no volume\n",
      "no volume\n",
      "no volume\n",
      "no volume\n",
      "no volume\n",
      "no volume\n",
      "no volume\n",
      "no volume\n",
      "no volume\n",
      "no volume\n",
      "no volume\n",
      "no volume\n",
      "no volume\n",
      "no volume\n",
      "no volume\n",
      "no volume\n",
      "no volume\n",
      "no volume\n",
      "no volume\n",
      "no volume\n",
      "no volume\n",
      "no volume\n",
      "no volume\n",
      "no volume\n",
      "no volume\n",
      "no volume\n",
      "no volume\n",
      "no volume\n",
      "no volume\n",
      "no volume\n",
      "no volume\n",
      "no volume\n",
      "no volume\n",
      "no volume\n",
      "no volume\n",
      "no volume\n"
     ]
    },
    {
     "name": "stderr",
     "output_type": "stream",
     "text": [
      "8it [10:30, 82.00s/it]\n"
     ]
    }
   ],
   "source": [
    "next_population = []\n",
    "for idx, individual in tqdm(enumerate(population)):\n",
    "    parameters = individual.parameters\n",
    "    stylized_facts = [[],[],[],[],[]]\n",
    "    # name the parameters\n",
    "    share_chartists= parameters[0]\n",
    "    share_mean_reversion = parameters[1]\n",
    "    order_expiration_time = parameters[2]\n",
    "    agent_order_price_variability = parameters[3]\n",
    "    agent_order_variability = parameters[4]\n",
    "    agent_ma_short = parameters[5]\n",
    "    agent_ma_long = parameters[6]\n",
    "    agents_hold_thresholds = parameters[7]\n",
    "    agent_volume_risk_aversion = parameters[8]\n",
    "    agent_propensity_to_switch = parameters[9]\n",
    "    profit_announcement_working_days = parameters[10]\n",
    "    price_to_earnings_base = parameters[11]\n",
    "    price_to_earnings_heterogeneity = parameters[12]\n",
    "    price_to_earnings_gap = parameters[13]\n",
    "    longMA_heterogeneity = parameters[14]\n",
    "    shortMA_heterogeneity = parameters[15]\n",
    "    shortMA_memory_divider = parameters[16]\n",
    "    PE_low_low = price_to_earnings_base\n",
    "    PE_low_high = int(price_to_earnings_heterogeneity*price_to_earnings_base)\n",
    "    PE_high_low = PE_low_high + price_to_earnings_gap\n",
    "    PE_high_high = int(price_to_earnings_heterogeneity*PE_high_low)\n",
    "    \n",
    "    # simulate the model \n",
    "    for seed in range(NRUNS):\n",
    "        agents, firms, stocks, order_books = baselinemodel.stockMarketSimulation(seed=seed,\n",
    "                                                                             simulation_time=SIMTIME,\n",
    "                                                                         init_backward_simulated_time=int(agent_ma_long*longMA_heterogeneity),\n",
    "                                                                         number_of_agents=500,\n",
    "                                                                         share_chartists=share_chartists,\n",
    "                                                                         share_mean_reversion=share_mean_reversion,\n",
    "                                                                         amount_of_firms=1,\n",
    "                                                                         initial_total_money=(initial_total_money,int(initial_total_money*1.1)),\n",
    "                                                                         initial_profit=(init_profit, init_profit),\n",
    "                                                                         discount_rate=init_discount_rate,\n",
    "                                                                         init_price_to_earnings_window=((PE_low_low,\n",
    "                                                                                                         PE_low_high),\n",
    "                                                                                                        (PE_high_low,\n",
    "                                                                                                         PE_high_high)),\n",
    "                                                                         order_expiration_time=order_expiration_time,\n",
    "                                                                         agent_order_price_variability=(agent_order_price_variability,agent_order_price_variability),\n",
    "                                                                         agent_order_variability=agent_order_variability,\n",
    "                                                                         agent_ma_short=(agent_ma_short, int(agent_ma_short*shortMA_heterogeneity)),\n",
    "                                                                         agent_ma_long=(agent_ma_long, int(agent_ma_long*longMA_heterogeneity)),\n",
    "                                                                         agents_hold_thresholds=(1-agents_hold_thresholds, 1+agents_hold_thresholds),\n",
    "                                                                         agent_volume_risk_aversion=agent_volume_risk_aversion,\n",
    "                                                                         agent_propensity_to_switch=agent_propensity_to_switch,\n",
    "                                                                         firm_profit_mu=0.058,\n",
    "                                                                         firm_profit_delta=0.00396825396,\n",
    "                                                                         firm_profit_sigma=0.125,\n",
    "                                                                         profit_announcement_working_days=profit_announcement_working_days,\n",
    "                                                                             mean_reversion_memory_divider=4,\n",
    "                                                                         printProgress=False,\n",
    "                                                                         )\n",
    "        # store simulated stylized facts \n",
    "        sim_returns = calculate_returns(order_books[0].transaction_prices_history)\n",
    "        sim_volume = []\n",
    "        for day in order_books[0].transaction_volumes_history[1:]:\n",
    "            sim_volume.append(sum(day))\n",
    "        stylized_facts[0].append(autocorrelation_returns(sim_returns, 25))\n",
    "        stylized_facts[1].append(kurtosis(sim_returns))\n",
    "        stylized_facts[2].append(autocorrelation_abs_returns(sim_returns, 25))\n",
    "        stylized_facts[3].append(hurst(spy, lag1=2 , lag2=20))\n",
    "        stylized_facts[4].append(correlation_volume_volatility(sim_volume, sim_returns, window=10))\n",
    "    \n",
    "    # create next generation individual\n",
    "    next_gen_individual = Individual(parameters, [], np.inf)\n",
    "    # add average stylized facts to individual\n",
    "    for s_fact in stylized_facts:\n",
    "        next_gen_individual.stylized_facts.append(mean(s_fact))\n",
    "    # add average fitness to individual\n",
    "    next_gen_individual.cost = cost_function(stylized_facts_spy, next_gen_individual.stylized_facts)\n",
    "    # set any non_volume simulation cost to infinity\n",
    "    if np.isnan(next_gen_individual.cost):\n",
    "        next_gen_individual.cost = np.inf\n",
    "    # insert into next generation population, lowest score to the left\n",
    "    bisect.insort_left(next_population, next_gen_individual)\n",
    "    \n",
    "# add this generation to the overview of generations and its fitness to the fitness over time tracker\n",
    "populations_over_time.append(next_population)\n",
    "av_pop_fitness.append(average_fitness(next_population))"
   ]
  },
  {
   "cell_type": "markdown",
   "metadata": {},
   "source": [
    "# Next part of the evolutionary algorithm is selection\n",
    "\n",
    "## 1 Selection:\n",
    "### A fittest members of the population\n",
    "For that we already sorted the list of individuals. So it is easy to select the fittest individuals "
   ]
  },
  {
   "cell_type": "code",
   "execution_count": 147,
   "metadata": {
    "collapsed": true
   },
   "outputs": [],
   "source": [
    "chance_to_mutate = 0.01\n",
    "retain=0.3\n",
    "random_select=0.05"
   ]
  },
  {
   "cell_type": "code",
   "execution_count": 142,
   "metadata": {
    "collapsed": true
   },
   "outputs": [],
   "source": [
    "retain_lenght = int(len(next_population) * retain)\n",
    "parents = next_population[:retain_lenght]"
   ]
  },
  {
   "cell_type": "markdown",
   "metadata": {},
   "source": [
    "### B Some random other members of the population"
   ]
  },
  {
   "cell_type": "code",
   "execution_count": 144,
   "metadata": {
    "collapsed": false
   },
   "outputs": [],
   "source": [
    "# randomly add other individuals to promote genetic diversity\n",
    "for individual in next_population[retain_lenght:]:\n",
    "    if random_select > random.random():\n",
    "        parents.append(individual)"
   ]
  },
  {
   "cell_type": "markdown",
   "metadata": {},
   "source": [
    "### 2 Mutation: vary random parameters of random individuals  "
   ]
  },
  {
   "cell_type": "code",
   "execution_count": 149,
   "metadata": {
    "collapsed": false
   },
   "outputs": [
    {
     "data": {
      "text/plain": [
       "15"
      ]
     },
     "execution_count": 149,
     "metadata": {},
     "output_type": "execute_result"
    }
   ],
   "source": [
    "random.randint(0, len(parameters) - 1)"
   ]
  },
  {
   "cell_type": "code",
   "execution_count": 150,
   "metadata": {
    "collapsed": false
   },
   "outputs": [
    {
     "data": {
      "text/plain": [
       "17"
      ]
     },
     "execution_count": 150,
     "metadata": {},
     "output_type": "execute_result"
    }
   ],
   "source": [
    "len(parameters)"
   ]
  },
  {
   "cell_type": "code",
   "execution_count": 148,
   "metadata": {
    "collapsed": false
   },
   "outputs": [
    {
     "data": {
      "text/plain": [
       "[0.7594121598028282,\n",
       " 0.48726287643594957,\n",
       " 3749,\n",
       " 3,\n",
       " 2,\n",
       " 89,\n",
       " 310,\n",
       " 0.007344463914310965,\n",
       " 0.4779955940875399,\n",
       " 0.9403747254702158,\n",
       " 24,\n",
       " 17,\n",
       " 1.6006337979341057,\n",
       " 15,\n",
       " 1.5485302135817844,\n",
       " 1.18261723451486,\n",
       " 9]"
      ]
     },
     "execution_count": 148,
     "metadata": {},
     "output_type": "execute_result"
    }
   ],
   "source": [
    "parents[0].parameters"
   ]
  },
  {
   "cell_type": "code",
   "execution_count": null,
   "metadata": {
    "collapsed": true
   },
   "outputs": [],
   "source": [
    "for individual in parents:\n",
    "    if chance_to_mutate > random.random():\n",
    "        # pick random parameter to mutate\n",
    "        pos_to_mutate = random.randint(0, len(parameters) - 1)\n",
    "        # choose a new value for this parameter\n",
    "        # identify the range for this parameter\n",
    "        parent[pos_to_mutate] = random.randint(min(parent), max(parent))"
   ]
  },
  {
   "cell_type": "code",
   "execution_count": 156,
   "metadata": {
    "collapsed": false
   },
   "outputs": [
    {
     "data": {
      "text/plain": [
       "[0.0, 1.0]"
      ]
     },
     "execution_count": 156,
     "metadata": {},
     "output_type": "execute_result"
    }
   ],
   "source": [
    "# use the problem object to identify the type of parameter, the bound\n",
    "problem['bounds'][0]\n",
    "\n",
    "# use the current value to identify if it is a float or integer\n",
    "\n",
    "# "
   ]
  },
  {
   "cell_type": "markdown",
   "metadata": {},
   "source": [
    "### 2 Breeding: fill up the rest of the population with combinations of the most fittest individuals"
   ]
  },
  {
   "cell_type": "code",
   "execution_count": 157,
   "metadata": {
    "collapsed": true
   },
   "outputs": [],
   "source": [
    "# keep in mind if it is a float or an integer"
   ]
  },
  {
   "cell_type": "markdown",
   "metadata": {},
   "source": [
    "## Evolutionary solution\n",
    "To solve this problem, we define each parameter space as an **individual** and the collection of all sampled parameters as the **population**. "
   ]
  },
  {
   "cell_type": "code",
   "execution_count": 87,
   "metadata": {
    "collapsed": false
   },
   "outputs": [
    {
     "data": {
      "text/plain": [
       "2"
      ]
     },
     "execution_count": 87,
     "metadata": {},
     "output_type": "execute_result"
    }
   ],
   "source": [
    "mean([1,2,3])\n",
    "    "
   ]
  }
 ],
 "metadata": {
  "kernelspec": {
   "display_name": "Python [Root]",
   "language": "python",
   "name": "Python [Root]"
  },
  "language_info": {
   "codemirror_mode": {
    "name": "ipython",
    "version": 3
   },
   "file_extension": ".py",
   "mimetype": "text/x-python",
   "name": "python",
   "nbconvert_exporter": "python",
   "pygments_lexer": "ipython3",
   "version": "3.5.2"
  }
 },
 "nbformat": 4,
 "nbformat_minor": 0
}
