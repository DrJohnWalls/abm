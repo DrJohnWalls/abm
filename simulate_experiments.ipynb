{
 "cells": [
  {
   "cell_type": "markdown",
   "metadata": {},
   "source": [
    "# Simulate experiments"
   ]
  },
  {
   "cell_type": "code",
   "execution_count": 1,
   "metadata": {
    "collapsed": false
   },
   "outputs": [],
   "source": [
    "import pandas as pd\n",
    "import numpy as np\n",
    "from ipywidgets import widgets, interact\n",
    "from stockmarket import baselinemodel\n",
    "import sqlite3\n",
    "from tqdm import *\n",
    "import json\n",
    "import os\n",
    "import shutil"
   ]
  },
  {
   "cell_type": "code",
   "execution_count": 11,
   "metadata": {
    "collapsed": false
   },
   "outputs": [
    {
     "data": {
      "text/plain": [
       "inf"
      ]
     },
     "execution_count": 11,
     "metadata": {},
     "output_type": "execute_result"
    }
   ],
   "source": [
    "np.divide(2, 0)"
   ]
  },
  {
   "cell_type": "markdown",
   "metadata": {},
   "source": [
    "## Create a base json file with experiment properties"
   ]
  },
  {
   "cell_type": "code",
   "execution_count": 2,
   "metadata": {
    "collapsed": true
   },
   "outputs": [],
   "source": [
    "parameters = {\n",
    "    'seed' : 0, \n",
    "    'simulation_time' : 100, \n",
    "    'amount_fundamentalists' : 40, \n",
    "    'amount_chartists' : 40, \n",
    "    'amount_firms': 1,\n",
    "    'initial_money' : (100, 200),\n",
    "    'initial_bid_ask' : (0, 0),\n",
    "    'initial_memory' : (3, 7),\n",
    "    'initial_ma_short' : (1, 3),\n",
    "    'initial_ma_long' : (6, 7),\n",
    "    'initial_profit' : (200, 200),\n",
    "    'initial_book_value' : (10000, 10000),\n",
    "    'initial_stock_amount' : 400,\n",
    "    'observable_set_size' : 3\n",
    "}"
   ]
  },
  {
   "cell_type": "markdown",
   "metadata": {},
   "source": [
    "## Create a dictionary with all experiments nescessary for chartist v fundamentalists"
   ]
  },
  {
   "cell_type": "code",
   "execution_count": 3,
   "metadata": {
    "collapsed": true
   },
   "outputs": [],
   "source": [
    "LOW = 0\n",
    "STEPS = 5\n",
    "HIGH = 100\n",
    "\n",
    "experiments = {}\n",
    "for i in range(int((HIGH - LOW) / STEPS)):\n",
    "    experiments['experiment{}'.format(i+1)] = (LOW + STEPS*(i)) / HIGH"
   ]
  },
  {
   "cell_type": "code",
   "execution_count": 4,
   "metadata": {
    "collapsed": true
   },
   "outputs": [],
   "source": [
    "AGENTS = 100\n",
    "NRUNS = 1"
   ]
  },
  {
   "cell_type": "markdown",
   "metadata": {},
   "source": [
    "## Create experiments folders"
   ]
  },
  {
   "cell_type": "code",
   "execution_count": 5,
   "metadata": {
    "collapsed": true
   },
   "outputs": [],
   "source": [
    "parent_dir = os.getcwd()\n",
    "# if there is a data folder, delete it and its content\n",
    "try: \n",
    "    shutil.rmtree('data')\n",
    "except:\n",
    "    pass"
   ]
  },
  {
   "cell_type": "code",
   "execution_count": 6,
   "metadata": {
    "collapsed": false
   },
   "outputs": [],
   "source": [
    "# make a data folder and go into it\n",
    "dataFolder = 'data'\n",
    "os.makedirs(dataFolder)\n",
    "os.chdir(dataFolder)\n",
    "for key in experiments:\n",
    "    # add a folder for every experiment \n",
    "    foldername = key\n",
    "    os.makedirs(foldername)\n",
    "    # create experiments parameter set\n",
    "    experimentParams = parameters.copy()\n",
    "    experimentParams['amount_chartists'] = int(AGENTS * experiments[key])\n",
    "    experimentParams['amount_fundamentalists'] = int(AGENTS * (1 - experiments[key]))\n",
    "    # create json experiments file\n",
    "    with open('{}/parameters.json'.format(foldername), 'w') as fp:\n",
    "        json.dump(experimentParams, fp)"
   ]
  },
  {
   "cell_type": "markdown",
   "metadata": {},
   "source": [
    "# Run experiments for every folder"
   ]
  },
  {
   "cell_type": "code",
   "execution_count": 7,
   "metadata": {
    "collapsed": false
   },
   "outputs": [],
   "source": [
    "os.chdir('{}/data'.format(parent_dir))"
   ]
  },
  {
   "cell_type": "code",
   "execution_count": 8,
   "metadata": {
    "collapsed": false
   },
   "outputs": [
    {
     "data": {
      "text/plain": [
       "'C:\\\\Users\\\\joerischasfoort\\\\Documents\\\\GitHub\\\\abm\\\\data'"
      ]
     },
     "execution_count": 8,
     "metadata": {},
     "output_type": "execute_result"
    }
   ],
   "source": [
    "os.getcwd()"
   ]
  },
  {
   "cell_type": "code",
   "execution_count": 9,
   "metadata": {
    "collapsed": false
   },
   "outputs": [
    {
     "name": "stderr",
     "output_type": "stream",
     "text": [
      " 15%|████████████▎                                                                     | 3/20 [05:07<29:15, 103.29s/it]"
     ]
    },
    {
     "ename": "OverflowError",
     "evalue": "cannot convert float infinity to integer",
     "output_type": "error",
     "traceback": [
      "\u001b[1;31m---------------------------------------------------------------------------\u001b[0m",
      "\u001b[1;31mOverflowError\u001b[0m                             Traceback (most recent call last)",
      "\u001b[1;32m<ipython-input-9-d5a5f5551bfe>\u001b[0m in \u001b[0;36m<module>\u001b[1;34m()\u001b[0m\n\u001b[0;32m     19\u001b[0m         \u001b[0minitial_book_value\u001b[0m\u001b[1;33m=\u001b[0m\u001b[0mparameters\u001b[0m\u001b[1;33m[\u001b[0m\u001b[1;34m'initial_book_value'\u001b[0m\u001b[1;33m]\u001b[0m\u001b[1;33m,\u001b[0m\u001b[1;33m\u001b[0m\u001b[0m\n\u001b[0;32m     20\u001b[0m         \u001b[0minitial_stock_amount\u001b[0m\u001b[1;33m=\u001b[0m\u001b[0mparameters\u001b[0m\u001b[1;33m[\u001b[0m\u001b[1;34m'initial_stock_amount'\u001b[0m\u001b[1;33m]\u001b[0m\u001b[1;33m,\u001b[0m\u001b[1;33m\u001b[0m\u001b[0m\n\u001b[1;32m---> 21\u001b[1;33m         \u001b[0mobservable_set_size\u001b[0m\u001b[1;33m=\u001b[0m\u001b[0mparameters\u001b[0m\u001b[1;33m[\u001b[0m\u001b[1;34m'observable_set_size'\u001b[0m\u001b[1;33m]\u001b[0m\u001b[1;33m\u001b[0m\u001b[0m\n\u001b[0m\u001b[0;32m     22\u001b[0m         )\n\u001b[0;32m     23\u001b[0m         \u001b[0mTransactions\u001b[0m\u001b[1;33m.\u001b[0m\u001b[0mto_sql\u001b[0m\u001b[1;33m(\u001b[0m\u001b[1;34m\"Transactions{}\"\u001b[0m\u001b[1;33m.\u001b[0m\u001b[0mformat\u001b[0m\u001b[1;33m(\u001b[0m\u001b[0mseed\u001b[0m\u001b[1;33m)\u001b[0m\u001b[1;33m,\u001b[0m \u001b[0mconn\u001b[0m\u001b[1;33m,\u001b[0m \u001b[0mif_exists\u001b[0m\u001b[1;33m=\u001b[0m\u001b[1;34m\"replace\"\u001b[0m\u001b[1;33m)\u001b[0m\u001b[1;33m\u001b[0m\u001b[0m\n",
      "\u001b[1;32mC:\\Users\\joerischasfoort\\Documents\\GitHub\\abm\\stockmarket\\baselinemodel.py\u001b[0m in \u001b[0;36mstockMarketSimulation\u001b[1;34m(seed, simulation_time, amount_fundamentalists, amount_chartists, amount_firms, initial_money, initial_bid_ask, initial_memory, initial_ma_short, initial_ma_long, initial_profit, initial_book_value, initial_stock_amount, observable_set_size, printProgress)\u001b[0m\n\u001b[0;32m    122\u001b[0m                                                                                                       \u001b[0mquarter\u001b[0m\u001b[1;33m,\u001b[0m \u001b[0mseed\u001b[0m\u001b[1;33m,\u001b[0m\u001b[1;33m\u001b[0m\u001b[0m\n\u001b[0;32m    123\u001b[0m                                                                                                       \u001b[0mTransactions\u001b[0m\u001b[1;33m,\u001b[0m\u001b[1;33m\u001b[0m\u001b[0m\n\u001b[1;32m--> 124\u001b[1;33m                                                                                                       Transactors, Objects)\n\u001b[0m\u001b[0;32m    125\u001b[0m             Statevariables, Variabletypes, Objects = database.df_update_statevariables(seed, quarter,\n\u001b[0;32m    126\u001b[0m                                                                                        \u001b[0mstock\u001b[0m\u001b[1;33m,\u001b[0m \u001b[0mStatevariables\u001b[0m\u001b[1;33m,\u001b[0m\u001b[1;33m\u001b[0m\u001b[0m\n",
      "\u001b[1;32mC:\\Users\\joerischasfoort\\Documents\\GitHub\\abm\\stockmarket\\marketmechanisms.py\u001b[0m in \u001b[0;36moverTheCounterMarket\u001b[1;34m(agentset, stock, observablesetsize, set_of_traders_function, period, seed, Transactions, Transactors, Objects)\u001b[0m\n\u001b[0;32m     23\u001b[0m         \u001b[0mobservable_set\u001b[0m \u001b[1;33m=\u001b[0m \u001b[0mset_of_traders_function\u001b[0m\u001b[1;33m(\u001b[0m\u001b[0mdemander\u001b[0m\u001b[1;33m,\u001b[0m \u001b[0mrandomized_agent_set\u001b[0m\u001b[1;33m,\u001b[0m \u001b[0mobservablesetsize\u001b[0m\u001b[1;33m)\u001b[0m\u001b[1;33m\u001b[0m\u001b[0m\n\u001b[0;32m     24\u001b[0m         \u001b[1;31m# pick the cheapest supplier\u001b[0m\u001b[1;33m\u001b[0m\u001b[1;33m\u001b[0m\u001b[0m\n\u001b[1;32m---> 25\u001b[1;33m         \u001b[0mtrade\u001b[0m \u001b[1;33m=\u001b[0m \u001b[0mfind_best_trade\u001b[0m\u001b[1;33m(\u001b[0m\u001b[0mdemander\u001b[0m\u001b[1;33m,\u001b[0m \u001b[0mobservable_set\u001b[0m\u001b[1;33m,\u001b[0m \u001b[0mstock\u001b[0m\u001b[1;33m)\u001b[0m\u001b[1;33m\u001b[0m\u001b[0m\n\u001b[0m\u001b[0;32m     26\u001b[0m         \u001b[1;31m# if there is a trade and the volume of that trade is bigger than zero: trade!\u001b[0m\u001b[1;33m\u001b[0m\u001b[1;33m\u001b[0m\u001b[0m\n\u001b[0;32m     27\u001b[0m         \u001b[1;32mif\u001b[0m \u001b[1;33m(\u001b[0m\u001b[0mtrade\u001b[0m \u001b[1;32mis\u001b[0m \u001b[1;32mnot\u001b[0m \u001b[1;32mNone\u001b[0m\u001b[1;33m)\u001b[0m \u001b[1;32mand\u001b[0m \u001b[1;33m(\u001b[0m\u001b[0mtrade\u001b[0m\u001b[1;33m[\u001b[0m\u001b[1;36m1\u001b[0m\u001b[1;33m]\u001b[0m \u001b[1;33m>\u001b[0m \u001b[1;36m0\u001b[0m\u001b[1;33m)\u001b[0m\u001b[1;33m:\u001b[0m\u001b[1;33m\u001b[0m\u001b[0m\n",
      "\u001b[1;32mC:\\Users\\joerischasfoort\\Documents\\GitHub\\abm\\stockmarket\\marketmechanisms.py\u001b[0m in \u001b[0;36mfind_best_trade\u001b[1;34m(demander, sellers, stock)\u001b[0m\n\u001b[0;32m     91\u001b[0m     \u001b[0msup\u001b[0m \u001b[1;33m=\u001b[0m \u001b[0mbest_supplier\u001b[0m\u001b[1;33m(\u001b[0m\u001b[0msellers\u001b[0m\u001b[1;33m,\u001b[0m \u001b[0mstock\u001b[0m\u001b[1;33m)\u001b[0m\u001b[1;33m\u001b[0m\u001b[0m\n\u001b[0;32m     92\u001b[0m     \u001b[1;32mif\u001b[0m \u001b[0msup\u001b[0m \u001b[1;32mis\u001b[0m \u001b[1;32mnot\u001b[0m \u001b[1;32mNone\u001b[0m\u001b[1;33m:\u001b[0m\u001b[1;33m\u001b[0m\u001b[0m\n\u001b[1;32m---> 93\u001b[1;33m         \u001b[0mvol_price\u001b[0m \u001b[1;33m=\u001b[0m \u001b[0mfind_volume_price\u001b[0m\u001b[1;33m(\u001b[0m\u001b[0mdemander\u001b[0m\u001b[1;33m,\u001b[0m \u001b[0msup\u001b[0m\u001b[1;33m,\u001b[0m \u001b[0mstock\u001b[0m\u001b[1;33m)\u001b[0m\u001b[1;33m\u001b[0m\u001b[0m\n\u001b[0m\u001b[0;32m     94\u001b[0m         \u001b[1;32mif\u001b[0m \u001b[0mvol_price\u001b[0m \u001b[1;32mis\u001b[0m \u001b[1;32mnot\u001b[0m \u001b[1;32mNone\u001b[0m\u001b[1;33m:\u001b[0m\u001b[1;33m\u001b[0m\u001b[0m\n\u001b[0;32m     95\u001b[0m             \u001b[1;32mreturn\u001b[0m \u001b[0msup\u001b[0m\u001b[1;33m,\u001b[0m \u001b[0mvol_price\u001b[0m\u001b[1;33m[\u001b[0m\u001b[1;36m0\u001b[0m\u001b[1;33m]\u001b[0m\u001b[1;33m,\u001b[0m \u001b[0mvol_price\u001b[0m\u001b[1;33m[\u001b[0m\u001b[1;36m1\u001b[0m\u001b[1;33m]\u001b[0m\u001b[1;33m\u001b[0m\u001b[0m\n",
      "\u001b[1;32mC:\\Users\\joerischasfoort\\Documents\\GitHub\\abm\\stockmarket\\marketmechanisms.py\u001b[0m in \u001b[0;36mfind_volume_price\u001b[1;34m(demander, supplier, stock)\u001b[0m\n\u001b[0;32m    120\u001b[0m     \u001b[0mbp\u001b[0m \u001b[1;33m=\u001b[0m \u001b[0mbuying_price\u001b[0m\u001b[1;33m(\u001b[0m\u001b[0mstock\u001b[0m\u001b[1;33m,\u001b[0m \u001b[0mdemander\u001b[0m\u001b[1;33m)\u001b[0m\u001b[1;33m\u001b[0m\u001b[0m\n\u001b[0;32m    121\u001b[0m     \u001b[1;32mif\u001b[0m \u001b[0mbp\u001b[0m \u001b[1;32mis\u001b[0m \u001b[1;32mnot\u001b[0m \u001b[1;32mNone\u001b[0m \u001b[1;32mand\u001b[0m \u001b[0msp\u001b[0m \u001b[1;32mis\u001b[0m \u001b[1;32mnot\u001b[0m \u001b[1;32mNone\u001b[0m \u001b[1;32mand\u001b[0m \u001b[0msp\u001b[0m \u001b[1;33m<=\u001b[0m \u001b[0mbp\u001b[0m\u001b[1;33m:\u001b[0m\u001b[1;33m\u001b[0m\u001b[0m\n\u001b[1;32m--> 122\u001b[1;33m         \u001b[1;32mreturn\u001b[0m \u001b[0mmin\u001b[0m\u001b[1;33m(\u001b[0m\u001b[0msupplier\u001b[0m\u001b[1;33m.\u001b[0m\u001b[0mstocks\u001b[0m\u001b[1;33m[\u001b[0m\u001b[0mstock\u001b[0m\u001b[1;33m]\u001b[0m\u001b[1;33m,\u001b[0m \u001b[0mmath\u001b[0m\u001b[1;33m.\u001b[0m\u001b[0mfloor\u001b[0m\u001b[1;33m(\u001b[0m\u001b[0mdemander\u001b[0m\u001b[1;33m.\u001b[0m\u001b[0mmoney\u001b[0m \u001b[1;33m/\u001b[0m \u001b[0msp\u001b[0m\u001b[1;33m)\u001b[0m\u001b[1;33m)\u001b[0m\u001b[1;33m,\u001b[0m \u001b[0msp\u001b[0m\u001b[1;33m\u001b[0m\u001b[0m\n\u001b[0m\u001b[0;32m    123\u001b[0m     \u001b[1;32melse\u001b[0m\u001b[1;33m:\u001b[0m\u001b[1;33m\u001b[0m\u001b[0m\n\u001b[0;32m    124\u001b[0m         \u001b[1;32mreturn\u001b[0m \u001b[1;32mNone\u001b[0m\u001b[1;33m\u001b[0m\u001b[0m\n",
      "\u001b[1;31mOverflowError\u001b[0m: cannot convert float infinity to integer"
     ]
    }
   ],
   "source": [
    "for key in tqdm(experiments):\n",
    "    os.chdir(key)\n",
    "    parameters = json.load(open('parameters.json'))\n",
    "    conn = sqlite3.connect('dataBaseOffline.sqlite')\n",
    "    cur = conn.cursor()\n",
    "    for seed in range(NRUNS): #optionally wrap tqdm() around range(NRUNS)\n",
    "        Transactions, Transactors, Statevariables, Variabletypes, Objects = baselinemodel.stockMarketSimulation(\n",
    "        seed=parameters['seed'],\n",
    "        simulation_time=parameters['simulation_time'],\n",
    "        amount_fundamentalists=parameters['amount_fundamentalists'],\n",
    "        amount_chartists=parameters['amount_chartists'], \n",
    "        amount_firms=parameters['amount_firms'],\n",
    "        initial_money=parameters['initial_money'], \n",
    "        initial_bid_ask=parameters['initial_bid_ask'],\n",
    "        initial_memory=parameters['initial_money'],\n",
    "        initial_ma_short=parameters['initial_ma_short'], \n",
    "        initial_ma_long=parameters['initial_ma_long'], \n",
    "        initial_profit=parameters['initial_profit'],\n",
    "        initial_book_value=parameters['initial_book_value'], \n",
    "        initial_stock_amount=parameters['initial_stock_amount'], \n",
    "        observable_set_size=parameters['observable_set_size']\n",
    "        )\n",
    "        Transactions.to_sql(\"Transactions{}\".format(seed), conn, if_exists=\"replace\")\n",
    "        Transactors.to_sql(\"Transactors{}\".format(seed), conn, if_exists=\"replace\")\n",
    "        Statevariables.to_sql(\"Statevariables{}\".format(seed), conn, if_exists=\"replace\")\n",
    "        Variabletypes.to_sql(\"Variabletypes{}\".format(seed), conn, if_exists=\"replace\")\n",
    "        Objects.to_sql(\"Objects{}\".format(seed), conn, if_exists=\"replace\")\n",
    "    conn.commit()\n",
    "    cur.close()\n",
    "    os.chdir('{}/{}'.format(parent_dir,dataFolder))"
   ]
  }
 ],
 "metadata": {
  "anaconda-cloud": {},
  "kernelspec": {
   "display_name": "Python [Root]",
   "language": "python",
   "name": "Python [Root]"
  },
  "language_info": {
   "codemirror_mode": {
    "name": "ipython",
    "version": 3
   },
   "file_extension": ".py",
   "mimetype": "text/x-python",
   "name": "python",
   "nbconvert_exporter": "python",
   "pygments_lexer": "ipython3",
   "version": "3.5.2"
  }
 },
 "nbformat": 4,
 "nbformat_minor": 0
}
