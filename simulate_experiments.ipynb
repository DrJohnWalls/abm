{
 "cells": [
  {
   "cell_type": "markdown",
   "metadata": {},
   "source": [
    "# Simulate experiments"
   ]
  },
  {
   "cell_type": "code",
   "execution_count": 1,
   "metadata": {
    "collapsed": true
   },
   "outputs": [],
   "source": [
    "import pandas as pd\n",
    "import numpy as np\n",
    "from ipywidgets import widgets, interact\n",
    "from stockmarket import baselinemodel\n",
    "import sqlite3\n",
    "from tqdm import *\n",
    "import json\n",
    "import os\n",
    "import shutil"
   ]
  },
  {
   "cell_type": "markdown",
   "metadata": {},
   "source": [
    "## Create a base json file with experiment properties"
   ]
  },
  {
   "cell_type": "code",
   "execution_count": 2,
   "metadata": {
    "collapsed": true
   },
   "outputs": [],
   "source": [
    "parameters = {\n",
    "    'seed' : 0, \n",
    "    'simulation_time' : 100, \n",
    "    'amount_fundamentalists' : 40, \n",
    "    'amount_chartists' : 40, \n",
    "    'amount_firms': 4,\n",
    "    'initial_money' : (100, 200),\n",
    "    'initial_bid_ask' : (5, 5),\n",
    "    'initial_memory' : (1, 4),\n",
    "    'initial_ma_short' : (1, 3),\n",
    "    'initial_ma_long' : (6, 7),\n",
    "    'initial_profit' : (200, 200),\n",
    "    'initial_book_value' : (10000, 10000),\n",
    "    'initial_stock_amount' : 400,\n",
    "    'observable_set_size' : 3\n",
    "}"
   ]
  },
  {
   "cell_type": "markdown",
   "metadata": {},
   "source": [
    "## Create a dictionary with all experiments nescessary for chartist v fundamentalists"
   ]
  },
  {
   "cell_type": "code",
   "execution_count": 7,
   "metadata": {
    "collapsed": true
   },
   "outputs": [],
   "source": [
    "LOW = 0\n",
    "STEPS = 5\n",
    "HIGH = 100\n",
    "\n",
    "experiments = {}\n",
    "for i in range(int((HIGH - LOW) / steps)):\n",
    "    experiments['experiment{}'.format(i+1)] = (LOW + STEPS*(i)) / HIGH"
   ]
  },
  {
   "cell_type": "code",
   "execution_count": 4,
   "metadata": {
    "collapsed": true
   },
   "outputs": [],
   "source": [
    "AGENTS = 200"
   ]
  },
  {
   "cell_type": "markdown",
   "metadata": {},
   "source": [
    "## Create experiments folders"
   ]
  },
  {
   "cell_type": "code",
   "execution_count": 5,
   "metadata": {
    "collapsed": true
   },
   "outputs": [],
   "source": [
    "parent_dir = os.getcwd()\n",
    "# if there is a data folder, delete it and its content\n",
    "try: \n",
    "    shutil.rmtree('data')\n",
    "except:\n",
    "    pass"
   ]
  },
  {
   "cell_type": "code",
   "execution_count": 6,
   "metadata": {
    "collapsed": true
   },
   "outputs": [],
   "source": [
    "# make a data folder and go into it\n",
    "dataFolder = 'data'\n",
    "os.makedirs(dataFolder)\n",
    "os.chdir(dataFolder)\n",
    "for key in experiments:\n",
    "    # add a folder for every experiment \n",
    "    foldername = key\n",
    "    os.makedirs(foldername)\n",
    "    # create experiments parameter set\n",
    "    experimentParams = parameters.copy()\n",
    "    experimentParams['amount_chartists'] = int(AGENTS * experiments[key])\n",
    "    experimentParams['amount_fundamentalists'] = int(AGENTS * (1 - experiments[key]))\n",
    "    # create json experiments file\n",
    "    with open('{}/parameters.json'.format(foldername), 'w') as fp:\n",
    "        json.dump(experimentParams, fp)"
   ]
  }
 ],
 "metadata": {
  "kernelspec": {
   "display_name": "Python 3",
   "language": "python",
   "name": "python3"
  },
  "language_info": {
   "codemirror_mode": {
    "name": "ipython",
    "version": 3
   },
   "file_extension": ".py",
   "mimetype": "text/x-python",
   "name": "python",
   "nbconvert_exporter": "python",
   "pygments_lexer": "ipython3",
   "version": "3.5.2"
  }
 },
 "nbformat": 4,
 "nbformat_minor": 0
}
