{
 "cells": [
  {
   "cell_type": "code",
   "execution_count": 1,
   "metadata": {
    "collapsed": false
   },
   "outputs": [],
   "source": [
    "from stockmarket.limitorderbook import *\n",
    "from stockmarket.agent import Trader\n",
    "from stockmarket.firms import Firm\n",
    "from stockmarket.stock import Stock"
   ]
  },
  {
   "cell_type": "code",
   "execution_count": 2,
   "metadata": {
    "collapsed": true
   },
   "outputs": [],
   "source": [
    "from numpy.testing import assert_equal\n",
    "from numpy.testing import assert_raises"
   ]
  },
  {
   "cell_type": "markdown",
   "metadata": {},
   "source": [
    "## To test\n",
    "1. create new limitOrderBook\n",
    "2. add bids\n",
    "3. add asks \n",
    "4. clean aging bids and asks \n",
    "5. match best bid and ask"
   ]
  },
  {
   "cell_type": "markdown",
   "metadata": {},
   "source": [
    "### 1 create new limitorderBook"
   ]
  },
  {
   "cell_type": "code",
   "execution_count": 3,
   "metadata": {
    "collapsed": true
   },
   "outputs": [],
   "source": [
    "# create a firm\n",
    "firm = Firm(\"Firm1\", 10000, [200, 300, 400, 300], 1)\n",
    "# create a stock of that firm\n",
    "stocks = Stock(firm, 1000)"
   ]
  },
  {
   "cell_type": "code",
   "execution_count": 4,
   "metadata": {
    "collapsed": true
   },
   "outputs": [],
   "source": [
    "# create new limitOrderBook\n",
    "order_book = LimitOrderBook(stocks, 100, 120)"
   ]
  },
  {
   "cell_type": "code",
   "execution_count": 5,
   "metadata": {
    "collapsed": false
   },
   "outputs": [
    {
     "data": {
      "text/plain": [
       "order_book_Stock of Firm1"
      ]
     },
     "execution_count": 5,
     "metadata": {},
     "output_type": "execute_result"
    }
   ],
   "source": [
    "order_book"
   ]
  },
  {
   "cell_type": "markdown",
   "metadata": {},
   "source": [
    "### 2 add bids to the limit orderbook\n",
    "* The highest bid should be at the end of the list.\n",
    "* For bids of equal value, the oldest bid should be at the top"
   ]
  },
  {
   "cell_type": "code",
   "execution_count": 6,
   "metadata": {
    "collapsed": false
   },
   "outputs": [
    {
     "data": {
      "text/plain": [
       "[Order_p=10_t=b_o=trader-1_a=0]"
      ]
     },
     "execution_count": 6,
     "metadata": {},
     "output_type": "execute_result"
    }
   ],
   "source": [
    "order_book.add_bid(10, 20, 'trader-1')\n",
    "order_book.bids"
   ]
  },
  {
   "cell_type": "code",
   "execution_count": 7,
   "metadata": {
    "collapsed": false
   },
   "outputs": [
    {
     "data": {
      "text/plain": [
       "[Order_p=5_t=b_o=trader-2_a=0, Order_p=10_t=b_o=trader-1_a=0]"
      ]
     },
     "execution_count": 7,
     "metadata": {},
     "output_type": "execute_result"
    }
   ],
   "source": [
    "order_book.add_bid(5, 20, 'trader-2')\n",
    "order_book.bids"
   ]
  },
  {
   "cell_type": "code",
   "execution_count": 8,
   "metadata": {
    "collapsed": false
   },
   "outputs": [
    {
     "data": {
      "text/plain": [
       "[Order_p=5_t=b_o=trader-2_a=0,\n",
       " Order_p=7_t=b_o=trader-3_a=0,\n",
       " Order_p=10_t=b_o=trader-1_a=0]"
      ]
     },
     "execution_count": 8,
     "metadata": {},
     "output_type": "execute_result"
    }
   ],
   "source": [
    "order_book.add_bid(7, 20, 'trader-3')\n",
    "order_book.bids"
   ]
  },
  {
   "cell_type": "code",
   "execution_count": 9,
   "metadata": {
    "collapsed": false
   },
   "outputs": [
    {
     "data": {
      "text/plain": [
       "[Order_p=5_t=b_o=trader-2_a=0,\n",
       " Order_p=7_t=b_o=trader-4_a=0,\n",
       " Order_p=7_t=b_o=trader-3_a=0,\n",
       " Order_p=10_t=b_o=trader-1_a=0]"
      ]
     },
     "execution_count": 9,
     "metadata": {},
     "output_type": "execute_result"
    }
   ],
   "source": [
    "order_book.add_bid(7, 20, 'trader-4')\n",
    "order_book.bids"
   ]
  },
  {
   "cell_type": "code",
   "execution_count": 10,
   "metadata": {
    "collapsed": false
   },
   "outputs": [
    {
     "data": {
      "text/plain": [
       "[Order_p=5_t=b_o=trader-2_a=0,\n",
       " Order_p=7_t=b_o=trader-5_a=0,\n",
       " Order_p=7_t=b_o=trader-4_a=0,\n",
       " Order_p=7_t=b_o=trader-3_a=0,\n",
       " Order_p=10_t=b_o=trader-1_a=0]"
      ]
     },
     "execution_count": 10,
     "metadata": {},
     "output_type": "execute_result"
    }
   ],
   "source": [
    "order_book.add_bid(7, 20, 'trader-5')\n",
    "order_book.bids"
   ]
  },
  {
   "cell_type": "code",
   "execution_count": 11,
   "metadata": {
    "collapsed": false
   },
   "outputs": [
    {
     "data": {
      "text/plain": [
       "5"
      ]
     },
     "execution_count": 11,
     "metadata": {},
     "output_type": "execute_result"
    }
   ],
   "source": [
    "order_book.bids[0].price"
   ]
  },
  {
   "cell_type": "code",
   "execution_count": 12,
   "metadata": {
    "collapsed": false
   },
   "outputs": [],
   "source": [
    "assert_equal(order_book.bids[0].price, 5)\n",
    "assert_equal(order_book.bids[-1].price, 10)"
   ]
  },
  {
   "cell_type": "code",
   "execution_count": 13,
   "metadata": {
    "collapsed": true
   },
   "outputs": [],
   "source": [
    "assert_equal(order_book.bids[-2].owner, 'trader-3')"
   ]
  },
  {
   "cell_type": "markdown",
   "metadata": {},
   "source": [
    "### 3 Add aks to the limit order book\n",
    "* The lowest ask should be at the beginning of the list.\n",
    "* For asks of equal value, the oldest ask should be at the bottom"
   ]
  },
  {
   "cell_type": "code",
   "execution_count": 14,
   "metadata": {
    "collapsed": false
   },
   "outputs": [
    {
     "data": {
      "text/plain": [
       "[Order_p=11_t=a_o=trader-1_a=0]"
      ]
     },
     "execution_count": 14,
     "metadata": {},
     "output_type": "execute_result"
    }
   ],
   "source": [
    "order_book.add_ask(11, 20, 'trader-1')\n",
    "order_book.asks"
   ]
  },
  {
   "cell_type": "code",
   "execution_count": 15,
   "metadata": {
    "collapsed": false
   },
   "outputs": [
    {
     "data": {
      "text/plain": [
       "[Order_p=5_t=a_o=trader-2_a=0,\n",
       " Order_p=7_t=a_o=trader-3_a=0,\n",
       " Order_p=7_t=a_o=trader-4_a=0,\n",
       " Order_p=7_t=a_o=trader-5_a=0,\n",
       " Order_p=11_t=a_o=trader-1_a=0]"
      ]
     },
     "execution_count": 15,
     "metadata": {},
     "output_type": "execute_result"
    }
   ],
   "source": [
    "order_book.add_ask(5, 20, 'trader-2')\n",
    "order_book.add_ask(7, 20, 'trader-3')\n",
    "order_book.add_ask(7, 20, 'trader-4')\n",
    "order_book.add_ask(7, 20, 'trader-5')\n",
    "order_book.asks"
   ]
  },
  {
   "cell_type": "code",
   "execution_count": 16,
   "metadata": {
    "collapsed": false
   },
   "outputs": [],
   "source": [
    "# highest ask is 11\n",
    "assert_equal(order_book.asks[-1].price, 11)\n",
    "# lowest ask is 5\n",
    "assert_equal(order_book.asks[0].price, 5)\n",
    "# second highest ask trader = trader-5\n",
    "assert_equal(order_book.asks[-2].owner, 'trader-5')"
   ]
  },
  {
   "cell_type": "markdown",
   "metadata": {},
   "source": [
    "### 4 clean aging bids and asks"
   ]
  },
  {
   "cell_type": "code",
   "execution_count": null,
   "metadata": {
    "collapsed": true
   },
   "outputs": [],
   "source": [
    "for n in range(120):\n",
    "    order_book.clean_book()"
   ]
  },
  {
   "cell_type": "code",
   "execution_count": 42,
   "metadata": {
    "collapsed": false
   },
   "outputs": [],
   "source": [
    "order_book.add_bid(10, 20, 'trader-1')\n",
    "order_book.add_bid(5, 20, 'trader-2')\n",
    "order_book.add_ask(11, 20, 'trader-1')\n",
    "order_book.add_ask(5, 20, 'trader-2')\n",
    "for n in range(119):\n",
    "    order_book.clean_book()\n",
    "assert_equal(len(order_book.bids), 2)\n",
    "assert_equal(len(order_book.asks), 2)\n",
    "order_book.clean_book()\n",
    "assert_equal(len(order_book.bids), 0)\n",
    "assert_equal(len(order_book.asks), 0)"
   ]
  },
  {
   "cell_type": "markdown",
   "metadata": {},
   "source": [
    "### 5 match the best bid with the best ask and remove them "
   ]
  },
  {
   "cell_type": "code",
   "execution_count": null,
   "metadata": {
    "collapsed": true
   },
   "outputs": [],
   "source": []
  }
 ],
 "metadata": {
  "kernelspec": {
   "display_name": "Python 3",
   "language": "python",
   "name": "python3"
  },
  "language_info": {
   "codemirror_mode": {
    "name": "ipython",
    "version": 3
   },
   "file_extension": ".py",
   "mimetype": "text/x-python",
   "name": "python",
   "nbconvert_exporter": "python",
   "pygments_lexer": "ipython3",
   "version": "3.5.2"
  }
 },
 "nbformat": 4,
 "nbformat_minor": 0
}
