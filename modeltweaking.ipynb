{
 "cells": [
  {
   "cell_type": "code",
   "execution_count": 1,
   "metadata": {
    "collapsed": true
   },
   "outputs": [],
   "source": [
    "%matplotlib inline\n",
    "import math\n",
    "import numpy as np\n",
    "import numpy.random as nrand\n",
    "import matplotlib.pyplot as plt"
   ]
  },
  {
   "cell_type": "markdown",
   "metadata": {},
   "source": [
    "# Simulation"
   ]
  },
  {
   "cell_type": "code",
   "execution_count": 2,
   "metadata": {
    "collapsed": true
   },
   "outputs": [],
   "source": [
    "from stockmarket import baselinemodel"
   ]
  },
  {
   "cell_type": "code",
   "execution_count": 3,
   "metadata": {
    "collapsed": false
   },
   "outputs": [],
   "source": [
    "#%prun baselinemodel.stockMarketSimulation(seed=0, simulation_time=10, amount_momentum=40, amount_mean_reversion=40, amount_firms=1,initial_money=(100, 200),initial_bid_ask=(1,1), initial_memory=(3,7),initial_ma_short=(2,3), initial_ma_long=(6,7),initial_profit=(200,200),initial_book_value=(10000, 10000),initial_stock_amount=400,order_expiration_time=120,init_propensity_to_switch=1.1,init_price_to_earnings_window=(6, 12),firm_profit_mu=0.058,firm_profit_delta=0.00396825396,firm_profit_sigma=0.125,printProgress=False)"
   ]
  },
  {
   "cell_type": "code",
   "execution_count": 4,
   "metadata": {
    "collapsed": false
   },
   "outputs": [
    {
     "name": "stdout",
     "output_type": "stream",
     "text": [
      "no volume\n",
      "no volume\n",
      "no volume\n",
      "no volume\n",
      "no volume\n",
      "no volume\n",
      "no volume\n",
      "no volume\n",
      "no volume\n",
      "no volume\n",
      "no volume\n",
      "no volume\n",
      "no volume\n",
      "no volume\n",
      "no volume\n",
      "no volume\n",
      "no volume\n",
      "no volume\n",
      "no volume\n",
      "no volume\n",
      "no volume\n",
      "no volume\n",
      "no volume\n",
      "no volume\n",
      "no volume\n",
      "no volume\n",
      "no volume\n",
      "no volume\n",
      "no volume\n",
      "no volume\n",
      "no volume\n",
      "no volume\n",
      "no volume\n",
      "no volume\n",
      "no volume\n",
      "no volume\n",
      "no volume\n",
      "no volume\n",
      "no volume\n",
      "no volume\n",
      "no volume\n",
      "no volume\n",
      "no volume\n",
      "no volume\n",
      "no volume\n",
      "no volume\n",
      "no volume\n",
      "no volume\n",
      "no volume\n",
      "no volume\n",
      "no volume\n",
      "no volume\n",
      "no volume\n",
      "no volume\n",
      "no volume\n",
      "no volume\n",
      "no volume\n",
      "no volume\n",
      "no volume\n",
      "no volume\n",
      "no volume\n",
      "no volume\n",
      "no volume\n",
      "no volume\n",
      "no volume\n",
      "no volume\n",
      "no volume\n",
      "no volume\n",
      "no volume\n",
      "no volume\n",
      "no volume\n",
      "no volume\n",
      "no volume\n",
      "no volume\n",
      "no volume\n",
      "no volume\n",
      "no volume\n",
      "no volume\n",
      "no volume\n",
      "no volume\n",
      "no volume\n",
      "no volume\n",
      "no volume\n",
      "no volume\n",
      "no volume\n",
      "no volume\n",
      "no volume\n",
      "no volume\n",
      "no volume\n",
      "no volume\n",
      "no volume\n",
      "no volume\n",
      "no volume\n",
      "no volume\n",
      "no volume\n",
      "no volume\n",
      "no volume\n",
      "no volume\n",
      "no volume\n",
      "no volume\n",
      "no volume\n",
      "no volume\n",
      "no volume\n",
      "no volume\n",
      "no volume\n",
      "no volume\n",
      "no volume\n",
      "no volume\n",
      "no volume\n",
      "no volume\n",
      "no volume\n",
      "no volume\n",
      "no volume\n",
      "no volume\n",
      "no volume\n",
      "no volume\n",
      "no volume\n",
      "no volume\n",
      "no volume\n",
      "no volume\n",
      "no volume\n",
      "no volume\n",
      "no volume\n",
      "no volume\n",
      "no volume\n",
      "no volume\n",
      "no volume\n",
      "no volume\n",
      "no volume\n",
      "no volume\n",
      "no volume\n",
      "no volume\n",
      "no volume\n",
      "no volume\n",
      "no volume\n",
      "no volume\n",
      "no volume\n",
      "no volume\n",
      "no volume\n",
      "no volume\n",
      "no volume\n",
      "no volume\n",
      "no volume\n",
      "no volume\n",
      "no volume\n",
      "no volume\n",
      "no volume\n",
      "no volume\n",
      "no volume\n",
      "no volume\n",
      "no volume\n",
      "no volume\n",
      "no volume\n",
      "no volume\n",
      "no volume\n",
      "no volume\n",
      "no volume\n",
      "no volume\n",
      "no volume\n",
      "no volume\n",
      "no volume\n",
      "no volume\n",
      "no volume\n",
      "no volume\n",
      "no volume\n",
      "no volume\n",
      "no volume\n",
      "no volume\n",
      "no volume\n",
      "no volume\n",
      "no volume\n",
      "no volume\n",
      "no volume\n",
      "no volume\n",
      "no volume\n",
      "no volume\n",
      "no volume\n",
      "no volume\n",
      "no volume\n",
      "no volume\n",
      "no volume\n",
      "no volume\n",
      "no volume\n",
      "no volume\n",
      "no volume\n",
      "no volume\n",
      "no volume\n",
      "no volume\n",
      "no volume\n",
      "no volume\n",
      "no volume\n",
      "no volume\n",
      "no volume\n",
      "no volume\n",
      "no volume\n",
      "no volume\n",
      "no volume\n",
      "no volume\n",
      "no volume\n",
      "no volume\n",
      "no volume\n",
      "no volume\n",
      "no volume\n",
      "no volume\n",
      "no volume\n",
      "no volume\n",
      "no volume\n",
      "no volume\n",
      "no volume\n",
      "no volume\n",
      "no volume\n",
      "no volume\n",
      "no volume\n",
      "no volume\n",
      "no volume\n"
     ]
    }
   ],
   "source": [
    "agents, firms, stocks, order_books, market_maker = baselinemodel.stockMarketSimulation(seed=0, simulation_time=500,\n",
    "                                                                         amount_momentum=100,\n",
    "                                                                         amount_mean_reversion=100, amount_firms=1,\n",
    "                                                                         initial_money=(100, 200),\n",
    "                                                                         initial_bid_ask=(1,1), initial_memory=(3,7),\n",
    "                                                                         initial_ma_short=(20,40), initial_ma_long=(120,150),\n",
    "                                                                         initial_profit=(200,200),\n",
    "                                                                         initial_book_value=(10000, 10000),\n",
    "                                                                         initial_stock_amount=4000,\n",
    "                                                                         order_expiration_time=120,\n",
    "                                                                         init_propensity_to_switch=1.1,\n",
    "                                                                         init_price_to_earnings_window=((4, 7), (10, 14)),\n",
    "                                                                         firm_profit_mu=0.058,\n",
    "                                                                         firm_profit_delta=0.00396825396,\n",
    "                                                                         firm_profit_sigma=0.125,\n",
    "                                                                         profit_announcement_working_days=20,\n",
    "                                                                         init_market_maker_money=5000,\n",
    "                                                                         market_maker_bid_ask_spread=3,\n",
    "                                                                         market_maker_price_to_earnings_window=(5,13),\n",
    "                                                                         market_maker_inventory_sensitivity=0.01,\n",
    "                                                                         market_maker_inventory_buffer_of_total_target=0.10,\n",
    "                                                                         m_m_standard_order_percentage_total=0.05,\n",
    "                                                                         agents_hold_thresholds=(0.9995, 1.0005),\n",
    "                                                                                       init_share_of_stocks_to_market_maker=0.4,\n",
    "                                                                                       init_backward_simulated_time=200,\n",
    "                                                                                       trader_volume_risk_aversion=0.1,\n",
    "                                                                         printProgress=False\n",
    "                                                                         )"
   ]
  },
  {
   "cell_type": "markdown",
   "metadata": {},
   "source": [
    "# Quick results"
   ]
  },
  {
   "cell_type": "markdown",
   "metadata": {},
   "source": [
    "## Firm profits"
   ]
  },
  {
   "cell_type": "code",
   "execution_count": 29,
   "metadata": {
    "collapsed": false
   },
   "outputs": [
    {
     "data": {
      "text/plain": [
       "<matplotlib.text.Text at 0x227a4779b00>"
      ]
     },
     "execution_count": 29,
     "metadata": {},
     "output_type": "execute_result"
    },
    {
     "data": {
      "image/png": "[encoded data removed]",
      "text/plain": [
       "<matplotlib.figure.Figure at 0x227a34dbba8>"
      ]
     },
     "metadata": {},
     "output_type": "display_data"
    }
   ],
   "source": [
    "profits = firms[0].profit_history\n",
    "\n",
    "fig, ax1 = plt.subplots(1, 1, figsize=(10,5))\n",
    "\n",
    "ax1.plot(range(len(profits)), profits)\n",
    "\n",
    "ax1.set_ylabel('Profits', fontsize='14')\n",
    "ax1.set_xlabel('(Simulation time)', fontsize='14')"
   ]
  },
  {
   "cell_type": "code",
   "execution_count": 28,
   "metadata": {
    "collapsed": false
   },
   "outputs": [
    {
     "data": {
      "text/plain": [
       "<matplotlib.text.Text at 0x227a36b6160>"
      ]
     },
     "execution_count": 28,
     "metadata": {},
     "output_type": "execute_result"
    },
    {
     "data": {
      "image/png": "[encoded data removed]",
      "text/plain": [
       "<matplotlib.figure.Figure at 0x227a48aa390>"
      ]
     },
     "metadata": {},
     "output_type": "display_data"
    }
   ],
   "source": [
    "price_to_earnings = stocks[0].price_to_equity_history\n",
    "\n",
    "fig, ax1 = plt.subplots(1, 1, figsize=(10,5))\n",
    "\n",
    "ax1.plot(range(len(price_to_earnings)), price_to_earnings)\n",
    "ax1.plot(range(len(price_to_earnings)), [4 for x in range(len(price_to_earnings))], 'g--')\n",
    "ax1.plot(range(len(price_to_earnings)), [7 for x in range(len(price_to_earnings))], 'g--')\n",
    "ax1.plot(range(len(price_to_earnings)), [10 for x in range(len(price_to_earnings))], 'r--')\n",
    "ax1.plot(range(len(price_to_earnings)), [14 for x in range(len(price_to_earnings))], 'r--')\n",
    "#ax1.plot(range(len(price_to_earnings)), )\n",
    "\n",
    "ax1.set_ylabel('Price to earnings', fontsize='14')\n",
    "ax1.set_xlabel('(Simulation time)', fontsize='14')"
   ]
  },
  {
   "cell_type": "markdown",
   "metadata": {},
   "source": [
    "# Market Prices and Volume"
   ]
  },
  {
   "cell_type": "code",
   "execution_count": 6,
   "metadata": {
    "collapsed": false
   },
   "outputs": [],
   "source": [
    "prices = order_books[0].transaction_prices_history\n",
    "averageprices = []\n",
    "for day in prices:\n",
    "    averageprices.append(np.mean(day))"
   ]
  },
  {
   "cell_type": "code",
   "execution_count": 7,
   "metadata": {
    "collapsed": false
   },
   "outputs": [
    {
     "data": {
      "text/plain": [
       "<matplotlib.text.Text at 0x227a1351710>"
      ]
     },
     "execution_count": 7,
     "metadata": {},
     "output_type": "execute_result"
    },
    {
     "data": {
      "image/png": "[encoded data removed]",
      "text/plain": [
       "<matplotlib.figure.Figure at 0x227a10ff9b0>"
      ]
     },
     "metadata": {},
     "output_type": "display_data"
    }
   ],
   "source": [
    "fig, ax1 = plt.subplots(1, 1, figsize=(10,5))\n",
    "\n",
    "ax1.plot(range(len(averageprices)), averageprices)\n",
    "\n",
    "ax1.set_ylabel('Price', fontsize='14')\n",
    "ax1.set_xlabel('(Simulation time)', fontsize='14')"
   ]
  },
  {
   "cell_type": "code",
   "execution_count": 8,
   "metadata": {
    "collapsed": false
   },
   "outputs": [],
   "source": [
    "volume = order_books[0].transaction_volumes_history\n",
    "totalvolume = []\n",
    "for day in volume:\n",
    "    totalvolume.append(sum(day))"
   ]
  },
  {
   "cell_type": "code",
   "execution_count": 9,
   "metadata": {
    "collapsed": false
   },
   "outputs": [
    {
     "data": {
      "text/plain": [
       "<matplotlib.text.Text at 0x227a10919e8>"
      ]
     },
     "execution_count": 9,
     "metadata": {},
     "output_type": "execute_result"
    },
    {
     "data": {
      "image/png": "[encoded data removed]",
      "text/plain": [
       "<matplotlib.figure.Figure at 0x227a1355dd8>"
      ]
     },
     "metadata": {},
     "output_type": "display_data"
    }
   ],
   "source": [
    "fig, ax1 = plt.subplots(1, 1, figsize=(10,5))\n",
    "\n",
    "ax1.bar(range(len(totalvolume)), totalvolume)\n",
    "\n",
    "ax1.set_xlabel('(Simulation time)', fontsize='14')"
   ]
  },
  {
   "cell_type": "markdown",
   "metadata": {},
   "source": [
    "# Strategy switching"
   ]
  },
  {
   "cell_type": "code",
   "execution_count": 10,
   "metadata": {
    "collapsed": true
   },
   "outputs": [],
   "source": [
    "def percentageMomentum(period, agents):\n",
    "    momentum = 0\n",
    "    queryString = 'momentum'\n",
    "    for agent in agents:\n",
    "        function = str(agent.function_history[period])\n",
    "        if queryString in function:\n",
    "            momentum += 1\n",
    "    return momentum / (len(agents))"
   ]
  },
  {
   "cell_type": "code",
   "execution_count": 11,
   "metadata": {
    "collapsed": false
   },
   "outputs": [],
   "source": [
    "percFund = []\n",
    "for period in range(100):\n",
    "    percFund.append(percentageMomentum(period, agents))"
   ]
  },
  {
   "cell_type": "code",
   "execution_count": 12,
   "metadata": {
    "collapsed": false
   },
   "outputs": [
    {
     "data": {
      "text/plain": [
       "<matplotlib.text.Text at 0x227a1426dd8>"
      ]
     },
     "execution_count": 12,
     "metadata": {},
     "output_type": "execute_result"
    },
    {
     "data": {
      "image/png": "[encoded data removed]",
      "text/plain": [
       "<matplotlib.figure.Figure at 0x227a14765c0>"
      ]
     },
     "metadata": {},
     "output_type": "display_data"
    }
   ],
   "source": [
    "fig, ax1 = plt.subplots(1, 1, figsize=(10,5))\n",
    "\n",
    "ax1.plot(range(len(percFund)), percFund)\n",
    "\n",
    "ax1.set_ylabel('Percentage momentum traders', fontsize='14')\n",
    "ax1.set_xlabel('(Simulation time)', fontsize='14')"
   ]
  },
  {
   "cell_type": "markdown",
   "metadata": {},
   "source": [
    "# Stylized facts\n",
    "\n",
    "Most of the text comes from: Rama Cont (2001) Journal of Quantitative Finance\n",
    "\n",
    "How to replicate these? \n",
    "* centrifugal forces (for volatility clusering and fat tails) = mean reversion, trend following & fundamental component)\n",
    "* very low autocorrelation? ... stochasticity? \n",
    "* large positive autocorrelation in volume? "
   ]
  },
  {
   "cell_type": "markdown",
   "metadata": {},
   "source": [
    "## 1 Returns\n",
    "### 1.1 Very low autocorrelation\n",
    "\n",
    "(linear) autocorrelations of asset returns are often insignificant, except for very\n",
    "small intraday time scales (\u0003 20 minutes) for which microstructure effects come into play.\n",
    "\n",
    "add a bit of stochasticity? \n",
    "\n",
    "In some models such as Ghonghadze & Lux 2016. Changes in the fundamental value are driven by a brownian motion, which in turn drives the low autocorrelations. "
   ]
  },
  {
   "cell_type": "code",
   "execution_count": null,
   "metadata": {
    "collapsed": true
   },
   "outputs": [],
   "source": []
  },
  {
   "cell_type": "code",
   "execution_count": null,
   "metadata": {
    "collapsed": true
   },
   "outputs": [],
   "source": []
  },
  {
   "cell_type": "markdown",
   "metadata": {},
   "source": [
    "### 1.2 Fait tails\n",
    "\n",
    "fat tails of the unconditional distribution\n",
    "of returns"
   ]
  },
  {
   "cell_type": "code",
   "execution_count": null,
   "metadata": {
    "collapsed": true
   },
   "outputs": [],
   "source": []
  },
  {
   "cell_type": "code",
   "execution_count": null,
   "metadata": {
    "collapsed": true
   },
   "outputs": [],
   "source": []
  },
  {
   "cell_type": "markdown",
   "metadata": {},
   "source": [
    "### 1.3 Clustered volatility\n",
    "\n",
    "Volatility clustering characterizing their conditional distribution. Probably tied to over-optimism / over pessimism. "
   ]
  },
  {
   "cell_type": "code",
   "execution_count": null,
   "metadata": {
    "collapsed": true
   },
   "outputs": [],
   "source": []
  },
  {
   "cell_type": "code",
   "execution_count": null,
   "metadata": {
    "collapsed": true
   },
   "outputs": [],
   "source": []
  },
  {
   "cell_type": "markdown",
   "metadata": {},
   "source": [
    "## 2 Volume\n",
    "### 2.1 Large positive autocorrelation"
   ]
  },
  {
   "cell_type": "code",
   "execution_count": null,
   "metadata": {
    "collapsed": true
   },
   "outputs": [],
   "source": []
  },
  {
   "cell_type": "markdown",
   "metadata": {},
   "source": [
    "### 2.2 Correlation between high price volatility and large volumes"
   ]
  },
  {
   "cell_type": "code",
   "execution_count": null,
   "metadata": {
    "collapsed": true
   },
   "outputs": [],
   "source": []
  },
  {
   "cell_type": "markdown",
   "metadata": {},
   "source": [
    "## 3 Prices"
   ]
  },
  {
   "cell_type": "markdown",
   "metadata": {},
   "source": [
    "### 3.1 Moving P/E ratio"
   ]
  },
  {
   "cell_type": "code",
   "execution_count": null,
   "metadata": {
    "collapsed": true
   },
   "outputs": [],
   "source": []
  }
 ],
 "metadata": {
  "anaconda-cloud": {},
  "kernelspec": {
   "display_name": "Python [Root]",
   "language": "python",
   "name": "Python [Root]"
  },
  "language_info": {
   "codemirror_mode": {
    "name": "ipython",
    "version": 3
   },
   "file_extension": ".py",
   "mimetype": "text/x-python",
   "name": "python",
   "nbconvert_exporter": "python",
   "pygments_lexer": "ipython3",
   "version": "3.5.2"
  }
 },
 "nbformat": 4,
 "nbformat_minor": 0
}
