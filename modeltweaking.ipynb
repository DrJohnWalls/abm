{
 "cells": [
  {
   "cell_type": "code",
   "execution_count": 1,
   "metadata": {
    "collapsed": true
   },
   "outputs": [],
   "source": [
    "%matplotlib inline\n",
    "import math\n",
    "import numpy as np\n",
    "import numpy.random as nrand\n",
    "import matplotlib.pyplot as plt\n",
    "import pandas as pd\n",
    "import itertools\n",
    "import scipy.stats as stats\n",
    "from pandas_datareader import data"
   ]
  },
  {
   "cell_type": "code",
   "execution_count": 2,
   "metadata": {
    "collapsed": true
   },
   "outputs": [],
   "source": [
    "import powerlaw"
   ]
  },
  {
   "cell_type": "markdown",
   "metadata": {},
   "source": [
    "# Simulation"
   ]
  },
  {
   "cell_type": "code",
   "execution_count": 3,
   "metadata": {
    "collapsed": true
   },
   "outputs": [],
   "source": [
    "from stockmarket import baselinemodel"
   ]
  },
  {
   "cell_type": "code",
   "execution_count": 4,
   "metadata": {
    "collapsed": false
   },
   "outputs": [],
   "source": [
    "#%prun baselinemodel.stockMarketSimulation(seed=0, simulation_time=10, amount_momentum=40, amount_mean_reversion=40, amount_firms=1,initial_money=(100, 200),initial_bid_ask=(1,1), initial_memory=(3,7),initial_ma_short=(2,3), initial_ma_long=(6,7),initial_profit=(200,200),initial_book_value=(10000, 10000),initial_stock_amount=400,order_expiration_time=120,init_propensity_to_switch=1.1,init_price_to_earnings_window=(6, 12),firm_profit_mu=0.058,firm_profit_delta=0.00396825396,firm_profit_sigma=0.125,printProgress=False)"
   ]
  },
  {
   "cell_type": "code",
   "execution_count": 56,
   "metadata": {
    "collapsed": true
   },
   "outputs": [],
   "source": [
    "SIMTIME = 500"
   ]
  },
  {
   "cell_type": "code",
   "execution_count": 57,
   "metadata": {
    "collapsed": false
   },
   "outputs": [],
   "source": [
    "agents, firms, stocks, order_books, market_maker = baselinemodel.stockMarketSimulation(seed=0, simulation_time=SIMTIME,\n",
    "                                                                                       amount_momentum=0,\n",
    "                                                                                       amount_mean_reversion=0,\n",
    "                                                                                       amount_noise_traders=100,\n",
    "                                                                                       amount_firms=1,\n",
    "                                                                                       initial_money=(100, 200),\n",
    "                                                                                       initial_bid_ask=(1,1),\n",
    "                                                                                       initial_memory=(3,7),\n",
    "                                                                                       initial_ma_short=(20,40),\n",
    "                                                                                       initial_ma_long=(120,150),\n",
    "                                                                                       initial_profit=(200,200),\n",
    "                                                                                       initial_book_value=(10000, 10000),\n",
    "                                                                                       initial_stock_amount=4000,\n",
    "                                                                                       order_expiration_time=150,\n",
    "                                                                                       init_propensity_to_switch=1.1,\n",
    "                                                                                       init_price_to_earnings_window=((4, 7), (10, 14)),\n",
    "                                                                                       firm_profit_mu=0.058,\n",
    "                                                                                       firm_profit_delta=0.00396825396,\n",
    "                                                                                       firm_profit_sigma=0.125,\n",
    "                                                                                       profit_announcement_working_days=20,\n",
    "                                                                                       agents_hold_thresholds=(0.9995, 1.0005),\n",
    "                                                                                       init_share_of_stocks_to_market_maker=0.4,\n",
    "                                                                                       init_backward_simulated_time=200,\n",
    "                                                                                       trader_volume_risk_aversion=0.1,\n",
    "                                                                                       order_variability=1.5,\n",
    "                                                                                       printProgress=False\n",
    "                                                                                       )"
   ]
  },
  {
   "cell_type": "markdown",
   "metadata": {},
   "source": [
    "# Quick results"
   ]
  },
  {
   "cell_type": "markdown",
   "metadata": {},
   "source": [
    "## Firm profits"
   ]
  },
  {
   "cell_type": "code",
   "execution_count": 58,
   "metadata": {
    "collapsed": false
   },
   "outputs": [
    {
     "data": {
      "text/plain": [
       "<matplotlib.text.Text at 0x10822828>"
      ]
     },
     "execution_count": 58,
     "metadata": {},
     "output_type": "execute_result"
    },
    {
     "data": {
      "image/png": "[encoded data removed]",
      "text/plain": [
       "<matplotlib.figure.Figure at 0x14346518>"
      ]
     },
     "metadata": {},
     "output_type": "display_data"
    }
   ],
   "source": [
    "profits = firms[0].profit_history\n",
    "\n",
    "fig, ax1 = plt.subplots(1, 1, figsize=(10,5))\n",
    "\n",
    "ax1.plot(range(len(profits)), profits)\n",
    "\n",
    "ax1.set_ylabel('Profits', fontsize='14')\n",
    "ax1.set_xlabel('(Simulation time)', fontsize='14')"
   ]
  },
  {
   "cell_type": "code",
   "execution_count": 59,
   "metadata": {
    "collapsed": false
   },
   "outputs": [
    {
     "data": {
      "text/plain": [
       "<matplotlib.text.Text at 0x198d7080>"
      ]
     },
     "execution_count": 59,
     "metadata": {},
     "output_type": "execute_result"
    },
    {
     "data": {
      "image/png": "[encoded data removed]",
      "text/plain": [
       "<matplotlib.figure.Figure at 0x11d11c88>"
      ]
     },
     "metadata": {},
     "output_type": "display_data"
    }
   ],
   "source": [
    "price_to_earnings = stocks[0].price_to_earnings_history\n",
    "\n",
    "fig, ax1 = plt.subplots(1, 1, figsize=(10,5))\n",
    "\n",
    "ax1.plot(range(len(price_to_earnings)), price_to_earnings)\n",
    "ax1.plot(range(len(price_to_earnings)), [4 for x in range(len(price_to_earnings))], 'g--')\n",
    "ax1.plot(range(len(price_to_earnings)), [7 for x in range(len(price_to_earnings))], 'g--')\n",
    "ax1.plot(range(len(price_to_earnings)), [10 for x in range(len(price_to_earnings))], 'r--')\n",
    "ax1.plot(range(len(price_to_earnings)), [14 for x in range(len(price_to_earnings))], 'r--')\n",
    "#ax1.plot(range(len(price_to_earnings)), )\n",
    "\n",
    "#ax1.set_ylim(0, 16)\n",
    "\n",
    "ax1.set_ylabel('Price to earnings', fontsize='14')\n",
    "ax1.set_xlabel('(Simulation time)', fontsize='14')"
   ]
  },
  {
   "cell_type": "markdown",
   "metadata": {},
   "source": [
    "# Buy and sell orders"
   ]
  },
  {
   "cell_type": "code",
   "execution_count": 60,
   "metadata": {
    "collapsed": false,
    "scrolled": true
   },
   "outputs": [
    {
     "data": {
      "text/plain": [
       "<matplotlib.text.Text at 0x19872128>"
      ]
     },
     "execution_count": 60,
     "metadata": {},
     "output_type": "execute_result"
    },
    {
     "data": {
      "image/png": "[encoded data removed]",
      "text/plain": [
       "<matplotlib.figure.Figure at 0x1ca346a0>"
      ]
     },
     "metadata": {},
     "output_type": "display_data"
    }
   ],
   "source": [
    "buy_orders = order_books[0].buy_orders_history\n",
    "sell_orders = order_books[0].sell_orders_history\n",
    "#sell_orders\n",
    "\n",
    "fig, (ax1, ax2) = plt.subplots(1, 2, figsize=(10,5))\n",
    "\n",
    "ax1.bar(range(len(buy_orders)), buy_orders)\n",
    "ax2.bar(range(len(sell_orders)), sell_orders)\n",
    "\n",
    "\n",
    "ax1.set_ylabel('buy_orders', fontsize='14')\n",
    "ax2.set_ylabel('sell_orders', fontsize='14')"
   ]
  },
  {
   "cell_type": "code",
   "execution_count": 61,
   "metadata": {
    "collapsed": false
   },
   "outputs": [
    {
     "data": {
      "text/plain": [
       "<matplotlib.text.Text at 0x17f33080>"
      ]
     },
     "execution_count": 61,
     "metadata": {},
     "output_type": "execute_result"
    },
    {
     "data": {
      "image/png": "[encoded data removed]",
      "text/plain": [
       "<matplotlib.figure.Figure at 0x163470f0>"
      ]
     },
     "metadata": {},
     "output_type": "display_data"
    }
   ],
   "source": [
    "buy_minus_sell_orders = np.array(buy_orders) - np.array(sell_orders)\n",
    "\n",
    "fig, ax1 = plt.subplots(1, 1, figsize=(10,5))\n",
    "\n",
    "ax1.bar(range(len(buy_minus_sell_orders)), buy_minus_sell_orders)\n",
    "\n",
    "\n",
    "ax1.set_ylabel('buy - sell orders', fontsize='14')"
   ]
  },
  {
   "cell_type": "markdown",
   "metadata": {},
   "source": [
    "# Market Prices and Volume"
   ]
  },
  {
   "cell_type": "code",
   "execution_count": 62,
   "metadata": {
    "collapsed": false
   },
   "outputs": [],
   "source": [
    "prices = order_books[0].transaction_prices_history\n",
    "averageprices = []\n",
    "for day in prices:\n",
    "    averageprices.append(np.mean(day))"
   ]
  },
  {
   "cell_type": "code",
   "execution_count": 63,
   "metadata": {
    "collapsed": false
   },
   "outputs": [
    {
     "data": {
      "text/plain": [
       "<matplotlib.text.Text at 0x197af6a0>"
      ]
     },
     "execution_count": 63,
     "metadata": {},
     "output_type": "execute_result"
    },
    {
     "data": {
      "image/png": "[encoded data removed]",
      "text/plain": [
       "<matplotlib.figure.Figure at 0x17c44eb8>"
      ]
     },
     "metadata": {},
     "output_type": "display_data"
    }
   ],
   "source": [
    "fig, ax1 = plt.subplots(1, 1, figsize=(10,5))\n",
    "\n",
    "ax1.plot(range(len(averageprices)), averageprices)\n",
    "\n",
    "ax1.set_ylabel('Price', fontsize='14')\n",
    "ax1.set_xlabel('(Simulation time)', fontsize='14')"
   ]
  },
  {
   "cell_type": "code",
   "execution_count": 48,
   "metadata": {
    "collapsed": false
   },
   "outputs": [],
   "source": [
    "volume = order_books[0].transaction_volumes_history\n",
    "totalvolume = []\n",
    "for day in volume:\n",
    "    totalvolume.append(sum(day))"
   ]
  },
  {
   "cell_type": "code",
   "execution_count": 49,
   "metadata": {
    "collapsed": false
   },
   "outputs": [
    {
     "data": {
      "text/plain": [
       "<matplotlib.text.Text at 0x1a1c8860>"
      ]
     },
     "execution_count": 49,
     "metadata": {},
     "output_type": "execute_result"
    },
    {
     "data": {
      "image/png": "[encoded data removed]",
      "text/plain": [
       "<matplotlib.figure.Figure at 0x1a3713c8>"
      ]
     },
     "metadata": {},
     "output_type": "display_data"
    }
   ],
   "source": [
    "fig, ax1 = plt.subplots(1, 1, figsize=(10,5))\n",
    "\n",
    "ax1.bar(range(len(totalvolume)), totalvolume)\n",
    "\n",
    "ax1.set_xlabel('(Simulation time)', fontsize='14')"
   ]
  },
  {
   "cell_type": "markdown",
   "metadata": {},
   "source": [
    "## Intraday prices"
   ]
  },
  {
   "cell_type": "code",
   "execution_count": 50,
   "metadata": {
    "collapsed": false
   },
   "outputs": [],
   "source": [
    "all_transaction_prices = order_books[0].transaction_prices_history"
   ]
  },
  {
   "cell_type": "code",
   "execution_count": 51,
   "metadata": {
    "collapsed": false
   },
   "outputs": [],
   "source": [
    "all_transaction_prices = list(itertools.chain.from_iterable(all_transaction_prices))"
   ]
  },
  {
   "cell_type": "code",
   "execution_count": 52,
   "metadata": {
    "collapsed": false
   },
   "outputs": [
    {
     "data": {
      "text/plain": [
       "<matplotlib.text.Text at 0x1a8067f0>"
      ]
     },
     "execution_count": 52,
     "metadata": {},
     "output_type": "execute_result"
    },
    {
     "data": {
      "image/png": "[encoded data removed]",
      "text/plain": [
       "<matplotlib.figure.Figure at 0x1a77d860>"
      ]
     },
     "metadata": {},
     "output_type": "display_data"
    }
   ],
   "source": [
    "fig, ax1 = plt.subplots(1, 1, figsize=(10,5))\n",
    "\n",
    "zoomed_prices = all_transaction_prices[:1000]\n",
    "\n",
    "ax1.plot(range(len(zoomed_prices)), zoomed_prices)\n",
    "\n",
    "ax1.set_ylabel('Price', fontsize='14')\n",
    "ax1.set_xlabel('(Simulation time)', fontsize='14')"
   ]
  },
  {
   "cell_type": "markdown",
   "metadata": {},
   "source": [
    "# Strategy switching"
   ]
  },
  {
   "cell_type": "code",
   "execution_count": 53,
   "metadata": {
    "collapsed": true
   },
   "outputs": [],
   "source": [
    "def percentageMomentum(period, agents):\n",
    "    momentum = 0\n",
    "    queryString = 'momentum'\n",
    "    for agent in agents:\n",
    "        function = str(agent.function_history[period])\n",
    "        if queryString in function:\n",
    "            momentum += 1\n",
    "    return momentum / (len(agents))"
   ]
  },
  {
   "cell_type": "code",
   "execution_count": 54,
   "metadata": {
    "collapsed": false
   },
   "outputs": [],
   "source": [
    "percFund = []\n",
    "for period in range(SIMTIME):\n",
    "    percFund.append(percentageMomentum(period, agents))"
   ]
  },
  {
   "cell_type": "code",
   "execution_count": 55,
   "metadata": {
    "collapsed": false
   },
   "outputs": [
    {
     "data": {
      "text/plain": [
       "<matplotlib.text.Text at 0x1420a748>"
      ]
     },
     "execution_count": 55,
     "metadata": {},
     "output_type": "execute_result"
    },
    {
     "data": {
      "image/png": "[encoded data removed]",
      "text/plain": [
       "<matplotlib.figure.Figure at 0x1ba40d30>"
      ]
     },
     "metadata": {},
     "output_type": "display_data"
    }
   ],
   "source": [
    "fig, ax1 = plt.subplots(1, 1, figsize=(10,5))\n",
    "\n",
    "ax1.plot(range(len(percFund)), percFund)\n",
    "\n",
    "ax1.set_ylabel('Percentage momentum traders', fontsize='14')\n",
    "ax1.set_xlabel('(Simulation time)', fontsize='14')"
   ]
  },
  {
   "cell_type": "markdown",
   "metadata": {},
   "source": [
    "## Actual s&p 500 data"
   ]
  },
  {
   "cell_type": "code",
   "execution_count": 56,
   "metadata": {
    "collapsed": false
   },
   "outputs": [],
   "source": [
    "start_date = '2010-01-01'\n",
    "end_date = '2016-12-31'\n",
    "\n",
    "spy = data.DataReader(\"SPY\", \n",
    "                       start=start_date, \n",
    "                       end=end_date, \n",
    "                       data_source='google')['Close']\n",
    "spy_returns = spy.pct_change()[1:]"
   ]
  },
  {
   "cell_type": "code",
   "execution_count": 53,
   "metadata": {
    "collapsed": false
   },
   "outputs": [
    {
     "data": {
      "text/plain": [
       "<matplotlib.axes._subplots.AxesSubplot at 0xe81c4a8>"
      ]
     },
     "execution_count": 53,
     "metadata": {},
     "output_type": "execute_result"
    },
    {
     "data": {
      "image/png": "[encoded data removed]",
      "text/plain": [
       "<matplotlib.figure.Figure at 0xe7cb518>"
      ]
     },
     "metadata": {},
     "output_type": "display_data"
    }
   ],
   "source": [
    "((1 + spy_returns).cumprod() - 1).plot(title='spy Cumulative Returns')"
   ]
  },
  {
   "cell_type": "markdown",
   "metadata": {},
   "source": [
    "# Stylized facts\n",
    "\n",
    "Most of the text comes from: Rama Cont (2001) Journal of Quantitative Finance\n",
    "\n",
    "How to replicate these? \n",
    "* centrifugal forces (for volatility clusering and fat tails) = mean reversion, trend following & fundamental component)\n",
    "* very low autocorrelation? ... stochasticity? \n",
    "* large positive autocorrelation in volume? "
   ]
  },
  {
   "cell_type": "code",
   "execution_count": 70,
   "metadata": {
    "collapsed": false
   },
   "outputs": [],
   "source": [
    "# return autocorrelation close to zero after lag 1\n",
    "# calculate returns \n",
    "def calculate_close(orderbook_transaction_price_history):\n",
    "    closing_prices = []\n",
    "    for day in orderbook_transaction_price_history:\n",
    "        closing_prices.append(day[-1])\n",
    "    close = pd.Series(closing_prices).pct_change()\n",
    "    return close\n",
    "\n",
    "def calculate_returns(orderbook_transaction_price_history):\n",
    "    \"\"\"Return the returns\"\"\"\n",
    "    closing_prices = []\n",
    "    for day in orderbook_transaction_price_history:\n",
    "        closing_prices.append(day[-1])\n",
    "    returns = pd.Series(closing_prices).pct_change()\n",
    "    return returns[1:]\n",
    "\n",
    "# Test 1\n",
    "def zero_autocorrelation(returns, lags):\n",
    "    \"\"\"returns wether average autocorrelation is much different from zero\"\"\"\n",
    "    autocorr_returns = [returns.autocorr(lag=lag) for lag in range(lags)]\n",
    "    # if mean autocorrelation are between -0.1 and 0.1\n",
    "    average_autocorrelation = np.mean(autocorr_returns[1:])\n",
    "    if (average_autocorrelation < 0.1) and (average_autocorrelation > -0.1):\n",
    "        return True\n",
    "    else:\n",
    "        return False\n",
    "\n",
    "# Test 2 \n",
    "def fat_tails(returns):\n",
    "    results = powerlaw.Fit(returns)\n",
    "    alpha = results.power_law.alpha\n",
    "    print(alpha)\n",
    "    if (alpha < 4) and (alpha > 2):\n",
    "        return True\n",
    "    else:\n",
    "        return False\n",
    "    \n",
    "# Test 3\n",
    "def clustered_volatility(returns, lags):\n",
    "    absolute_returns = returns.abs()\n",
    "    autocorr_abs_returns = [absolute_returns.autocorr(lag=lag) for lag in range(lags)]\n",
    "    average_autocorrelation = np.mean(autocorr_abs_returns[1:])\n",
    "    print(average_autocorrelation)\n",
    "    if (average_autocorrelation < 0.1) and (average_autocorrelation > -0.1):\n",
    "        return False\n",
    "    else:\n",
    "        return True\n",
    "\n",
    "# Test 4\n",
    "def non_linear_dependence(returns, hurst_function, lag1, lag2):\n",
    "    h = hurst_function(returns, lag1, lag2)\n",
    "    print(h)\n",
    "    if (h > 0.55) or (h < 0.45):\n",
    "        return True\n",
    "    else: \n",
    "        return False"
   ]
  },
  {
   "cell_type": "code",
   "execution_count": 93,
   "metadata": {
    "collapsed": false
   },
   "outputs": [
    {
     "data": {
      "text/plain": [
       "True"
      ]
     },
     "execution_count": 93,
     "metadata": {},
     "output_type": "execute_result"
    }
   ],
   "source": [
    "# test 1\n",
    "zero_autocorrelation(calculate_returns(order_books[0].transaction_prices_history), 25)"
   ]
  },
  {
   "cell_type": "code",
   "execution_count": 94,
   "metadata": {
    "collapsed": false
   },
   "outputs": [
    {
     "data": {
      "text/plain": [
       "True"
      ]
     },
     "execution_count": 94,
     "metadata": {},
     "output_type": "execute_result"
    }
   ],
   "source": [
    "zero_autocorrelation(spy_returns, 25)"
   ]
  },
  {
   "cell_type": "code",
   "execution_count": 95,
   "metadata": {
    "collapsed": false
   },
   "outputs": [
    {
     "name": "stderr",
     "output_type": "stream",
     "text": [
      "Calculating best minimal value for power law fit\n",
      "C:\\Users\\p267237\\AppData\\Local\\Continuum\\Anaconda3\\lib\\site-packages\\powerlaw.py:1138: RuntimeWarning: invalid value encountered in log\n",
      "  self.alpha = 1 + (self.n / sum(log(data/self.xmin)))\n",
      "C:\\Users\\p267237\\AppData\\Local\\Continuum\\Anaconda3\\lib\\site-packages\\powerlaw.py:1157: RuntimeWarning: invalid value encountered in log\n",
      "  return 1 + len(data)/sum(log(data / (self.xmin)))\n",
      "C:\\Users\\p267237\\AppData\\Local\\Continuum\\Anaconda3\\lib\\site-packages\\powerlaw.py:698: RuntimeWarning: overflow encountered in double_scalars\n",
      "  )[1:]\n"
     ]
    },
    {
     "name": "stdout",
     "output_type": "stream",
     "text": [
      "5.52494462538\n"
     ]
    },
    {
     "name": "stderr",
     "output_type": "stream",
     "text": [
      "C:\\Users\\p267237\\AppData\\Local\\Continuum\\Anaconda3\\lib\\site-packages\\powerlaw.py:697: RuntimeWarning: invalid value encountered in true_divide\n",
      "  (Theoretical_CDF * (1 - Theoretical_CDF))\n"
     ]
    },
    {
     "data": {
      "text/plain": [
       "False"
      ]
     },
     "execution_count": 95,
     "metadata": {},
     "output_type": "execute_result"
    }
   ],
   "source": [
    "# test 2\n",
    "fat_tails(calculate_returns(order_books[0].transaction_prices_history))"
   ]
  },
  {
   "cell_type": "code",
   "execution_count": 96,
   "metadata": {
    "collapsed": false
   },
   "outputs": [
    {
     "name": "stdout",
     "output_type": "stream",
     "text": [
      "4.10038523727\n"
     ]
    },
    {
     "name": "stderr",
     "output_type": "stream",
     "text": [
      "Values less than or equal to 0 in data. Throwing out 0 or negative values\n",
      "Calculating best minimal value for power law fit\n",
      "C:\\Users\\p267237\\AppData\\Local\\Continuum\\Anaconda3\\lib\\site-packages\\powerlaw.py:697: RuntimeWarning: invalid value encountered in true_divide\n",
      "  (Theoretical_CDF * (1 - Theoretical_CDF))\n"
     ]
    },
    {
     "data": {
      "text/plain": [
       "False"
      ]
     },
     "execution_count": 96,
     "metadata": {},
     "output_type": "execute_result"
    }
   ],
   "source": [
    "fat_tails(spy_returns)"
   ]
  },
  {
   "cell_type": "code",
   "execution_count": 97,
   "metadata": {
    "collapsed": false
   },
   "outputs": [
    {
     "name": "stdout",
     "output_type": "stream",
     "text": [
      "0.239359515511\n"
     ]
    },
    {
     "data": {
      "text/plain": [
       "True"
      ]
     },
     "execution_count": 97,
     "metadata": {},
     "output_type": "execute_result"
    }
   ],
   "source": [
    "# test 3\n",
    "clustered_volatility(calculate_returns(order_books[0].transaction_prices_history), 25)"
   ]
  },
  {
   "cell_type": "code",
   "execution_count": 98,
   "metadata": {
    "collapsed": false
   },
   "outputs": [
    {
     "name": "stdout",
     "output_type": "stream",
     "text": [
      "0.154848633766\n"
     ]
    },
    {
     "data": {
      "text/plain": [
       "True"
      ]
     },
     "execution_count": 98,
     "metadata": {},
     "output_type": "execute_result"
    }
   ],
   "source": [
    "clustered_volatility(spy_returns, 25)"
   ]
  },
  {
   "cell_type": "code",
   "execution_count": 99,
   "metadata": {
    "collapsed": false
   },
   "outputs": [
    {
     "name": "stdout",
     "output_type": "stream",
     "text": [
      "0.010681132196\n"
     ]
    },
    {
     "data": {
      "text/plain": [
       "True"
      ]
     },
     "execution_count": 99,
     "metadata": {},
     "output_type": "execute_result"
    }
   ],
   "source": [
    "# test 4 NOTE I think you should not do this on the returns TODO\n",
    "non_linear_dependence(calculate_close(order_books[0].transaction_prices_history), hurst, 2, 20)"
   ]
  },
  {
   "cell_type": "code",
   "execution_count": 100,
   "metadata": {
    "collapsed": false
   },
   "outputs": [
    {
     "name": "stdout",
     "output_type": "stream",
     "text": [
      "0.425635227107\n"
     ]
    },
    {
     "data": {
      "text/plain": [
       "True"
      ]
     },
     "execution_count": 100,
     "metadata": {},
     "output_type": "execute_result"
    }
   ],
   "source": [
    "non_linear_dependence(spy, hurst, 2, 20)"
   ]
  },
  {
   "cell_type": "markdown",
   "metadata": {},
   "source": [
    "## 1 Returns"
   ]
  },
  {
   "cell_type": "code",
   "execution_count": 147,
   "metadata": {
    "collapsed": true
   },
   "outputs": [],
   "source": [
    "returns = pd.Series(averageprices).diff()\n",
    "squared_returns = np.square(returns)"
   ]
  },
  {
   "cell_type": "code",
   "execution_count": 148,
   "metadata": {
    "collapsed": true
   },
   "outputs": [],
   "source": [
    "stats = [returns.std(), returns.min(), returns.max(), returns.skew(), returns.kurtosis()]\n",
    "sp500 = [0.008, -0.082, 0.051, -0.187, 8.512]\n",
    "index = ['standard_deviation', 'minimum', 'maximum', 'skewness', 'kurtosis']"
   ]
  },
  {
   "cell_type": "code",
   "execution_count": 149,
   "metadata": {
    "collapsed": false
   },
   "outputs": [
    {
     "data": {
      "text/html": [
       "<div>\n",
       "<table border=\"1\" class=\"dataframe\">\n",
       "  <thead>\n",
       "    <tr style=\"text-align: right;\">\n",
       "      <th></th>\n",
       "      <th>S&amp;P500</th>\n",
       "      <th>Simulation</th>\n",
       "    </tr>\n",
       "  </thead>\n",
       "  <tbody>\n",
       "    <tr>\n",
       "      <th>standard_deviation</th>\n",
       "      <td>0.008</td>\n",
       "      <td>0.019602</td>\n",
       "    </tr>\n",
       "    <tr>\n",
       "      <th>minimum</th>\n",
       "      <td>-0.082</td>\n",
       "      <td>-0.058428</td>\n",
       "    </tr>\n",
       "    <tr>\n",
       "      <th>maximum</th>\n",
       "      <td>0.051</td>\n",
       "      <td>0.044135</td>\n",
       "    </tr>\n",
       "    <tr>\n",
       "      <th>skewness</th>\n",
       "      <td>-0.187</td>\n",
       "      <td>-0.312469</td>\n",
       "    </tr>\n",
       "    <tr>\n",
       "      <th>kurtosis</th>\n",
       "      <td>8.512</td>\n",
       "      <td>0.228903</td>\n",
       "    </tr>\n",
       "  </tbody>\n",
       "</table>\n",
       "</div>"
      ],
      "text/plain": [
       "                    S&P500  Simulation\n",
       "standard_deviation   0.008    0.019602\n",
       "minimum             -0.082   -0.058428\n",
       "maximum              0.051    0.044135\n",
       "skewness            -0.187   -0.312469\n",
       "kurtosis             8.512    0.228903"
      ]
     },
     "execution_count": 149,
     "metadata": {},
     "output_type": "execute_result"
    }
   ],
   "source": [
    "pd.DataFrame({'Simulation':stats, 'S&P500': sp500}, index=index)"
   ]
  },
  {
   "cell_type": "markdown",
   "metadata": {},
   "source": [
    "### 1.1 Very low autocorrelation\n",
    "\n",
    "(linear) autocorrelations of asset returns are often insignificant, except for very\n",
    "small intraday time scales (\u0003 20 minutes) for which microstructure effects come into play.\n",
    "\n",
    "add a bit of stochasticity? \n",
    "\n",
    "In some models such as Ghonghadze & Lux 2016. Changes in the fundamental value are driven by a brownian motion, which in turn drives the low autocorrelations. "
   ]
  },
  {
   "cell_type": "code",
   "execution_count": 150,
   "metadata": {
    "collapsed": false
   },
   "outputs": [],
   "source": [
    "autocorr_returns = [returns.autocorr(lag=lag) for lag in range(25)]\n",
    "autocorr_squared_returns = [squared_returns.autocorr(lag=lag) for lag in range(25)]"
   ]
  },
  {
   "cell_type": "code",
   "execution_count": 151,
   "metadata": {
    "collapsed": false
   },
   "outputs": [
    {
     "data": {
      "text/plain": [
       "<matplotlib.text.Text at 0x179c56a0>"
      ]
     },
     "execution_count": 151,
     "metadata": {},
     "output_type": "execute_result"
    },
    {
     "data": {
      "image/png": "[encoded data removed]",
      "text/plain": [
       "<matplotlib.figure.Figure at 0x18f4b080>"
      ]
     },
     "metadata": {},
     "output_type": "display_data"
    }
   ],
   "source": [
    "fig, ax1 = plt.subplots(1, 1, figsize=(10,5))\n",
    "\n",
    "\n",
    "ax1.plot(range(len(autocorr_returns)), autocorr_returns)\n",
    "ax1.plot(range(len(autocorr_squared_returns)), autocorr_squared_returns)\n",
    "\n",
    "ax1.set_ylabel('Autocorrelation', fontsize='14')\n",
    "ax1.set_xlabel('Lag', fontsize='14')"
   ]
  },
  {
   "cell_type": "markdown",
   "metadata": {},
   "source": [
    "### 1.2 Fait tails\n",
    "\n",
    "fat tails of the unconditional distribution\n",
    "of returns\n",
    "\n",
    "**How to measure: calculate the powerlaw exponent (alpha)**"
   ]
  },
  {
   "cell_type": "code",
   "execution_count": 152,
   "metadata": {
    "collapsed": false
   },
   "outputs": [
    {
     "ename": "AttributeError",
     "evalue": "'list' object has no attribute 'norm'",
     "output_type": "error",
     "traceback": [
      "\u001b[1;31m---------------------------------------------------------------------------\u001b[0m",
      "\u001b[1;31mAttributeError\u001b[0m                            Traceback (most recent call last)",
      "\u001b[1;32m<ipython-input-152-897e2390407c>\u001b[0m in \u001b[0;36m<module>\u001b[1;34m()\u001b[0m\n\u001b[0;32m      2\u001b[0m \u001b[0mhmean\u001b[0m \u001b[1;33m=\u001b[0m \u001b[0mnp\u001b[0m\u001b[1;33m.\u001b[0m\u001b[0mmean\u001b[0m\u001b[1;33m(\u001b[0m\u001b[0mh\u001b[0m\u001b[1;33m)\u001b[0m\u001b[1;33m\u001b[0m\u001b[0m\n\u001b[0;32m      3\u001b[0m \u001b[0mhstd\u001b[0m \u001b[1;33m=\u001b[0m \u001b[0mnp\u001b[0m\u001b[1;33m.\u001b[0m\u001b[0mstd\u001b[0m\u001b[1;33m(\u001b[0m\u001b[0mh\u001b[0m\u001b[1;33m)\u001b[0m\u001b[1;33m\u001b[0m\u001b[0m\n\u001b[1;32m----> 4\u001b[1;33m \u001b[0mpdf\u001b[0m \u001b[1;33m=\u001b[0m \u001b[0mstats\u001b[0m\u001b[1;33m.\u001b[0m\u001b[0mnorm\u001b[0m\u001b[1;33m.\u001b[0m\u001b[0mpdf\u001b[0m\u001b[1;33m(\u001b[0m\u001b[0mh\u001b[0m\u001b[1;33m,\u001b[0m \u001b[0mhmean\u001b[0m\u001b[1;33m,\u001b[0m \u001b[0mhstd\u001b[0m\u001b[1;33m)\u001b[0m\u001b[1;33m\u001b[0m\u001b[0m\n\u001b[0m\u001b[0;32m      5\u001b[0m \u001b[0mplt\u001b[0m\u001b[1;33m.\u001b[0m\u001b[0mplot\u001b[0m\u001b[1;33m(\u001b[0m\u001b[0mh\u001b[0m\u001b[1;33m,\u001b[0m \u001b[0mpdf\u001b[0m\u001b[1;33m)\u001b[0m\u001b[1;33m\u001b[0m\u001b[0m\n\u001b[0;32m      6\u001b[0m \u001b[0mplt\u001b[0m\u001b[1;33m.\u001b[0m\u001b[0mhist\u001b[0m\u001b[1;33m(\u001b[0m\u001b[0mh\u001b[0m\u001b[1;33m,\u001b[0m \u001b[0mnormed\u001b[0m\u001b[1;33m=\u001b[0m\u001b[1;32mTrue\u001b[0m\u001b[1;33m)\u001b[0m\u001b[1;33m\u001b[0m\u001b[0m\n",
      "\u001b[1;31mAttributeError\u001b[0m: 'list' object has no attribute 'norm'"
     ]
    }
   ],
   "source": [
    "h = sorted(list(returns[1:]))\n",
    "hmean = np.mean(h)\n",
    "hstd = np.std(h)\n",
    "pdf = stats.norm.pdf(h, hmean, hstd)\n",
    "plt.plot(h, pdf)\n",
    "plt.hist(h, normed=True)"
   ]
  },
  {
   "cell_type": "markdown",
   "metadata": {},
   "source": [
    "### Power law exponent / alpha\n",
    "\n",
    "the tails of the distribution at the shortest time scales were reported to be well-approximated by a powerlaw with exponent α ≈ 3. This tail might be a consequence of powerlaw tails in both the distribution of market order sizes and the instantaneous mid-price logarithmic return impact function. in emerging markets. Dro˙zd˙z et al. (2007) reported that the tails were less heavy (i.e. α > 3).  Longer time scales should lead to a closer and closer approximation by the normal distribution"
   ]
  },
  {
   "cell_type": "code",
   "execution_count": 153,
   "metadata": {
    "collapsed": false
   },
   "outputs": [
    {
     "name": "stdout",
     "output_type": "stream",
     "text": [
      "3.42210877504\n"
     ]
    },
    {
     "name": "stderr",
     "output_type": "stream",
     "text": [
      "Calculating best minimal value for power law fit\n"
     ]
    }
   ],
   "source": [
    "results = powerlaw.Fit(returns[1:])\n",
    "print(results.power_law.alpha)"
   ]
  },
  {
   "cell_type": "code",
   "execution_count": null,
   "metadata": {
    "collapsed": true
   },
   "outputs": [],
   "source": []
  },
  {
   "cell_type": "markdown",
   "metadata": {},
   "source": [
    "### 1.3 Clustered volatility\n",
    "\n",
    "Volatility clustering characterizing their conditional distribution. Probably tied to over-optimism / over pessimism. "
   ]
  },
  {
   "cell_type": "markdown",
   "metadata": {},
   "source": [
    "### 1.3.1 Autocorrelation absolute returns "
   ]
  },
  {
   "cell_type": "code",
   "execution_count": 156,
   "metadata": {
    "collapsed": true
   },
   "outputs": [],
   "source": [
    "# one measure for persistent volatility is plotting the autocorrelation of the absolute retunrs\n",
    "absolute_returns = returns.abs()\n",
    "autocorr_abs_returns = [absolute_returns.autocorr(lag=lag) for lag in range(25)]"
   ]
  },
  {
   "cell_type": "code",
   "execution_count": 157,
   "metadata": {
    "collapsed": false
   },
   "outputs": [
    {
     "data": {
      "text/plain": [
       "<matplotlib.text.Text at 0x17a48dd8>"
      ]
     },
     "execution_count": 157,
     "metadata": {},
     "output_type": "execute_result"
    },
    {
     "data": {
      "image/png": "[encoded data removed]",
      "text/plain": [
       "<matplotlib.figure.Figure at 0x17827c50>"
      ]
     },
     "metadata": {},
     "output_type": "display_data"
    }
   ],
   "source": [
    "fig, ax1 = plt.subplots(1, 1, figsize=(10,5))\n",
    "\n",
    "ax1.plot(range(len(autocorr_abs_returns)), autocorr_abs_returns)\n",
    "\n",
    "ax1.set_ylabel('Autocorrelation', fontsize='14')\n",
    "ax1.set_xlabel('Lag', fontsize='14')"
   ]
  },
  {
   "cell_type": "markdown",
   "metadata": {},
   "source": [
    "### 1.3.2 Hurst exponent\n",
    "How to measure 2: Hurst exponent? \n",
    "Gould et al. : Hurst exponent H varied from H ≈ 0.8 on the Paris Bourse and H ≈ 0.815 for the USD/JPY currency pair to H ≈ 0.58 on the Shenzhen Stock Exchange. \n",
    "There are several possible explanations for volatility clustering, including the arrival of external news and the strategic splitting of orders by traders (Bouchaud et al. 2009).\n",
    "\n",
    "In a nutshell, this nifty little number H tells us if a time series is a random walk (H ~ 0.5), trending (H > 0.5) or mean reverting (H < 0.5).\n",
    "\n",
    "The Hurst code below does not seem to work, better try again using: \n",
    "\n",
    "https://robotwealth.com/demystifying-the-hurst-exponent-part-1/"
   ]
  },
  {
   "cell_type": "code",
   "execution_count": 32,
   "metadata": {
    "collapsed": true
   },
   "outputs": [],
   "source": [
    "def hurst(price_series, lag1, lag2):\n",
    "    \"\"\"\n",
    "    This is an adaption from:\n",
    "    https://robotwealth.com/demystifying-the-hurst-exponent-part-1/\n",
    "    \"\"\"\n",
    "    lags = range(lag1, lag2)\n",
    "    std_differences = [np.sqrt(np.std(np.subtract(price_series[lag:], price_series[:-lag]))) for lag in lags]\n",
    "    m = np.polyfit(np.log(lags), np.log(std_differences), 1)\n",
    "    hurst = m[0]*2.0\n",
    "    return hurst"
   ]
  },
  {
   "cell_type": "code",
   "execution_count": 161,
   "metadata": {
    "collapsed": false
   },
   "outputs": [
    {
     "data": {
      "text/plain": [
       "0.0079228552545837407"
      ]
     },
     "execution_count": 161,
     "metadata": {},
     "output_type": "execute_result"
    }
   ],
   "source": [
    "Hurst = hurst(returns[1:])\n",
    "Hurst"
   ]
  },
  {
   "cell_type": "code",
   "execution_count": 160,
   "metadata": {
    "collapsed": false
   },
   "outputs": [
    {
     "data": {
      "text/plain": [
       "False"
      ]
     },
     "execution_count": 160,
     "metadata": {},
     "output_type": "execute_result"
    }
   ],
   "source": [
    "Hurst > 0.5"
   ]
  },
  {
   "cell_type": "code",
   "execution_count": null,
   "metadata": {
    "collapsed": true
   },
   "outputs": [],
   "source": []
  },
  {
   "cell_type": "markdown",
   "metadata": {},
   "source": [
    "## 2 Volume\n",
    "### 2.1 Large positive autocorrelation"
   ]
  },
  {
   "cell_type": "code",
   "execution_count": 162,
   "metadata": {
    "collapsed": true
   },
   "outputs": [],
   "source": [
    "vol = pd.Series(totalvolume)"
   ]
  },
  {
   "cell_type": "code",
   "execution_count": 163,
   "metadata": {
    "collapsed": false
   },
   "outputs": [],
   "source": [
    "autocorr_volume = [vol.autocorr(lag=lag) for lag in range(25)]"
   ]
  },
  {
   "cell_type": "code",
   "execution_count": 164,
   "metadata": {
    "collapsed": false
   },
   "outputs": [
    {
     "data": {
      "text/plain": [
       "<matplotlib.text.Text at 0x175c9908>"
      ]
     },
     "execution_count": 164,
     "metadata": {},
     "output_type": "execute_result"
    },
    {
     "data": {
      "image/png": "[encoded data removed]",
      "text/plain": [
       "<matplotlib.figure.Figure at 0x17a48d30>"
      ]
     },
     "metadata": {},
     "output_type": "display_data"
    }
   ],
   "source": [
    "fig, ax1 = plt.subplots(1, 1, figsize=(10,5))\n",
    "\n",
    "ax1.plot(range(len(autocorr_volume)), autocorr_volume)\n",
    "\n",
    "ax1.set_ylabel('Autocorrelation', fontsize='14')\n",
    "ax1.set_xlabel('Lag', fontsize='14')"
   ]
  },
  {
   "cell_type": "markdown",
   "metadata": {},
   "source": [
    "### 2.2 Correlation between high price volatility and large volumes"
   ]
  },
  {
   "cell_type": "code",
   "execution_count": null,
   "metadata": {
    "collapsed": true
   },
   "outputs": [],
   "source": []
  },
  {
   "cell_type": "code",
   "execution_count": null,
   "metadata": {
    "collapsed": true
   },
   "outputs": [],
   "source": []
  }
 ],
 "metadata": {
  "anaconda-cloud": {},
  "kernelspec": {
   "display_name": "Python 3",
   "language": "python",
   "name": "python3"
  },
  "language_info": {
   "codemirror_mode": {
    "name": "ipython",
    "version": 3
   },
   "file_extension": ".py",
   "mimetype": "text/x-python",
   "name": "python",
   "nbconvert_exporter": "python",
   "pygments_lexer": "ipython3",
   "version": "3.5.2"
  }
 },
 "nbformat": 4,
 "nbformat_minor": 0
}
